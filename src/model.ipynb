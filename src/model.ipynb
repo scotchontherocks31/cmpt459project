{
 "cells": [
  {
   "cell_type": "code",
   "execution_count": 1,
   "metadata": {},
   "outputs": [],
   "source": [
    "import sys\n",
    "import pandas as pd\n",
    "import matplotlib.pyplot as plt\n",
    "import numpy as np\n",
    "\n",
    "from pandas.plotting import register_matplotlib_converters\n",
    "register_matplotlib_converters()"
   ]
  },
  {
   "cell_type": "code",
   "execution_count": 2,
   "metadata": {},
   "outputs": [],
   "source": [
    "#filename1 = sys.argv[1]\n",
    "filename1 = 'cases_train.csv'\n",
    "filename2 = 'location.csv'\n",
    "filename3 = 'cases_test.csv'\n",
    "\n",
    "\n",
    "train_data = pd.read_csv(filename1)\n",
    "location_data = pd.read_csv(filename2, delimiter=',')\n",
    "test_data = pd.read_csv(filename3)"
   ]
  },
  {
   "cell_type": "code",
   "execution_count": 3,
   "metadata": {},
   "outputs": [
    {
     "data": {
      "text/html": [
       "<div>\n",
       "<style scoped>\n",
       "    .dataframe tbody tr th:only-of-type {\n",
       "        vertical-align: middle;\n",
       "    }\n",
       "\n",
       "    .dataframe tbody tr th {\n",
       "        vertical-align: top;\n",
       "    }\n",
       "\n",
       "    .dataframe thead th {\n",
       "        text-align: right;\n",
       "    }\n",
       "</style>\n",
       "<table border=\"1\" class=\"dataframe\">\n",
       "  <thead>\n",
       "    <tr style=\"text-align: right;\">\n",
       "      <th></th>\n",
       "      <th>age</th>\n",
       "      <th>sex</th>\n",
       "      <th>province</th>\n",
       "      <th>country</th>\n",
       "      <th>latitude</th>\n",
       "      <th>longitude</th>\n",
       "      <th>date_confirmation</th>\n",
       "      <th>additional_information</th>\n",
       "      <th>source</th>\n",
       "      <th>outcome</th>\n",
       "    </tr>\n",
       "  </thead>\n",
       "  <tbody>\n",
       "    <tr>\n",
       "      <th>0</th>\n",
       "      <td>NaN</td>\n",
       "      <td>NaN</td>\n",
       "      <td>Delhi</td>\n",
       "      <td>India</td>\n",
       "      <td>28.614740</td>\n",
       "      <td>77.209100</td>\n",
       "      <td>26.05.2020</td>\n",
       "      <td>NaN</td>\n",
       "      <td>https://twitter.com/CMODelhi/status/1265203060...</td>\n",
       "      <td>recovered</td>\n",
       "    </tr>\n",
       "    <tr>\n",
       "      <th>1</th>\n",
       "      <td>NaN</td>\n",
       "      <td>NaN</td>\n",
       "      <td>Uttar Pradesh</td>\n",
       "      <td>India</td>\n",
       "      <td>25.436090</td>\n",
       "      <td>81.847180</td>\n",
       "      <td>20.05.2020</td>\n",
       "      <td>NaN</td>\n",
       "      <td>https://t.me/indiacovid/5222</td>\n",
       "      <td>hospitalized</td>\n",
       "    </tr>\n",
       "    <tr>\n",
       "      <th>2</th>\n",
       "      <td>NaN</td>\n",
       "      <td>NaN</td>\n",
       "      <td>Maharashtra</td>\n",
       "      <td>India</td>\n",
       "      <td>18.504220</td>\n",
       "      <td>73.853020</td>\n",
       "      <td>26.05.2020</td>\n",
       "      <td>NaN</td>\n",
       "      <td>https://t.me/indiacovid/5601</td>\n",
       "      <td>hospitalized</td>\n",
       "    </tr>\n",
       "    <tr>\n",
       "      <th>3</th>\n",
       "      <td>15-34</td>\n",
       "      <td>female</td>\n",
       "      <td>Baden-Wurttemberg</td>\n",
       "      <td>Germany</td>\n",
       "      <td>48.120860</td>\n",
       "      <td>7.849500</td>\n",
       "      <td>15.03.2020</td>\n",
       "      <td>NaN</td>\n",
       "      <td>NaN</td>\n",
       "      <td>nonhospitalized</td>\n",
       "    </tr>\n",
       "    <tr>\n",
       "      <th>4</th>\n",
       "      <td>NaN</td>\n",
       "      <td>NaN</td>\n",
       "      <td>Gujarat</td>\n",
       "      <td>India</td>\n",
       "      <td>23.188409</td>\n",
       "      <td>73.647122</td>\n",
       "      <td>20.05.2020</td>\n",
       "      <td>NaN</td>\n",
       "      <td>https://twitter.com/PIBAhmedabad/status/126311...</td>\n",
       "      <td>hospitalized</td>\n",
       "    </tr>\n",
       "    <tr>\n",
       "      <th>...</th>\n",
       "      <td>...</td>\n",
       "      <td>...</td>\n",
       "      <td>...</td>\n",
       "      <td>...</td>\n",
       "      <td>...</td>\n",
       "      <td>...</td>\n",
       "      <td>...</td>\n",
       "      <td>...</td>\n",
       "      <td>...</td>\n",
       "      <td>...</td>\n",
       "    </tr>\n",
       "    <tr>\n",
       "      <th>367631</th>\n",
       "      <td>15.0</td>\n",
       "      <td>male</td>\n",
       "      <td>Santa Fe</td>\n",
       "      <td>Argentina</td>\n",
       "      <td>-32.967800</td>\n",
       "      <td>-60.659240</td>\n",
       "      <td>31.03.2020</td>\n",
       "      <td>NaN</td>\n",
       "      <td>NaN</td>\n",
       "      <td>nonhospitalized</td>\n",
       "    </tr>\n",
       "    <tr>\n",
       "      <th>367632</th>\n",
       "      <td>NaN</td>\n",
       "      <td>NaN</td>\n",
       "      <td>Delhi</td>\n",
       "      <td>India</td>\n",
       "      <td>28.614740</td>\n",
       "      <td>77.209100</td>\n",
       "      <td>16.04.2020</td>\n",
       "      <td>NaN</td>\n",
       "      <td>https://twitter.com/ANI/status/125082767765900...</td>\n",
       "      <td>hospitalized</td>\n",
       "    </tr>\n",
       "    <tr>\n",
       "      <th>367633</th>\n",
       "      <td>NaN</td>\n",
       "      <td>NaN</td>\n",
       "      <td>Maharashtra</td>\n",
       "      <td>India</td>\n",
       "      <td>19.200000</td>\n",
       "      <td>72.966670</td>\n",
       "      <td>30.05.2020</td>\n",
       "      <td>NaN</td>\n",
       "      <td>https://arogya.maharashtra.gov.in/pdf/ncovidep...</td>\n",
       "      <td>hospitalized</td>\n",
       "    </tr>\n",
       "    <tr>\n",
       "      <th>367634</th>\n",
       "      <td>28</td>\n",
       "      <td>female</td>\n",
       "      <td>NaN</td>\n",
       "      <td>Singapore</td>\n",
       "      <td>1.280224</td>\n",
       "      <td>103.834500</td>\n",
       "      <td>03.02.2020</td>\n",
       "      <td>Case 19; worked at health product shop with ma...</td>\n",
       "      <td>https://www.moh.gov.sg/news-highlights/details...</td>\n",
       "      <td>recovered</td>\n",
       "    </tr>\n",
       "    <tr>\n",
       "      <th>367635</th>\n",
       "      <td>1.0</td>\n",
       "      <td>female</td>\n",
       "      <td>Sullana</td>\n",
       "      <td>Peru</td>\n",
       "      <td>-4.907630</td>\n",
       "      <td>-80.697330</td>\n",
       "      <td>27.05.2020</td>\n",
       "      <td>NaN</td>\n",
       "      <td>NaN</td>\n",
       "      <td>nonhospitalized</td>\n",
       "    </tr>\n",
       "  </tbody>\n",
       "</table>\n",
       "<p>367636 rows × 10 columns</p>\n",
       "</div>"
      ],
      "text/plain": [
       "          age     sex           province    country   latitude   longitude  \\\n",
       "0         NaN     NaN              Delhi      India  28.614740   77.209100   \n",
       "1         NaN     NaN      Uttar Pradesh      India  25.436090   81.847180   \n",
       "2         NaN     NaN        Maharashtra      India  18.504220   73.853020   \n",
       "3       15-34  female  Baden-Wurttemberg    Germany  48.120860    7.849500   \n",
       "4         NaN     NaN            Gujarat      India  23.188409   73.647122   \n",
       "...       ...     ...                ...        ...        ...         ...   \n",
       "367631   15.0    male           Santa Fe  Argentina -32.967800  -60.659240   \n",
       "367632    NaN     NaN              Delhi      India  28.614740   77.209100   \n",
       "367633    NaN     NaN        Maharashtra      India  19.200000   72.966670   \n",
       "367634     28  female                NaN  Singapore   1.280224  103.834500   \n",
       "367635    1.0  female            Sullana       Peru  -4.907630  -80.697330   \n",
       "\n",
       "       date_confirmation                             additional_information  \\\n",
       "0             26.05.2020                                                NaN   \n",
       "1             20.05.2020                                                NaN   \n",
       "2             26.05.2020                                                NaN   \n",
       "3             15.03.2020                                                NaN   \n",
       "4             20.05.2020                                                NaN   \n",
       "...                  ...                                                ...   \n",
       "367631        31.03.2020                                                NaN   \n",
       "367632        16.04.2020                                                NaN   \n",
       "367633        30.05.2020                                                NaN   \n",
       "367634        03.02.2020  Case 19; worked at health product shop with ma...   \n",
       "367635        27.05.2020                                                NaN   \n",
       "\n",
       "                                                   source          outcome  \n",
       "0       https://twitter.com/CMODelhi/status/1265203060...        recovered  \n",
       "1                            https://t.me/indiacovid/5222     hospitalized  \n",
       "2                            https://t.me/indiacovid/5601     hospitalized  \n",
       "3                                                     NaN  nonhospitalized  \n",
       "4       https://twitter.com/PIBAhmedabad/status/126311...     hospitalized  \n",
       "...                                                   ...              ...  \n",
       "367631                                                NaN  nonhospitalized  \n",
       "367632  https://twitter.com/ANI/status/125082767765900...     hospitalized  \n",
       "367633  https://arogya.maharashtra.gov.in/pdf/ncovidep...     hospitalized  \n",
       "367634  https://www.moh.gov.sg/news-highlights/details...        recovered  \n",
       "367635                                                NaN  nonhospitalized  \n",
       "\n",
       "[367636 rows x 10 columns]"
      ]
     },
     "execution_count": 3,
     "metadata": {},
     "output_type": "execute_result"
    }
   ],
   "source": [
    "train_data"
   ]
  },
  {
   "cell_type": "code",
   "execution_count": 4,
   "metadata": {},
   "outputs": [],
   "source": [
    "#hist,bins=np.histogram(train_data['latitude'])\n",
    "#plt.bar(bins[:-1], hist, width=(bins[-1]-bins[-2]), align=\"edge\")\n",
    "#plt.show()\n"
   ]
  },
  {
   "cell_type": "code",
   "execution_count": 5,
   "metadata": {},
   "outputs": [],
   "source": [
    "#data34 = train_data['country'].values\n",
    "#plt.hist(data34, train_data['outcome'].values, 'b.', alpha=0.5)\n",
    "#plt.show() "
   ]
  },
  {
   "cell_type": "code",
   "execution_count": 6,
   "metadata": {
    "scrolled": true
   },
   "outputs": [
    {
     "data": {
      "text/plain": [
       "nonhospitalized    150000\n",
       "hospitalized       125000\n",
       "recovered           88137\n",
       "deceased             4499\n",
       "Name: outcome, dtype: int64"
      ]
     },
     "execution_count": 6,
     "metadata": {},
     "output_type": "execute_result"
    }
   ],
   "source": [
    "train_data['outcome'].value_counts()\n"
   ]
  },
  {
   "cell_type": "code",
   "execution_count": 7,
   "metadata": {},
   "outputs": [
    {
     "data": {
      "text/plain": [
       "array(['recovered', 'hospitalized', 'hospitalized', ..., 'hospitalized',\n",
       "       'recovered', 'nonhospitalized'], dtype=object)"
      ]
     },
     "execution_count": 7,
     "metadata": {},
     "output_type": "execute_result"
    }
   ],
   "source": [
    "train_data['outcome'].values"
   ]
  },
  {
   "cell_type": "code",
   "execution_count": 8,
   "metadata": {},
   "outputs": [],
   "source": [
    "#train_data['outcome'].values"
   ]
  },
  {
   "cell_type": "code",
   "execution_count": 9,
   "metadata": {},
   "outputs": [],
   "source": [
    "#plt.hist(train_data['outcome'].values, train_data['outcome'].value_counts(), 'b.', alpha=0.5)\n",
    "#plt.show() "
   ]
  },
  {
   "cell_type": "code",
   "execution_count": 10,
   "metadata": {},
   "outputs": [
    {
     "data": {
      "image/png": "[encoded data removed]",
      "text/plain": [
       "<Figure size 432x288 with 1 Axes>"
      ]
     },
     "metadata": {
      "needs_background": "light"
     },
     "output_type": "display_data"
    }
   ],
   "source": [
    "fig = plt.figure()\n",
    "ax = fig.add_axes([0,0,1,1])\n",
    "ax.bar(train_data['outcome'].value_counts().keys(), train_data['outcome'].value_counts())\n",
    "plt.title('Outcome after Infection',fontweight='bold')\n",
    "plt.xlabel('Result',fontweight='bold')\n",
    "plt.ylabel('Number of Population',fontweight='bold')\n",
    "plt.show() "
   ]
  },
  {
   "cell_type": "code",
   "execution_count": 11,
   "metadata": {},
   "outputs": [
    {
     "data": {
      "text/plain": [
       "India                       212411\n",
       "Peru                         57305\n",
       "Germany                      33009\n",
       "Philippines                  11521\n",
       "Colombia                     11464\n",
       "                             ...  \n",
       "Iceland                          1\n",
       "Kosovo                           1\n",
       "Luxembourg                       1\n",
       "Central African Republic         1\n",
       "Qatar                            1\n",
       "Name: country, Length: 131, dtype: int64"
      ]
     },
     "execution_count": 11,
     "metadata": {},
     "output_type": "execute_result"
    }
   ],
   "source": [
    "train_data['country'].value_counts()"
   ]
  },
  {
   "cell_type": "code",
   "execution_count": 12,
   "metadata": {},
   "outputs": [
    {
     "data": {
      "text/plain": [
       "0             India\n",
       "1             India\n",
       "2             India\n",
       "3           Germany\n",
       "4             India\n",
       "            ...    \n",
       "367631    Argentina\n",
       "367632        India\n",
       "367633        India\n",
       "367634    Singapore\n",
       "367635         Peru\n",
       "Name: country, Length: 367636, dtype: object"
      ]
     },
     "execution_count": 12,
     "metadata": {},
     "output_type": "execute_result"
    }
   ],
   "source": [
    "train_data['country']"
   ]
  },
  {
   "cell_type": "code",
   "execution_count": 13,
   "metadata": {},
   "outputs": [],
   "source": [
    "train_data2 = train_data"
   ]
  },
  {
   "cell_type": "code",
   "execution_count": 14,
   "metadata": {},
   "outputs": [],
   "source": [
    "#train_data2"
   ]
  },
  {
   "cell_type": "code",
   "execution_count": 15,
   "metadata": {},
   "outputs": [],
   "source": [
    "plt_values = train_data2['country'].value_counts()\n",
    "to_remove = plt_values[plt_values <= 10000].index\n",
    "train_data2 = train_data2[~train_data2.country.isin(to_remove)]"
   ]
  },
  {
   "cell_type": "code",
   "execution_count": 16,
   "metadata": {},
   "outputs": [
    {
     "data": {
      "text/plain": [
       "India          212411\n",
       "Peru            57305\n",
       "Germany         33009\n",
       "Philippines     11521\n",
       "Colombia        11464\n",
       "Name: country, dtype: int64"
      ]
     },
     "execution_count": 16,
     "metadata": {},
     "output_type": "execute_result"
    }
   ],
   "source": [
    "train_data2['country'].value_counts()"
   ]
  },
  {
   "cell_type": "code",
   "execution_count": 17,
   "metadata": {},
   "outputs": [
    {
     "data": {
      "image/png": "[encoded data removed]",
      "text/plain": [
       "<Figure size 432x288 with 1 Axes>"
      ]
     },
     "metadata": {
      "needs_background": "light"
     },
     "output_type": "display_data"
    }
   ],
   "source": [
    "fig = plt.figure()\n",
    "ax = fig.add_axes([0,0,1,1])\n",
    "ax.bar(train_data['country'].value_counts().keys(), train_data['country'].value_counts())\n",
    "plt.title('Outcome after Infection')\n",
    "plt.xlabel('Result')\n",
    "plt.ylabel('Number of Population')\n",
    "plt.show() "
   ]
  },
  {
   "cell_type": "code",
   "execution_count": 18,
   "metadata": {},
   "outputs": [
    {
     "data": {
      "image/png": "[encoded data removed]",
      "text/plain": [
       "<Figure size 432x288 with 1 Axes>"
      ]
     },
     "metadata": {
      "needs_background": "light"
     },
     "output_type": "display_data"
    }
   ],
   "source": [
    "fig = plt.figure()\n",
    "ax = fig.add_axes([0,0,1,1])\n",
    "ax.bar(train_data2['country'].value_counts().keys(), train_data2['country'].value_counts(),color='pink')\n",
    "plt.title('Top 5 Countries With Infection',fontweight='bold')\n",
    "plt.xlabel('Country',fontweight='bold')\n",
    "plt.ylabel('Number of People Infected',fontweight='bold')\n",
    "plt.show() "
   ]
  },
  {
   "cell_type": "code",
   "execution_count": 19,
   "metadata": {},
   "outputs": [],
   "source": [
    "train_data3 = train_data[train_data['country'] == 'India']"
   ]
  },
  {
   "cell_type": "code",
   "execution_count": 20,
   "metadata": {},
   "outputs": [
    {
     "data": {
      "text/html": [
       "<div>\n",
       "<style scoped>\n",
       "    .dataframe tbody tr th:only-of-type {\n",
       "        vertical-align: middle;\n",
       "    }\n",
       "\n",
       "    .dataframe tbody tr th {\n",
       "        vertical-align: top;\n",
       "    }\n",
       "\n",
       "    .dataframe thead th {\n",
       "        text-align: right;\n",
       "    }\n",
       "</style>\n",
       "<table border=\"1\" class=\"dataframe\">\n",
       "  <thead>\n",
       "    <tr style=\"text-align: right;\">\n",
       "      <th></th>\n",
       "      <th>age</th>\n",
       "      <th>sex</th>\n",
       "      <th>province</th>\n",
       "      <th>country</th>\n",
       "      <th>latitude</th>\n",
       "      <th>longitude</th>\n",
       "      <th>date_confirmation</th>\n",
       "      <th>additional_information</th>\n",
       "      <th>source</th>\n",
       "      <th>outcome</th>\n",
       "    </tr>\n",
       "  </thead>\n",
       "  <tbody>\n",
       "    <tr>\n",
       "      <th>0</th>\n",
       "      <td>NaN</td>\n",
       "      <td>NaN</td>\n",
       "      <td>Delhi</td>\n",
       "      <td>India</td>\n",
       "      <td>28.614740</td>\n",
       "      <td>77.209100</td>\n",
       "      <td>26.05.2020</td>\n",
       "      <td>NaN</td>\n",
       "      <td>https://twitter.com/CMODelhi/status/1265203060...</td>\n",
       "      <td>recovered</td>\n",
       "    </tr>\n",
       "    <tr>\n",
       "      <th>1</th>\n",
       "      <td>NaN</td>\n",
       "      <td>NaN</td>\n",
       "      <td>Uttar Pradesh</td>\n",
       "      <td>India</td>\n",
       "      <td>25.436090</td>\n",
       "      <td>81.847180</td>\n",
       "      <td>20.05.2020</td>\n",
       "      <td>NaN</td>\n",
       "      <td>https://t.me/indiacovid/5222</td>\n",
       "      <td>hospitalized</td>\n",
       "    </tr>\n",
       "    <tr>\n",
       "      <th>2</th>\n",
       "      <td>NaN</td>\n",
       "      <td>NaN</td>\n",
       "      <td>Maharashtra</td>\n",
       "      <td>India</td>\n",
       "      <td>18.504220</td>\n",
       "      <td>73.853020</td>\n",
       "      <td>26.05.2020</td>\n",
       "      <td>NaN</td>\n",
       "      <td>https://t.me/indiacovid/5601</td>\n",
       "      <td>hospitalized</td>\n",
       "    </tr>\n",
       "    <tr>\n",
       "      <th>4</th>\n",
       "      <td>NaN</td>\n",
       "      <td>NaN</td>\n",
       "      <td>Gujarat</td>\n",
       "      <td>India</td>\n",
       "      <td>23.188409</td>\n",
       "      <td>73.647122</td>\n",
       "      <td>20.05.2020</td>\n",
       "      <td>NaN</td>\n",
       "      <td>https://twitter.com/PIBAhmedabad/status/126311...</td>\n",
       "      <td>hospitalized</td>\n",
       "    </tr>\n",
       "    <tr>\n",
       "      <th>5</th>\n",
       "      <td>NaN</td>\n",
       "      <td>NaN</td>\n",
       "      <td>Maharashtra</td>\n",
       "      <td>India</td>\n",
       "      <td>19.200000</td>\n",
       "      <td>72.966670</td>\n",
       "      <td>28.05.2020</td>\n",
       "      <td>NaN</td>\n",
       "      <td>https://phdmah.maps.arcgis.com/apps/opsdashboa...</td>\n",
       "      <td>recovered</td>\n",
       "    </tr>\n",
       "    <tr>\n",
       "      <th>...</th>\n",
       "      <td>...</td>\n",
       "      <td>...</td>\n",
       "      <td>...</td>\n",
       "      <td>...</td>\n",
       "      <td>...</td>\n",
       "      <td>...</td>\n",
       "      <td>...</td>\n",
       "      <td>...</td>\n",
       "      <td>...</td>\n",
       "      <td>...</td>\n",
       "    </tr>\n",
       "    <tr>\n",
       "      <th>367628</th>\n",
       "      <td>NaN</td>\n",
       "      <td>NaN</td>\n",
       "      <td>Gujarat</td>\n",
       "      <td>India</td>\n",
       "      <td>23.027760</td>\n",
       "      <td>72.600270</td>\n",
       "      <td>25.04.2020</td>\n",
       "      <td>NaN</td>\n",
       "      <td>https://twitter.com/PIBAhmedabad/status/125405...</td>\n",
       "      <td>hospitalized</td>\n",
       "    </tr>\n",
       "    <tr>\n",
       "      <th>367629</th>\n",
       "      <td>NaN</td>\n",
       "      <td>NaN</td>\n",
       "      <td>West Bengal</td>\n",
       "      <td>India</td>\n",
       "      <td>25.010940</td>\n",
       "      <td>88.140530</td>\n",
       "      <td>24.05.2020</td>\n",
       "      <td>NaN</td>\n",
       "      <td>https://www.wbhealth.gov.in/uploaded_files/cor...</td>\n",
       "      <td>hospitalized</td>\n",
       "    </tr>\n",
       "    <tr>\n",
       "      <th>367630</th>\n",
       "      <td>NaN</td>\n",
       "      <td>NaN</td>\n",
       "      <td>Tamil Nadu</td>\n",
       "      <td>India</td>\n",
       "      <td>13.083620</td>\n",
       "      <td>80.282520</td>\n",
       "      <td>29.05.2020</td>\n",
       "      <td>NaN</td>\n",
       "      <td>https://stopcorona.tn.gov.in/wp-content/upload...</td>\n",
       "      <td>recovered</td>\n",
       "    </tr>\n",
       "    <tr>\n",
       "      <th>367632</th>\n",
       "      <td>NaN</td>\n",
       "      <td>NaN</td>\n",
       "      <td>Delhi</td>\n",
       "      <td>India</td>\n",
       "      <td>28.614740</td>\n",
       "      <td>77.209100</td>\n",
       "      <td>16.04.2020</td>\n",
       "      <td>NaN</td>\n",
       "      <td>https://twitter.com/ANI/status/125082767765900...</td>\n",
       "      <td>hospitalized</td>\n",
       "    </tr>\n",
       "    <tr>\n",
       "      <th>367633</th>\n",
       "      <td>NaN</td>\n",
       "      <td>NaN</td>\n",
       "      <td>Maharashtra</td>\n",
       "      <td>India</td>\n",
       "      <td>19.200000</td>\n",
       "      <td>72.966670</td>\n",
       "      <td>30.05.2020</td>\n",
       "      <td>NaN</td>\n",
       "      <td>https://arogya.maharashtra.gov.in/pdf/ncovidep...</td>\n",
       "      <td>hospitalized</td>\n",
       "    </tr>\n",
       "  </tbody>\n",
       "</table>\n",
       "<p>212411 rows × 10 columns</p>\n",
       "</div>"
      ],
      "text/plain": [
       "        age  sex       province country   latitude  longitude  \\\n",
       "0       NaN  NaN          Delhi   India  28.614740  77.209100   \n",
       "1       NaN  NaN  Uttar Pradesh   India  25.436090  81.847180   \n",
       "2       NaN  NaN    Maharashtra   India  18.504220  73.853020   \n",
       "4       NaN  NaN        Gujarat   India  23.188409  73.647122   \n",
       "5       NaN  NaN    Maharashtra   India  19.200000  72.966670   \n",
       "...     ...  ...            ...     ...        ...        ...   \n",
       "367628  NaN  NaN        Gujarat   India  23.027760  72.600270   \n",
       "367629  NaN  NaN    West Bengal   India  25.010940  88.140530   \n",
       "367630  NaN  NaN     Tamil Nadu   India  13.083620  80.282520   \n",
       "367632  NaN  NaN          Delhi   India  28.614740  77.209100   \n",
       "367633  NaN  NaN    Maharashtra   India  19.200000  72.966670   \n",
       "\n",
       "       date_confirmation additional_information  \\\n",
       "0             26.05.2020                    NaN   \n",
       "1             20.05.2020                    NaN   \n",
       "2             26.05.2020                    NaN   \n",
       "4             20.05.2020                    NaN   \n",
       "5             28.05.2020                    NaN   \n",
       "...                  ...                    ...   \n",
       "367628        25.04.2020                    NaN   \n",
       "367629        24.05.2020                    NaN   \n",
       "367630        29.05.2020                    NaN   \n",
       "367632        16.04.2020                    NaN   \n",
       "367633        30.05.2020                    NaN   \n",
       "\n",
       "                                                   source       outcome  \n",
       "0       https://twitter.com/CMODelhi/status/1265203060...     recovered  \n",
       "1                            https://t.me/indiacovid/5222  hospitalized  \n",
       "2                            https://t.me/indiacovid/5601  hospitalized  \n",
       "4       https://twitter.com/PIBAhmedabad/status/126311...  hospitalized  \n",
       "5       https://phdmah.maps.arcgis.com/apps/opsdashboa...     recovered  \n",
       "...                                                   ...           ...  \n",
       "367628  https://twitter.com/PIBAhmedabad/status/125405...  hospitalized  \n",
       "367629  https://www.wbhealth.gov.in/uploaded_files/cor...  hospitalized  \n",
       "367630  https://stopcorona.tn.gov.in/wp-content/upload...     recovered  \n",
       "367632  https://twitter.com/ANI/status/125082767765900...  hospitalized  \n",
       "367633  https://arogya.maharashtra.gov.in/pdf/ncovidep...  hospitalized  \n",
       "\n",
       "[212411 rows x 10 columns]"
      ]
     },
     "execution_count": 20,
     "metadata": {},
     "output_type": "execute_result"
    }
   ],
   "source": [
    "train_data3"
   ]
  },
  {
   "cell_type": "code",
   "execution_count": 21,
   "metadata": {},
   "outputs": [
    {
     "data": {
      "image/png": "[encoded data removed]",
      "text/plain": [
       "<Figure size 432x288 with 1 Axes>"
      ]
     },
     "metadata": {
      "needs_background": "light"
     },
     "output_type": "display_data"
    }
   ],
   "source": [
    "fig = plt.figure()\n",
    "ax = fig.add_axes([0,0,2,2])\n",
    "ax.bar(train_data3['outcome'].value_counts().keys(), train_data3['outcome'].value_counts())\n",
    "plt.title('Outcome after Infection for India',fontweight='bold')\n",
    "plt.xlabel('Result',fontweight='bold')\n",
    "plt.ylabel('Number of Population',fontweight='bold')\n",
    "plt.show() "
   ]
  },
  {
   "cell_type": "code",
   "execution_count": 22,
   "metadata": {},
   "outputs": [
    {
     "data": {
      "text/plain": [
       "hospitalized       124550\n",
       "recovered           84091\n",
       "deceased             3764\n",
       "nonhospitalized         6\n",
       "Name: outcome, dtype: int64"
      ]
     },
     "execution_count": 22,
     "metadata": {},
     "output_type": "execute_result"
    }
   ],
   "source": [
    "train_data3['outcome'].value_counts()"
   ]
  },
  {
   "cell_type": "code",
   "execution_count": 23,
   "metadata": {},
   "outputs": [
    {
     "data": {
      "text/html": [
       "<div>\n",
       "<style scoped>\n",
       "    .dataframe tbody tr th:only-of-type {\n",
       "        vertical-align: middle;\n",
       "    }\n",
       "\n",
       "    .dataframe tbody tr th {\n",
       "        vertical-align: top;\n",
       "    }\n",
       "\n",
       "    .dataframe thead th {\n",
       "        text-align: right;\n",
       "    }\n",
       "</style>\n",
       "<table border=\"1\" class=\"dataframe\">\n",
       "  <thead>\n",
       "    <tr style=\"text-align: right;\">\n",
       "      <th></th>\n",
       "      <th>Province_State</th>\n",
       "      <th>Country_Region</th>\n",
       "      <th>Last_Update</th>\n",
       "      <th>Lat</th>\n",
       "      <th>Long_</th>\n",
       "      <th>Confirmed</th>\n",
       "      <th>Deaths</th>\n",
       "      <th>Recovered</th>\n",
       "      <th>Active</th>\n",
       "      <th>Combined_Key</th>\n",
       "      <th>Incidence_Rate</th>\n",
       "      <th>Case-Fatality_Ratio</th>\n",
       "    </tr>\n",
       "  </thead>\n",
       "  <tbody>\n",
       "    <tr>\n",
       "      <th>0</th>\n",
       "      <td>NaN</td>\n",
       "      <td>Afghanistan</td>\n",
       "      <td>2020-09-20 04:22:56</td>\n",
       "      <td>33.939110</td>\n",
       "      <td>67.709953</td>\n",
       "      <td>38919</td>\n",
       "      <td>1437</td>\n",
       "      <td>32576</td>\n",
       "      <td>4906.0</td>\n",
       "      <td>Afghanistan</td>\n",
       "      <td>99.976005</td>\n",
       "      <td>3.692284</td>\n",
       "    </tr>\n",
       "    <tr>\n",
       "      <th>1</th>\n",
       "      <td>NaN</td>\n",
       "      <td>Albania</td>\n",
       "      <td>2020-09-20 04:22:56</td>\n",
       "      <td>41.153300</td>\n",
       "      <td>20.168300</td>\n",
       "      <td>12226</td>\n",
       "      <td>358</td>\n",
       "      <td>6888</td>\n",
       "      <td>4980.0</td>\n",
       "      <td>Albania</td>\n",
       "      <td>424.838418</td>\n",
       "      <td>2.928186</td>\n",
       "    </tr>\n",
       "    <tr>\n",
       "      <th>2</th>\n",
       "      <td>NaN</td>\n",
       "      <td>Algeria</td>\n",
       "      <td>2020-09-20 04:22:56</td>\n",
       "      <td>28.033900</td>\n",
       "      <td>1.659600</td>\n",
       "      <td>49623</td>\n",
       "      <td>1665</td>\n",
       "      <td>34923</td>\n",
       "      <td>13035.0</td>\n",
       "      <td>Algeria</td>\n",
       "      <td>113.162645</td>\n",
       "      <td>3.355299</td>\n",
       "    </tr>\n",
       "    <tr>\n",
       "      <th>3</th>\n",
       "      <td>NaN</td>\n",
       "      <td>Andorra</td>\n",
       "      <td>2020-09-20 04:22:56</td>\n",
       "      <td>42.506300</td>\n",
       "      <td>1.521800</td>\n",
       "      <td>1564</td>\n",
       "      <td>53</td>\n",
       "      <td>1164</td>\n",
       "      <td>347.0</td>\n",
       "      <td>Andorra</td>\n",
       "      <td>2024.202420</td>\n",
       "      <td>3.388747</td>\n",
       "    </tr>\n",
       "    <tr>\n",
       "      <th>4</th>\n",
       "      <td>NaN</td>\n",
       "      <td>Angola</td>\n",
       "      <td>2020-09-20 04:22:56</td>\n",
       "      <td>-11.202700</td>\n",
       "      <td>17.873900</td>\n",
       "      <td>3901</td>\n",
       "      <td>147</td>\n",
       "      <td>1445</td>\n",
       "      <td>2309.0</td>\n",
       "      <td>Angola</td>\n",
       "      <td>11.869312</td>\n",
       "      <td>3.768265</td>\n",
       "    </tr>\n",
       "    <tr>\n",
       "      <th>...</th>\n",
       "      <td>...</td>\n",
       "      <td>...</td>\n",
       "      <td>...</td>\n",
       "      <td>...</td>\n",
       "      <td>...</td>\n",
       "      <td>...</td>\n",
       "      <td>...</td>\n",
       "      <td>...</td>\n",
       "      <td>...</td>\n",
       "      <td>...</td>\n",
       "      <td>...</td>\n",
       "      <td>...</td>\n",
       "    </tr>\n",
       "    <tr>\n",
       "      <th>3949</th>\n",
       "      <td>NaN</td>\n",
       "      <td>West Bank and Gaza</td>\n",
       "      <td>2020-09-20 04:22:56</td>\n",
       "      <td>31.952200</td>\n",
       "      <td>35.233200</td>\n",
       "      <td>35003</td>\n",
       "      <td>253</td>\n",
       "      <td>23446</td>\n",
       "      <td>11304.0</td>\n",
       "      <td>West Bank and Gaza</td>\n",
       "      <td>686.142828</td>\n",
       "      <td>0.722795</td>\n",
       "    </tr>\n",
       "    <tr>\n",
       "      <th>3950</th>\n",
       "      <td>NaN</td>\n",
       "      <td>Western Sahara</td>\n",
       "      <td>2020-09-20 04:22:56</td>\n",
       "      <td>24.215500</td>\n",
       "      <td>-12.885800</td>\n",
       "      <td>10</td>\n",
       "      <td>1</td>\n",
       "      <td>8</td>\n",
       "      <td>1.0</td>\n",
       "      <td>Western Sahara</td>\n",
       "      <td>1.674116</td>\n",
       "      <td>10.000000</td>\n",
       "    </tr>\n",
       "    <tr>\n",
       "      <th>3951</th>\n",
       "      <td>NaN</td>\n",
       "      <td>Yemen</td>\n",
       "      <td>2020-09-20 04:22:56</td>\n",
       "      <td>15.552727</td>\n",
       "      <td>48.516388</td>\n",
       "      <td>2026</td>\n",
       "      <td>585</td>\n",
       "      <td>1221</td>\n",
       "      <td>220.0</td>\n",
       "      <td>Yemen</td>\n",
       "      <td>6.792738</td>\n",
       "      <td>28.874630</td>\n",
       "    </tr>\n",
       "    <tr>\n",
       "      <th>3952</th>\n",
       "      <td>NaN</td>\n",
       "      <td>Zambia</td>\n",
       "      <td>2020-09-20 04:22:56</td>\n",
       "      <td>-13.133897</td>\n",
       "      <td>27.849332</td>\n",
       "      <td>14070</td>\n",
       "      <td>330</td>\n",
       "      <td>13365</td>\n",
       "      <td>375.0</td>\n",
       "      <td>Zambia</td>\n",
       "      <td>76.534126</td>\n",
       "      <td>2.345416</td>\n",
       "    </tr>\n",
       "    <tr>\n",
       "      <th>3953</th>\n",
       "      <td>NaN</td>\n",
       "      <td>Zimbabwe</td>\n",
       "      <td>2020-09-20 04:22:56</td>\n",
       "      <td>-19.015438</td>\n",
       "      <td>29.154857</td>\n",
       "      <td>7672</td>\n",
       "      <td>225</td>\n",
       "      <td>5914</td>\n",
       "      <td>1533.0</td>\n",
       "      <td>Zimbabwe</td>\n",
       "      <td>51.618366</td>\n",
       "      <td>2.932742</td>\n",
       "    </tr>\n",
       "  </tbody>\n",
       "</table>\n",
       "<p>3954 rows × 12 columns</p>\n",
       "</div>"
      ],
      "text/plain": [
       "     Province_State      Country_Region          Last_Update        Lat  \\\n",
       "0               NaN         Afghanistan  2020-09-20 04:22:56  33.939110   \n",
       "1               NaN             Albania  2020-09-20 04:22:56  41.153300   \n",
       "2               NaN             Algeria  2020-09-20 04:22:56  28.033900   \n",
       "3               NaN             Andorra  2020-09-20 04:22:56  42.506300   \n",
       "4               NaN              Angola  2020-09-20 04:22:56 -11.202700   \n",
       "...             ...                 ...                  ...        ...   \n",
       "3949            NaN  West Bank and Gaza  2020-09-20 04:22:56  31.952200   \n",
       "3950            NaN      Western Sahara  2020-09-20 04:22:56  24.215500   \n",
       "3951            NaN               Yemen  2020-09-20 04:22:56  15.552727   \n",
       "3952            NaN              Zambia  2020-09-20 04:22:56 -13.133897   \n",
       "3953            NaN            Zimbabwe  2020-09-20 04:22:56 -19.015438   \n",
       "\n",
       "          Long_  Confirmed  Deaths  Recovered   Active        Combined_Key  \\\n",
       "0     67.709953      38919    1437      32576   4906.0         Afghanistan   \n",
       "1     20.168300      12226     358       6888   4980.0             Albania   \n",
       "2      1.659600      49623    1665      34923  13035.0             Algeria   \n",
       "3      1.521800       1564      53       1164    347.0             Andorra   \n",
       "4     17.873900       3901     147       1445   2309.0              Angola   \n",
       "...         ...        ...     ...        ...      ...                 ...   \n",
       "3949  35.233200      35003     253      23446  11304.0  West Bank and Gaza   \n",
       "3950 -12.885800         10       1          8      1.0      Western Sahara   \n",
       "3951  48.516388       2026     585       1221    220.0               Yemen   \n",
       "3952  27.849332      14070     330      13365    375.0              Zambia   \n",
       "3953  29.154857       7672     225       5914   1533.0            Zimbabwe   \n",
       "\n",
       "      Incidence_Rate  Case-Fatality_Ratio  \n",
       "0          99.976005             3.692284  \n",
       "1         424.838418             2.928186  \n",
       "2         113.162645             3.355299  \n",
       "3        2024.202420             3.388747  \n",
       "4          11.869312             3.768265  \n",
       "...              ...                  ...  \n",
       "3949      686.142828             0.722795  \n",
       "3950        1.674116            10.000000  \n",
       "3951        6.792738            28.874630  \n",
       "3952       76.534126             2.345416  \n",
       "3953       51.618366             2.932742  \n",
       "\n",
       "[3954 rows x 12 columns]"
      ]
     },
     "execution_count": 23,
     "metadata": {},
     "output_type": "execute_result"
    }
   ],
   "source": [
    "location_data"
   ]
  },
  {
   "cell_type": "code",
   "execution_count": 24,
   "metadata": {},
   "outputs": [
    {
     "data": {
      "text/plain": [
       "0.000000    678\n",
       "2.941176     10\n",
       "1.515152     10\n",
       "2.083333      8\n",
       "1.265823      8\n",
       "           ... \n",
       "0.931677      1\n",
       "0.860295      1\n",
       "6.115990      1\n",
       "9.336100      1\n",
       "0.313972      1\n",
       "Name: Case-Fatality_Ratio, Length: 2624, dtype: int64"
      ]
     },
     "execution_count": 24,
     "metadata": {},
     "output_type": "execute_result"
    }
   ],
   "source": [
    "location_data['Case-Fatality_Ratio'].value_counts()"
   ]
  },
  {
   "cell_type": "code",
   "execution_count": 25,
   "metadata": {},
   "outputs": [
    {
     "data": {
      "text/plain": [
       "Lake, Oregon, US                  1\n",
       "Rockingham, North Carolina, US    1\n",
       "Clarion, Pennsylvania, US         1\n",
       "Merced, California, US            1\n",
       "Calhoun, Arkansas, US             1\n",
       "                                 ..\n",
       "Webster, Nebraska, US             1\n",
       "Burke, North Carolina, US         1\n",
       "Hart, Georgia, US                 1\n",
       "Starke, Indiana, US               1\n",
       "Van Wert, Ohio, US                1\n",
       "Name: Combined_Key, Length: 3954, dtype: int64"
      ]
     },
     "execution_count": 25,
     "metadata": {},
     "output_type": "execute_result"
    }
   ],
   "source": [
    "location_data['Combined_Key'].value_counts()"
   ]
  },
  {
   "cell_type": "code",
   "execution_count": 26,
   "metadata": {},
   "outputs": [
    {
     "data": {
      "image/png": "[encoded data removed]",
      "text/plain": [
       "<Figure size 432x288 with 1 Axes>"
      ]
     },
     "metadata": {
      "needs_background": "light"
     },
     "output_type": "display_data"
    }
   ],
   "source": [
    "plt.plot(location_data['Case-Fatality_Ratio'].value_counts(),'b.')\n",
    "plt.show()"
   ]
  },
  {
   "cell_type": "code",
   "execution_count": 27,
   "metadata": {},
   "outputs": [],
   "source": [
    "#location_data.plot.scatter(location_data['Case-Fatality_Ratio'].values, location_data['Case-Fatality_Ratio'].value_counts(),'b.')\n",
    "#plt.show()"
   ]
  },
  {
   "cell_type": "code",
   "execution_count": 28,
   "metadata": {},
   "outputs": [
    {
     "data": {
      "text/plain": [
       "array([ 3.69228397,  2.92818583,  3.35529895, ..., 28.87462981,\n",
       "        2.34541578,  2.93274244])"
      ]
     },
     "execution_count": 28,
     "metadata": {},
     "output_type": "execute_result"
    }
   ],
   "source": [
    "location_data['Case-Fatality_Ratio'].values\n"
   ]
  },
  {
   "cell_type": "code",
   "execution_count": 29,
   "metadata": {},
   "outputs": [
    {
     "data": {
      "text/plain": [
       "Float64Index([               0.0, 2.9411764705882355, 1.5151515151515151,\n",
       "               2.083333333333333, 1.2658227848101269, 1.7241379310344829,\n",
       "              1.2345679012345678, 1.9230769230769231, 1.6666666666666667,\n",
       "               3.571428571428572,\n",
       "              ...\n",
       "               2.056298662407666, 2.3523523523523524,  3.046594982078853,\n",
       "              2.5682182985553768, 0.6206040546131568, 0.9316770186335404,\n",
       "              0.8602954927997007, 6.1159901890972375,  9.336099585062241,\n",
       "              0.3139717425431711],\n",
       "             dtype='float64', length=2624)"
      ]
     },
     "execution_count": 29,
     "metadata": {},
     "output_type": "execute_result"
    }
   ],
   "source": [
    "location_data['Case-Fatality_Ratio'].value_counts().keys()"
   ]
  },
  {
   "cell_type": "code",
   "execution_count": 30,
   "metadata": {},
   "outputs": [
    {
     "data": {
      "text/plain": [
       "Index(['Lake, Oregon, US', 'Rockingham, North Carolina, US',\n",
       "       'Clarion, Pennsylvania, US', 'Merced, California, US',\n",
       "       'Calhoun, Arkansas, US', 'Kent, Delaware, US', 'Guinea',\n",
       "       'Fillmore, Minnesota, US', 'Treasure, Montana, US',\n",
       "       'Big Horn, Montana, US',\n",
       "       ...\n",
       "       'Chelan, Washington, US', 'Washington, Georgia, US',\n",
       "       'Fredericksburg, Virginia, US', 'Martinsville, Virginia, US',\n",
       "       'Montgomery, Tennessee, US', 'Webster, Nebraska, US',\n",
       "       'Burke, North Carolina, US', 'Hart, Georgia, US', 'Starke, Indiana, US',\n",
       "       'Van Wert, Ohio, US'],\n",
       "      dtype='object', length=3954)"
      ]
     },
     "execution_count": 30,
     "metadata": {},
     "output_type": "execute_result"
    }
   ],
   "source": [
    "location_data['Combined_Key'].value_counts().keys()"
   ]
  },
  {
   "cell_type": "code",
   "execution_count": 31,
   "metadata": {},
   "outputs": [
    {
     "data": {
      "text/plain": [
       "0.000000       11\n",
       "1165.770980     2\n",
       "671.785029      2\n",
       "0.298507        1\n",
       "1385.144575     1\n",
       "               ..\n",
       "1119.166608     1\n",
       "2327.272727     1\n",
       "1422.015207     1\n",
       "2987.704897     1\n",
       "1.032609        1\n",
       "Name: Incidence_Rate, Length: 3862, dtype: int64"
      ]
     },
     "execution_count": 31,
     "metadata": {},
     "output_type": "execute_result"
    }
   ],
   "source": [
    "location_data['Incidence_Rate'].value_counts()"
   ]
  },
  {
   "cell_type": "code",
   "execution_count": 32,
   "metadata": {},
   "outputs": [],
   "source": [
    "#fig = plt.figure()\n",
    "#ax = fig.add_axes([0,0,1,1])\n",
    "#plt.plot(location_data['Combined_Key'].value_counts(), location_data['Incidence_Rate'].value_counts())\n",
    "#plt.title('Outcome after Infection for India')\n",
    "#plt.xlabel('Result')\n",
    "#plt.ylabel('Number of Population')\n",
    "#plt.show() "
   ]
  },
  {
   "cell_type": "code",
   "execution_count": 33,
   "metadata": {},
   "outputs": [
    {
     "data": {
      "image/png": "[encoded data removed]",
      "text/plain": [
       "<Figure size 432x288 with 1 Axes>"
      ]
     },
     "metadata": {
      "needs_background": "light"
     },
     "output_type": "display_data"
    }
   ],
   "source": [
    "location_data.plot.scatter(x='Long_', y='Lat')\n",
    "plt.show()"
   ]
  },
  {
   "cell_type": "code",
   "execution_count": 34,
   "metadata": {},
   "outputs": [
    {
     "data": {
      "image/png": "[encoded data removed]",
      "text/plain": [
       "<Figure size 432x288 with 1 Axes>"
      ]
     },
     "metadata": {
      "needs_background": "light"
     },
     "output_type": "display_data"
    }
   ],
   "source": [
    "location_data.plot.scatter(x='Lat', y='Long_')\n",
    "plt.show()"
   ]
  },
  {
   "cell_type": "code",
   "execution_count": 35,
   "metadata": {},
   "outputs": [
    {
     "data": {
      "image/png": "[encoded data removed]",
      "text/plain": [
       "<Figure size 432x288 with 1 Axes>"
      ]
     },
     "metadata": {
      "needs_background": "light"
     },
     "output_type": "display_data"
    }
   ],
   "source": [
    "location_data.hist(column='Long_')\n",
    "plt.show()"
   ]
  },
  {
   "cell_type": "code",
   "execution_count": 36,
   "metadata": {},
   "outputs": [
    {
     "data": {
      "image/png": "[encoded data removed]",
      "text/plain": [
       "<Figure size 432x288 with 1 Axes>"
      ]
     },
     "metadata": {
      "needs_background": "light"
     },
     "output_type": "display_data"
    }
   ],
   "source": [
    "location_data.hist(column='Lat')\n",
    "plt.show()"
   ]
  },
  {
   "cell_type": "code",
   "execution_count": 37,
   "metadata": {},
   "outputs": [
    {
     "data": {
      "text/plain": [
       "2.355817632664575"
      ]
     },
     "execution_count": 37,
     "metadata": {},
     "output_type": "execute_result"
    }
   ],
   "source": [
    "location_data['Case-Fatality_Ratio'].mean()"
   ]
  },
  {
   "cell_type": "code",
   "execution_count": 38,
   "metadata": {},
   "outputs": [
    {
     "data": {
      "text/plain": [
       "3.5385034408405285"
      ]
     },
     "execution_count": 38,
     "metadata": {},
     "output_type": "execute_result"
    }
   ],
   "source": [
    "location_data['Case-Fatality_Ratio'].std()"
   ]
  },
  {
   "cell_type": "code",
   "execution_count": 39,
   "metadata": {},
   "outputs": [
    {
     "data": {
      "image/png": "[encoded data removed]",
      "text/plain": [
       "<Figure size 432x288 with 1 Axes>"
      ]
     },
     "metadata": {
      "needs_background": "light"
     },
     "output_type": "display_data"
    }
   ],
   "source": [
    "location_data.plot.scatter(x='Combined_Key', y='Case-Fatality_Ratio')\n",
    "plt.show()"
   ]
  },
  {
   "cell_type": "code",
   "execution_count": 40,
   "metadata": {},
   "outputs": [
    {
     "data": {
      "image/png": "[encoded data removed]",
      "text/plain": [
       "<Figure size 432x288 with 1 Axes>"
      ]
     },
     "metadata": {
      "needs_background": "light"
     },
     "output_type": "display_data"
    }
   ],
   "source": [
    "location_data.plot.scatter(x='Country_Region', y='Case-Fatality_Ratio')\n",
    "plt.show()"
   ]
  },
  {
   "cell_type": "code",
   "execution_count": 41,
   "metadata": {},
   "outputs": [
    {
     "data": {
      "image/png": "[encoded data removed]",
      "text/plain": [
       "<Figure size 432x288 with 1 Axes>"
      ]
     },
     "metadata": {
      "needs_background": "light"
     },
     "output_type": "display_data"
    }
   ],
   "source": [
    "location_data.hist(column='Case-Fatality_Ratio', color='red')\n",
    "plt.show()"
   ]
  },
  {
   "cell_type": "code",
   "execution_count": 42,
   "metadata": {},
   "outputs": [
    {
     "data": {
      "image/png": "[encoded data removed]",
      "text/plain": [
       "<Figure size 432x288 with 1 Axes>"
      ]
     },
     "metadata": {
      "needs_background": "light"
     },
     "output_type": "display_data"
    }
   ],
   "source": [
    "location_data.plot.scatter(x='Country_Region', y='Incidence_Rate')\n",
    "plt.show()"
   ]
  },
  {
   "cell_type": "code",
   "execution_count": 43,
   "metadata": {},
   "outputs": [
    {
     "data": {
      "image/png": "[encoded data removed]",
      "text/plain": [
       "<Figure size 432x288 with 1 Axes>"
      ]
     },
     "metadata": {
      "needs_background": "light"
     },
     "output_type": "display_data"
    }
   ],
   "source": [
    "location_data.hist(column='Incidence_Rate')\n",
    "plt.show()"
   ]
  },
  {
   "cell_type": "code",
   "execution_count": 44,
   "metadata": {},
   "outputs": [
    {
     "data": {
      "image/png": "[encoded data removed]",
      "text/plain": [
       "<Figure size 432x288 with 1 Axes>"
      ]
     },
     "metadata": {
      "needs_background": "light"
     },
     "output_type": "display_data"
    }
   ],
   "source": [
    "location_data.plot.scatter(x='Country_Region', y='Confirmed')\n",
    "plt.show()"
   ]
  },
  {
   "cell_type": "code",
   "execution_count": 45,
   "metadata": {},
   "outputs": [
    {
     "data": {
      "text/html": [
       "<div>\n",
       "<style scoped>\n",
       "    .dataframe tbody tr th:only-of-type {\n",
       "        vertical-align: middle;\n",
       "    }\n",
       "\n",
       "    .dataframe tbody tr th {\n",
       "        vertical-align: top;\n",
       "    }\n",
       "\n",
       "    .dataframe thead th {\n",
       "        text-align: right;\n",
       "    }\n",
       "</style>\n",
       "<table border=\"1\" class=\"dataframe\">\n",
       "  <thead>\n",
       "    <tr style=\"text-align: right;\">\n",
       "      <th></th>\n",
       "      <th>age</th>\n",
       "      <th>sex</th>\n",
       "      <th>province</th>\n",
       "      <th>country</th>\n",
       "      <th>latitude</th>\n",
       "      <th>longitude</th>\n",
       "      <th>date_confirmation</th>\n",
       "      <th>additional_information</th>\n",
       "      <th>source</th>\n",
       "      <th>outcome</th>\n",
       "    </tr>\n",
       "  </thead>\n",
       "  <tbody>\n",
       "    <tr>\n",
       "      <th>0</th>\n",
       "      <td>NaN</td>\n",
       "      <td>NaN</td>\n",
       "      <td>Rajasthan</td>\n",
       "      <td>India</td>\n",
       "      <td>24.587000</td>\n",
       "      <td>73.69848</td>\n",
       "      <td>11.05.2020</td>\n",
       "      <td>NaN</td>\n",
       "      <td>https://t.me/indiacovid/4565</td>\n",
       "      <td>NaN</td>\n",
       "    </tr>\n",
       "    <tr>\n",
       "      <th>1</th>\n",
       "      <td>15-34</td>\n",
       "      <td>male</td>\n",
       "      <td>Bayern</td>\n",
       "      <td>Germany</td>\n",
       "      <td>49.993767</td>\n",
       "      <td>9.66288</td>\n",
       "      <td>09.04.2020</td>\n",
       "      <td>NaN</td>\n",
       "      <td>NaN</td>\n",
       "      <td>NaN</td>\n",
       "    </tr>\n",
       "    <tr>\n",
       "      <th>2</th>\n",
       "      <td>NaN</td>\n",
       "      <td>NaN</td>\n",
       "      <td>Maharashtra</td>\n",
       "      <td>India</td>\n",
       "      <td>19.200000</td>\n",
       "      <td>72.96667</td>\n",
       "      <td>23.05.2020</td>\n",
       "      <td>NaN</td>\n",
       "      <td>https://phdmah.maps.arcgis.com/apps/opsdashboa...</td>\n",
       "      <td>NaN</td>\n",
       "    </tr>\n",
       "    <tr>\n",
       "      <th>3</th>\n",
       "      <td>NaN</td>\n",
       "      <td>NaN</td>\n",
       "      <td>Madhya Pradesh</td>\n",
       "      <td>India</td>\n",
       "      <td>23.180870</td>\n",
       "      <td>75.78816</td>\n",
       "      <td>22.05.2020</td>\n",
       "      <td>NaN</td>\n",
       "      <td>https://twitter.com/JansamparkMP/status/126384...</td>\n",
       "      <td>NaN</td>\n",
       "    </tr>\n",
       "    <tr>\n",
       "      <th>4</th>\n",
       "      <td>56</td>\n",
       "      <td>female</td>\n",
       "      <td>Lima</td>\n",
       "      <td>Peru</td>\n",
       "      <td>-12.003950</td>\n",
       "      <td>-77.00695</td>\n",
       "      <td>19.04.2020</td>\n",
       "      <td>NaN</td>\n",
       "      <td>NaN</td>\n",
       "      <td>NaN</td>\n",
       "    </tr>\n",
       "    <tr>\n",
       "      <th>...</th>\n",
       "      <td>...</td>\n",
       "      <td>...</td>\n",
       "      <td>...</td>\n",
       "      <td>...</td>\n",
       "      <td>...</td>\n",
       "      <td>...</td>\n",
       "      <td>...</td>\n",
       "      <td>...</td>\n",
       "      <td>...</td>\n",
       "      <td>...</td>\n",
       "    </tr>\n",
       "    <tr>\n",
       "      <th>46495</th>\n",
       "      <td>22</td>\n",
       "      <td>female</td>\n",
       "      <td>Caaguazu</td>\n",
       "      <td>Paraguay</td>\n",
       "      <td>-25.468250</td>\n",
       "      <td>-56.01425</td>\n",
       "      <td>22.05.2020</td>\n",
       "      <td>NaN</td>\n",
       "      <td>NaN</td>\n",
       "      <td>NaN</td>\n",
       "    </tr>\n",
       "    <tr>\n",
       "      <th>46496</th>\n",
       "      <td>21</td>\n",
       "      <td>male</td>\n",
       "      <td>Lima</td>\n",
       "      <td>Peru</td>\n",
       "      <td>-12.043180</td>\n",
       "      <td>-77.02824</td>\n",
       "      <td>04.05.2020</td>\n",
       "      <td>NaN</td>\n",
       "      <td>NaN</td>\n",
       "      <td>NaN</td>\n",
       "    </tr>\n",
       "    <tr>\n",
       "      <th>46497</th>\n",
       "      <td>73</td>\n",
       "      <td>male</td>\n",
       "      <td>Karnataka</td>\n",
       "      <td>India</td>\n",
       "      <td>14.029390</td>\n",
       "      <td>74.97440</td>\n",
       "      <td>02.04.2020</td>\n",
       "      <td>Travelled to Delhi,</td>\n",
       "      <td>https://twitter.com/ANI/status/124564120884981...</td>\n",
       "      <td>NaN</td>\n",
       "    </tr>\n",
       "    <tr>\n",
       "      <th>46498</th>\n",
       "      <td>33</td>\n",
       "      <td>female</td>\n",
       "      <td>Lima</td>\n",
       "      <td>Peru</td>\n",
       "      <td>-11.932980</td>\n",
       "      <td>-77.04085</td>\n",
       "      <td>22.04.2020</td>\n",
       "      <td>NaN</td>\n",
       "      <td>NaN</td>\n",
       "      <td>NaN</td>\n",
       "    </tr>\n",
       "    <tr>\n",
       "      <th>46499</th>\n",
       "      <td>26</td>\n",
       "      <td>male</td>\n",
       "      <td>Tamil Nadu</td>\n",
       "      <td>India</td>\n",
       "      <td>13.083620</td>\n",
       "      <td>80.28252</td>\n",
       "      <td>10.05.2020</td>\n",
       "      <td>NaN</td>\n",
       "      <td>https://stopcorona.tn.gov.in/wp-content/upload...</td>\n",
       "      <td>NaN</td>\n",
       "    </tr>\n",
       "  </tbody>\n",
       "</table>\n",
       "<p>46500 rows × 10 columns</p>\n",
       "</div>"
      ],
      "text/plain": [
       "         age     sex        province   country   latitude  longitude  \\\n",
       "0        NaN     NaN       Rajasthan     India  24.587000   73.69848   \n",
       "1      15-34    male          Bayern   Germany  49.993767    9.66288   \n",
       "2        NaN     NaN     Maharashtra     India  19.200000   72.96667   \n",
       "3        NaN     NaN  Madhya Pradesh     India  23.180870   75.78816   \n",
       "4         56  female            Lima      Peru -12.003950  -77.00695   \n",
       "...      ...     ...             ...       ...        ...        ...   \n",
       "46495     22  female        Caaguazu  Paraguay -25.468250  -56.01425   \n",
       "46496     21    male            Lima      Peru -12.043180  -77.02824   \n",
       "46497     73    male       Karnataka     India  14.029390   74.97440   \n",
       "46498     33  female            Lima      Peru -11.932980  -77.04085   \n",
       "46499     26    male      Tamil Nadu     India  13.083620   80.28252   \n",
       "\n",
       "      date_confirmation additional_information  \\\n",
       "0            11.05.2020                    NaN   \n",
       "1            09.04.2020                    NaN   \n",
       "2            23.05.2020                    NaN   \n",
       "3            22.05.2020                    NaN   \n",
       "4            19.04.2020                    NaN   \n",
       "...                 ...                    ...   \n",
       "46495        22.05.2020                    NaN   \n",
       "46496        04.05.2020                    NaN   \n",
       "46497        02.04.2020    Travelled to Delhi,   \n",
       "46498        22.04.2020                    NaN   \n",
       "46499        10.05.2020                    NaN   \n",
       "\n",
       "                                                  source  outcome  \n",
       "0                           https://t.me/indiacovid/4565      NaN  \n",
       "1                                                    NaN      NaN  \n",
       "2      https://phdmah.maps.arcgis.com/apps/opsdashboa...      NaN  \n",
       "3      https://twitter.com/JansamparkMP/status/126384...      NaN  \n",
       "4                                                    NaN      NaN  \n",
       "...                                                  ...      ...  \n",
       "46495                                                NaN      NaN  \n",
       "46496                                                NaN      NaN  \n",
       "46497  https://twitter.com/ANI/status/124564120884981...      NaN  \n",
       "46498                                                NaN      NaN  \n",
       "46499  https://stopcorona.tn.gov.in/wp-content/upload...      NaN  \n",
       "\n",
       "[46500 rows x 10 columns]"
      ]
     },
     "execution_count": 45,
     "metadata": {},
     "output_type": "execute_result"
    }
   ],
   "source": [
    "test_data"
   ]
  },
  {
   "cell_type": "code",
   "execution_count": 46,
   "metadata": {},
   "outputs": [
    {
     "data": {
      "text/html": [
       "<div>\n",
       "<style scoped>\n",
       "    .dataframe tbody tr th:only-of-type {\n",
       "        vertical-align: middle;\n",
       "    }\n",
       "\n",
       "    .dataframe tbody tr th {\n",
       "        vertical-align: top;\n",
       "    }\n",
       "\n",
       "    .dataframe thead th {\n",
       "        text-align: right;\n",
       "    }\n",
       "</style>\n",
       "<table border=\"1\" class=\"dataframe\">\n",
       "  <thead>\n",
       "    <tr style=\"text-align: right;\">\n",
       "      <th></th>\n",
       "      <th>Province_State</th>\n",
       "      <th>Country_Region</th>\n",
       "      <th>Last_Update</th>\n",
       "      <th>Lat</th>\n",
       "      <th>Long_</th>\n",
       "      <th>Confirmed</th>\n",
       "      <th>Deaths</th>\n",
       "      <th>Recovered</th>\n",
       "      <th>Active</th>\n",
       "      <th>Combined_Key</th>\n",
       "      <th>Incidence_Rate</th>\n",
       "      <th>Case-Fatality_Ratio</th>\n",
       "    </tr>\n",
       "  </thead>\n",
       "  <tbody>\n",
       "    <tr>\n",
       "      <th>0</th>\n",
       "      <td>NaN</td>\n",
       "      <td>Afghanistan</td>\n",
       "      <td>2020-09-20 04:22:56</td>\n",
       "      <td>33.939110</td>\n",
       "      <td>67.709953</td>\n",
       "      <td>38919</td>\n",
       "      <td>1437</td>\n",
       "      <td>32576</td>\n",
       "      <td>4906.0</td>\n",
       "      <td>Afghanistan</td>\n",
       "      <td>99.976005</td>\n",
       "      <td>3.692284</td>\n",
       "    </tr>\n",
       "    <tr>\n",
       "      <th>1</th>\n",
       "      <td>NaN</td>\n",
       "      <td>Albania</td>\n",
       "      <td>2020-09-20 04:22:56</td>\n",
       "      <td>41.153300</td>\n",
       "      <td>20.168300</td>\n",
       "      <td>12226</td>\n",
       "      <td>358</td>\n",
       "      <td>6888</td>\n",
       "      <td>4980.0</td>\n",
       "      <td>Albania</td>\n",
       "      <td>424.838418</td>\n",
       "      <td>2.928186</td>\n",
       "    </tr>\n",
       "    <tr>\n",
       "      <th>2</th>\n",
       "      <td>NaN</td>\n",
       "      <td>Algeria</td>\n",
       "      <td>2020-09-20 04:22:56</td>\n",
       "      <td>28.033900</td>\n",
       "      <td>1.659600</td>\n",
       "      <td>49623</td>\n",
       "      <td>1665</td>\n",
       "      <td>34923</td>\n",
       "      <td>13035.0</td>\n",
       "      <td>Algeria</td>\n",
       "      <td>113.162645</td>\n",
       "      <td>3.355299</td>\n",
       "    </tr>\n",
       "    <tr>\n",
       "      <th>3</th>\n",
       "      <td>NaN</td>\n",
       "      <td>Andorra</td>\n",
       "      <td>2020-09-20 04:22:56</td>\n",
       "      <td>42.506300</td>\n",
       "      <td>1.521800</td>\n",
       "      <td>1564</td>\n",
       "      <td>53</td>\n",
       "      <td>1164</td>\n",
       "      <td>347.0</td>\n",
       "      <td>Andorra</td>\n",
       "      <td>2024.202420</td>\n",
       "      <td>3.388747</td>\n",
       "    </tr>\n",
       "    <tr>\n",
       "      <th>4</th>\n",
       "      <td>NaN</td>\n",
       "      <td>Angola</td>\n",
       "      <td>2020-09-20 04:22:56</td>\n",
       "      <td>-11.202700</td>\n",
       "      <td>17.873900</td>\n",
       "      <td>3901</td>\n",
       "      <td>147</td>\n",
       "      <td>1445</td>\n",
       "      <td>2309.0</td>\n",
       "      <td>Angola</td>\n",
       "      <td>11.869312</td>\n",
       "      <td>3.768265</td>\n",
       "    </tr>\n",
       "    <tr>\n",
       "      <th>...</th>\n",
       "      <td>...</td>\n",
       "      <td>...</td>\n",
       "      <td>...</td>\n",
       "      <td>...</td>\n",
       "      <td>...</td>\n",
       "      <td>...</td>\n",
       "      <td>...</td>\n",
       "      <td>...</td>\n",
       "      <td>...</td>\n",
       "      <td>...</td>\n",
       "      <td>...</td>\n",
       "      <td>...</td>\n",
       "    </tr>\n",
       "    <tr>\n",
       "      <th>3949</th>\n",
       "      <td>NaN</td>\n",
       "      <td>West Bank and Gaza</td>\n",
       "      <td>2020-09-20 04:22:56</td>\n",
       "      <td>31.952200</td>\n",
       "      <td>35.233200</td>\n",
       "      <td>35003</td>\n",
       "      <td>253</td>\n",
       "      <td>23446</td>\n",
       "      <td>11304.0</td>\n",
       "      <td>West Bank and Gaza</td>\n",
       "      <td>686.142828</td>\n",
       "      <td>0.722795</td>\n",
       "    </tr>\n",
       "    <tr>\n",
       "      <th>3950</th>\n",
       "      <td>NaN</td>\n",
       "      <td>Western Sahara</td>\n",
       "      <td>2020-09-20 04:22:56</td>\n",
       "      <td>24.215500</td>\n",
       "      <td>-12.885800</td>\n",
       "      <td>10</td>\n",
       "      <td>1</td>\n",
       "      <td>8</td>\n",
       "      <td>1.0</td>\n",
       "      <td>Western Sahara</td>\n",
       "      <td>1.674116</td>\n",
       "      <td>10.000000</td>\n",
       "    </tr>\n",
       "    <tr>\n",
       "      <th>3951</th>\n",
       "      <td>NaN</td>\n",
       "      <td>Yemen</td>\n",
       "      <td>2020-09-20 04:22:56</td>\n",
       "      <td>15.552727</td>\n",
       "      <td>48.516388</td>\n",
       "      <td>2026</td>\n",
       "      <td>585</td>\n",
       "      <td>1221</td>\n",
       "      <td>220.0</td>\n",
       "      <td>Yemen</td>\n",
       "      <td>6.792738</td>\n",
       "      <td>28.874630</td>\n",
       "    </tr>\n",
       "    <tr>\n",
       "      <th>3952</th>\n",
       "      <td>NaN</td>\n",
       "      <td>Zambia</td>\n",
       "      <td>2020-09-20 04:22:56</td>\n",
       "      <td>-13.133897</td>\n",
       "      <td>27.849332</td>\n",
       "      <td>14070</td>\n",
       "      <td>330</td>\n",
       "      <td>13365</td>\n",
       "      <td>375.0</td>\n",
       "      <td>Zambia</td>\n",
       "      <td>76.534126</td>\n",
       "      <td>2.345416</td>\n",
       "    </tr>\n",
       "    <tr>\n",
       "      <th>3953</th>\n",
       "      <td>NaN</td>\n",
       "      <td>Zimbabwe</td>\n",
       "      <td>2020-09-20 04:22:56</td>\n",
       "      <td>-19.015438</td>\n",
       "      <td>29.154857</td>\n",
       "      <td>7672</td>\n",
       "      <td>225</td>\n",
       "      <td>5914</td>\n",
       "      <td>1533.0</td>\n",
       "      <td>Zimbabwe</td>\n",
       "      <td>51.618366</td>\n",
       "      <td>2.932742</td>\n",
       "    </tr>\n",
       "  </tbody>\n",
       "</table>\n",
       "<p>3954 rows × 12 columns</p>\n",
       "</div>"
      ],
      "text/plain": [
       "     Province_State      Country_Region          Last_Update        Lat  \\\n",
       "0               NaN         Afghanistan  2020-09-20 04:22:56  33.939110   \n",
       "1               NaN             Albania  2020-09-20 04:22:56  41.153300   \n",
       "2               NaN             Algeria  2020-09-20 04:22:56  28.033900   \n",
       "3               NaN             Andorra  2020-09-20 04:22:56  42.506300   \n",
       "4               NaN              Angola  2020-09-20 04:22:56 -11.202700   \n",
       "...             ...                 ...                  ...        ...   \n",
       "3949            NaN  West Bank and Gaza  2020-09-20 04:22:56  31.952200   \n",
       "3950            NaN      Western Sahara  2020-09-20 04:22:56  24.215500   \n",
       "3951            NaN               Yemen  2020-09-20 04:22:56  15.552727   \n",
       "3952            NaN              Zambia  2020-09-20 04:22:56 -13.133897   \n",
       "3953            NaN            Zimbabwe  2020-09-20 04:22:56 -19.015438   \n",
       "\n",
       "          Long_  Confirmed  Deaths  Recovered   Active        Combined_Key  \\\n",
       "0     67.709953      38919    1437      32576   4906.0         Afghanistan   \n",
       "1     20.168300      12226     358       6888   4980.0             Albania   \n",
       "2      1.659600      49623    1665      34923  13035.0             Algeria   \n",
       "3      1.521800       1564      53       1164    347.0             Andorra   \n",
       "4     17.873900       3901     147       1445   2309.0              Angola   \n",
       "...         ...        ...     ...        ...      ...                 ...   \n",
       "3949  35.233200      35003     253      23446  11304.0  West Bank and Gaza   \n",
       "3950 -12.885800         10       1          8      1.0      Western Sahara   \n",
       "3951  48.516388       2026     585       1221    220.0               Yemen   \n",
       "3952  27.849332      14070     330      13365    375.0              Zambia   \n",
       "3953  29.154857       7672     225       5914   1533.0            Zimbabwe   \n",
       "\n",
       "      Incidence_Rate  Case-Fatality_Ratio  \n",
       "0          99.976005             3.692284  \n",
       "1         424.838418             2.928186  \n",
       "2         113.162645             3.355299  \n",
       "3        2024.202420             3.388747  \n",
       "4          11.869312             3.768265  \n",
       "...              ...                  ...  \n",
       "3949      686.142828             0.722795  \n",
       "3950        1.674116            10.000000  \n",
       "3951        6.792738            28.874630  \n",
       "3952       76.534126             2.345416  \n",
       "3953       51.618366             2.932742  \n",
       "\n",
       "[3954 rows x 12 columns]"
      ]
     },
     "execution_count": 46,
     "metadata": {},
     "output_type": "execute_result"
    }
   ],
   "source": [
    "location_data"
   ]
  },
  {
   "cell_type": "code",
   "execution_count": 47,
   "metadata": {},
   "outputs": [
    {
     "data": {
      "text/plain": [
       "Lat\n",
       "-52.368000        [-70.9863]\n",
       "-51.796300        [-59.5236]\n",
       "-45.986400        [-73.7669]\n",
       "-42.882100        [147.3272]\n",
       "-41.919800        [-72.1416]\n",
       "                   ...      \n",
       " 67.147163      [74.3415488]\n",
       " 68.000042      [33.9999151]\n",
       " 68.275572      [57.1686375]\n",
       " 69.314792    [-153.4836093]\n",
       " 71.706900        [-42.6043]\n",
       "Name: Long_, Length: 3873, dtype: object"
      ]
     },
     "execution_count": 47,
     "metadata": {},
     "output_type": "execute_result"
    }
   ],
   "source": [
    "lat_long_df = pd.DataFrame(location_data, columns=['Lat', 'Long_', 'Confirmed','Combined_Key','Active','Recovered','Deaths'])\n",
    "lat_long_df.groupby('Lat').Long_.apply(pd.Series.tolist)"
   ]
  },
  {
   "cell_type": "code",
   "execution_count": 48,
   "metadata": {},
   "outputs": [
    {
     "data": {
      "text/html": [
       "<div>\n",
       "<style scoped>\n",
       "    .dataframe tbody tr th:only-of-type {\n",
       "        vertical-align: middle;\n",
       "    }\n",
       "\n",
       "    .dataframe tbody tr th {\n",
       "        vertical-align: top;\n",
       "    }\n",
       "\n",
       "    .dataframe thead th {\n",
       "        text-align: right;\n",
       "    }\n",
       "</style>\n",
       "<table border=\"1\" class=\"dataframe\">\n",
       "  <thead>\n",
       "    <tr style=\"text-align: right;\">\n",
       "      <th></th>\n",
       "      <th>Lat</th>\n",
       "      <th>Long_</th>\n",
       "      <th>Confirmed</th>\n",
       "      <th>Combined_Key</th>\n",
       "      <th>Active</th>\n",
       "      <th>Recovered</th>\n",
       "      <th>Deaths</th>\n",
       "    </tr>\n",
       "  </thead>\n",
       "  <tbody>\n",
       "    <tr>\n",
       "      <th>0</th>\n",
       "      <td>33.939110</td>\n",
       "      <td>67.709953</td>\n",
       "      <td>38919</td>\n",
       "      <td>Afghanistan</td>\n",
       "      <td>4906.0</td>\n",
       "      <td>32576</td>\n",
       "      <td>1437</td>\n",
       "    </tr>\n",
       "    <tr>\n",
       "      <th>1</th>\n",
       "      <td>41.153300</td>\n",
       "      <td>20.168300</td>\n",
       "      <td>12226</td>\n",
       "      <td>Albania</td>\n",
       "      <td>4980.0</td>\n",
       "      <td>6888</td>\n",
       "      <td>358</td>\n",
       "    </tr>\n",
       "    <tr>\n",
       "      <th>2</th>\n",
       "      <td>28.033900</td>\n",
       "      <td>1.659600</td>\n",
       "      <td>49623</td>\n",
       "      <td>Algeria</td>\n",
       "      <td>13035.0</td>\n",
       "      <td>34923</td>\n",
       "      <td>1665</td>\n",
       "    </tr>\n",
       "    <tr>\n",
       "      <th>3</th>\n",
       "      <td>42.506300</td>\n",
       "      <td>1.521800</td>\n",
       "      <td>1564</td>\n",
       "      <td>Andorra</td>\n",
       "      <td>347.0</td>\n",
       "      <td>1164</td>\n",
       "      <td>53</td>\n",
       "    </tr>\n",
       "    <tr>\n",
       "      <th>4</th>\n",
       "      <td>-11.202700</td>\n",
       "      <td>17.873900</td>\n",
       "      <td>3901</td>\n",
       "      <td>Angola</td>\n",
       "      <td>2309.0</td>\n",
       "      <td>1445</td>\n",
       "      <td>147</td>\n",
       "    </tr>\n",
       "    <tr>\n",
       "      <th>...</th>\n",
       "      <td>...</td>\n",
       "      <td>...</td>\n",
       "      <td>...</td>\n",
       "      <td>...</td>\n",
       "      <td>...</td>\n",
       "      <td>...</td>\n",
       "      <td>...</td>\n",
       "    </tr>\n",
       "    <tr>\n",
       "      <th>3949</th>\n",
       "      <td>31.952200</td>\n",
       "      <td>35.233200</td>\n",
       "      <td>35003</td>\n",
       "      <td>West Bank and Gaza</td>\n",
       "      <td>11304.0</td>\n",
       "      <td>23446</td>\n",
       "      <td>253</td>\n",
       "    </tr>\n",
       "    <tr>\n",
       "      <th>3950</th>\n",
       "      <td>24.215500</td>\n",
       "      <td>-12.885800</td>\n",
       "      <td>10</td>\n",
       "      <td>Western Sahara</td>\n",
       "      <td>1.0</td>\n",
       "      <td>8</td>\n",
       "      <td>1</td>\n",
       "    </tr>\n",
       "    <tr>\n",
       "      <th>3951</th>\n",
       "      <td>15.552727</td>\n",
       "      <td>48.516388</td>\n",
       "      <td>2026</td>\n",
       "      <td>Yemen</td>\n",
       "      <td>220.0</td>\n",
       "      <td>1221</td>\n",
       "      <td>585</td>\n",
       "    </tr>\n",
       "    <tr>\n",
       "      <th>3952</th>\n",
       "      <td>-13.133897</td>\n",
       "      <td>27.849332</td>\n",
       "      <td>14070</td>\n",
       "      <td>Zambia</td>\n",
       "      <td>375.0</td>\n",
       "      <td>13365</td>\n",
       "      <td>330</td>\n",
       "    </tr>\n",
       "    <tr>\n",
       "      <th>3953</th>\n",
       "      <td>-19.015438</td>\n",
       "      <td>29.154857</td>\n",
       "      <td>7672</td>\n",
       "      <td>Zimbabwe</td>\n",
       "      <td>1533.0</td>\n",
       "      <td>5914</td>\n",
       "      <td>225</td>\n",
       "    </tr>\n",
       "  </tbody>\n",
       "</table>\n",
       "<p>3954 rows × 7 columns</p>\n",
       "</div>"
      ],
      "text/plain": [
       "            Lat      Long_  Confirmed        Combined_Key   Active  Recovered  \\\n",
       "0     33.939110  67.709953      38919         Afghanistan   4906.0      32576   \n",
       "1     41.153300  20.168300      12226             Albania   4980.0       6888   \n",
       "2     28.033900   1.659600      49623             Algeria  13035.0      34923   \n",
       "3     42.506300   1.521800       1564             Andorra    347.0       1164   \n",
       "4    -11.202700  17.873900       3901              Angola   2309.0       1445   \n",
       "...         ...        ...        ...                 ...      ...        ...   \n",
       "3949  31.952200  35.233200      35003  West Bank and Gaza  11304.0      23446   \n",
       "3950  24.215500 -12.885800         10      Western Sahara      1.0          8   \n",
       "3951  15.552727  48.516388       2026               Yemen    220.0       1221   \n",
       "3952 -13.133897  27.849332      14070              Zambia    375.0      13365   \n",
       "3953 -19.015438  29.154857       7672            Zimbabwe   1533.0       5914   \n",
       "\n",
       "      Deaths  \n",
       "0       1437  \n",
       "1        358  \n",
       "2       1665  \n",
       "3         53  \n",
       "4        147  \n",
       "...      ...  \n",
       "3949     253  \n",
       "3950       1  \n",
       "3951     585  \n",
       "3952     330  \n",
       "3953     225  \n",
       "\n",
       "[3954 rows x 7 columns]"
      ]
     },
     "execution_count": 48,
     "metadata": {},
     "output_type": "execute_result"
    }
   ],
   "source": [
    "lat_long_df"
   ]
  },
  {
   "cell_type": "code",
   "execution_count": 49,
   "metadata": {},
   "outputs": [],
   "source": [
    "lat_long_df['Coordinate'] = lat_long_df[['Lat','Long_']].astype(str).apply(lambda x: ' '.join(x), axis=1)"
   ]
  },
  {
   "cell_type": "code",
   "execution_count": 50,
   "metadata": {},
   "outputs": [
    {
     "data": {
      "text/html": [
       "<div>\n",
       "<style scoped>\n",
       "    .dataframe tbody tr th:only-of-type {\n",
       "        vertical-align: middle;\n",
       "    }\n",
       "\n",
       "    .dataframe tbody tr th {\n",
       "        vertical-align: top;\n",
       "    }\n",
       "\n",
       "    .dataframe thead th {\n",
       "        text-align: right;\n",
       "    }\n",
       "</style>\n",
       "<table border=\"1\" class=\"dataframe\">\n",
       "  <thead>\n",
       "    <tr style=\"text-align: right;\">\n",
       "      <th></th>\n",
       "      <th>Lat</th>\n",
       "      <th>Long_</th>\n",
       "      <th>Confirmed</th>\n",
       "      <th>Combined_Key</th>\n",
       "      <th>Active</th>\n",
       "      <th>Recovered</th>\n",
       "      <th>Deaths</th>\n",
       "      <th>Coordinate</th>\n",
       "    </tr>\n",
       "  </thead>\n",
       "  <tbody>\n",
       "    <tr>\n",
       "      <th>0</th>\n",
       "      <td>33.939110</td>\n",
       "      <td>67.709953</td>\n",
       "      <td>38919</td>\n",
       "      <td>Afghanistan</td>\n",
       "      <td>4906.0</td>\n",
       "      <td>32576</td>\n",
       "      <td>1437</td>\n",
       "      <td>33.93911 67.709953</td>\n",
       "    </tr>\n",
       "    <tr>\n",
       "      <th>1</th>\n",
       "      <td>41.153300</td>\n",
       "      <td>20.168300</td>\n",
       "      <td>12226</td>\n",
       "      <td>Albania</td>\n",
       "      <td>4980.0</td>\n",
       "      <td>6888</td>\n",
       "      <td>358</td>\n",
       "      <td>41.1533 20.1683</td>\n",
       "    </tr>\n",
       "    <tr>\n",
       "      <th>2</th>\n",
       "      <td>28.033900</td>\n",
       "      <td>1.659600</td>\n",
       "      <td>49623</td>\n",
       "      <td>Algeria</td>\n",
       "      <td>13035.0</td>\n",
       "      <td>34923</td>\n",
       "      <td>1665</td>\n",
       "      <td>28.0339 1.6596</td>\n",
       "    </tr>\n",
       "    <tr>\n",
       "      <th>3</th>\n",
       "      <td>42.506300</td>\n",
       "      <td>1.521800</td>\n",
       "      <td>1564</td>\n",
       "      <td>Andorra</td>\n",
       "      <td>347.0</td>\n",
       "      <td>1164</td>\n",
       "      <td>53</td>\n",
       "      <td>42.5063 1.5218</td>\n",
       "    </tr>\n",
       "    <tr>\n",
       "      <th>4</th>\n",
       "      <td>-11.202700</td>\n",
       "      <td>17.873900</td>\n",
       "      <td>3901</td>\n",
       "      <td>Angola</td>\n",
       "      <td>2309.0</td>\n",
       "      <td>1445</td>\n",
       "      <td>147</td>\n",
       "      <td>-11.2027 17.8739</td>\n",
       "    </tr>\n",
       "    <tr>\n",
       "      <th>...</th>\n",
       "      <td>...</td>\n",
       "      <td>...</td>\n",
       "      <td>...</td>\n",
       "      <td>...</td>\n",
       "      <td>...</td>\n",
       "      <td>...</td>\n",
       "      <td>...</td>\n",
       "      <td>...</td>\n",
       "    </tr>\n",
       "    <tr>\n",
       "      <th>3949</th>\n",
       "      <td>31.952200</td>\n",
       "      <td>35.233200</td>\n",
       "      <td>35003</td>\n",
       "      <td>West Bank and Gaza</td>\n",
       "      <td>11304.0</td>\n",
       "      <td>23446</td>\n",
       "      <td>253</td>\n",
       "      <td>31.9522 35.2332</td>\n",
       "    </tr>\n",
       "    <tr>\n",
       "      <th>3950</th>\n",
       "      <td>24.215500</td>\n",
       "      <td>-12.885800</td>\n",
       "      <td>10</td>\n",
       "      <td>Western Sahara</td>\n",
       "      <td>1.0</td>\n",
       "      <td>8</td>\n",
       "      <td>1</td>\n",
       "      <td>24.2155 -12.8858</td>\n",
       "    </tr>\n",
       "    <tr>\n",
       "      <th>3951</th>\n",
       "      <td>15.552727</td>\n",
       "      <td>48.516388</td>\n",
       "      <td>2026</td>\n",
       "      <td>Yemen</td>\n",
       "      <td>220.0</td>\n",
       "      <td>1221</td>\n",
       "      <td>585</td>\n",
       "      <td>15.552727 48.516388</td>\n",
       "    </tr>\n",
       "    <tr>\n",
       "      <th>3952</th>\n",
       "      <td>-13.133897</td>\n",
       "      <td>27.849332</td>\n",
       "      <td>14070</td>\n",
       "      <td>Zambia</td>\n",
       "      <td>375.0</td>\n",
       "      <td>13365</td>\n",
       "      <td>330</td>\n",
       "      <td>-13.133897 27.849332</td>\n",
       "    </tr>\n",
       "    <tr>\n",
       "      <th>3953</th>\n",
       "      <td>-19.015438</td>\n",
       "      <td>29.154857</td>\n",
       "      <td>7672</td>\n",
       "      <td>Zimbabwe</td>\n",
       "      <td>1533.0</td>\n",
       "      <td>5914</td>\n",
       "      <td>225</td>\n",
       "      <td>-19.015438 29.154857</td>\n",
       "    </tr>\n",
       "  </tbody>\n",
       "</table>\n",
       "<p>3954 rows × 8 columns</p>\n",
       "</div>"
      ],
      "text/plain": [
       "            Lat      Long_  Confirmed        Combined_Key   Active  Recovered  \\\n",
       "0     33.939110  67.709953      38919         Afghanistan   4906.0      32576   \n",
       "1     41.153300  20.168300      12226             Albania   4980.0       6888   \n",
       "2     28.033900   1.659600      49623             Algeria  13035.0      34923   \n",
       "3     42.506300   1.521800       1564             Andorra    347.0       1164   \n",
       "4    -11.202700  17.873900       3901              Angola   2309.0       1445   \n",
       "...         ...        ...        ...                 ...      ...        ...   \n",
       "3949  31.952200  35.233200      35003  West Bank and Gaza  11304.0      23446   \n",
       "3950  24.215500 -12.885800         10      Western Sahara      1.0          8   \n",
       "3951  15.552727  48.516388       2026               Yemen    220.0       1221   \n",
       "3952 -13.133897  27.849332      14070              Zambia    375.0      13365   \n",
       "3953 -19.015438  29.154857       7672            Zimbabwe   1533.0       5914   \n",
       "\n",
       "      Deaths            Coordinate  \n",
       "0       1437    33.93911 67.709953  \n",
       "1        358       41.1533 20.1683  \n",
       "2       1665        28.0339 1.6596  \n",
       "3         53        42.5063 1.5218  \n",
       "4        147      -11.2027 17.8739  \n",
       "...      ...                   ...  \n",
       "3949     253       31.9522 35.2332  \n",
       "3950       1      24.2155 -12.8858  \n",
       "3951     585   15.552727 48.516388  \n",
       "3952     330  -13.133897 27.849332  \n",
       "3953     225  -19.015438 29.154857  \n",
       "\n",
       "[3954 rows x 8 columns]"
      ]
     },
     "execution_count": 50,
     "metadata": {},
     "output_type": "execute_result"
    }
   ],
   "source": [
    "lat_long_df"
   ]
  },
  {
   "cell_type": "code",
   "execution_count": 51,
   "metadata": {},
   "outputs": [
    {
     "data": {
      "text/plain": [
       "nan nan                     80\n",
       "55.76261984 -133.0511621     1\n",
       "40.36680311 -76.45651841     1\n",
       "37.48133648 -80.21072274     1\n",
       "18.439692 -66.926113         1\n",
       "                            ..\n",
       "34.48254879 -94.22728802     1\n",
       "43.10904162 -73.86653895     1\n",
       "45.90018933 -112.6620092     1\n",
       "41.56730777 -98.98197724     1\n",
       "47.77372465 -96.40134647     1\n",
       "Name: Coordinate, Length: 3875, dtype: int64"
      ]
     },
     "execution_count": 51,
     "metadata": {},
     "output_type": "execute_result"
    }
   ],
   "source": [
    "lat_long_df['Coordinate'].value_counts()"
   ]
  },
  {
   "cell_type": "code",
   "execution_count": 52,
   "metadata": {},
   "outputs": [
    {
     "data": {
      "text/plain": [
       "0         33.93911 67.709953\n",
       "1            41.1533 20.1683\n",
       "2             28.0339 1.6596\n",
       "3             42.5063 1.5218\n",
       "4           -11.2027 17.8739\n",
       "                ...         \n",
       "3949         31.9522 35.2332\n",
       "3950        24.2155 -12.8858\n",
       "3951     15.552727 48.516388\n",
       "3952    -13.133897 27.849332\n",
       "3953    -19.015438 29.154857\n",
       "Name: Coordinate, Length: 3954, dtype: object"
      ]
     },
     "execution_count": 52,
     "metadata": {},
     "output_type": "execute_result"
    }
   ],
   "source": [
    "lat_long_df['Coordinate'].dropna(axis=0)"
   ]
  },
  {
   "cell_type": "code",
   "execution_count": 53,
   "metadata": {},
   "outputs": [
    {
     "data": {
      "text/plain": [
       "0         33.93911 67.709953\n",
       "1            41.1533 20.1683\n",
       "2             28.0339 1.6596\n",
       "3             42.5063 1.5218\n",
       "4           -11.2027 17.8739\n",
       "                ...         \n",
       "3949         31.9522 35.2332\n",
       "3950        24.2155 -12.8858\n",
       "3951     15.552727 48.516388\n",
       "3952    -13.133897 27.849332\n",
       "3953    -19.015438 29.154857\n",
       "Name: Coordinate, Length: 3954, dtype: object"
      ]
     },
     "execution_count": 53,
     "metadata": {},
     "output_type": "execute_result"
    }
   ],
   "source": [
    "lat_long_df['Coordinate']"
   ]
  },
  {
   "cell_type": "code",
   "execution_count": 54,
   "metadata": {},
   "outputs": [
    {
     "data": {
      "text/plain": [
       "2982          0\n",
       "2712          0\n",
       "1756          0\n",
       "2135          0\n",
       "3071          0\n",
       "         ...   \n",
       "234      609558\n",
       "6        622934\n",
       "574      659656\n",
       "54       931673\n",
       "253     1167496\n",
       "Name: Confirmed, Length: 3954, dtype: int64"
      ]
     },
     "execution_count": 54,
     "metadata": {},
     "output_type": "execute_result"
    }
   ],
   "source": [
    "lat_long_df['Confirmed'].sort_values()"
   ]
  },
  {
   "cell_type": "code",
   "execution_count": 55,
   "metadata": {},
   "outputs": [
    {
     "data": {
      "text/plain": [
       "0        48\n",
       "7        18\n",
       "12       13\n",
       "3        13\n",
       "9        13\n",
       "         ..\n",
       "14138     1\n",
       "1354      1\n",
       "3901      1\n",
       "14154     1\n",
       "2777      1\n",
       "Name: Confirmed, Length: 2116, dtype: int64"
      ]
     },
     "execution_count": 55,
     "metadata": {},
     "output_type": "execute_result"
    }
   ],
   "source": [
    "lat_long_df['Confirmed'].value_counts()"
   ]
  },
  {
   "cell_type": "code",
   "execution_count": 56,
   "metadata": {},
   "outputs": [
    {
     "data": {
      "text/html": [
       "<div>\n",
       "<style scoped>\n",
       "    .dataframe tbody tr th:only-of-type {\n",
       "        vertical-align: middle;\n",
       "    }\n",
       "\n",
       "    .dataframe tbody tr th {\n",
       "        vertical-align: top;\n",
       "    }\n",
       "\n",
       "    .dataframe thead th {\n",
       "        text-align: right;\n",
       "    }\n",
       "</style>\n",
       "<table border=\"1\" class=\"dataframe\">\n",
       "  <thead>\n",
       "    <tr style=\"text-align: right;\">\n",
       "      <th></th>\n",
       "      <th>Lat</th>\n",
       "      <th>Long_</th>\n",
       "      <th>Confirmed</th>\n",
       "      <th>Combined_Key</th>\n",
       "      <th>Active</th>\n",
       "      <th>Recovered</th>\n",
       "      <th>Deaths</th>\n",
       "      <th>Coordinate</th>\n",
       "    </tr>\n",
       "  </thead>\n",
       "  <tbody>\n",
       "    <tr>\n",
       "      <th>0</th>\n",
       "      <td>33.939110</td>\n",
       "      <td>67.709953</td>\n",
       "      <td>38919</td>\n",
       "      <td>Afghanistan</td>\n",
       "      <td>4906.0</td>\n",
       "      <td>32576</td>\n",
       "      <td>1437</td>\n",
       "      <td>33.93911 67.709953</td>\n",
       "    </tr>\n",
       "    <tr>\n",
       "      <th>1</th>\n",
       "      <td>41.153300</td>\n",
       "      <td>20.168300</td>\n",
       "      <td>12226</td>\n",
       "      <td>Albania</td>\n",
       "      <td>4980.0</td>\n",
       "      <td>6888</td>\n",
       "      <td>358</td>\n",
       "      <td>41.1533 20.1683</td>\n",
       "    </tr>\n",
       "    <tr>\n",
       "      <th>2</th>\n",
       "      <td>28.033900</td>\n",
       "      <td>1.659600</td>\n",
       "      <td>49623</td>\n",
       "      <td>Algeria</td>\n",
       "      <td>13035.0</td>\n",
       "      <td>34923</td>\n",
       "      <td>1665</td>\n",
       "      <td>28.0339 1.6596</td>\n",
       "    </tr>\n",
       "    <tr>\n",
       "      <th>3</th>\n",
       "      <td>42.506300</td>\n",
       "      <td>1.521800</td>\n",
       "      <td>1564</td>\n",
       "      <td>Andorra</td>\n",
       "      <td>347.0</td>\n",
       "      <td>1164</td>\n",
       "      <td>53</td>\n",
       "      <td>42.5063 1.5218</td>\n",
       "    </tr>\n",
       "    <tr>\n",
       "      <th>4</th>\n",
       "      <td>-11.202700</td>\n",
       "      <td>17.873900</td>\n",
       "      <td>3901</td>\n",
       "      <td>Angola</td>\n",
       "      <td>2309.0</td>\n",
       "      <td>1445</td>\n",
       "      <td>147</td>\n",
       "      <td>-11.2027 17.8739</td>\n",
       "    </tr>\n",
       "    <tr>\n",
       "      <th>...</th>\n",
       "      <td>...</td>\n",
       "      <td>...</td>\n",
       "      <td>...</td>\n",
       "      <td>...</td>\n",
       "      <td>...</td>\n",
       "      <td>...</td>\n",
       "      <td>...</td>\n",
       "      <td>...</td>\n",
       "    </tr>\n",
       "    <tr>\n",
       "      <th>3949</th>\n",
       "      <td>31.952200</td>\n",
       "      <td>35.233200</td>\n",
       "      <td>35003</td>\n",
       "      <td>West Bank and Gaza</td>\n",
       "      <td>11304.0</td>\n",
       "      <td>23446</td>\n",
       "      <td>253</td>\n",
       "      <td>31.9522 35.2332</td>\n",
       "    </tr>\n",
       "    <tr>\n",
       "      <th>3950</th>\n",
       "      <td>24.215500</td>\n",
       "      <td>-12.885800</td>\n",
       "      <td>10</td>\n",
       "      <td>Western Sahara</td>\n",
       "      <td>1.0</td>\n",
       "      <td>8</td>\n",
       "      <td>1</td>\n",
       "      <td>24.2155 -12.8858</td>\n",
       "    </tr>\n",
       "    <tr>\n",
       "      <th>3951</th>\n",
       "      <td>15.552727</td>\n",
       "      <td>48.516388</td>\n",
       "      <td>2026</td>\n",
       "      <td>Yemen</td>\n",
       "      <td>220.0</td>\n",
       "      <td>1221</td>\n",
       "      <td>585</td>\n",
       "      <td>15.552727 48.516388</td>\n",
       "    </tr>\n",
       "    <tr>\n",
       "      <th>3952</th>\n",
       "      <td>-13.133897</td>\n",
       "      <td>27.849332</td>\n",
       "      <td>14070</td>\n",
       "      <td>Zambia</td>\n",
       "      <td>375.0</td>\n",
       "      <td>13365</td>\n",
       "      <td>330</td>\n",
       "      <td>-13.133897 27.849332</td>\n",
       "    </tr>\n",
       "    <tr>\n",
       "      <th>3953</th>\n",
       "      <td>-19.015438</td>\n",
       "      <td>29.154857</td>\n",
       "      <td>7672</td>\n",
       "      <td>Zimbabwe</td>\n",
       "      <td>1533.0</td>\n",
       "      <td>5914</td>\n",
       "      <td>225</td>\n",
       "      <td>-19.015438 29.154857</td>\n",
       "    </tr>\n",
       "  </tbody>\n",
       "</table>\n",
       "<p>3954 rows × 8 columns</p>\n",
       "</div>"
      ],
      "text/plain": [
       "            Lat      Long_  Confirmed        Combined_Key   Active  Recovered  \\\n",
       "0     33.939110  67.709953      38919         Afghanistan   4906.0      32576   \n",
       "1     41.153300  20.168300      12226             Albania   4980.0       6888   \n",
       "2     28.033900   1.659600      49623             Algeria  13035.0      34923   \n",
       "3     42.506300   1.521800       1564             Andorra    347.0       1164   \n",
       "4    -11.202700  17.873900       3901              Angola   2309.0       1445   \n",
       "...         ...        ...        ...                 ...      ...        ...   \n",
       "3949  31.952200  35.233200      35003  West Bank and Gaza  11304.0      23446   \n",
       "3950  24.215500 -12.885800         10      Western Sahara      1.0          8   \n",
       "3951  15.552727  48.516388       2026               Yemen    220.0       1221   \n",
       "3952 -13.133897  27.849332      14070              Zambia    375.0      13365   \n",
       "3953 -19.015438  29.154857       7672            Zimbabwe   1533.0       5914   \n",
       "\n",
       "      Deaths            Coordinate  \n",
       "0       1437    33.93911 67.709953  \n",
       "1        358       41.1533 20.1683  \n",
       "2       1665        28.0339 1.6596  \n",
       "3         53        42.5063 1.5218  \n",
       "4        147      -11.2027 17.8739  \n",
       "...      ...                   ...  \n",
       "3949     253       31.9522 35.2332  \n",
       "3950       1      24.2155 -12.8858  \n",
       "3951     585   15.552727 48.516388  \n",
       "3952     330  -13.133897 27.849332  \n",
       "3953     225  -19.015438 29.154857  \n",
       "\n",
       "[3954 rows x 8 columns]"
      ]
     },
     "execution_count": 56,
     "metadata": {},
     "output_type": "execute_result"
    }
   ],
   "source": [
    "lat_long_df"
   ]
  },
  {
   "cell_type": "code",
   "execution_count": 57,
   "metadata": {},
   "outputs": [],
   "source": [
    "lat_long_df2 = lat_long_df"
   ]
  },
  {
   "cell_type": "code",
   "execution_count": 58,
   "metadata": {},
   "outputs": [],
   "source": [
    "plt_values4 = lat_long_df2['Confirmed']\n",
    "to_remove4 = plt_values4[plt_values4 <= 609557]\n",
    "lat_long_df2 = lat_long_df2[~lat_long_df2.Confirmed.isin(to_remove4)]\n"
   ]
  },
  {
   "cell_type": "code",
   "execution_count": 59,
   "metadata": {},
   "outputs": [
    {
     "data": {
      "text/html": [
       "<div>\n",
       "<style scoped>\n",
       "    .dataframe tbody tr th:only-of-type {\n",
       "        vertical-align: middle;\n",
       "    }\n",
       "\n",
       "    .dataframe tbody tr th {\n",
       "        vertical-align: top;\n",
       "    }\n",
       "\n",
       "    .dataframe thead th {\n",
       "        text-align: right;\n",
       "    }\n",
       "</style>\n",
       "<table border=\"1\" class=\"dataframe\">\n",
       "  <thead>\n",
       "    <tr style=\"text-align: right;\">\n",
       "      <th></th>\n",
       "      <th>Lat</th>\n",
       "      <th>Long_</th>\n",
       "      <th>Confirmed</th>\n",
       "      <th>Combined_Key</th>\n",
       "      <th>Active</th>\n",
       "      <th>Recovered</th>\n",
       "      <th>Deaths</th>\n",
       "      <th>Coordinate</th>\n",
       "    </tr>\n",
       "  </thead>\n",
       "  <tbody>\n",
       "    <tr>\n",
       "      <th>6</th>\n",
       "      <td>-38.416100</td>\n",
       "      <td>-63.616700</td>\n",
       "      <td>622934</td>\n",
       "      <td>Argentina</td>\n",
       "      <td>132058.0</td>\n",
       "      <td>478077</td>\n",
       "      <td>12799</td>\n",
       "      <td>-38.4161 -63.6167</td>\n",
       "    </tr>\n",
       "    <tr>\n",
       "      <th>54</th>\n",
       "      <td>-23.550500</td>\n",
       "      <td>-46.633300</td>\n",
       "      <td>931673</td>\n",
       "      <td>Sao Paulo, Brazil</td>\n",
       "      <td>117298.0</td>\n",
       "      <td>780448</td>\n",
       "      <td>33927</td>\n",
       "      <td>-23.5505 -46.6333</td>\n",
       "    </tr>\n",
       "    <tr>\n",
       "      <th>234</th>\n",
       "      <td>15.912900</td>\n",
       "      <td>79.740000</td>\n",
       "      <td>609558</td>\n",
       "      <td>Andhra Pradesh, India</td>\n",
       "      <td>84423.0</td>\n",
       "      <td>519891</td>\n",
       "      <td>5244</td>\n",
       "      <td>15.9129 79.74</td>\n",
       "    </tr>\n",
       "    <tr>\n",
       "      <th>253</th>\n",
       "      <td>19.449759</td>\n",
       "      <td>76.108221</td>\n",
       "      <td>1167496</td>\n",
       "      <td>Maharashtra, India</td>\n",
       "      <td>301273.0</td>\n",
       "      <td>834432</td>\n",
       "      <td>31791</td>\n",
       "      <td>19.449759 76.108221</td>\n",
       "    </tr>\n",
       "    <tr>\n",
       "      <th>574</th>\n",
       "      <td>-30.559500</td>\n",
       "      <td>22.937500</td>\n",
       "      <td>659656</td>\n",
       "      <td>South Africa</td>\n",
       "      <td>54282.0</td>\n",
       "      <td>589434</td>\n",
       "      <td>15940</td>\n",
       "      <td>-30.5595 22.9375</td>\n",
       "    </tr>\n",
       "  </tbody>\n",
       "</table>\n",
       "</div>"
      ],
      "text/plain": [
       "           Lat      Long_  Confirmed           Combined_Key    Active  \\\n",
       "6   -38.416100 -63.616700     622934              Argentina  132058.0   \n",
       "54  -23.550500 -46.633300     931673      Sao Paulo, Brazil  117298.0   \n",
       "234  15.912900  79.740000     609558  Andhra Pradesh, India   84423.0   \n",
       "253  19.449759  76.108221    1167496     Maharashtra, India  301273.0   \n",
       "574 -30.559500  22.937500     659656           South Africa   54282.0   \n",
       "\n",
       "     Recovered  Deaths           Coordinate  \n",
       "6       478077   12799    -38.4161 -63.6167  \n",
       "54      780448   33927    -23.5505 -46.6333  \n",
       "234     519891    5244        15.9129 79.74  \n",
       "253     834432   31791  19.449759 76.108221  \n",
       "574     589434   15940     -30.5595 22.9375  "
      ]
     },
     "execution_count": 59,
     "metadata": {},
     "output_type": "execute_result"
    }
   ],
   "source": [
    "lat_long_df2"
   ]
  },
  {
   "cell_type": "code",
   "execution_count": 60,
   "metadata": {},
   "outputs": [],
   "source": [
    "lat_long_df2 = lat_long_df2.sort_values(by=['Confirmed'],ascending=False)"
   ]
  },
  {
   "cell_type": "code",
   "execution_count": 61,
   "metadata": {},
   "outputs": [
    {
     "data": {
      "text/html": [
       "<div>\n",
       "<style scoped>\n",
       "    .dataframe tbody tr th:only-of-type {\n",
       "        vertical-align: middle;\n",
       "    }\n",
       "\n",
       "    .dataframe tbody tr th {\n",
       "        vertical-align: top;\n",
       "    }\n",
       "\n",
       "    .dataframe thead th {\n",
       "        text-align: right;\n",
       "    }\n",
       "</style>\n",
       "<table border=\"1\" class=\"dataframe\">\n",
       "  <thead>\n",
       "    <tr style=\"text-align: right;\">\n",
       "      <th></th>\n",
       "      <th>Lat</th>\n",
       "      <th>Long_</th>\n",
       "      <th>Confirmed</th>\n",
       "      <th>Combined_Key</th>\n",
       "      <th>Active</th>\n",
       "      <th>Recovered</th>\n",
       "      <th>Deaths</th>\n",
       "      <th>Coordinate</th>\n",
       "    </tr>\n",
       "  </thead>\n",
       "  <tbody>\n",
       "    <tr>\n",
       "      <th>253</th>\n",
       "      <td>19.449759</td>\n",
       "      <td>76.108221</td>\n",
       "      <td>1167496</td>\n",
       "      <td>Maharashtra, India</td>\n",
       "      <td>301273.0</td>\n",
       "      <td>834432</td>\n",
       "      <td>31791</td>\n",
       "      <td>19.449759 76.108221</td>\n",
       "    </tr>\n",
       "    <tr>\n",
       "      <th>54</th>\n",
       "      <td>-23.550500</td>\n",
       "      <td>-46.633300</td>\n",
       "      <td>931673</td>\n",
       "      <td>Sao Paulo, Brazil</td>\n",
       "      <td>117298.0</td>\n",
       "      <td>780448</td>\n",
       "      <td>33927</td>\n",
       "      <td>-23.5505 -46.6333</td>\n",
       "    </tr>\n",
       "    <tr>\n",
       "      <th>574</th>\n",
       "      <td>-30.559500</td>\n",
       "      <td>22.937500</td>\n",
       "      <td>659656</td>\n",
       "      <td>South Africa</td>\n",
       "      <td>54282.0</td>\n",
       "      <td>589434</td>\n",
       "      <td>15940</td>\n",
       "      <td>-30.5595 22.9375</td>\n",
       "    </tr>\n",
       "    <tr>\n",
       "      <th>6</th>\n",
       "      <td>-38.416100</td>\n",
       "      <td>-63.616700</td>\n",
       "      <td>622934</td>\n",
       "      <td>Argentina</td>\n",
       "      <td>132058.0</td>\n",
       "      <td>478077</td>\n",
       "      <td>12799</td>\n",
       "      <td>-38.4161 -63.6167</td>\n",
       "    </tr>\n",
       "    <tr>\n",
       "      <th>234</th>\n",
       "      <td>15.912900</td>\n",
       "      <td>79.740000</td>\n",
       "      <td>609558</td>\n",
       "      <td>Andhra Pradesh, India</td>\n",
       "      <td>84423.0</td>\n",
       "      <td>519891</td>\n",
       "      <td>5244</td>\n",
       "      <td>15.9129 79.74</td>\n",
       "    </tr>\n",
       "  </tbody>\n",
       "</table>\n",
       "</div>"
      ],
      "text/plain": [
       "           Lat      Long_  Confirmed           Combined_Key    Active  \\\n",
       "253  19.449759  76.108221    1167496     Maharashtra, India  301273.0   \n",
       "54  -23.550500 -46.633300     931673      Sao Paulo, Brazil  117298.0   \n",
       "574 -30.559500  22.937500     659656           South Africa   54282.0   \n",
       "6   -38.416100 -63.616700     622934              Argentina  132058.0   \n",
       "234  15.912900  79.740000     609558  Andhra Pradesh, India   84423.0   \n",
       "\n",
       "     Recovered  Deaths           Coordinate  \n",
       "253     834432   31791  19.449759 76.108221  \n",
       "54      780448   33927    -23.5505 -46.6333  \n",
       "574     589434   15940     -30.5595 22.9375  \n",
       "6       478077   12799    -38.4161 -63.6167  \n",
       "234     519891    5244        15.9129 79.74  "
      ]
     },
     "execution_count": 61,
     "metadata": {},
     "output_type": "execute_result"
    }
   ],
   "source": [
    "lat_long_df2"
   ]
  },
  {
   "cell_type": "code",
   "execution_count": 62,
   "metadata": {},
   "outputs": [
    {
     "data": {
      "image/png": "[encoded data removed]",
      "text/plain": [
       "<Figure size 432x288 with 1 Axes>"
      ]
     },
     "metadata": {
      "needs_background": "light"
     },
     "output_type": "display_data"
    }
   ],
   "source": [
    "fig = plt.figure()\n",
    "ax = fig.add_axes([0,0,2,2])\n",
    "ax.bar(lat_long_df2['Coordinate'], lat_long_df2['Confirmed'].sort_values(ascending=False))\n",
    "plt.title('Top 5 Coordinates With Confirmed Infection Cases',fontweight='bold')\n",
    "plt.xlabel('Lat-Long Coordinates',fontweight='bold')\n",
    "plt.ylabel('Number of Confirmed Cases',fontweight='bold')\n",
    "plt.show() "
   ]
  },
  {
   "cell_type": "code",
   "execution_count": 63,
   "metadata": {},
   "outputs": [
    {
     "data": {
      "image/png": "[encoded data removed]",
      "text/plain": [
       "<Figure size 432x288 with 1 Axes>"
      ]
     },
     "metadata": {
      "needs_background": "light"
     },
     "output_type": "display_data"
    }
   ],
   "source": [
    "fig = plt.figure()\n",
    "ax = fig.add_axes([0,0,2,2])\n",
    "ax.bar(lat_long_df2['Combined_Key'], lat_long_df2['Confirmed'].sort_values(ascending=False),color='orange')\n",
    "plt.title('Top 5 Locations With Confirmed Infection Cases',fontweight='bold')\n",
    "plt.xlabel('Location',fontweight='bold')\n",
    "plt.ylabel('Number of Confirmed Cases',fontweight='bold')\n",
    "plt.show() "
   ]
  },
  {
   "cell_type": "code",
   "execution_count": 64,
   "metadata": {},
   "outputs": [
    {
     "data": {
      "text/plain": [
       "([<matplotlib.patches.Wedge at 0x7f12e2519828>,\n",
       "  <matplotlib.patches.Wedge at 0x7f12e2502be0>,\n",
       "  <matplotlib.patches.Wedge at 0x7f12e28b96a0>,\n",
       "  <matplotlib.patches.Wedge at 0x7f12e28b9cf8>,\n",
       "  <matplotlib.patches.Wedge at 0x7f12e28b9f98>],\n",
       " [Text(0.66732597218006, 0.8744575729296065, ''),\n",
       "  Text(-0.9258663240574546, 0.5939457466607, ''),\n",
       "  Text(-0.8538288793517218, -0.6935245091451224, ''),\n",
       "  Text(0.13267315323938575, -1.0919697039797023, ''),\n",
       "  Text(0.9758024725564025, -0.5077494801108233, '')])"
      ]
     },
     "execution_count": 64,
     "metadata": {},
     "output_type": "execute_result"
    },
    {
     "data": {
      "image/png": "[encoded data removed]",
      "text/plain": [
       "<Figure size 432x288 with 1 Axes>"
      ]
     },
     "metadata": {},
     "output_type": "display_data"
    }
   ],
   "source": [
    "plt.pie(lat_long_df2['Confirmed'])"
   ]
  },
  {
   "cell_type": "code",
   "execution_count": 65,
   "metadata": {},
   "outputs": [],
   "source": [
    "#lat_long_df2['Coordinate_Conf'] = lat_long_df2[['Coordinate','Confirmed']].astype(str).apply(lambda x: ' , '.join(x), axis=1)\n",
    "\n",
    "#lat_long_df2['Combined_Conf'] = lat_long_df2[['Combined_Key','Confirmed']].astype(str).apply(lambda x: ' , '.join(x), axis=1)"
   ]
  },
  {
   "cell_type": "code",
   "execution_count": 66,
   "metadata": {},
   "outputs": [
    {
     "data": {
      "text/html": [
       "<div>\n",
       "<style scoped>\n",
       "    .dataframe tbody tr th:only-of-type {\n",
       "        vertical-align: middle;\n",
       "    }\n",
       "\n",
       "    .dataframe tbody tr th {\n",
       "        vertical-align: top;\n",
       "    }\n",
       "\n",
       "    .dataframe thead th {\n",
       "        text-align: right;\n",
       "    }\n",
       "</style>\n",
       "<table border=\"1\" class=\"dataframe\">\n",
       "  <thead>\n",
       "    <tr style=\"text-align: right;\">\n",
       "      <th></th>\n",
       "      <th>Lat</th>\n",
       "      <th>Long_</th>\n",
       "      <th>Confirmed</th>\n",
       "      <th>Combined_Key</th>\n",
       "      <th>Active</th>\n",
       "      <th>Recovered</th>\n",
       "      <th>Deaths</th>\n",
       "      <th>Coordinate</th>\n",
       "    </tr>\n",
       "  </thead>\n",
       "  <tbody>\n",
       "    <tr>\n",
       "      <th>253</th>\n",
       "      <td>19.449759</td>\n",
       "      <td>76.108221</td>\n",
       "      <td>1167496</td>\n",
       "      <td>Maharashtra, India</td>\n",
       "      <td>301273.0</td>\n",
       "      <td>834432</td>\n",
       "      <td>31791</td>\n",
       "      <td>19.449759 76.108221</td>\n",
       "    </tr>\n",
       "    <tr>\n",
       "      <th>54</th>\n",
       "      <td>-23.550500</td>\n",
       "      <td>-46.633300</td>\n",
       "      <td>931673</td>\n",
       "      <td>Sao Paulo, Brazil</td>\n",
       "      <td>117298.0</td>\n",
       "      <td>780448</td>\n",
       "      <td>33927</td>\n",
       "      <td>-23.5505 -46.6333</td>\n",
       "    </tr>\n",
       "    <tr>\n",
       "      <th>574</th>\n",
       "      <td>-30.559500</td>\n",
       "      <td>22.937500</td>\n",
       "      <td>659656</td>\n",
       "      <td>South Africa</td>\n",
       "      <td>54282.0</td>\n",
       "      <td>589434</td>\n",
       "      <td>15940</td>\n",
       "      <td>-30.5595 22.9375</td>\n",
       "    </tr>\n",
       "    <tr>\n",
       "      <th>6</th>\n",
       "      <td>-38.416100</td>\n",
       "      <td>-63.616700</td>\n",
       "      <td>622934</td>\n",
       "      <td>Argentina</td>\n",
       "      <td>132058.0</td>\n",
       "      <td>478077</td>\n",
       "      <td>12799</td>\n",
       "      <td>-38.4161 -63.6167</td>\n",
       "    </tr>\n",
       "    <tr>\n",
       "      <th>234</th>\n",
       "      <td>15.912900</td>\n",
       "      <td>79.740000</td>\n",
       "      <td>609558</td>\n",
       "      <td>Andhra Pradesh, India</td>\n",
       "      <td>84423.0</td>\n",
       "      <td>519891</td>\n",
       "      <td>5244</td>\n",
       "      <td>15.9129 79.74</td>\n",
       "    </tr>\n",
       "  </tbody>\n",
       "</table>\n",
       "</div>"
      ],
      "text/plain": [
       "           Lat      Long_  Confirmed           Combined_Key    Active  \\\n",
       "253  19.449759  76.108221    1167496     Maharashtra, India  301273.0   \n",
       "54  -23.550500 -46.633300     931673      Sao Paulo, Brazil  117298.0   \n",
       "574 -30.559500  22.937500     659656           South Africa   54282.0   \n",
       "6   -38.416100 -63.616700     622934              Argentina  132058.0   \n",
       "234  15.912900  79.740000     609558  Andhra Pradesh, India   84423.0   \n",
       "\n",
       "     Recovered  Deaths           Coordinate  \n",
       "253     834432   31791  19.449759 76.108221  \n",
       "54      780448   33927    -23.5505 -46.6333  \n",
       "574     589434   15940     -30.5595 22.9375  \n",
       "6       478077   12799    -38.4161 -63.6167  \n",
       "234     519891    5244        15.9129 79.74  "
      ]
     },
     "execution_count": 66,
     "metadata": {},
     "output_type": "execute_result"
    }
   ],
   "source": [
    "lat_long_df2"
   ]
  },
  {
   "cell_type": "code",
   "execution_count": 67,
   "metadata": {},
   "outputs": [
    {
     "data": {
      "text/plain": [
       "([<matplotlib.patches.Wedge at 0x7f12da78ad68>,\n",
       "  <matplotlib.patches.Wedge at 0x7f12da78a0f0>,\n",
       "  <matplotlib.patches.Wedge at 0x7f12da78af28>,\n",
       "  <matplotlib.patches.Wedge at 0x7f12da792c50>,\n",
       "  <matplotlib.patches.Wedge at 0x7f12da792358>],\n",
       " [Text(0.66732597218006, 0.8744575729296065, 'Argentina'),\n",
       "  Text(-0.9258663240574546, 0.5939457466607, 'Sao Paulo, Brazil'),\n",
       "  Text(-0.8538288793517218, -0.6935245091451224, 'Andhra Pradesh, India'),\n",
       "  Text(0.13267315323938575, -1.0919697039797023, 'Maharashtra, India'),\n",
       "  Text(0.9758024725564025, -0.5077494801108233, 'South Africa')])"
      ]
     },
     "execution_count": 67,
     "metadata": {},
     "output_type": "execute_result"
    },
    {
     "data": {
      "image/png": "[encoded data removed]",
      "text/plain": [
       "<Figure size 432x288 with 1 Axes>"
      ]
     },
     "metadata": {},
     "output_type": "display_data"
    }
   ],
   "source": [
    "plt.pie(x=lat_long_df2['Confirmed'],labels=['Argentina','Sao Paulo, Brazil','Andhra Pradesh, India','Maharashtra, India','South Africa'])"
   ]
  },
  {
   "cell_type": "code",
   "execution_count": 68,
   "metadata": {},
   "outputs": [
    {
     "data": {
      "text/html": [
       "<div>\n",
       "<style scoped>\n",
       "    .dataframe tbody tr th:only-of-type {\n",
       "        vertical-align: middle;\n",
       "    }\n",
       "\n",
       "    .dataframe tbody tr th {\n",
       "        vertical-align: top;\n",
       "    }\n",
       "\n",
       "    .dataframe thead th {\n",
       "        text-align: right;\n",
       "    }\n",
       "</style>\n",
       "<table border=\"1\" class=\"dataframe\">\n",
       "  <thead>\n",
       "    <tr style=\"text-align: right;\">\n",
       "      <th></th>\n",
       "      <th>age</th>\n",
       "      <th>sex</th>\n",
       "      <th>province</th>\n",
       "      <th>country</th>\n",
       "      <th>latitude</th>\n",
       "      <th>longitude</th>\n",
       "      <th>date_confirmation</th>\n",
       "      <th>additional_information</th>\n",
       "      <th>source</th>\n",
       "      <th>outcome</th>\n",
       "    </tr>\n",
       "  </thead>\n",
       "  <tbody>\n",
       "    <tr>\n",
       "      <th>0</th>\n",
       "      <td>NaN</td>\n",
       "      <td>NaN</td>\n",
       "      <td>Rajasthan</td>\n",
       "      <td>India</td>\n",
       "      <td>24.587000</td>\n",
       "      <td>73.69848</td>\n",
       "      <td>11.05.2020</td>\n",
       "      <td>NaN</td>\n",
       "      <td>https://t.me/indiacovid/4565</td>\n",
       "      <td>NaN</td>\n",
       "    </tr>\n",
       "    <tr>\n",
       "      <th>1</th>\n",
       "      <td>15-34</td>\n",
       "      <td>male</td>\n",
       "      <td>Bayern</td>\n",
       "      <td>Germany</td>\n",
       "      <td>49.993767</td>\n",
       "      <td>9.66288</td>\n",
       "      <td>09.04.2020</td>\n",
       "      <td>NaN</td>\n",
       "      <td>NaN</td>\n",
       "      <td>NaN</td>\n",
       "    </tr>\n",
       "    <tr>\n",
       "      <th>2</th>\n",
       "      <td>NaN</td>\n",
       "      <td>NaN</td>\n",
       "      <td>Maharashtra</td>\n",
       "      <td>India</td>\n",
       "      <td>19.200000</td>\n",
       "      <td>72.96667</td>\n",
       "      <td>23.05.2020</td>\n",
       "      <td>NaN</td>\n",
       "      <td>https://phdmah.maps.arcgis.com/apps/opsdashboa...</td>\n",
       "      <td>NaN</td>\n",
       "    </tr>\n",
       "    <tr>\n",
       "      <th>3</th>\n",
       "      <td>NaN</td>\n",
       "      <td>NaN</td>\n",
       "      <td>Madhya Pradesh</td>\n",
       "      <td>India</td>\n",
       "      <td>23.180870</td>\n",
       "      <td>75.78816</td>\n",
       "      <td>22.05.2020</td>\n",
       "      <td>NaN</td>\n",
       "      <td>https://twitter.com/JansamparkMP/status/126384...</td>\n",
       "      <td>NaN</td>\n",
       "    </tr>\n",
       "    <tr>\n",
       "      <th>4</th>\n",
       "      <td>56</td>\n",
       "      <td>female</td>\n",
       "      <td>Lima</td>\n",
       "      <td>Peru</td>\n",
       "      <td>-12.003950</td>\n",
       "      <td>-77.00695</td>\n",
       "      <td>19.04.2020</td>\n",
       "      <td>NaN</td>\n",
       "      <td>NaN</td>\n",
       "      <td>NaN</td>\n",
       "    </tr>\n",
       "    <tr>\n",
       "      <th>...</th>\n",
       "      <td>...</td>\n",
       "      <td>...</td>\n",
       "      <td>...</td>\n",
       "      <td>...</td>\n",
       "      <td>...</td>\n",
       "      <td>...</td>\n",
       "      <td>...</td>\n",
       "      <td>...</td>\n",
       "      <td>...</td>\n",
       "      <td>...</td>\n",
       "    </tr>\n",
       "    <tr>\n",
       "      <th>46495</th>\n",
       "      <td>22</td>\n",
       "      <td>female</td>\n",
       "      <td>Caaguazu</td>\n",
       "      <td>Paraguay</td>\n",
       "      <td>-25.468250</td>\n",
       "      <td>-56.01425</td>\n",
       "      <td>22.05.2020</td>\n",
       "      <td>NaN</td>\n",
       "      <td>NaN</td>\n",
       "      <td>NaN</td>\n",
       "    </tr>\n",
       "    <tr>\n",
       "      <th>46496</th>\n",
       "      <td>21</td>\n",
       "      <td>male</td>\n",
       "      <td>Lima</td>\n",
       "      <td>Peru</td>\n",
       "      <td>-12.043180</td>\n",
       "      <td>-77.02824</td>\n",
       "      <td>04.05.2020</td>\n",
       "      <td>NaN</td>\n",
       "      <td>NaN</td>\n",
       "      <td>NaN</td>\n",
       "    </tr>\n",
       "    <tr>\n",
       "      <th>46497</th>\n",
       "      <td>73</td>\n",
       "      <td>male</td>\n",
       "      <td>Karnataka</td>\n",
       "      <td>India</td>\n",
       "      <td>14.029390</td>\n",
       "      <td>74.97440</td>\n",
       "      <td>02.04.2020</td>\n",
       "      <td>Travelled to Delhi,</td>\n",
       "      <td>https://twitter.com/ANI/status/124564120884981...</td>\n",
       "      <td>NaN</td>\n",
       "    </tr>\n",
       "    <tr>\n",
       "      <th>46498</th>\n",
       "      <td>33</td>\n",
       "      <td>female</td>\n",
       "      <td>Lima</td>\n",
       "      <td>Peru</td>\n",
       "      <td>-11.932980</td>\n",
       "      <td>-77.04085</td>\n",
       "      <td>22.04.2020</td>\n",
       "      <td>NaN</td>\n",
       "      <td>NaN</td>\n",
       "      <td>NaN</td>\n",
       "    </tr>\n",
       "    <tr>\n",
       "      <th>46499</th>\n",
       "      <td>26</td>\n",
       "      <td>male</td>\n",
       "      <td>Tamil Nadu</td>\n",
       "      <td>India</td>\n",
       "      <td>13.083620</td>\n",
       "      <td>80.28252</td>\n",
       "      <td>10.05.2020</td>\n",
       "      <td>NaN</td>\n",
       "      <td>https://stopcorona.tn.gov.in/wp-content/upload...</td>\n",
       "      <td>NaN</td>\n",
       "    </tr>\n",
       "  </tbody>\n",
       "</table>\n",
       "<p>46500 rows × 10 columns</p>\n",
       "</div>"
      ],
      "text/plain": [
       "         age     sex        province   country   latitude  longitude  \\\n",
       "0        NaN     NaN       Rajasthan     India  24.587000   73.69848   \n",
       "1      15-34    male          Bayern   Germany  49.993767    9.66288   \n",
       "2        NaN     NaN     Maharashtra     India  19.200000   72.96667   \n",
       "3        NaN     NaN  Madhya Pradesh     India  23.180870   75.78816   \n",
       "4         56  female            Lima      Peru -12.003950  -77.00695   \n",
       "...      ...     ...             ...       ...        ...        ...   \n",
       "46495     22  female        Caaguazu  Paraguay -25.468250  -56.01425   \n",
       "46496     21    male            Lima      Peru -12.043180  -77.02824   \n",
       "46497     73    male       Karnataka     India  14.029390   74.97440   \n",
       "46498     33  female            Lima      Peru -11.932980  -77.04085   \n",
       "46499     26    male      Tamil Nadu     India  13.083620   80.28252   \n",
       "\n",
       "      date_confirmation additional_information  \\\n",
       "0            11.05.2020                    NaN   \n",
       "1            09.04.2020                    NaN   \n",
       "2            23.05.2020                    NaN   \n",
       "3            22.05.2020                    NaN   \n",
       "4            19.04.2020                    NaN   \n",
       "...                 ...                    ...   \n",
       "46495        22.05.2020                    NaN   \n",
       "46496        04.05.2020                    NaN   \n",
       "46497        02.04.2020    Travelled to Delhi,   \n",
       "46498        22.04.2020                    NaN   \n",
       "46499        10.05.2020                    NaN   \n",
       "\n",
       "                                                  source  outcome  \n",
       "0                           https://t.me/indiacovid/4565      NaN  \n",
       "1                                                    NaN      NaN  \n",
       "2      https://phdmah.maps.arcgis.com/apps/opsdashboa...      NaN  \n",
       "3      https://twitter.com/JansamparkMP/status/126384...      NaN  \n",
       "4                                                    NaN      NaN  \n",
       "...                                                  ...      ...  \n",
       "46495                                                NaN      NaN  \n",
       "46496                                                NaN      NaN  \n",
       "46497  https://twitter.com/ANI/status/124564120884981...      NaN  \n",
       "46498                                                NaN      NaN  \n",
       "46499  https://stopcorona.tn.gov.in/wp-content/upload...      NaN  \n",
       "\n",
       "[46500 rows x 10 columns]"
      ]
     },
     "execution_count": 68,
     "metadata": {},
     "output_type": "execute_result"
    }
   ],
   "source": [
    "test_data"
   ]
  },
  {
   "cell_type": "code",
   "execution_count": 69,
   "metadata": {},
   "outputs": [
    {
     "data": {
      "text/html": [
       "<div>\n",
       "<style scoped>\n",
       "    .dataframe tbody tr th:only-of-type {\n",
       "        vertical-align: middle;\n",
       "    }\n",
       "\n",
       "    .dataframe tbody tr th {\n",
       "        vertical-align: top;\n",
       "    }\n",
       "\n",
       "    .dataframe thead th {\n",
       "        text-align: right;\n",
       "    }\n",
       "</style>\n",
       "<table border=\"1\" class=\"dataframe\">\n",
       "  <thead>\n",
       "    <tr style=\"text-align: right;\">\n",
       "      <th></th>\n",
       "      <th>Lat</th>\n",
       "      <th>Long_</th>\n",
       "      <th>Confirmed</th>\n",
       "      <th>Combined_Key</th>\n",
       "      <th>Active</th>\n",
       "      <th>Recovered</th>\n",
       "      <th>Deaths</th>\n",
       "      <th>Coordinate</th>\n",
       "    </tr>\n",
       "  </thead>\n",
       "  <tbody>\n",
       "    <tr>\n",
       "      <th>253</th>\n",
       "      <td>19.449759</td>\n",
       "      <td>76.108221</td>\n",
       "      <td>1167496</td>\n",
       "      <td>Maharashtra, India</td>\n",
       "      <td>301273.0</td>\n",
       "      <td>834432</td>\n",
       "      <td>31791</td>\n",
       "      <td>19.449759 76.108221</td>\n",
       "    </tr>\n",
       "    <tr>\n",
       "      <th>54</th>\n",
       "      <td>-23.550500</td>\n",
       "      <td>-46.633300</td>\n",
       "      <td>931673</td>\n",
       "      <td>Sao Paulo, Brazil</td>\n",
       "      <td>117298.0</td>\n",
       "      <td>780448</td>\n",
       "      <td>33927</td>\n",
       "      <td>-23.5505 -46.6333</td>\n",
       "    </tr>\n",
       "    <tr>\n",
       "      <th>574</th>\n",
       "      <td>-30.559500</td>\n",
       "      <td>22.937500</td>\n",
       "      <td>659656</td>\n",
       "      <td>South Africa</td>\n",
       "      <td>54282.0</td>\n",
       "      <td>589434</td>\n",
       "      <td>15940</td>\n",
       "      <td>-30.5595 22.9375</td>\n",
       "    </tr>\n",
       "    <tr>\n",
       "      <th>6</th>\n",
       "      <td>-38.416100</td>\n",
       "      <td>-63.616700</td>\n",
       "      <td>622934</td>\n",
       "      <td>Argentina</td>\n",
       "      <td>132058.0</td>\n",
       "      <td>478077</td>\n",
       "      <td>12799</td>\n",
       "      <td>-38.4161 -63.6167</td>\n",
       "    </tr>\n",
       "    <tr>\n",
       "      <th>234</th>\n",
       "      <td>15.912900</td>\n",
       "      <td>79.740000</td>\n",
       "      <td>609558</td>\n",
       "      <td>Andhra Pradesh, India</td>\n",
       "      <td>84423.0</td>\n",
       "      <td>519891</td>\n",
       "      <td>5244</td>\n",
       "      <td>15.9129 79.74</td>\n",
       "    </tr>\n",
       "  </tbody>\n",
       "</table>\n",
       "</div>"
      ],
      "text/plain": [
       "           Lat      Long_  Confirmed           Combined_Key    Active  \\\n",
       "253  19.449759  76.108221    1167496     Maharashtra, India  301273.0   \n",
       "54  -23.550500 -46.633300     931673      Sao Paulo, Brazil  117298.0   \n",
       "574 -30.559500  22.937500     659656           South Africa   54282.0   \n",
       "6   -38.416100 -63.616700     622934              Argentina  132058.0   \n",
       "234  15.912900  79.740000     609558  Andhra Pradesh, India   84423.0   \n",
       "\n",
       "     Recovered  Deaths           Coordinate  \n",
       "253     834432   31791  19.449759 76.108221  \n",
       "54      780448   33927    -23.5505 -46.6333  \n",
       "574     589434   15940     -30.5595 22.9375  \n",
       "6       478077   12799    -38.4161 -63.6167  \n",
       "234     519891    5244        15.9129 79.74  "
      ]
     },
     "execution_count": 69,
     "metadata": {},
     "output_type": "execute_result"
    }
   ],
   "source": [
    "lat_long_df2"
   ]
  },
  {
   "cell_type": "code",
   "execution_count": 70,
   "metadata": {},
   "outputs": [],
   "source": [
    "#lat_long_df2 = lat_long_df2.sort_values(by=['Confirmed'],ascending=False)"
   ]
  },
  {
   "cell_type": "code",
   "execution_count": 71,
   "metadata": {},
   "outputs": [
    {
     "data": {
      "image/png": "[encoded data removed]",
      "text/plain": [
       "<Figure size 432x288 with 1 Axes>"
      ]
     },
     "metadata": {
      "needs_background": "light"
     },
     "output_type": "display_data"
    }
   ],
   "source": [
    "N=5\n",
    "ind = np.arange(N)\n",
    "width=0\n",
    "\n",
    "fig = plt.figure()\n",
    "ax = fig.add_axes([0,0,2,2])\n",
    "ax.bar(lat_long_df2['Combined_Key'], lat_long_df2['Confirmed'],color='b',label='Confirmed',align='center')\n",
    "ax.bar(lat_long_df2['Combined_Key'], lat_long_df2['Recovered'],color='purple',label='Recovered',align='center')\n",
    "ax.bar(lat_long_df2['Combined_Key'], lat_long_df2['Active'],color='turquoise',label='Active',align='center')\n",
    "ax.bar(lat_long_df2['Combined_Key'], lat_long_df2['Deaths'],color='r',label='Deaths',align='center')\n",
    "plt.title('Top 5 Locations With Confirmed Infection Cases (Including Active, Recovered and Death Cases)',fontweight='bold')\n",
    "plt.xlabel('Location',fontweight='bold')\n",
    "plt.ylabel('Number of Confirmed Cases',fontweight='bold')\n",
    "\n",
    "plt.xticks(ind+width/2)\n",
    "plt.legend(loc='best')\n",
    "plt.show() "
   ]
  },
  {
   "cell_type": "code",
   "execution_count": 72,
   "metadata": {
    "scrolled": true
   },
   "outputs": [
    {
     "data": {
      "image/png": "[encoded data removed]",
      "text/plain": [
       "<Figure size 432x288 with 1 Axes>"
      ]
     },
     "metadata": {
      "needs_background": "light"
     },
     "output_type": "display_data"
    }
   ],
   "source": [
    "N=5\n",
    "ind = np.arange(N)\n",
    "width=0\n",
    "\n",
    "fig = plt.figure()\n",
    "ax = fig.add_axes([0,0,2,2])\n",
    "ax.bar(lat_long_df2['Combined_Key'], lat_long_df2['Confirmed'],color='b',label='Confirmed',align='center')\n",
    "ax.bar(lat_long_df2['Combined_Key'], lat_long_df2['Active'],color='r',label='Active',align='center')\n",
    "plt.title('Top 5 Locations With Confirmed Infection Cases (Including Active Cases)',fontweight='bold')\n",
    "plt.xlabel('Location',fontweight='bold')\n",
    "plt.ylabel('Number of Confirmed Cases',fontweight='bold')\n",
    "\n",
    "plt.xticks(ind+width/2)\n",
    "plt.legend(loc='best')\n",
    "plt.show() "
   ]
  },
  {
   "cell_type": "code",
   "execution_count": 73,
   "metadata": {},
   "outputs": [],
   "source": [
    "train_data4 = pd.DataFrame(train_data, columns=['sex', 'outcome'])\n",
    "\n",
    "train_data5 = pd.DataFrame(train_data, columns=['sex', 'outcome'])"
   ]
  },
  {
   "cell_type": "code",
   "execution_count": 74,
   "metadata": {},
   "outputs": [
    {
     "data": {
      "text/plain": [
       "male      88635\n",
       "female    71917\n",
       "Name: sex, dtype: int64"
      ]
     },
     "execution_count": 74,
     "metadata": {},
     "output_type": "execute_result"
    }
   ],
   "source": [
    "train_data['sex'].value_counts()"
   ]
  },
  {
   "cell_type": "code",
   "execution_count": 75,
   "metadata": {},
   "outputs": [
    {
     "data": {
      "text/html": [
       "<div>\n",
       "<style scoped>\n",
       "    .dataframe tbody tr th:only-of-type {\n",
       "        vertical-align: middle;\n",
       "    }\n",
       "\n",
       "    .dataframe tbody tr th {\n",
       "        vertical-align: top;\n",
       "    }\n",
       "\n",
       "    .dataframe thead th {\n",
       "        text-align: right;\n",
       "    }\n",
       "</style>\n",
       "<table border=\"1\" class=\"dataframe\">\n",
       "  <thead>\n",
       "    <tr style=\"text-align: right;\">\n",
       "      <th></th>\n",
       "      <th>sex</th>\n",
       "      <th>outcome</th>\n",
       "    </tr>\n",
       "  </thead>\n",
       "  <tbody>\n",
       "    <tr>\n",
       "      <th>0</th>\n",
       "      <td>NaN</td>\n",
       "      <td>recovered</td>\n",
       "    </tr>\n",
       "    <tr>\n",
       "      <th>1</th>\n",
       "      <td>NaN</td>\n",
       "      <td>hospitalized</td>\n",
       "    </tr>\n",
       "    <tr>\n",
       "      <th>2</th>\n",
       "      <td>NaN</td>\n",
       "      <td>hospitalized</td>\n",
       "    </tr>\n",
       "    <tr>\n",
       "      <th>3</th>\n",
       "      <td>female</td>\n",
       "      <td>nonhospitalized</td>\n",
       "    </tr>\n",
       "    <tr>\n",
       "      <th>4</th>\n",
       "      <td>NaN</td>\n",
       "      <td>hospitalized</td>\n",
       "    </tr>\n",
       "    <tr>\n",
       "      <th>...</th>\n",
       "      <td>...</td>\n",
       "      <td>...</td>\n",
       "    </tr>\n",
       "    <tr>\n",
       "      <th>367631</th>\n",
       "      <td>male</td>\n",
       "      <td>nonhospitalized</td>\n",
       "    </tr>\n",
       "    <tr>\n",
       "      <th>367632</th>\n",
       "      <td>NaN</td>\n",
       "      <td>hospitalized</td>\n",
       "    </tr>\n",
       "    <tr>\n",
       "      <th>367633</th>\n",
       "      <td>NaN</td>\n",
       "      <td>hospitalized</td>\n",
       "    </tr>\n",
       "    <tr>\n",
       "      <th>367634</th>\n",
       "      <td>female</td>\n",
       "      <td>recovered</td>\n",
       "    </tr>\n",
       "    <tr>\n",
       "      <th>367635</th>\n",
       "      <td>female</td>\n",
       "      <td>nonhospitalized</td>\n",
       "    </tr>\n",
       "  </tbody>\n",
       "</table>\n",
       "<p>367636 rows × 2 columns</p>\n",
       "</div>"
      ],
      "text/plain": [
       "           sex          outcome\n",
       "0          NaN        recovered\n",
       "1          NaN     hospitalized\n",
       "2          NaN     hospitalized\n",
       "3       female  nonhospitalized\n",
       "4          NaN     hospitalized\n",
       "...        ...              ...\n",
       "367631    male  nonhospitalized\n",
       "367632     NaN     hospitalized\n",
       "367633     NaN     hospitalized\n",
       "367634  female        recovered\n",
       "367635  female  nonhospitalized\n",
       "\n",
       "[367636 rows x 2 columns]"
      ]
     },
     "execution_count": 75,
     "metadata": {},
     "output_type": "execute_result"
    }
   ],
   "source": [
    "train_data4"
   ]
  },
  {
   "cell_type": "code",
   "execution_count": 76,
   "metadata": {},
   "outputs": [],
   "source": [
    "plt_values5 = train_data4['sex']\n",
    "to_remove5 = plt_values5[plt_values5 == 'female']\n",
    "train_data4 = train_data4[~train_data4.sex.isin(to_remove5)]"
   ]
  },
  {
   "cell_type": "code",
   "execution_count": 77,
   "metadata": {},
   "outputs": [],
   "source": [
    "plt_values6 = train_data5['sex']\n",
    "to_remove6 = plt_values6[plt_values6 == 'male']\n",
    "train_data5 = train_data5[~train_data5.sex.isin(to_remove6)]"
   ]
  },
  {
   "cell_type": "code",
   "execution_count": 78,
   "metadata": {},
   "outputs": [
    {
     "data": {
      "text/html": [
       "<div>\n",
       "<style scoped>\n",
       "    .dataframe tbody tr th:only-of-type {\n",
       "        vertical-align: middle;\n",
       "    }\n",
       "\n",
       "    .dataframe tbody tr th {\n",
       "        vertical-align: top;\n",
       "    }\n",
       "\n",
       "    .dataframe thead th {\n",
       "        text-align: right;\n",
       "    }\n",
       "</style>\n",
       "<table border=\"1\" class=\"dataframe\">\n",
       "  <thead>\n",
       "    <tr style=\"text-align: right;\">\n",
       "      <th></th>\n",
       "      <th>sex</th>\n",
       "      <th>outcome</th>\n",
       "    </tr>\n",
       "  </thead>\n",
       "  <tbody>\n",
       "    <tr>\n",
       "      <th>7</th>\n",
       "      <td>male</td>\n",
       "      <td>nonhospitalized</td>\n",
       "    </tr>\n",
       "    <tr>\n",
       "      <th>16</th>\n",
       "      <td>male</td>\n",
       "      <td>hospitalized</td>\n",
       "    </tr>\n",
       "    <tr>\n",
       "      <th>18</th>\n",
       "      <td>male</td>\n",
       "      <td>nonhospitalized</td>\n",
       "    </tr>\n",
       "    <tr>\n",
       "      <th>20</th>\n",
       "      <td>male</td>\n",
       "      <td>nonhospitalized</td>\n",
       "    </tr>\n",
       "    <tr>\n",
       "      <th>29</th>\n",
       "      <td>male</td>\n",
       "      <td>nonhospitalized</td>\n",
       "    </tr>\n",
       "    <tr>\n",
       "      <th>...</th>\n",
       "      <td>...</td>\n",
       "      <td>...</td>\n",
       "    </tr>\n",
       "    <tr>\n",
       "      <th>367603</th>\n",
       "      <td>male</td>\n",
       "      <td>nonhospitalized</td>\n",
       "    </tr>\n",
       "    <tr>\n",
       "      <th>367604</th>\n",
       "      <td>male</td>\n",
       "      <td>nonhospitalized</td>\n",
       "    </tr>\n",
       "    <tr>\n",
       "      <th>367618</th>\n",
       "      <td>male</td>\n",
       "      <td>hospitalized</td>\n",
       "    </tr>\n",
       "    <tr>\n",
       "      <th>367623</th>\n",
       "      <td>male</td>\n",
       "      <td>hospitalized</td>\n",
       "    </tr>\n",
       "    <tr>\n",
       "      <th>367631</th>\n",
       "      <td>male</td>\n",
       "      <td>nonhospitalized</td>\n",
       "    </tr>\n",
       "  </tbody>\n",
       "</table>\n",
       "<p>88635 rows × 2 columns</p>\n",
       "</div>"
      ],
      "text/plain": [
       "         sex          outcome\n",
       "7       male  nonhospitalized\n",
       "16      male     hospitalized\n",
       "18      male  nonhospitalized\n",
       "20      male  nonhospitalized\n",
       "29      male  nonhospitalized\n",
       "...      ...              ...\n",
       "367603  male  nonhospitalized\n",
       "367604  male  nonhospitalized\n",
       "367618  male     hospitalized\n",
       "367623  male     hospitalized\n",
       "367631  male  nonhospitalized\n",
       "\n",
       "[88635 rows x 2 columns]"
      ]
     },
     "execution_count": 78,
     "metadata": {},
     "output_type": "execute_result"
    }
   ],
   "source": [
    "train_data4.dropna()"
   ]
  },
  {
   "cell_type": "code",
   "execution_count": 79,
   "metadata": {},
   "outputs": [
    {
     "data": {
      "text/html": [
       "<div>\n",
       "<style scoped>\n",
       "    .dataframe tbody tr th:only-of-type {\n",
       "        vertical-align: middle;\n",
       "    }\n",
       "\n",
       "    .dataframe tbody tr th {\n",
       "        vertical-align: top;\n",
       "    }\n",
       "\n",
       "    .dataframe thead th {\n",
       "        text-align: right;\n",
       "    }\n",
       "</style>\n",
       "<table border=\"1\" class=\"dataframe\">\n",
       "  <thead>\n",
       "    <tr style=\"text-align: right;\">\n",
       "      <th></th>\n",
       "      <th>sex</th>\n",
       "      <th>outcome</th>\n",
       "    </tr>\n",
       "  </thead>\n",
       "  <tbody>\n",
       "    <tr>\n",
       "      <th>0</th>\n",
       "      <td>NaN</td>\n",
       "      <td>recovered</td>\n",
       "    </tr>\n",
       "    <tr>\n",
       "      <th>1</th>\n",
       "      <td>NaN</td>\n",
       "      <td>hospitalized</td>\n",
       "    </tr>\n",
       "    <tr>\n",
       "      <th>2</th>\n",
       "      <td>NaN</td>\n",
       "      <td>hospitalized</td>\n",
       "    </tr>\n",
       "    <tr>\n",
       "      <th>3</th>\n",
       "      <td>female</td>\n",
       "      <td>nonhospitalized</td>\n",
       "    </tr>\n",
       "    <tr>\n",
       "      <th>4</th>\n",
       "      <td>NaN</td>\n",
       "      <td>hospitalized</td>\n",
       "    </tr>\n",
       "    <tr>\n",
       "      <th>...</th>\n",
       "      <td>...</td>\n",
       "      <td>...</td>\n",
       "    </tr>\n",
       "    <tr>\n",
       "      <th>367630</th>\n",
       "      <td>NaN</td>\n",
       "      <td>recovered</td>\n",
       "    </tr>\n",
       "    <tr>\n",
       "      <th>367632</th>\n",
       "      <td>NaN</td>\n",
       "      <td>hospitalized</td>\n",
       "    </tr>\n",
       "    <tr>\n",
       "      <th>367633</th>\n",
       "      <td>NaN</td>\n",
       "      <td>hospitalized</td>\n",
       "    </tr>\n",
       "    <tr>\n",
       "      <th>367634</th>\n",
       "      <td>female</td>\n",
       "      <td>recovered</td>\n",
       "    </tr>\n",
       "    <tr>\n",
       "      <th>367635</th>\n",
       "      <td>female</td>\n",
       "      <td>nonhospitalized</td>\n",
       "    </tr>\n",
       "  </tbody>\n",
       "</table>\n",
       "<p>279001 rows × 2 columns</p>\n",
       "</div>"
      ],
      "text/plain": [
       "           sex          outcome\n",
       "0          NaN        recovered\n",
       "1          NaN     hospitalized\n",
       "2          NaN     hospitalized\n",
       "3       female  nonhospitalized\n",
       "4          NaN     hospitalized\n",
       "...        ...              ...\n",
       "367630     NaN        recovered\n",
       "367632     NaN     hospitalized\n",
       "367633     NaN     hospitalized\n",
       "367634  female        recovered\n",
       "367635  female  nonhospitalized\n",
       "\n",
       "[279001 rows x 2 columns]"
      ]
     },
     "execution_count": 79,
     "metadata": {},
     "output_type": "execute_result"
    }
   ],
   "source": [
    "train_data5"
   ]
  },
  {
   "cell_type": "code",
   "execution_count": 80,
   "metadata": {},
   "outputs": [
    {
     "data": {
      "text/html": [
       "<div>\n",
       "<style scoped>\n",
       "    .dataframe tbody tr th:only-of-type {\n",
       "        vertical-align: middle;\n",
       "    }\n",
       "\n",
       "    .dataframe tbody tr th {\n",
       "        vertical-align: top;\n",
       "    }\n",
       "\n",
       "    .dataframe thead th {\n",
       "        text-align: right;\n",
       "    }\n",
       "</style>\n",
       "<table border=\"1\" class=\"dataframe\">\n",
       "  <thead>\n",
       "    <tr style=\"text-align: right;\">\n",
       "      <th></th>\n",
       "      <th>sex</th>\n",
       "      <th>outcome</th>\n",
       "    </tr>\n",
       "  </thead>\n",
       "  <tbody>\n",
       "    <tr>\n",
       "      <th>3</th>\n",
       "      <td>female</td>\n",
       "      <td>nonhospitalized</td>\n",
       "    </tr>\n",
       "    <tr>\n",
       "      <th>10</th>\n",
       "      <td>female</td>\n",
       "      <td>nonhospitalized</td>\n",
       "    </tr>\n",
       "    <tr>\n",
       "      <th>25</th>\n",
       "      <td>female</td>\n",
       "      <td>nonhospitalized</td>\n",
       "    </tr>\n",
       "    <tr>\n",
       "      <th>30</th>\n",
       "      <td>female</td>\n",
       "      <td>nonhospitalized</td>\n",
       "    </tr>\n",
       "    <tr>\n",
       "      <th>31</th>\n",
       "      <td>female</td>\n",
       "      <td>nonhospitalized</td>\n",
       "    </tr>\n",
       "    <tr>\n",
       "      <th>...</th>\n",
       "      <td>...</td>\n",
       "      <td>...</td>\n",
       "    </tr>\n",
       "    <tr>\n",
       "      <th>367619</th>\n",
       "      <td>female</td>\n",
       "      <td>nonhospitalized</td>\n",
       "    </tr>\n",
       "    <tr>\n",
       "      <th>367626</th>\n",
       "      <td>female</td>\n",
       "      <td>nonhospitalized</td>\n",
       "    </tr>\n",
       "    <tr>\n",
       "      <th>367627</th>\n",
       "      <td>female</td>\n",
       "      <td>nonhospitalized</td>\n",
       "    </tr>\n",
       "    <tr>\n",
       "      <th>367634</th>\n",
       "      <td>female</td>\n",
       "      <td>recovered</td>\n",
       "    </tr>\n",
       "    <tr>\n",
       "      <th>367635</th>\n",
       "      <td>female</td>\n",
       "      <td>nonhospitalized</td>\n",
       "    </tr>\n",
       "  </tbody>\n",
       "</table>\n",
       "<p>71917 rows × 2 columns</p>\n",
       "</div>"
      ],
      "text/plain": [
       "           sex          outcome\n",
       "3       female  nonhospitalized\n",
       "10      female  nonhospitalized\n",
       "25      female  nonhospitalized\n",
       "30      female  nonhospitalized\n",
       "31      female  nonhospitalized\n",
       "...        ...              ...\n",
       "367619  female  nonhospitalized\n",
       "367626  female  nonhospitalized\n",
       "367627  female  nonhospitalized\n",
       "367634  female        recovered\n",
       "367635  female  nonhospitalized\n",
       "\n",
       "[71917 rows x 2 columns]"
      ]
     },
     "execution_count": 80,
     "metadata": {},
     "output_type": "execute_result"
    }
   ],
   "source": [
    "train_data5.dropna()"
   ]
  },
  {
   "cell_type": "code",
   "execution_count": 81,
   "metadata": {
    "scrolled": true
   },
   "outputs": [
    {
     "data": {
      "text/plain": [
       "male    88635\n",
       "Name: sex, dtype: int64"
      ]
     },
     "execution_count": 81,
     "metadata": {},
     "output_type": "execute_result"
    }
   ],
   "source": [
    "train_data4['sex'].value_counts()"
   ]
  },
  {
   "cell_type": "code",
   "execution_count": 82,
   "metadata": {},
   "outputs": [
    {
     "data": {
      "text/plain": [
       "female    71917\n",
       "Name: sex, dtype: int64"
      ]
     },
     "execution_count": 82,
     "metadata": {},
     "output_type": "execute_result"
    }
   ],
   "source": [
    "train_data5['sex'].dropna().value_counts()"
   ]
  },
  {
   "cell_type": "code",
   "execution_count": 83,
   "metadata": {},
   "outputs": [
    {
     "data": {
      "image/png": "[encoded data removed]",
      "text/plain": [
       "<Figure size 432x288 with 1 Axes>"
      ]
     },
     "metadata": {
      "needs_background": "light"
     },
     "output_type": "display_data"
    }
   ],
   "source": [
    "fig = plt.figure()\n",
    "ax = fig.add_axes([0,0,2,2])\n",
    "ax.bar(train_data4['outcome'].value_counts().keys(), train_data4['outcome'].dropna().value_counts(),label='male',color='black')\n",
    "ax.bar(train_data5['outcome'].value_counts().keys(), train_data5['outcome'].dropna().value_counts(),label='female',color='violet')\n",
    "plt.title('Outcome after Infection (Male Vs. Female)',fontweight='bold')\n",
    "plt.xlabel('Result',fontweight='bold')\n",
    "plt.ylabel('Number of Cases',fontweight='bold')\n",
    "plt.legend(loc='best')\n",
    "plt.show() "
   ]
  },
  {
   "cell_type": "code",
   "execution_count": 84,
   "metadata": {},
   "outputs": [
    {
     "data": {
      "text/plain": [
       "male    88635\n",
       "Name: sex, dtype: int64"
      ]
     },
     "execution_count": 84,
     "metadata": {},
     "output_type": "execute_result"
    }
   ],
   "source": [
    "train_data4['sex'].value_counts()"
   ]
  },
  {
   "cell_type": "code",
   "execution_count": 85,
   "metadata": {},
   "outputs": [
    {
     "data": {
      "text/plain": [
       "([<matplotlib.patches.Wedge at 0x7f12e25a1780>,\n",
       "  <matplotlib.patches.Wedge at 0x7f12e25bd438>],\n",
       " [Text(-0.17911951335402485, 1.0853184785747534, 'male'),\n",
       "  Text(0.17911951335402468, -1.0853184785747534, 'female')])"
      ]
     },
     "execution_count": 85,
     "metadata": {},
     "output_type": "execute_result"
    },
    {
     "data": {
      "image/png": "[encoded data removed]",
      "text/plain": [
       "<Figure size 432x288 with 1 Axes>"
      ]
     },
     "metadata": {},
     "output_type": "display_data"
    }
   ],
   "source": [
    "plt.pie(x=train_data['sex'].dropna().value_counts(),labels=['male','female'])"
   ]
  },
  {
   "cell_type": "code",
   "execution_count": 86,
   "metadata": {},
   "outputs": [
    {
     "data": {
      "text/plain": [
       "35-59      10785\n",
       "15-34       8314\n",
       "60-79       7271\n",
       "80+         4383\n",
       "31.0        1697\n",
       "           ...  \n",
       "50-69          1\n",
       "37-38          1\n",
       "5 month        1\n",
       "17-65          1\n",
       "74-76          1\n",
       "Name: age, Length: 337, dtype: int64"
      ]
     },
     "execution_count": 86,
     "metadata": {},
     "output_type": "execute_result"
    }
   ],
   "source": [
    "#train_data['age'].dropna().value_counts()\n",
    "train_data['age'].dropna().value_counts()"
   ]
  },
  {
   "cell_type": "code",
   "execution_count": 87,
   "metadata": {},
   "outputs": [],
   "source": [
    "train_data6 = pd.DataFrame(train_data, columns=['age', 'outcome'])"
   ]
  },
  {
   "cell_type": "code",
   "execution_count": 88,
   "metadata": {},
   "outputs": [
    {
     "data": {
      "text/html": [
       "<div>\n",
       "<style scoped>\n",
       "    .dataframe tbody tr th:only-of-type {\n",
       "        vertical-align: middle;\n",
       "    }\n",
       "\n",
       "    .dataframe tbody tr th {\n",
       "        vertical-align: top;\n",
       "    }\n",
       "\n",
       "    .dataframe thead th {\n",
       "        text-align: right;\n",
       "    }\n",
       "</style>\n",
       "<table border=\"1\" class=\"dataframe\">\n",
       "  <thead>\n",
       "    <tr style=\"text-align: right;\">\n",
       "      <th></th>\n",
       "      <th>age</th>\n",
       "      <th>outcome</th>\n",
       "    </tr>\n",
       "  </thead>\n",
       "  <tbody>\n",
       "    <tr>\n",
       "      <th>0</th>\n",
       "      <td>NaN</td>\n",
       "      <td>recovered</td>\n",
       "    </tr>\n",
       "    <tr>\n",
       "      <th>1</th>\n",
       "      <td>NaN</td>\n",
       "      <td>hospitalized</td>\n",
       "    </tr>\n",
       "    <tr>\n",
       "      <th>2</th>\n",
       "      <td>NaN</td>\n",
       "      <td>hospitalized</td>\n",
       "    </tr>\n",
       "    <tr>\n",
       "      <th>3</th>\n",
       "      <td>15-34</td>\n",
       "      <td>nonhospitalized</td>\n",
       "    </tr>\n",
       "    <tr>\n",
       "      <th>4</th>\n",
       "      <td>NaN</td>\n",
       "      <td>hospitalized</td>\n",
       "    </tr>\n",
       "    <tr>\n",
       "      <th>...</th>\n",
       "      <td>...</td>\n",
       "      <td>...</td>\n",
       "    </tr>\n",
       "    <tr>\n",
       "      <th>367631</th>\n",
       "      <td>15.0</td>\n",
       "      <td>nonhospitalized</td>\n",
       "    </tr>\n",
       "    <tr>\n",
       "      <th>367632</th>\n",
       "      <td>NaN</td>\n",
       "      <td>hospitalized</td>\n",
       "    </tr>\n",
       "    <tr>\n",
       "      <th>367633</th>\n",
       "      <td>NaN</td>\n",
       "      <td>hospitalized</td>\n",
       "    </tr>\n",
       "    <tr>\n",
       "      <th>367634</th>\n",
       "      <td>28</td>\n",
       "      <td>recovered</td>\n",
       "    </tr>\n",
       "    <tr>\n",
       "      <th>367635</th>\n",
       "      <td>1.0</td>\n",
       "      <td>nonhospitalized</td>\n",
       "    </tr>\n",
       "  </tbody>\n",
       "</table>\n",
       "<p>367636 rows × 2 columns</p>\n",
       "</div>"
      ],
      "text/plain": [
       "          age          outcome\n",
       "0         NaN        recovered\n",
       "1         NaN     hospitalized\n",
       "2         NaN     hospitalized\n",
       "3       15-34  nonhospitalized\n",
       "4         NaN     hospitalized\n",
       "...       ...              ...\n",
       "367631   15.0  nonhospitalized\n",
       "367632    NaN     hospitalized\n",
       "367633    NaN     hospitalized\n",
       "367634     28        recovered\n",
       "367635    1.0  nonhospitalized\n",
       "\n",
       "[367636 rows x 2 columns]"
      ]
     },
     "execution_count": 88,
     "metadata": {},
     "output_type": "execute_result"
    }
   ],
   "source": [
    "train_data6"
   ]
  },
  {
   "cell_type": "code",
   "execution_count": 89,
   "metadata": {},
   "outputs": [],
   "source": [
    "plt_values7 = train_data6['age'].value_counts()\n",
    "to_remove7 = plt_values7[plt_values7 <= 4382].index\n",
    "train_data6 = train_data6[~train_data6.age.isin(to_remove7)]"
   ]
  },
  {
   "cell_type": "code",
   "execution_count": 90,
   "metadata": {},
   "outputs": [
    {
     "data": {
      "text/plain": [
       "35-59    10785\n",
       "15-34     8314\n",
       "60-79     7271\n",
       "80+       4383\n",
       "Name: age, dtype: int64"
      ]
     },
     "execution_count": 90,
     "metadata": {},
     "output_type": "execute_result"
    }
   ],
   "source": [
    "train_data6['age'].value_counts()"
   ]
  },
  {
   "cell_type": "code",
   "execution_count": 91,
   "metadata": {},
   "outputs": [
    {
     "data": {
      "text/html": [
       "<div>\n",
       "<style scoped>\n",
       "    .dataframe tbody tr th:only-of-type {\n",
       "        vertical-align: middle;\n",
       "    }\n",
       "\n",
       "    .dataframe tbody tr th {\n",
       "        vertical-align: top;\n",
       "    }\n",
       "\n",
       "    .dataframe thead th {\n",
       "        text-align: right;\n",
       "    }\n",
       "</style>\n",
       "<table border=\"1\" class=\"dataframe\">\n",
       "  <thead>\n",
       "    <tr style=\"text-align: right;\">\n",
       "      <th></th>\n",
       "      <th>age</th>\n",
       "      <th>outcome</th>\n",
       "    </tr>\n",
       "  </thead>\n",
       "  <tbody>\n",
       "    <tr>\n",
       "      <th>3</th>\n",
       "      <td>15-34</td>\n",
       "      <td>nonhospitalized</td>\n",
       "    </tr>\n",
       "    <tr>\n",
       "      <th>7</th>\n",
       "      <td>35-59</td>\n",
       "      <td>nonhospitalized</td>\n",
       "    </tr>\n",
       "    <tr>\n",
       "      <th>10</th>\n",
       "      <td>15-34</td>\n",
       "      <td>nonhospitalized</td>\n",
       "    </tr>\n",
       "    <tr>\n",
       "      <th>58</th>\n",
       "      <td>80+</td>\n",
       "      <td>nonhospitalized</td>\n",
       "    </tr>\n",
       "    <tr>\n",
       "      <th>84</th>\n",
       "      <td>15-34</td>\n",
       "      <td>nonhospitalized</td>\n",
       "    </tr>\n",
       "    <tr>\n",
       "      <th>...</th>\n",
       "      <td>...</td>\n",
       "      <td>...</td>\n",
       "    </tr>\n",
       "    <tr>\n",
       "      <th>367596</th>\n",
       "      <td>35-59</td>\n",
       "      <td>nonhospitalized</td>\n",
       "    </tr>\n",
       "    <tr>\n",
       "      <th>367603</th>\n",
       "      <td>15-34</td>\n",
       "      <td>nonhospitalized</td>\n",
       "    </tr>\n",
       "    <tr>\n",
       "      <th>367611</th>\n",
       "      <td>35-59</td>\n",
       "      <td>nonhospitalized</td>\n",
       "    </tr>\n",
       "    <tr>\n",
       "      <th>367617</th>\n",
       "      <td>35-59</td>\n",
       "      <td>nonhospitalized</td>\n",
       "    </tr>\n",
       "    <tr>\n",
       "      <th>367627</th>\n",
       "      <td>60-79</td>\n",
       "      <td>nonhospitalized</td>\n",
       "    </tr>\n",
       "  </tbody>\n",
       "</table>\n",
       "<p>30753 rows × 2 columns</p>\n",
       "</div>"
      ],
      "text/plain": [
       "          age          outcome\n",
       "3       15-34  nonhospitalized\n",
       "7       35-59  nonhospitalized\n",
       "10      15-34  nonhospitalized\n",
       "58        80+  nonhospitalized\n",
       "84      15-34  nonhospitalized\n",
       "...       ...              ...\n",
       "367596  35-59  nonhospitalized\n",
       "367603  15-34  nonhospitalized\n",
       "367611  35-59  nonhospitalized\n",
       "367617  35-59  nonhospitalized\n",
       "367627  60-79  nonhospitalized\n",
       "\n",
       "[30753 rows x 2 columns]"
      ]
     },
     "execution_count": 91,
     "metadata": {},
     "output_type": "execute_result"
    }
   ],
   "source": [
    "train_data6.dropna()"
   ]
  },
  {
   "cell_type": "code",
   "execution_count": 92,
   "metadata": {},
   "outputs": [
    {
     "data": {
      "image/png": "[encoded data removed]",
      "text/plain": [
       "<Figure size 432x288 with 1 Axes>"
      ]
     },
     "metadata": {
      "needs_background": "light"
     },
     "output_type": "display_data"
    }
   ],
   "source": [
    "fig = plt.figure()\n",
    "ax = fig.add_axes([0,0,2,2])\n",
    "#ax.bar(train_data6['outcome'].value_counts().keys(), train_data6['outcome'].dropna().value_counts(),label='outcome',color='purple')\n",
    "ax.bar(train_data6['age'].value_counts().keys(), train_data6['age'].dropna().value_counts(),label='cases',color='lime')\n",
    "plt.title('Frequency of Infection (by Age Group)',fontweight='bold')\n",
    "plt.xlabel('Age Group',fontweight='bold')\n",
    "plt.ylabel('Number of Cases',fontweight='bold')\n",
    "plt.legend(loc='best')\n",
    "plt.show() "
   ]
  },
  {
   "cell_type": "code",
   "execution_count": 93,
   "metadata": {},
   "outputs": [
    {
     "data": {
      "image/png": "[encoded data removed]",
      "text/plain": [
       "<Figure size 432x288 with 1 Axes>"
      ]
     },
     "metadata": {
      "needs_background": "light"
     },
     "output_type": "display_data"
    }
   ],
   "source": [
    "location_data.plot.line(x='Long_', y='Lat')\n",
    "plt.show()"
   ]
  },
  {
   "cell_type": "code",
   "execution_count": 94,
   "metadata": {},
   "outputs": [
    {
     "data": {
      "image/png": "[encoded data removed]",
      "text/plain": [
       "<Figure size 432x288 with 1 Axes>"
      ]
     },
     "metadata": {
      "needs_background": "light"
     },
     "output_type": "display_data"
    }
   ],
   "source": [
    "location_data.plot.line(x='Lat', y='Long_')\n",
    "plt.show()"
   ]
  },
  {
   "cell_type": "code",
   "execution_count": 95,
   "metadata": {},
   "outputs": [
    {
     "data": {
      "text/plain": [
       "1052    14871.183644\n",
       "782     14718.980344\n",
       "991     14604.606982\n",
       "3277    14595.887983\n",
       "3239    12414.481186\n",
       "            ...     \n",
       "3742             NaN\n",
       "3796             NaN\n",
       "3866             NaN\n",
       "3898             NaN\n",
       "3943             NaN\n",
       "Name: Incidence_Rate, Length: 3954, dtype: float64"
      ]
     },
     "execution_count": 95,
     "metadata": {},
     "output_type": "execute_result"
    }
   ],
   "source": [
    "location_data['Incidence_Rate'].sort_values(ascending=False)"
   ]
  },
  {
   "cell_type": "code",
   "execution_count": 96,
   "metadata": {},
   "outputs": [
    {
     "data": {
      "text/html": [
       "<div>\n",
       "<style scoped>\n",
       "    .dataframe tbody tr th:only-of-type {\n",
       "        vertical-align: middle;\n",
       "    }\n",
       "\n",
       "    .dataframe tbody tr th {\n",
       "        vertical-align: top;\n",
       "    }\n",
       "\n",
       "    .dataframe thead th {\n",
       "        text-align: right;\n",
       "    }\n",
       "</style>\n",
       "<table border=\"1\" class=\"dataframe\">\n",
       "  <thead>\n",
       "    <tr style=\"text-align: right;\">\n",
       "      <th></th>\n",
       "      <th>Province_State</th>\n",
       "      <th>Country_Region</th>\n",
       "      <th>Last_Update</th>\n",
       "      <th>Lat</th>\n",
       "      <th>Long_</th>\n",
       "      <th>Confirmed</th>\n",
       "      <th>Deaths</th>\n",
       "      <th>Recovered</th>\n",
       "      <th>Active</th>\n",
       "      <th>Combined_Key</th>\n",
       "      <th>Incidence_Rate</th>\n",
       "      <th>Case-Fatality_Ratio</th>\n",
       "    </tr>\n",
       "  </thead>\n",
       "  <tbody>\n",
       "    <tr>\n",
       "      <th>0</th>\n",
       "      <td>NaN</td>\n",
       "      <td>Afghanistan</td>\n",
       "      <td>2020-09-20 04:22:56</td>\n",
       "      <td>33.939110</td>\n",
       "      <td>67.709953</td>\n",
       "      <td>38919</td>\n",
       "      <td>1437</td>\n",
       "      <td>32576</td>\n",
       "      <td>4906.0</td>\n",
       "      <td>Afghanistan</td>\n",
       "      <td>99.976005</td>\n",
       "      <td>3.692284</td>\n",
       "    </tr>\n",
       "    <tr>\n",
       "      <th>1</th>\n",
       "      <td>NaN</td>\n",
       "      <td>Albania</td>\n",
       "      <td>2020-09-20 04:22:56</td>\n",
       "      <td>41.153300</td>\n",
       "      <td>20.168300</td>\n",
       "      <td>12226</td>\n",
       "      <td>358</td>\n",
       "      <td>6888</td>\n",
       "      <td>4980.0</td>\n",
       "      <td>Albania</td>\n",
       "      <td>424.838418</td>\n",
       "      <td>2.928186</td>\n",
       "    </tr>\n",
       "    <tr>\n",
       "      <th>2</th>\n",
       "      <td>NaN</td>\n",
       "      <td>Algeria</td>\n",
       "      <td>2020-09-20 04:22:56</td>\n",
       "      <td>28.033900</td>\n",
       "      <td>1.659600</td>\n",
       "      <td>49623</td>\n",
       "      <td>1665</td>\n",
       "      <td>34923</td>\n",
       "      <td>13035.0</td>\n",
       "      <td>Algeria</td>\n",
       "      <td>113.162645</td>\n",
       "      <td>3.355299</td>\n",
       "    </tr>\n",
       "    <tr>\n",
       "      <th>3</th>\n",
       "      <td>NaN</td>\n",
       "      <td>Andorra</td>\n",
       "      <td>2020-09-20 04:22:56</td>\n",
       "      <td>42.506300</td>\n",
       "      <td>1.521800</td>\n",
       "      <td>1564</td>\n",
       "      <td>53</td>\n",
       "      <td>1164</td>\n",
       "      <td>347.0</td>\n",
       "      <td>Andorra</td>\n",
       "      <td>2024.202420</td>\n",
       "      <td>3.388747</td>\n",
       "    </tr>\n",
       "    <tr>\n",
       "      <th>4</th>\n",
       "      <td>NaN</td>\n",
       "      <td>Angola</td>\n",
       "      <td>2020-09-20 04:22:56</td>\n",
       "      <td>-11.202700</td>\n",
       "      <td>17.873900</td>\n",
       "      <td>3901</td>\n",
       "      <td>147</td>\n",
       "      <td>1445</td>\n",
       "      <td>2309.0</td>\n",
       "      <td>Angola</td>\n",
       "      <td>11.869312</td>\n",
       "      <td>3.768265</td>\n",
       "    </tr>\n",
       "    <tr>\n",
       "      <th>...</th>\n",
       "      <td>...</td>\n",
       "      <td>...</td>\n",
       "      <td>...</td>\n",
       "      <td>...</td>\n",
       "      <td>...</td>\n",
       "      <td>...</td>\n",
       "      <td>...</td>\n",
       "      <td>...</td>\n",
       "      <td>...</td>\n",
       "      <td>...</td>\n",
       "      <td>...</td>\n",
       "      <td>...</td>\n",
       "    </tr>\n",
       "    <tr>\n",
       "      <th>3949</th>\n",
       "      <td>NaN</td>\n",
       "      <td>West Bank and Gaza</td>\n",
       "      <td>2020-09-20 04:22:56</td>\n",
       "      <td>31.952200</td>\n",
       "      <td>35.233200</td>\n",
       "      <td>35003</td>\n",
       "      <td>253</td>\n",
       "      <td>23446</td>\n",
       "      <td>11304.0</td>\n",
       "      <td>West Bank and Gaza</td>\n",
       "      <td>686.142828</td>\n",
       "      <td>0.722795</td>\n",
       "    </tr>\n",
       "    <tr>\n",
       "      <th>3950</th>\n",
       "      <td>NaN</td>\n",
       "      <td>Western Sahara</td>\n",
       "      <td>2020-09-20 04:22:56</td>\n",
       "      <td>24.215500</td>\n",
       "      <td>-12.885800</td>\n",
       "      <td>10</td>\n",
       "      <td>1</td>\n",
       "      <td>8</td>\n",
       "      <td>1.0</td>\n",
       "      <td>Western Sahara</td>\n",
       "      <td>1.674116</td>\n",
       "      <td>10.000000</td>\n",
       "    </tr>\n",
       "    <tr>\n",
       "      <th>3951</th>\n",
       "      <td>NaN</td>\n",
       "      <td>Yemen</td>\n",
       "      <td>2020-09-20 04:22:56</td>\n",
       "      <td>15.552727</td>\n",
       "      <td>48.516388</td>\n",
       "      <td>2026</td>\n",
       "      <td>585</td>\n",
       "      <td>1221</td>\n",
       "      <td>220.0</td>\n",
       "      <td>Yemen</td>\n",
       "      <td>6.792738</td>\n",
       "      <td>28.874630</td>\n",
       "    </tr>\n",
       "    <tr>\n",
       "      <th>3952</th>\n",
       "      <td>NaN</td>\n",
       "      <td>Zambia</td>\n",
       "      <td>2020-09-20 04:22:56</td>\n",
       "      <td>-13.133897</td>\n",
       "      <td>27.849332</td>\n",
       "      <td>14070</td>\n",
       "      <td>330</td>\n",
       "      <td>13365</td>\n",
       "      <td>375.0</td>\n",
       "      <td>Zambia</td>\n",
       "      <td>76.534126</td>\n",
       "      <td>2.345416</td>\n",
       "    </tr>\n",
       "    <tr>\n",
       "      <th>3953</th>\n",
       "      <td>NaN</td>\n",
       "      <td>Zimbabwe</td>\n",
       "      <td>2020-09-20 04:22:56</td>\n",
       "      <td>-19.015438</td>\n",
       "      <td>29.154857</td>\n",
       "      <td>7672</td>\n",
       "      <td>225</td>\n",
       "      <td>5914</td>\n",
       "      <td>1533.0</td>\n",
       "      <td>Zimbabwe</td>\n",
       "      <td>51.618366</td>\n",
       "      <td>2.932742</td>\n",
       "    </tr>\n",
       "  </tbody>\n",
       "</table>\n",
       "<p>3954 rows × 12 columns</p>\n",
       "</div>"
      ],
      "text/plain": [
       "     Province_State      Country_Region          Last_Update        Lat  \\\n",
       "0               NaN         Afghanistan  2020-09-20 04:22:56  33.939110   \n",
       "1               NaN             Albania  2020-09-20 04:22:56  41.153300   \n",
       "2               NaN             Algeria  2020-09-20 04:22:56  28.033900   \n",
       "3               NaN             Andorra  2020-09-20 04:22:56  42.506300   \n",
       "4               NaN              Angola  2020-09-20 04:22:56 -11.202700   \n",
       "...             ...                 ...                  ...        ...   \n",
       "3949            NaN  West Bank and Gaza  2020-09-20 04:22:56  31.952200   \n",
       "3950            NaN      Western Sahara  2020-09-20 04:22:56  24.215500   \n",
       "3951            NaN               Yemen  2020-09-20 04:22:56  15.552727   \n",
       "3952            NaN              Zambia  2020-09-20 04:22:56 -13.133897   \n",
       "3953            NaN            Zimbabwe  2020-09-20 04:22:56 -19.015438   \n",
       "\n",
       "          Long_  Confirmed  Deaths  Recovered   Active        Combined_Key  \\\n",
       "0     67.709953      38919    1437      32576   4906.0         Afghanistan   \n",
       "1     20.168300      12226     358       6888   4980.0             Albania   \n",
       "2      1.659600      49623    1665      34923  13035.0             Algeria   \n",
       "3      1.521800       1564      53       1164    347.0             Andorra   \n",
       "4     17.873900       3901     147       1445   2309.0              Angola   \n",
       "...         ...        ...     ...        ...      ...                 ...   \n",
       "3949  35.233200      35003     253      23446  11304.0  West Bank and Gaza   \n",
       "3950 -12.885800         10       1          8      1.0      Western Sahara   \n",
       "3951  48.516388       2026     585       1221    220.0               Yemen   \n",
       "3952  27.849332      14070     330      13365    375.0              Zambia   \n",
       "3953  29.154857       7672     225       5914   1533.0            Zimbabwe   \n",
       "\n",
       "      Incidence_Rate  Case-Fatality_Ratio  \n",
       "0          99.976005             3.692284  \n",
       "1         424.838418             2.928186  \n",
       "2         113.162645             3.355299  \n",
       "3        2024.202420             3.388747  \n",
       "4          11.869312             3.768265  \n",
       "...              ...                  ...  \n",
       "3949      686.142828             0.722795  \n",
       "3950        1.674116            10.000000  \n",
       "3951        6.792738            28.874630  \n",
       "3952       76.534126             2.345416  \n",
       "3953       51.618366             2.932742  \n",
       "\n",
       "[3954 rows x 12 columns]"
      ]
     },
     "execution_count": 96,
     "metadata": {},
     "output_type": "execute_result"
    }
   ],
   "source": [
    "location_data"
   ]
  },
  {
   "cell_type": "code",
   "execution_count": 97,
   "metadata": {},
   "outputs": [],
   "source": [
    "inci_df = pd.DataFrame(location_data, columns=['Combined_Key', 'Incidence_Rate'])\n",
    "\n",
    "cfr_df = pd.DataFrame(location_data, columns=['Combined_Key', 'Case-Fatality_Ratio'])"
   ]
  },
  {
   "cell_type": "code",
   "execution_count": 98,
   "metadata": {},
   "outputs": [
    {
     "data": {
      "text/plain": [
       "1052    14871.183644\n",
       "782     14718.980344\n",
       "991     14604.606982\n",
       "3277    14595.887983\n",
       "3239    12414.481186\n",
       "            ...     \n",
       "3742             NaN\n",
       "3796             NaN\n",
       "3866             NaN\n",
       "3898             NaN\n",
       "3943             NaN\n",
       "Name: Incidence_Rate, Length: 3954, dtype: float64"
      ]
     },
     "execution_count": 98,
     "metadata": {},
     "output_type": "execute_result"
    }
   ],
   "source": [
    "inci_df['Incidence_Rate'].sort_values(ascending=False)"
   ]
  },
  {
   "cell_type": "code",
   "execution_count": 99,
   "metadata": {},
   "outputs": [
    {
     "data": {
      "text/plain": [
       "3063    108.812950\n",
       "1821     89.473684\n",
       "740      50.000000\n",
       "3076     48.441674\n",
       "3951     28.874630\n",
       "           ...    \n",
       "3554           NaN\n",
       "3697           NaN\n",
       "3796           NaN\n",
       "3866           NaN\n",
       "3943           NaN\n",
       "Name: Case-Fatality_Ratio, Length: 3954, dtype: float64"
      ]
     },
     "execution_count": 99,
     "metadata": {},
     "output_type": "execute_result"
    }
   ],
   "source": [
    "cfr_df['Case-Fatality_Ratio'].sort_values(ascending=False)"
   ]
  },
  {
   "cell_type": "code",
   "execution_count": 100,
   "metadata": {},
   "outputs": [
    {
     "data": {
      "text/plain": [
       "0         99.976005\n",
       "1        424.838418\n",
       "2        113.162645\n",
       "3       2024.202420\n",
       "4         11.869312\n",
       "           ...     \n",
       "3949     686.142828\n",
       "3950       1.674116\n",
       "3951       6.792738\n",
       "3952      76.534126\n",
       "3953      51.618366\n",
       "Name: Incidence_Rate, Length: 3954, dtype: float64"
      ]
     },
     "execution_count": 100,
     "metadata": {},
     "output_type": "execute_result"
    }
   ],
   "source": [
    "inci_df['Incidence_Rate']"
   ]
  },
  {
   "cell_type": "code",
   "execution_count": 101,
   "metadata": {},
   "outputs": [],
   "source": [
    "plt_values9 = inci_df['Incidence_Rate']\n",
    "to_remove9 = plt_values9[plt_values9 <= 10000]\n",
    "inci_df = inci_df[~inci_df.Incidence_Rate.isin(to_remove9)]"
   ]
  },
  {
   "cell_type": "code",
   "execution_count": 102,
   "metadata": {},
   "outputs": [
    {
     "data": {
      "text/html": [
       "<div>\n",
       "<style scoped>\n",
       "    .dataframe tbody tr th:only-of-type {\n",
       "        vertical-align: middle;\n",
       "    }\n",
       "\n",
       "    .dataframe tbody tr th {\n",
       "        vertical-align: top;\n",
       "    }\n",
       "\n",
       "    .dataframe thead th {\n",
       "        text-align: right;\n",
       "    }\n",
       "</style>\n",
       "<table border=\"1\" class=\"dataframe\">\n",
       "  <thead>\n",
       "    <tr style=\"text-align: right;\">\n",
       "      <th></th>\n",
       "      <th>Combined_Key</th>\n",
       "      <th>Incidence_Rate</th>\n",
       "    </tr>\n",
       "  </thead>\n",
       "  <tbody>\n",
       "    <tr>\n",
       "      <th>1052</th>\n",
       "      <td>Chattahoochee, Georgia, US</td>\n",
       "      <td>14871.183644</td>\n",
       "    </tr>\n",
       "    <tr>\n",
       "      <th>782</th>\n",
       "      <td>Lincoln, Arkansas, US</td>\n",
       "      <td>14718.980344</td>\n",
       "    </tr>\n",
       "    <tr>\n",
       "      <th>991</th>\n",
       "      <td>Lafayette, Florida, US</td>\n",
       "      <td>14604.606982</td>\n",
       "    </tr>\n",
       "    <tr>\n",
       "      <th>3277</th>\n",
       "      <td>Trousdale, Tennessee, US</td>\n",
       "      <td>14595.887983</td>\n",
       "    </tr>\n",
       "    <tr>\n",
       "      <th>3239</th>\n",
       "      <td>Lake, Tennessee, US</td>\n",
       "      <td>12414.481186</td>\n",
       "    </tr>\n",
       "    <tr>\n",
       "      <th>781</th>\n",
       "      <td>Lee, Arkansas, US</td>\n",
       "      <td>11787.286892</td>\n",
       "    </tr>\n",
       "    <tr>\n",
       "      <th>2341</th>\n",
       "      <td>Dakota, Nebraska, US</td>\n",
       "      <td>10686.108060</td>\n",
       "    </tr>\n",
       "  </tbody>\n",
       "</table>\n",
       "</div>"
      ],
      "text/plain": [
       "                    Combined_Key  Incidence_Rate\n",
       "1052  Chattahoochee, Georgia, US    14871.183644\n",
       "782        Lincoln, Arkansas, US    14718.980344\n",
       "991       Lafayette, Florida, US    14604.606982\n",
       "3277    Trousdale, Tennessee, US    14595.887983\n",
       "3239         Lake, Tennessee, US    12414.481186\n",
       "781            Lee, Arkansas, US    11787.286892\n",
       "2341        Dakota, Nebraska, US    10686.108060"
      ]
     },
     "execution_count": 102,
     "metadata": {},
     "output_type": "execute_result"
    }
   ],
   "source": [
    "inci_df = inci_df.dropna().sort_values(by=['Incidence_Rate'],ascending=False)\n",
    "inci_df"
   ]
  },
  {
   "cell_type": "code",
   "execution_count": 103,
   "metadata": {},
   "outputs": [
    {
     "data": {
      "text/plain": [
       "1052    Chattahoochee, Georgia, US\n",
       "782          Lincoln, Arkansas, US\n",
       "991         Lafayette, Florida, US\n",
       "3277      Trousdale, Tennessee, US\n",
       "3239           Lake, Tennessee, US\n",
       "781              Lee, Arkansas, US\n",
       "2341          Dakota, Nebraska, US\n",
       "Name: Combined_Key, dtype: object"
      ]
     },
     "execution_count": 103,
     "metadata": {},
     "output_type": "execute_result"
    }
   ],
   "source": [
    "inci_df['Combined_Key']"
   ]
  },
  {
   "cell_type": "code",
   "execution_count": 104,
   "metadata": {},
   "outputs": [
    {
     "data": {
      "image/png": "[encoded data removed]",
      "text/plain": [
       "<Figure size 432x288 with 1 Axes>"
      ]
     },
     "metadata": {
      "needs_background": "light"
     },
     "output_type": "display_data"
    }
   ],
   "source": [
    "fig = plt.figure()\n",
    "ax = fig.add_axes([0,0,3,3])\n",
    "#ax.bar(train_data6['outcome'].value_counts().keys(), train_data6['outcome'].dropna().value_counts(),label='outcome',color='purple')\n",
    "ax.bar(inci_df['Combined_Key'], inci_df['Incidence_Rate'].dropna(),label='Incidence Rate',color='Indigo')\n",
    "plt.title('Key Locations with Incidence Rates > 10000',fontweight='bold')\n",
    "plt.xlabel('Location',fontweight='bold')\n",
    "plt.ylabel('Incidence Rate',fontweight='bold')\n",
    "plt.legend(loc='best')\n",
    "plt.show() "
   ]
  },
  {
   "cell_type": "code",
   "execution_count": 105,
   "metadata": {},
   "outputs": [
    {
     "data": {
      "text/html": [
       "<div>\n",
       "<style scoped>\n",
       "    .dataframe tbody tr th:only-of-type {\n",
       "        vertical-align: middle;\n",
       "    }\n",
       "\n",
       "    .dataframe tbody tr th {\n",
       "        vertical-align: top;\n",
       "    }\n",
       "\n",
       "    .dataframe thead th {\n",
       "        text-align: right;\n",
       "    }\n",
       "</style>\n",
       "<table border=\"1\" class=\"dataframe\">\n",
       "  <thead>\n",
       "    <tr style=\"text-align: right;\">\n",
       "      <th></th>\n",
       "      <th>Combined_Key</th>\n",
       "      <th>Case-Fatality_Ratio</th>\n",
       "      <th>Case_Fatality_Ratio</th>\n",
       "    </tr>\n",
       "  </thead>\n",
       "  <tbody>\n",
       "    <tr>\n",
       "      <th>0</th>\n",
       "      <td>Afghanistan</td>\n",
       "      <td>3.692284</td>\n",
       "      <td>3.692284</td>\n",
       "    </tr>\n",
       "    <tr>\n",
       "      <th>1</th>\n",
       "      <td>Albania</td>\n",
       "      <td>2.928186</td>\n",
       "      <td>2.928186</td>\n",
       "    </tr>\n",
       "    <tr>\n",
       "      <th>2</th>\n",
       "      <td>Algeria</td>\n",
       "      <td>3.355299</td>\n",
       "      <td>3.355299</td>\n",
       "    </tr>\n",
       "    <tr>\n",
       "      <th>3</th>\n",
       "      <td>Andorra</td>\n",
       "      <td>3.388747</td>\n",
       "      <td>3.388747</td>\n",
       "    </tr>\n",
       "    <tr>\n",
       "      <th>4</th>\n",
       "      <td>Angola</td>\n",
       "      <td>3.768265</td>\n",
       "      <td>3.768265</td>\n",
       "    </tr>\n",
       "    <tr>\n",
       "      <th>...</th>\n",
       "      <td>...</td>\n",
       "      <td>...</td>\n",
       "      <td>...</td>\n",
       "    </tr>\n",
       "    <tr>\n",
       "      <th>3949</th>\n",
       "      <td>West Bank and Gaza</td>\n",
       "      <td>0.722795</td>\n",
       "      <td>0.722795</td>\n",
       "    </tr>\n",
       "    <tr>\n",
       "      <th>3950</th>\n",
       "      <td>Western Sahara</td>\n",
       "      <td>10.000000</td>\n",
       "      <td>10.000000</td>\n",
       "    </tr>\n",
       "    <tr>\n",
       "      <th>3951</th>\n",
       "      <td>Yemen</td>\n",
       "      <td>28.874630</td>\n",
       "      <td>28.874630</td>\n",
       "    </tr>\n",
       "    <tr>\n",
       "      <th>3952</th>\n",
       "      <td>Zambia</td>\n",
       "      <td>2.345416</td>\n",
       "      <td>2.345416</td>\n",
       "    </tr>\n",
       "    <tr>\n",
       "      <th>3953</th>\n",
       "      <td>Zimbabwe</td>\n",
       "      <td>2.932742</td>\n",
       "      <td>2.932742</td>\n",
       "    </tr>\n",
       "  </tbody>\n",
       "</table>\n",
       "<p>3954 rows × 3 columns</p>\n",
       "</div>"
      ],
      "text/plain": [
       "            Combined_Key  Case-Fatality_Ratio  Case_Fatality_Ratio\n",
       "0            Afghanistan             3.692284             3.692284\n",
       "1                Albania             2.928186             2.928186\n",
       "2                Algeria             3.355299             3.355299\n",
       "3                Andorra             3.388747             3.388747\n",
       "4                 Angola             3.768265             3.768265\n",
       "...                  ...                  ...                  ...\n",
       "3949  West Bank and Gaza             0.722795             0.722795\n",
       "3950      Western Sahara            10.000000            10.000000\n",
       "3951               Yemen            28.874630            28.874630\n",
       "3952              Zambia             2.345416             2.345416\n",
       "3953            Zimbabwe             2.932742             2.932742\n",
       "\n",
       "[3954 rows x 3 columns]"
      ]
     },
     "execution_count": 105,
     "metadata": {},
     "output_type": "execute_result"
    }
   ],
   "source": [
    "cfr_df['Case_Fatality_Ratio'] = cfr_df['Case-Fatality_Ratio']\n",
    "cfr_df"
   ]
  },
  {
   "cell_type": "code",
   "execution_count": 108,
   "metadata": {},
   "outputs": [],
   "source": [
    "plt_values10 = cfr_df['Case_Fatality_Ratio']\n",
    "to_remove10 = plt_values10[plt_values10 <= 19]\n",
    "cfr_df = cfr_df[~cfr_df.Case_Fatality_Ratio.isin(to_remove10)]"
   ]
  },
  {
   "cell_type": "code",
   "execution_count": 111,
   "metadata": {},
   "outputs": [
    {
     "data": {
      "text/html": [
       "<div>\n",
       "<style scoped>\n",
       "    .dataframe tbody tr th:only-of-type {\n",
       "        vertical-align: middle;\n",
       "    }\n",
       "\n",
       "    .dataframe tbody tr th {\n",
       "        vertical-align: top;\n",
       "    }\n",
       "\n",
       "    .dataframe thead th {\n",
       "        text-align: right;\n",
       "    }\n",
       "</style>\n",
       "<table border=\"1\" class=\"dataframe\">\n",
       "  <thead>\n",
       "    <tr style=\"text-align: right;\">\n",
       "      <th></th>\n",
       "      <th>Combined_Key</th>\n",
       "      <th>Case-Fatality_Ratio</th>\n",
       "      <th>Case_Fatality_Ratio</th>\n",
       "    </tr>\n",
       "  </thead>\n",
       "  <tbody>\n",
       "    <tr>\n",
       "      <th>3063</th>\n",
       "      <td>Unassigned, Puerto Rico, US</td>\n",
       "      <td>108.812950</td>\n",
       "      <td>108.812950</td>\n",
       "    </tr>\n",
       "    <tr>\n",
       "      <th>1821</th>\n",
       "      <td>Unassigned, Louisiana, US</td>\n",
       "      <td>89.473684</td>\n",
       "      <td>89.473684</td>\n",
       "    </tr>\n",
       "    <tr>\n",
       "      <th>740</th>\n",
       "      <td>Unassigned, Arizona, US</td>\n",
       "      <td>50.000000</td>\n",
       "      <td>50.000000</td>\n",
       "    </tr>\n",
       "    <tr>\n",
       "      <th>3076</th>\n",
       "      <td>Unassigned, Rhode Island, US</td>\n",
       "      <td>48.441674</td>\n",
       "      <td>48.441674</td>\n",
       "    </tr>\n",
       "    <tr>\n",
       "      <th>3951</th>\n",
       "      <td>Yemen</td>\n",
       "      <td>28.874630</td>\n",
       "      <td>28.874630</td>\n",
       "    </tr>\n",
       "    <tr>\n",
       "      <th>3512</th>\n",
       "      <td>Throckmorton, Texas, US</td>\n",
       "      <td>28.571429</td>\n",
       "      <td>28.571429</td>\n",
       "    </tr>\n",
       "    <tr>\n",
       "      <th>2053</th>\n",
       "      <td>Unassigned, Minnesota, US</td>\n",
       "      <td>27.807487</td>\n",
       "      <td>27.807487</td>\n",
       "    </tr>\n",
       "    <tr>\n",
       "      <th>2387</th>\n",
       "      <td>Perkins, Nebraska, US</td>\n",
       "      <td>27.272727</td>\n",
       "      <td>27.272727</td>\n",
       "    </tr>\n",
       "    <tr>\n",
       "      <th>362</th>\n",
       "      <td>MS Zaandam</td>\n",
       "      <td>22.222222</td>\n",
       "      <td>22.222222</td>\n",
       "    </tr>\n",
       "    <tr>\n",
       "      <th>1846</th>\n",
       "      <td>Waldo, Maine, US</td>\n",
       "      <td>19.178082</td>\n",
       "      <td>19.178082</td>\n",
       "    </tr>\n",
       "  </tbody>\n",
       "</table>\n",
       "</div>"
      ],
      "text/plain": [
       "                      Combined_Key  Case-Fatality_Ratio  Case_Fatality_Ratio\n",
       "3063   Unassigned, Puerto Rico, US           108.812950           108.812950\n",
       "1821     Unassigned, Louisiana, US            89.473684            89.473684\n",
       "740        Unassigned, Arizona, US            50.000000            50.000000\n",
       "3076  Unassigned, Rhode Island, US            48.441674            48.441674\n",
       "3951                         Yemen            28.874630            28.874630\n",
       "3512       Throckmorton, Texas, US            28.571429            28.571429\n",
       "2053     Unassigned, Minnesota, US            27.807487            27.807487\n",
       "2387         Perkins, Nebraska, US            27.272727            27.272727\n",
       "362                     MS Zaandam            22.222222            22.222222\n",
       "1846              Waldo, Maine, US            19.178082            19.178082"
      ]
     },
     "execution_count": 111,
     "metadata": {},
     "output_type": "execute_result"
    }
   ],
   "source": [
    "cfr_df = cfr_df.dropna().sort_values(by=['Case_Fatality_Ratio'],ascending=False)\n",
    "cfr_df"
   ]
  },
  {
   "cell_type": "code",
   "execution_count": 130,
   "metadata": {},
   "outputs": [
    {
     "data": {
      "image/png": "[encoded data removed]",
      "text/plain": [
       "<Figure size 432x288 with 1 Axes>"
      ]
     },
     "metadata": {
      "needs_background": "light"
     },
     "output_type": "display_data"
    }
   ],
   "source": [
    "N=10\n",
    "ind = np.arange(N)\n",
    "width=0\n",
    "\n",
    "fig = plt.figure()\n",
    "ax = fig.add_axes([0,0,4,4])\n",
    "ax.bar(cfr_df['Combined_Key'], cfr_df['Case_Fatality_Ratio'].dropna(),label='Case Fatality Rate',color='brown')\n",
    "plt.title('Top 10 Locations with Highest Case Fatality Rates',fontweight='bold', fontsize=20)\n",
    "plt.xlabel('Location',fontweight='bold', fontsize=18)\n",
    "plt.ylabel('Case Fatality Rate',fontweight='bold',fontsize=18)\n",
    "\n",
    "plt.xticks(ind+width/2, ['Puerto Rico, US', 'Louisiana, US', 'Arizona, US', 'Rhode Island, US', 'Yemen', 'Throckmorton, Texas, US', 'Minnesota, US', 'Perkins, Nebraska, US', 'MS Zaandam (NZ Cruise Ship)', 'Waldo, Maine, US'])\n",
    "\n",
    "plt.legend(loc='best',fontsize=14)\n",
    "plt.show() "
   ]
  },
  {
   "cell_type": "code",
   "execution_count": null,
   "metadata": {},
   "outputs": [],
   "source": []
  }
 ],
 "metadata": {
  "kernelspec": {
   "display_name": "Python 3",
   "language": "python",
   "name": "python3"
  },
  "language_info": {
   "codemirror_mode": {
    "name": "ipython",
    "version": 3
   },
   "file_extension": ".py",
   "mimetype": "text/x-python",
   "name": "python",
   "nbconvert_exporter": "python",
   "pygments_lexer": "ipython3",
   "version": "3.7.3"
  }
 },
 "nbformat": 4,
 "nbformat_minor": 2
}
