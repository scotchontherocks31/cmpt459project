{
 "cells": [
  {
   "cell_type": "markdown",
   "id": "military-parts",
   "metadata": {},
   "source": [
    "# Early Data Analysis Notebook"
   ]
  },
  {
   "cell_type": "markdown",
   "id": "sublime-comparison",
   "metadata": {},
   "source": [
    "### Imports and loading data"
   ]
  },
  {
   "cell_type": "code",
   "execution_count": 2,
   "id": "interstate-paper",
   "metadata": {},
   "outputs": [],
   "source": [
    "import numpy as np\n",
    "import pandas as pd\n",
    "import matplotlib.pyplot as plt\n",
    "import random\n",
    "import os"
   ]
  },
  {
   "cell_type": "code",
   "execution_count": 4,
   "id": "exotic-million",
   "metadata": {},
   "outputs": [
    {
     "output_type": "error",
     "ename": "FileNotFoundError",
     "evalue": "[Errno 2] No such file or directory: '/Users/shahriarkabirnooh/Desktop/cmpt459project/src/../data/cases_train.csv'",
     "traceback": [
      "\u001b[0;31m---------------------------------------------------------------------------\u001b[0m",
      "\u001b[0;31mFileNotFoundError\u001b[0m                         Traceback (most recent call last)",
      "\u001b[0;32m<ipython-input-4-b6a973e4a910>\u001b[0m in \u001b[0;36m<module>\u001b[0;34m\u001b[0m\n\u001b[1;32m      1\u001b[0m \u001b[0mo\u001b[0m \u001b[0;34m=\u001b[0m \u001b[0mos\u001b[0m\u001b[0;34m.\u001b[0m\u001b[0mgetcwd\u001b[0m\u001b[0;34m(\u001b[0m\u001b[0;34m)\u001b[0m\u001b[0;34m\u001b[0m\u001b[0;34m\u001b[0m\u001b[0m\n\u001b[0;32m----> 2\u001b[0;31m \u001b[0mtrain_data\u001b[0m \u001b[0;34m=\u001b[0m \u001b[0mpd\u001b[0m\u001b[0;34m.\u001b[0m\u001b[0mread_csv\u001b[0m\u001b[0;34m(\u001b[0m\u001b[0mo\u001b[0m \u001b[0;34m+\u001b[0m \u001b[0;34m\"/../data/cases_train.csv\"\u001b[0m\u001b[0;34m,\u001b[0m \u001b[0mparse_dates\u001b[0m \u001b[0;34m=\u001b[0m \u001b[0;32mTrue\u001b[0m\u001b[0;34m)\u001b[0m\u001b[0;34m\u001b[0m\u001b[0;34m\u001b[0m\u001b[0m\n\u001b[0m\u001b[1;32m      3\u001b[0m \u001b[0mtest_data\u001b[0m \u001b[0;34m=\u001b[0m \u001b[0mpd\u001b[0m\u001b[0;34m.\u001b[0m\u001b[0mread_csv\u001b[0m\u001b[0;34m(\u001b[0m\u001b[0mo\u001b[0m \u001b[0;34m+\u001b[0m \u001b[0;34m\"/../data/cases_test.csv\"\u001b[0m\u001b[0;34m,\u001b[0m \u001b[0mparse_dates\u001b[0m \u001b[0;34m=\u001b[0m \u001b[0;32mTrue\u001b[0m\u001b[0;34m)\u001b[0m\u001b[0;34m\u001b[0m\u001b[0;34m\u001b[0m\u001b[0m\n\u001b[1;32m      4\u001b[0m \u001b[0;31m# Mac -> / | Windows -> \\\\\u001b[0m\u001b[0;34m\u001b[0m\u001b[0;34m\u001b[0m\u001b[0;34m\u001b[0m\u001b[0m\n",
      "\u001b[0;32m/Library/Frameworks/Python.framework/Versions/3.9/lib/python3.9/site-packages/pandas/io/parsers.py\u001b[0m in \u001b[0;36mread_csv\u001b[0;34m(filepath_or_buffer, sep, delimiter, header, names, index_col, usecols, squeeze, prefix, mangle_dupe_cols, dtype, engine, converters, true_values, false_values, skipinitialspace, skiprows, skipfooter, nrows, na_values, keep_default_na, na_filter, verbose, skip_blank_lines, parse_dates, infer_datetime_format, keep_date_col, date_parser, dayfirst, cache_dates, iterator, chunksize, compression, thousands, decimal, lineterminator, quotechar, quoting, doublequote, escapechar, comment, encoding, dialect, error_bad_lines, warn_bad_lines, delim_whitespace, low_memory, memory_map, float_precision, storage_options)\u001b[0m\n\u001b[1;32m    608\u001b[0m     \u001b[0mkwds\u001b[0m\u001b[0;34m.\u001b[0m\u001b[0mupdate\u001b[0m\u001b[0;34m(\u001b[0m\u001b[0mkwds_defaults\u001b[0m\u001b[0;34m)\u001b[0m\u001b[0;34m\u001b[0m\u001b[0;34m\u001b[0m\u001b[0m\n\u001b[1;32m    609\u001b[0m \u001b[0;34m\u001b[0m\u001b[0m\n\u001b[0;32m--> 610\u001b[0;31m     \u001b[0;32mreturn\u001b[0m \u001b[0m_read\u001b[0m\u001b[0;34m(\u001b[0m\u001b[0mfilepath_or_buffer\u001b[0m\u001b[0;34m,\u001b[0m \u001b[0mkwds\u001b[0m\u001b[0;34m)\u001b[0m\u001b[0;34m\u001b[0m\u001b[0;34m\u001b[0m\u001b[0m\n\u001b[0m\u001b[1;32m    611\u001b[0m \u001b[0;34m\u001b[0m\u001b[0m\n\u001b[1;32m    612\u001b[0m \u001b[0;34m\u001b[0m\u001b[0m\n",
      "\u001b[0;32m/Library/Frameworks/Python.framework/Versions/3.9/lib/python3.9/site-packages/pandas/io/parsers.py\u001b[0m in \u001b[0;36m_read\u001b[0;34m(filepath_or_buffer, kwds)\u001b[0m\n\u001b[1;32m    460\u001b[0m \u001b[0;34m\u001b[0m\u001b[0m\n\u001b[1;32m    461\u001b[0m     \u001b[0;31m# Create the parser.\u001b[0m\u001b[0;34m\u001b[0m\u001b[0;34m\u001b[0m\u001b[0;34m\u001b[0m\u001b[0m\n\u001b[0;32m--> 462\u001b[0;31m     \u001b[0mparser\u001b[0m \u001b[0;34m=\u001b[0m \u001b[0mTextFileReader\u001b[0m\u001b[0;34m(\u001b[0m\u001b[0mfilepath_or_buffer\u001b[0m\u001b[0;34m,\u001b[0m \u001b[0;34m**\u001b[0m\u001b[0mkwds\u001b[0m\u001b[0;34m)\u001b[0m\u001b[0;34m\u001b[0m\u001b[0;34m\u001b[0m\u001b[0m\n\u001b[0m\u001b[1;32m    463\u001b[0m \u001b[0;34m\u001b[0m\u001b[0m\n\u001b[1;32m    464\u001b[0m     \u001b[0;32mif\u001b[0m \u001b[0mchunksize\u001b[0m \u001b[0;32mor\u001b[0m \u001b[0miterator\u001b[0m\u001b[0;34m:\u001b[0m\u001b[0;34m\u001b[0m\u001b[0;34m\u001b[0m\u001b[0m\n",
      "\u001b[0;32m/Library/Frameworks/Python.framework/Versions/3.9/lib/python3.9/site-packages/pandas/io/parsers.py\u001b[0m in \u001b[0;36m__init__\u001b[0;34m(self, f, engine, **kwds)\u001b[0m\n\u001b[1;32m    817\u001b[0m             \u001b[0mself\u001b[0m\u001b[0;34m.\u001b[0m\u001b[0moptions\u001b[0m\u001b[0;34m[\u001b[0m\u001b[0;34m\"has_index_names\"\u001b[0m\u001b[0;34m]\u001b[0m \u001b[0;34m=\u001b[0m \u001b[0mkwds\u001b[0m\u001b[0;34m[\u001b[0m\u001b[0;34m\"has_index_names\"\u001b[0m\u001b[0;34m]\u001b[0m\u001b[0;34m\u001b[0m\u001b[0;34m\u001b[0m\u001b[0m\n\u001b[1;32m    818\u001b[0m \u001b[0;34m\u001b[0m\u001b[0m\n\u001b[0;32m--> 819\u001b[0;31m         \u001b[0mself\u001b[0m\u001b[0;34m.\u001b[0m\u001b[0m_engine\u001b[0m \u001b[0;34m=\u001b[0m \u001b[0mself\u001b[0m\u001b[0;34m.\u001b[0m\u001b[0m_make_engine\u001b[0m\u001b[0;34m(\u001b[0m\u001b[0mself\u001b[0m\u001b[0;34m.\u001b[0m\u001b[0mengine\u001b[0m\u001b[0;34m)\u001b[0m\u001b[0;34m\u001b[0m\u001b[0;34m\u001b[0m\u001b[0m\n\u001b[0m\u001b[1;32m    820\u001b[0m \u001b[0;34m\u001b[0m\u001b[0m\n\u001b[1;32m    821\u001b[0m     \u001b[0;32mdef\u001b[0m \u001b[0mclose\u001b[0m\u001b[0;34m(\u001b[0m\u001b[0mself\u001b[0m\u001b[0;34m)\u001b[0m\u001b[0;34m:\u001b[0m\u001b[0;34m\u001b[0m\u001b[0;34m\u001b[0m\u001b[0m\n",
      "\u001b[0;32m/Library/Frameworks/Python.framework/Versions/3.9/lib/python3.9/site-packages/pandas/io/parsers.py\u001b[0m in \u001b[0;36m_make_engine\u001b[0;34m(self, engine)\u001b[0m\n\u001b[1;32m   1048\u001b[0m             )\n\u001b[1;32m   1049\u001b[0m         \u001b[0;31m# error: Too many arguments for \"ParserBase\"\u001b[0m\u001b[0;34m\u001b[0m\u001b[0;34m\u001b[0m\u001b[0;34m\u001b[0m\u001b[0m\n\u001b[0;32m-> 1050\u001b[0;31m         \u001b[0;32mreturn\u001b[0m \u001b[0mmapping\u001b[0m\u001b[0;34m[\u001b[0m\u001b[0mengine\u001b[0m\u001b[0;34m]\u001b[0m\u001b[0;34m(\u001b[0m\u001b[0mself\u001b[0m\u001b[0;34m.\u001b[0m\u001b[0mf\u001b[0m\u001b[0;34m,\u001b[0m \u001b[0;34m**\u001b[0m\u001b[0mself\u001b[0m\u001b[0;34m.\u001b[0m\u001b[0moptions\u001b[0m\u001b[0;34m)\u001b[0m  \u001b[0;31m# type: ignore[call-arg]\u001b[0m\u001b[0;34m\u001b[0m\u001b[0;34m\u001b[0m\u001b[0m\n\u001b[0m\u001b[1;32m   1051\u001b[0m \u001b[0;34m\u001b[0m\u001b[0m\n\u001b[1;32m   1052\u001b[0m     \u001b[0;32mdef\u001b[0m \u001b[0m_failover_to_python\u001b[0m\u001b[0;34m(\u001b[0m\u001b[0mself\u001b[0m\u001b[0;34m)\u001b[0m\u001b[0;34m:\u001b[0m\u001b[0;34m\u001b[0m\u001b[0;34m\u001b[0m\u001b[0m\n",
      "\u001b[0;32m/Library/Frameworks/Python.framework/Versions/3.9/lib/python3.9/site-packages/pandas/io/parsers.py\u001b[0m in \u001b[0;36m__init__\u001b[0;34m(self, src, **kwds)\u001b[0m\n\u001b[1;32m   1865\u001b[0m \u001b[0;34m\u001b[0m\u001b[0m\n\u001b[1;32m   1866\u001b[0m         \u001b[0;31m# open handles\u001b[0m\u001b[0;34m\u001b[0m\u001b[0;34m\u001b[0m\u001b[0;34m\u001b[0m\u001b[0m\n\u001b[0;32m-> 1867\u001b[0;31m         \u001b[0mself\u001b[0m\u001b[0;34m.\u001b[0m\u001b[0m_open_handles\u001b[0m\u001b[0;34m(\u001b[0m\u001b[0msrc\u001b[0m\u001b[0;34m,\u001b[0m \u001b[0mkwds\u001b[0m\u001b[0;34m)\u001b[0m\u001b[0;34m\u001b[0m\u001b[0;34m\u001b[0m\u001b[0m\n\u001b[0m\u001b[1;32m   1868\u001b[0m         \u001b[0;32massert\u001b[0m \u001b[0mself\u001b[0m\u001b[0;34m.\u001b[0m\u001b[0mhandles\u001b[0m \u001b[0;32mis\u001b[0m \u001b[0;32mnot\u001b[0m \u001b[0;32mNone\u001b[0m\u001b[0;34m\u001b[0m\u001b[0;34m\u001b[0m\u001b[0m\n\u001b[1;32m   1869\u001b[0m         \u001b[0;32mfor\u001b[0m \u001b[0mkey\u001b[0m \u001b[0;32min\u001b[0m \u001b[0;34m(\u001b[0m\u001b[0;34m\"storage_options\"\u001b[0m\u001b[0;34m,\u001b[0m \u001b[0;34m\"encoding\"\u001b[0m\u001b[0;34m,\u001b[0m \u001b[0;34m\"memory_map\"\u001b[0m\u001b[0;34m,\u001b[0m \u001b[0;34m\"compression\"\u001b[0m\u001b[0;34m)\u001b[0m\u001b[0;34m:\u001b[0m\u001b[0;34m\u001b[0m\u001b[0;34m\u001b[0m\u001b[0m\n",
      "\u001b[0;32m/Library/Frameworks/Python.framework/Versions/3.9/lib/python3.9/site-packages/pandas/io/parsers.py\u001b[0m in \u001b[0;36m_open_handles\u001b[0;34m(self, src, kwds)\u001b[0m\n\u001b[1;32m   1360\u001b[0m         \u001b[0mLet\u001b[0m \u001b[0mthe\u001b[0m \u001b[0mreaders\u001b[0m \u001b[0mopen\u001b[0m \u001b[0mIOHanldes\u001b[0m \u001b[0mafter\u001b[0m \u001b[0mthey\u001b[0m \u001b[0mare\u001b[0m \u001b[0mdone\u001b[0m \u001b[0;32mwith\u001b[0m \u001b[0mtheir\u001b[0m \u001b[0mpotential\u001b[0m \u001b[0mraises\u001b[0m\u001b[0;34m.\u001b[0m\u001b[0;34m\u001b[0m\u001b[0;34m\u001b[0m\u001b[0m\n\u001b[1;32m   1361\u001b[0m         \"\"\"\n\u001b[0;32m-> 1362\u001b[0;31m         self.handles = get_handle(\n\u001b[0m\u001b[1;32m   1363\u001b[0m             \u001b[0msrc\u001b[0m\u001b[0;34m,\u001b[0m\u001b[0;34m\u001b[0m\u001b[0;34m\u001b[0m\u001b[0m\n\u001b[1;32m   1364\u001b[0m             \u001b[0;34m\"r\"\u001b[0m\u001b[0;34m,\u001b[0m\u001b[0;34m\u001b[0m\u001b[0;34m\u001b[0m\u001b[0m\n",
      "\u001b[0;32m/Library/Frameworks/Python.framework/Versions/3.9/lib/python3.9/site-packages/pandas/io/common.py\u001b[0m in \u001b[0;36mget_handle\u001b[0;34m(path_or_buf, mode, encoding, compression, memory_map, is_text, errors, storage_options)\u001b[0m\n\u001b[1;32m    640\u001b[0m                 \u001b[0merrors\u001b[0m \u001b[0;34m=\u001b[0m \u001b[0;34m\"replace\"\u001b[0m\u001b[0;34m\u001b[0m\u001b[0;34m\u001b[0m\u001b[0m\n\u001b[1;32m    641\u001b[0m             \u001b[0;31m# Encoding\u001b[0m\u001b[0;34m\u001b[0m\u001b[0;34m\u001b[0m\u001b[0;34m\u001b[0m\u001b[0m\n\u001b[0;32m--> 642\u001b[0;31m             handle = open(\n\u001b[0m\u001b[1;32m    643\u001b[0m                 \u001b[0mhandle\u001b[0m\u001b[0;34m,\u001b[0m\u001b[0;34m\u001b[0m\u001b[0;34m\u001b[0m\u001b[0m\n\u001b[1;32m    644\u001b[0m                 \u001b[0mioargs\u001b[0m\u001b[0;34m.\u001b[0m\u001b[0mmode\u001b[0m\u001b[0;34m,\u001b[0m\u001b[0;34m\u001b[0m\u001b[0;34m\u001b[0m\u001b[0m\n",
      "\u001b[0;31mFileNotFoundError\u001b[0m: [Errno 2] No such file or directory: '/Users/shahriarkabirnooh/Desktop/cmpt459project/src/../data/cases_train.csv'"
     ]
    }
   ],
   "source": [
    "o = os.getcwd()\n",
    "train_data = pd.read_csv(o + \"/../data/cases_train.csv\", parse_dates = True)\n",
    "test_data = pd.read_csv(o + \"/../data/cases_test.csv\", parse_dates = True)\n",
    "# Mac -> / | Windows -> \\\\"
   ]
  },
  {
   "cell_type": "markdown",
   "id": "subsequent-overall",
   "metadata": {},
   "source": [
    "## View of original test data"
   ]
  },
  {
   "cell_type": "code",
   "execution_count": 3,
   "id": "cross-principal",
   "metadata": {},
   "outputs": [
    {
     "output_type": "execute_result",
     "data": {
      "text/plain": [
       "          age     sex           province    country   latitude   longitude  \\\n",
       "0         NaN     NaN              Delhi      India  28.614740   77.209100   \n",
       "1         NaN     NaN      Uttar Pradesh      India  25.436090   81.847180   \n",
       "2         NaN     NaN        Maharashtra      India  18.504220   73.853020   \n",
       "3       15-34  female  Baden-Wurttemberg    Germany  48.120860    7.849500   \n",
       "4         NaN     NaN            Gujarat      India  23.188409   73.647122   \n",
       "...       ...     ...                ...        ...        ...         ...   \n",
       "367631   15.0    male           Santa Fe  Argentina -32.967800  -60.659240   \n",
       "367632    NaN     NaN              Delhi      India  28.614740   77.209100   \n",
       "367633    NaN     NaN        Maharashtra      India  19.200000   72.966670   \n",
       "367634     28  female                NaN  Singapore   1.280224  103.834500   \n",
       "367635    1.0  female            Sullana       Peru  -4.907630  -80.697330   \n",
       "\n",
       "       date_confirmation                             additional_information  \\\n",
       "0             26.05.2020                                                NaN   \n",
       "1             20.05.2020                                                NaN   \n",
       "2             26.05.2020                                                NaN   \n",
       "3             15.03.2020                                                NaN   \n",
       "4             20.05.2020                                                NaN   \n",
       "...                  ...                                                ...   \n",
       "367631        31.03.2020                                                NaN   \n",
       "367632        16.04.2020                                                NaN   \n",
       "367633        30.05.2020                                                NaN   \n",
       "367634        03.02.2020  Case 19; worked at health product shop with ma...   \n",
       "367635        27.05.2020                                                NaN   \n",
       "\n",
       "                                                   source          outcome  \n",
       "0       https://twitter.com/CMODelhi/status/1265203060...        recovered  \n",
       "1                            https://t.me/indiacovid/5222     hospitalized  \n",
       "2                            https://t.me/indiacovid/5601     hospitalized  \n",
       "3                                                     NaN  nonhospitalized  \n",
       "4       https://twitter.com/PIBAhmedabad/status/126311...     hospitalized  \n",
       "...                                                   ...              ...  \n",
       "367631                                                NaN  nonhospitalized  \n",
       "367632  https://twitter.com/ANI/status/125082767765900...     hospitalized  \n",
       "367633  https://arogya.maharashtra.gov.in/pdf/ncovidep...     hospitalized  \n",
       "367634  https://www.moh.gov.sg/news-highlights/details...        recovered  \n",
       "367635                                                NaN  nonhospitalized  \n",
       "\n",
       "[367636 rows x 10 columns]"
      ],
      "text/html": "<div>\n<style scoped>\n    .dataframe tbody tr th:only-of-type {\n        vertical-align: middle;\n    }\n\n    .dataframe tbody tr th {\n        vertical-align: top;\n    }\n\n    .dataframe thead th {\n        text-align: right;\n    }\n</style>\n<table border=\"1\" class=\"dataframe\">\n  <thead>\n    <tr style=\"text-align: right;\">\n      <th></th>\n      <th>age</th>\n      <th>sex</th>\n      <th>province</th>\n      <th>country</th>\n      <th>latitude</th>\n      <th>longitude</th>\n      <th>date_confirmation</th>\n      <th>additional_information</th>\n      <th>source</th>\n      <th>outcome</th>\n    </tr>\n  </thead>\n  <tbody>\n    <tr>\n      <th>0</th>\n      <td>NaN</td>\n      <td>NaN</td>\n      <td>Delhi</td>\n      <td>India</td>\n      <td>28.614740</td>\n      <td>77.209100</td>\n      <td>26.05.2020</td>\n      <td>NaN</td>\n      <td>https://twitter.com/CMODelhi/status/1265203060...</td>\n      <td>recovered</td>\n    </tr>\n    <tr>\n      <th>1</th>\n      <td>NaN</td>\n      <td>NaN</td>\n      <td>Uttar Pradesh</td>\n      <td>India</td>\n      <td>25.436090</td>\n      <td>81.847180</td>\n      <td>20.05.2020</td>\n      <td>NaN</td>\n      <td>https://t.me/indiacovid/5222</td>\n      <td>hospitalized</td>\n    </tr>\n    <tr>\n      <th>2</th>\n      <td>NaN</td>\n      <td>NaN</td>\n      <td>Maharashtra</td>\n      <td>India</td>\n      <td>18.504220</td>\n      <td>73.853020</td>\n      <td>26.05.2020</td>\n      <td>NaN</td>\n      <td>https://t.me/indiacovid/5601</td>\n      <td>hospitalized</td>\n    </tr>\n    <tr>\n      <th>3</th>\n      <td>15-34</td>\n      <td>female</td>\n      <td>Baden-Wurttemberg</td>\n      <td>Germany</td>\n      <td>48.120860</td>\n      <td>7.849500</td>\n      <td>15.03.2020</td>\n      <td>NaN</td>\n      <td>NaN</td>\n      <td>nonhospitalized</td>\n    </tr>\n    <tr>\n      <th>4</th>\n      <td>NaN</td>\n      <td>NaN</td>\n      <td>Gujarat</td>\n      <td>India</td>\n      <td>23.188409</td>\n      <td>73.647122</td>\n      <td>20.05.2020</td>\n      <td>NaN</td>\n      <td>https://twitter.com/PIBAhmedabad/status/126311...</td>\n      <td>hospitalized</td>\n    </tr>\n    <tr>\n      <th>...</th>\n      <td>...</td>\n      <td>...</td>\n      <td>...</td>\n      <td>...</td>\n      <td>...</td>\n      <td>...</td>\n      <td>...</td>\n      <td>...</td>\n      <td>...</td>\n      <td>...</td>\n    </tr>\n    <tr>\n      <th>367631</th>\n      <td>15.0</td>\n      <td>male</td>\n      <td>Santa Fe</td>\n      <td>Argentina</td>\n      <td>-32.967800</td>\n      <td>-60.659240</td>\n      <td>31.03.2020</td>\n      <td>NaN</td>\n      <td>NaN</td>\n      <td>nonhospitalized</td>\n    </tr>\n    <tr>\n      <th>367632</th>\n      <td>NaN</td>\n      <td>NaN</td>\n      <td>Delhi</td>\n      <td>India</td>\n      <td>28.614740</td>\n      <td>77.209100</td>\n      <td>16.04.2020</td>\n      <td>NaN</td>\n      <td>https://twitter.com/ANI/status/125082767765900...</td>\n      <td>hospitalized</td>\n    </tr>\n    <tr>\n      <th>367633</th>\n      <td>NaN</td>\n      <td>NaN</td>\n      <td>Maharashtra</td>\n      <td>India</td>\n      <td>19.200000</td>\n      <td>72.966670</td>\n      <td>30.05.2020</td>\n      <td>NaN</td>\n      <td>https://arogya.maharashtra.gov.in/pdf/ncovidep...</td>\n      <td>hospitalized</td>\n    </tr>\n    <tr>\n      <th>367634</th>\n      <td>28</td>\n      <td>female</td>\n      <td>NaN</td>\n      <td>Singapore</td>\n      <td>1.280224</td>\n      <td>103.834500</td>\n      <td>03.02.2020</td>\n      <td>Case 19; worked at health product shop with ma...</td>\n      <td>https://www.moh.gov.sg/news-highlights/details...</td>\n      <td>recovered</td>\n    </tr>\n    <tr>\n      <th>367635</th>\n      <td>1.0</td>\n      <td>female</td>\n      <td>Sullana</td>\n      <td>Peru</td>\n      <td>-4.907630</td>\n      <td>-80.697330</td>\n      <td>27.05.2020</td>\n      <td>NaN</td>\n      <td>NaN</td>\n      <td>nonhospitalized</td>\n    </tr>\n  </tbody>\n</table>\n<p>367636 rows × 10 columns</p>\n</div>"
     },
     "metadata": {},
     "execution_count": 3
    }
   ],
   "source": [
    "train_data"
   ]
  },
  {
   "cell_type": "markdown",
   "id": "premium-event",
   "metadata": {},
   "source": [
    "## Data Visualization"
   ]
  },
  {
   "cell_type": "code",
   "execution_count": null,
   "id": "casual-joining",
   "metadata": {},
   "outputs": [],
   "source": []
  },
  {
   "cell_type": "code",
   "execution_count": null,
   "id": "informational-integrity",
   "metadata": {},
   "outputs": [],
   "source": []
  },
  {
   "cell_type": "markdown",
   "id": "steady-arcade",
   "metadata": {},
   "source": [
    "## Number of Missing Values in Test Data"
   ]
  },
  {
   "cell_type": "code",
   "execution_count": 6,
   "id": "presidential-surfing",
   "metadata": {},
   "outputs": [
    {
     "output_type": "error",
     "ename": "NameError",
     "evalue": "name 'train_data' is not defined",
     "traceback": [
      "\u001b[0;31m---------------------------------------------------------------------------\u001b[0m",
      "\u001b[0;31mNameError\u001b[0m                                 Traceback (most recent call last)",
      "\u001b[0;32m<ipython-input-6-12e5e56d1477>\u001b[0m in \u001b[0;36m<module>\u001b[0;34m\u001b[0m\n\u001b[0;32m----> 1\u001b[0;31m \u001b[0mnum_na\u001b[0m \u001b[0;34m=\u001b[0m \u001b[0mtrain_data\u001b[0m\u001b[0;34m.\u001b[0m\u001b[0misna\u001b[0m\u001b[0;34m(\u001b[0m\u001b[0;34m)\u001b[0m\u001b[0;34m.\u001b[0m\u001b[0msum\u001b[0m\u001b[0;34m(\u001b[0m\u001b[0;34m)\u001b[0m\u001b[0;34m\u001b[0m\u001b[0;34m\u001b[0m\u001b[0m\n\u001b[0m\u001b[1;32m      2\u001b[0m \u001b[0mtotal\u001b[0m \u001b[0;34m=\u001b[0m \u001b[0mlen\u001b[0m\u001b[0;34m(\u001b[0m\u001b[0mtrain_data\u001b[0m\u001b[0;34m)\u001b[0m\u001b[0;34m\u001b[0m\u001b[0;34m\u001b[0m\u001b[0m\n\u001b[1;32m      3\u001b[0m \u001b[0mprint\u001b[0m\u001b[0;34m(\u001b[0m\u001b[0;34m\"Number of missing Values: \"\u001b[0m\u001b[0;34m,\u001b[0m \u001b[0mnum_na\u001b[0m\u001b[0;34m)\u001b[0m\u001b[0;34m\u001b[0m\u001b[0;34m\u001b[0m\u001b[0m\n\u001b[1;32m      4\u001b[0m \u001b[0mprint\u001b[0m\u001b[0;34m(\u001b[0m\u001b[0;34m\"Percentage of missing values: \"\u001b[0m\u001b[0;34m,\u001b[0m \u001b[0mround\u001b[0m\u001b[0;34m(\u001b[0m\u001b[0mnum_na\u001b[0m\u001b[0;34m/\u001b[0m\u001b[0mtotal\u001b[0m\u001b[0;34m,\u001b[0m \u001b[0;36m2\u001b[0m\u001b[0;34m)\u001b[0m\u001b[0;34m)\u001b[0m\u001b[0;34m\u001b[0m\u001b[0;34m\u001b[0m\u001b[0m\n\u001b[1;32m      5\u001b[0m \u001b[0mprint\u001b[0m\u001b[0;34m(\u001b[0m\u001b[0;34m\"\"\u001b[0m\u001b[0;34m)\u001b[0m\u001b[0;34m\u001b[0m\u001b[0;34m\u001b[0m\u001b[0m\n",
      "\u001b[0;31mNameError\u001b[0m: name 'train_data' is not defined"
     ]
    }
   ],
   "source": [
    "num_na = train_data.isna().sum()\n",
    "total = len(train_data)\n",
    "print(\"Number of missing Values: \", num_na)\n",
    "print(\"Percentage of missing values: \", round(num_na/total, 2))\n",
    "print(\"\")\n",
    "\n",
    "print(\"Test data additional stats:\")\n",
    "print(\"Number of unique latitude values: \", test_data['latitude'].nunique())\n",
    "print(\"Number of unique longitude values: \", test_data['longitude'].nunique())\n",
    "print(\"Number of unique province values: \", test_data['province'].nunique())\n",
    "print(\"Number of unique country values: \", test_data['country'].nunique())\n",
    "print(\"\")\n",
    "\n",
    "print(\"Train data additional stats:\")\n",
    "print(\"Number of unique latitude values: \", train_data['latitude'].nunique())\n",
    "print(\"Number of unique longitude values: \", train_data['longitude'].nunique())\n",
    "print(\"Number of unique province values: \", train_data['province'].nunique())\n",
    "print(\"Number of unique country values: \", train_data['country'].nunique())"
   ]
  },
  {
   "cell_type": "code",
   "execution_count": 5,
   "id": "breeding-details",
   "metadata": {},
   "outputs": [
    {
     "data": {
      "text/plain": [
       "male      88635\n",
       "female    71917\n",
       "Name: sex, dtype: int64"
      ]
     },
     "execution_count": 5,
     "metadata": {},
     "output_type": "execute_result"
    }
   ],
   "source": [
    "train_data['sex'].value_counts()"
   ]
  },
  {
   "cell_type": "code",
   "execution_count": 6,
   "id": "limiting-stanley",
   "metadata": {},
   "outputs": [
    {
     "data": {
      "text/plain": [
       "209265"
      ]
     },
     "execution_count": 6,
     "metadata": {},
     "output_type": "execute_result"
    }
   ],
   "source": [
    "train_data['age'].isnull().sum()"
   ]
  },
  {
   "source": [
    "# Join datasets according to given specs"
   ],
   "cell_type": "markdown",
   "metadata": {}
  },
  {
   "cell_type": "code",
   "execution_count": 17,
   "metadata": {},
   "outputs": [
    {
     "output_type": "stream",
     "name": "stdout",
     "text": [
      "Join 1 statistics:\n",
      "\n",
      "Number of missing Values for Join1:  province_x               951244\n",
      "country_x                     0\n",
      "latitude                      0\n",
      "longitude                     0\n",
      "date_confirmation_x        1824\n",
      "source_x                 337467\n",
      "outcome_x                     0\n",
      "province_y               951247\n",
      "country_y                     0\n",
      "date_confirmation_y        1519\n",
      "source_y                 295667\n",
      "outcome_y              52567136\n",
      "dtype: int64\n",
      "Percentage of missing values for Join1:  province_x               2.59\n",
      "country_x                0.00\n",
      "latitude                 0.00\n",
      "longitude                0.00\n",
      "date_confirmation_x      0.00\n",
      "source_x                 0.92\n",
      "outcome_x                0.00\n",
      "province_y               2.59\n",
      "country_y                0.00\n",
      "date_confirmation_y      0.00\n",
      "source_y                 0.80\n",
      "outcome_y              142.99\n",
      "dtype: float64\n"
     ]
    }
   ],
   "source": [
    "join1 = pd.merge(train_data.drop(['age', 'sex', 'additional_information'], axis=1), test_data.drop(['age', 'sex', 'additional_information'], axis=1), how='inner', on=[\"latitude\", \"longitude\"])\n",
    "\n",
    "print(\"Join 1 statistics:\\n\")\n",
    "j1_na = join1.isna().sum()\n",
    "j1_total = len(join1)\n",
    "print(\"Number of missing Values for Join1: \", j1_na)\n",
    "print(\"Percentage of missing values for Join1: \", round(j1_na/total, 2))"
   ]
  },
  {
   "cell_type": "code",
   "execution_count": 14,
   "metadata": {},
   "outputs": [
    {
     "output_type": "execute_result",
     "data": {
      "text/plain": [
       "         age_x   sex_x   province_x  country_x   latitude  longitude  \\\n",
       "0          NaN     NaN        Delhi      India  28.614740   77.20910   \n",
       "1          NaN     NaN        Delhi      India  28.614740   77.20910   \n",
       "2          NaN     NaN        Delhi      India  28.614740   77.20910   \n",
       "3          NaN     NaN        Delhi      India  28.614740   77.20910   \n",
       "4          NaN     NaN        Delhi      India  28.614740   77.20910   \n",
       "...        ...     ...          ...        ...        ...        ...   \n",
       "52880889   NaN     NaN        Delhi      India  28.614740   77.20910   \n",
       "52880890   NaN     NaN        Delhi      India  28.614740   77.20910   \n",
       "52880891   NaN     NaN  Maharashtra      India  19.200000   72.96667   \n",
       "52880892    28  female          NaN  Singapore   1.280224  103.83450   \n",
       "52880893   1.0  female      Sullana       Peru  -4.907630  -80.69733   \n",
       "\n",
       "         date_confirmation_x  \\\n",
       "0                 26.05.2020   \n",
       "1                 26.05.2020   \n",
       "2                 26.05.2020   \n",
       "3                 26.05.2020   \n",
       "4                 26.05.2020   \n",
       "...                      ...   \n",
       "52880889          16.04.2020   \n",
       "52880890          16.04.2020   \n",
       "52880891          30.05.2020   \n",
       "52880892          03.02.2020   \n",
       "52880893          27.05.2020   \n",
       "\n",
       "                                   additional_information_x  \\\n",
       "0                                                       NaN   \n",
       "1                                                       NaN   \n",
       "2                                                       NaN   \n",
       "3                                                       NaN   \n",
       "4                                                       NaN   \n",
       "...                                                     ...   \n",
       "52880889                                                NaN   \n",
       "52880890                                                NaN   \n",
       "52880891                                                NaN   \n",
       "52880892  Case 19; worked at health product shop with ma...   \n",
       "52880893                                                NaN   \n",
       "\n",
       "                                                   source_x        outcome_x  \\\n",
       "0         https://twitter.com/CMODelhi/status/1265203060...        recovered   \n",
       "1         https://twitter.com/CMODelhi/status/1265203060...        recovered   \n",
       "2         https://twitter.com/CMODelhi/status/1265203060...        recovered   \n",
       "3         https://twitter.com/CMODelhi/status/1265203060...        recovered   \n",
       "4         https://twitter.com/CMODelhi/status/1265203060...        recovered   \n",
       "...                                                     ...              ...   \n",
       "52880889  https://twitter.com/ANI/status/125082767765900...     hospitalized   \n",
       "52880890  https://twitter.com/ANI/status/125082767765900...     hospitalized   \n",
       "52880891  https://arogya.maharashtra.gov.in/pdf/ncovidep...     hospitalized   \n",
       "52880892  https://www.moh.gov.sg/news-highlights/details...        recovered   \n",
       "52880893                                                NaN  nonhospitalized   \n",
       "\n",
       "         age_y sex_y province_y country_y date_confirmation_y  \\\n",
       "0          NaN   NaN      Delhi     India          22.05.2020   \n",
       "1          NaN   NaN      Delhi     India          31.05.2020   \n",
       "2          NaN   NaN      Delhi     India          07.05.2020   \n",
       "3          NaN   NaN      Delhi     India          14.05.2020   \n",
       "4          NaN   NaN      Delhi     India          21.04.2020   \n",
       "...        ...   ...        ...       ...                 ...   \n",
       "52880889   NaN   NaN      Delhi     India          20.05.2020   \n",
       "52880890   NaN   NaN      Delhi     India          26.05.2020   \n",
       "52880891   NaN   NaN        NaN       NaN                 NaN   \n",
       "52880892   NaN   NaN        NaN       NaN                 NaN   \n",
       "52880893   NaN   NaN        NaN       NaN                 NaN   \n",
       "\n",
       "         additional_information_y  \\\n",
       "0                             NaN   \n",
       "1                             NaN   \n",
       "2                             NaN   \n",
       "3                             NaN   \n",
       "4                             NaN   \n",
       "...                           ...   \n",
       "52880889                      NaN   \n",
       "52880890                      NaN   \n",
       "52880891                      NaN   \n",
       "52880892                      NaN   \n",
       "52880893                      NaN   \n",
       "\n",
       "                                                   source_y  outcome_y  \n",
       "0         https://twitter.com/ANI/status/126372900395889...        NaN  \n",
       "1         https://twitter.com/CMODelhi/status/1267076719...        NaN  \n",
       "2                              https://t.me/indiacovid/4233        NaN  \n",
       "3         https://twitter.com/CMODelhi/status/1260843320...        NaN  \n",
       "4         https://twitter.com/ANI/status/125260493440449...        NaN  \n",
       "...                                                     ...        ...  \n",
       "52880889  https://twitter.com/CMODelhi/status/1263040853...        NaN  \n",
       "52880890  https://twitter.com/CMODelhi/status/1265203060...        NaN  \n",
       "52880891                                                NaN        NaN  \n",
       "52880892                                                NaN        NaN  \n",
       "52880893                                                NaN        NaN  \n",
       "\n",
       "[52880894 rows x 18 columns]"
      ],
      "text/html": "<div>\n<style scoped>\n    .dataframe tbody tr th:only-of-type {\n        vertical-align: middle;\n    }\n\n    .dataframe tbody tr th {\n        vertical-align: top;\n    }\n\n    .dataframe thead th {\n        text-align: right;\n    }\n</style>\n<table border=\"1\" class=\"dataframe\">\n  <thead>\n    <tr style=\"text-align: right;\">\n      <th></th>\n      <th>age_x</th>\n      <th>sex_x</th>\n      <th>province_x</th>\n      <th>country_x</th>\n      <th>latitude</th>\n      <th>longitude</th>\n      <th>date_confirmation_x</th>\n      <th>additional_information_x</th>\n      <th>source_x</th>\n      <th>outcome_x</th>\n      <th>age_y</th>\n      <th>sex_y</th>\n      <th>province_y</th>\n      <th>country_y</th>\n      <th>date_confirmation_y</th>\n      <th>additional_information_y</th>\n      <th>source_y</th>\n      <th>outcome_y</th>\n    </tr>\n  </thead>\n  <tbody>\n    <tr>\n      <th>0</th>\n      <td>NaN</td>\n      <td>NaN</td>\n      <td>Delhi</td>\n      <td>India</td>\n      <td>28.614740</td>\n      <td>77.20910</td>\n      <td>26.05.2020</td>\n      <td>NaN</td>\n      <td>https://twitter.com/CMODelhi/status/1265203060...</td>\n      <td>recovered</td>\n      <td>NaN</td>\n      <td>NaN</td>\n      <td>Delhi</td>\n      <td>India</td>\n      <td>22.05.2020</td>\n      <td>NaN</td>\n      <td>https://twitter.com/ANI/status/126372900395889...</td>\n      <td>NaN</td>\n    </tr>\n    <tr>\n      <th>1</th>\n      <td>NaN</td>\n      <td>NaN</td>\n      <td>Delhi</td>\n      <td>India</td>\n      <td>28.614740</td>\n      <td>77.20910</td>\n      <td>26.05.2020</td>\n      <td>NaN</td>\n      <td>https://twitter.com/CMODelhi/status/1265203060...</td>\n      <td>recovered</td>\n      <td>NaN</td>\n      <td>NaN</td>\n      <td>Delhi</td>\n      <td>India</td>\n      <td>31.05.2020</td>\n      <td>NaN</td>\n      <td>https://twitter.com/CMODelhi/status/1267076719...</td>\n      <td>NaN</td>\n    </tr>\n    <tr>\n      <th>2</th>\n      <td>NaN</td>\n      <td>NaN</td>\n      <td>Delhi</td>\n      <td>India</td>\n      <td>28.614740</td>\n      <td>77.20910</td>\n      <td>26.05.2020</td>\n      <td>NaN</td>\n      <td>https://twitter.com/CMODelhi/status/1265203060...</td>\n      <td>recovered</td>\n      <td>NaN</td>\n      <td>NaN</td>\n      <td>Delhi</td>\n      <td>India</td>\n      <td>07.05.2020</td>\n      <td>NaN</td>\n      <td>https://t.me/indiacovid/4233</td>\n      <td>NaN</td>\n    </tr>\n    <tr>\n      <th>3</th>\n      <td>NaN</td>\n      <td>NaN</td>\n      <td>Delhi</td>\n      <td>India</td>\n      <td>28.614740</td>\n      <td>77.20910</td>\n      <td>26.05.2020</td>\n      <td>NaN</td>\n      <td>https://twitter.com/CMODelhi/status/1265203060...</td>\n      <td>recovered</td>\n      <td>NaN</td>\n      <td>NaN</td>\n      <td>Delhi</td>\n      <td>India</td>\n      <td>14.05.2020</td>\n      <td>NaN</td>\n      <td>https://twitter.com/CMODelhi/status/1260843320...</td>\n      <td>NaN</td>\n    </tr>\n    <tr>\n      <th>4</th>\n      <td>NaN</td>\n      <td>NaN</td>\n      <td>Delhi</td>\n      <td>India</td>\n      <td>28.614740</td>\n      <td>77.20910</td>\n      <td>26.05.2020</td>\n      <td>NaN</td>\n      <td>https://twitter.com/CMODelhi/status/1265203060...</td>\n      <td>recovered</td>\n      <td>NaN</td>\n      <td>NaN</td>\n      <td>Delhi</td>\n      <td>India</td>\n      <td>21.04.2020</td>\n      <td>NaN</td>\n      <td>https://twitter.com/ANI/status/125260493440449...</td>\n      <td>NaN</td>\n    </tr>\n    <tr>\n      <th>...</th>\n      <td>...</td>\n      <td>...</td>\n      <td>...</td>\n      <td>...</td>\n      <td>...</td>\n      <td>...</td>\n      <td>...</td>\n      <td>...</td>\n      <td>...</td>\n      <td>...</td>\n      <td>...</td>\n      <td>...</td>\n      <td>...</td>\n      <td>...</td>\n      <td>...</td>\n      <td>...</td>\n      <td>...</td>\n      <td>...</td>\n    </tr>\n    <tr>\n      <th>52880889</th>\n      <td>NaN</td>\n      <td>NaN</td>\n      <td>Delhi</td>\n      <td>India</td>\n      <td>28.614740</td>\n      <td>77.20910</td>\n      <td>16.04.2020</td>\n      <td>NaN</td>\n      <td>https://twitter.com/ANI/status/125082767765900...</td>\n      <td>hospitalized</td>\n      <td>NaN</td>\n      <td>NaN</td>\n      <td>Delhi</td>\n      <td>India</td>\n      <td>20.05.2020</td>\n      <td>NaN</td>\n      <td>https://twitter.com/CMODelhi/status/1263040853...</td>\n      <td>NaN</td>\n    </tr>\n    <tr>\n      <th>52880890</th>\n      <td>NaN</td>\n      <td>NaN</td>\n      <td>Delhi</td>\n      <td>India</td>\n      <td>28.614740</td>\n      <td>77.20910</td>\n      <td>16.04.2020</td>\n      <td>NaN</td>\n      <td>https://twitter.com/ANI/status/125082767765900...</td>\n      <td>hospitalized</td>\n      <td>NaN</td>\n      <td>NaN</td>\n      <td>Delhi</td>\n      <td>India</td>\n      <td>26.05.2020</td>\n      <td>NaN</td>\n      <td>https://twitter.com/CMODelhi/status/1265203060...</td>\n      <td>NaN</td>\n    </tr>\n    <tr>\n      <th>52880891</th>\n      <td>NaN</td>\n      <td>NaN</td>\n      <td>Maharashtra</td>\n      <td>India</td>\n      <td>19.200000</td>\n      <td>72.96667</td>\n      <td>30.05.2020</td>\n      <td>NaN</td>\n      <td>https://arogya.maharashtra.gov.in/pdf/ncovidep...</td>\n      <td>hospitalized</td>\n      <td>NaN</td>\n      <td>NaN</td>\n      <td>NaN</td>\n      <td>NaN</td>\n      <td>NaN</td>\n      <td>NaN</td>\n      <td>NaN</td>\n      <td>NaN</td>\n    </tr>\n    <tr>\n      <th>52880892</th>\n      <td>28</td>\n      <td>female</td>\n      <td>NaN</td>\n      <td>Singapore</td>\n      <td>1.280224</td>\n      <td>103.83450</td>\n      <td>03.02.2020</td>\n      <td>Case 19; worked at health product shop with ma...</td>\n      <td>https://www.moh.gov.sg/news-highlights/details...</td>\n      <td>recovered</td>\n      <td>NaN</td>\n      <td>NaN</td>\n      <td>NaN</td>\n      <td>NaN</td>\n      <td>NaN</td>\n      <td>NaN</td>\n      <td>NaN</td>\n      <td>NaN</td>\n    </tr>\n    <tr>\n      <th>52880893</th>\n      <td>1.0</td>\n      <td>female</td>\n      <td>Sullana</td>\n      <td>Peru</td>\n      <td>-4.907630</td>\n      <td>-80.69733</td>\n      <td>27.05.2020</td>\n      <td>NaN</td>\n      <td>NaN</td>\n      <td>nonhospitalized</td>\n      <td>NaN</td>\n      <td>NaN</td>\n      <td>NaN</td>\n      <td>NaN</td>\n      <td>NaN</td>\n      <td>NaN</td>\n      <td>NaN</td>\n      <td>NaN</td>\n    </tr>\n  </tbody>\n</table>\n<p>52880894 rows × 18 columns</p>\n</div>"
     },
     "metadata": {},
     "execution_count": 14
    }
   ],
   "source": [
    "join1"
   ]
  },
  {
   "cell_type": "code",
   "execution_count": 18,
   "metadata": {},
   "outputs": [],
   "source": [
    "join2 = pd.merge(train_data.drop(['age', 'sex', 'additional_information'], axis=1), test_data.drop(['age', 'sex', 'additional_information'], axis=1), how='inner', on=[\"province\", \"country\"])\n",
    "\n",
    "print(\"Join 2 statistics:\\n\")\n",
    "j2_na = join2.isna().sum()\n",
    "j2_total = len(join2)\n",
    "print(\"Number of missing Values for Join1: \", j2_na)\n",
    "print(\"Percentage of missing values for Join1: \", round(j2_na/total, 2))"
   ]
  },
  {
   "cell_type": "code",
   "execution_count": null,
   "metadata": {},
   "outputs": [],
   "source": []
  }
 ],
 "metadata": {
  "kernelspec": {
   "name": "python3",
   "display_name": "Python 3.9.2 64-bit",
   "metadata": {
    "interpreter": {
     "hash": "aee8b7b246df8f9039afb4144a1f6fd8d2ca17a180786b69acc140d282b71a49"
    }
   }
  },
  "language_info": {
   "codemirror_mode": {
    "name": "ipython",
    "version": 3
   },
   "file_extension": ".py",
   "mimetype": "text/x-python",
   "name": "python",
   "nbconvert_exporter": "python",
   "pygments_lexer": "ipython3",
   "version": "3.9.2-final"
  }
 },
 "nbformat": 4,
 "nbformat_minor": 5
}