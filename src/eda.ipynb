{
 "cells": [
  {
   "cell_type": "markdown",
   "id": "military-parts",
   "metadata": {},
   "source": [
    "# Early Data Analysis Notebook"
   ]
  },
  {
   "cell_type": "markdown",
   "id": "sublime-comparison",
   "metadata": {},
   "source": [
    "### Imports and loading data"
   ]
  },
  {
   "cell_type": "code",
   "execution_count": 2,
   "id": "interstate-paper",
   "metadata": {},
   "outputs": [],
   "source": [
    "import numpy as np\n",
    "import pandas as pd\n",
    "import matplotlib.pyplot as plt\n",
    "import random\n",
    "import os"
   ]
  },
  {
   "cell_type": "code",
   "execution_count": 3,
   "id": "exotic-million",
   "metadata": {},
   "outputs": [],
   "source": [
    "o = os.getcwd()\n",
    "\n",
    "#Comment out the lines that don't work for your OS\n",
    "\n",
    "#train_data = pd.read_csv(o + \"/../data/cases_train.csv\", parse_dates = True)\n",
    "#data = pd.read_csv(o + \"/../results/cases_train_processed.csv\", parse_dates = True)\n",
    "\n",
    "train_data = pd.read_csv(o + \"\\\\..\\\\data\\\\cases_train.csv\", parse_dates = True)\n",
    "data = pd.read_csv(o + \"\\\\..\\\\results\\\\cases_train_processed.csv\", parse_dates = True)"
   ]
  },
  {
   "cell_type": "markdown",
   "id": "subsequent-overall",
   "metadata": {},
   "source": [
    "## View of original test data"
   ]
  },
  {
   "cell_type": "code",
   "execution_count": 4,
   "id": "cross-principal",
   "metadata": {},
   "outputs": [
    {
     "data": {
      "text/html": [
       "<div>\n",
       "<style scoped>\n",
       "    .dataframe tbody tr th:only-of-type {\n",
       "        vertical-align: middle;\n",
       "    }\n",
       "\n",
       "    .dataframe tbody tr th {\n",
       "        vertical-align: top;\n",
       "    }\n",
       "\n",
       "    .dataframe thead th {\n",
       "        text-align: right;\n",
       "    }\n",
       "</style>\n",
       "<table border=\"1\" class=\"dataframe\">\n",
       "  <thead>\n",
       "    <tr style=\"text-align: right;\">\n",
       "      <th></th>\n",
       "      <th>age</th>\n",
       "      <th>sex</th>\n",
       "      <th>province</th>\n",
       "      <th>country</th>\n",
       "      <th>latitude</th>\n",
       "      <th>longitude</th>\n",
       "      <th>date_confirmation</th>\n",
       "      <th>additional_information</th>\n",
       "      <th>source</th>\n",
       "      <th>outcome</th>\n",
       "    </tr>\n",
       "  </thead>\n",
       "  <tbody>\n",
       "    <tr>\n",
       "      <th>0</th>\n",
       "      <td>NaN</td>\n",
       "      <td>NaN</td>\n",
       "      <td>Delhi</td>\n",
       "      <td>India</td>\n",
       "      <td>28.614740</td>\n",
       "      <td>77.209100</td>\n",
       "      <td>26.05.2020</td>\n",
       "      <td>NaN</td>\n",
       "      <td>https://twitter.com/CMODelhi/status/1265203060...</td>\n",
       "      <td>recovered</td>\n",
       "    </tr>\n",
       "    <tr>\n",
       "      <th>1</th>\n",
       "      <td>NaN</td>\n",
       "      <td>NaN</td>\n",
       "      <td>Uttar Pradesh</td>\n",
       "      <td>India</td>\n",
       "      <td>25.436090</td>\n",
       "      <td>81.847180</td>\n",
       "      <td>20.05.2020</td>\n",
       "      <td>NaN</td>\n",
       "      <td>https://t.me/indiacovid/5222</td>\n",
       "      <td>hospitalized</td>\n",
       "    </tr>\n",
       "    <tr>\n",
       "      <th>2</th>\n",
       "      <td>NaN</td>\n",
       "      <td>NaN</td>\n",
       "      <td>Maharashtra</td>\n",
       "      <td>India</td>\n",
       "      <td>18.504220</td>\n",
       "      <td>73.853020</td>\n",
       "      <td>26.05.2020</td>\n",
       "      <td>NaN</td>\n",
       "      <td>https://t.me/indiacovid/5601</td>\n",
       "      <td>hospitalized</td>\n",
       "    </tr>\n",
       "    <tr>\n",
       "      <th>3</th>\n",
       "      <td>15-34</td>\n",
       "      <td>female</td>\n",
       "      <td>Baden-Wurttemberg</td>\n",
       "      <td>Germany</td>\n",
       "      <td>48.120860</td>\n",
       "      <td>7.849500</td>\n",
       "      <td>15.03.2020</td>\n",
       "      <td>NaN</td>\n",
       "      <td>NaN</td>\n",
       "      <td>nonhospitalized</td>\n",
       "    </tr>\n",
       "    <tr>\n",
       "      <th>4</th>\n",
       "      <td>NaN</td>\n",
       "      <td>NaN</td>\n",
       "      <td>Gujarat</td>\n",
       "      <td>India</td>\n",
       "      <td>23.188409</td>\n",
       "      <td>73.647122</td>\n",
       "      <td>20.05.2020</td>\n",
       "      <td>NaN</td>\n",
       "      <td>https://twitter.com/PIBAhmedabad/status/126311...</td>\n",
       "      <td>hospitalized</td>\n",
       "    </tr>\n",
       "    <tr>\n",
       "      <th>...</th>\n",
       "      <td>...</td>\n",
       "      <td>...</td>\n",
       "      <td>...</td>\n",
       "      <td>...</td>\n",
       "      <td>...</td>\n",
       "      <td>...</td>\n",
       "      <td>...</td>\n",
       "      <td>...</td>\n",
       "      <td>...</td>\n",
       "      <td>...</td>\n",
       "    </tr>\n",
       "    <tr>\n",
       "      <th>367631</th>\n",
       "      <td>15.0</td>\n",
       "      <td>male</td>\n",
       "      <td>Santa Fe</td>\n",
       "      <td>Argentina</td>\n",
       "      <td>-32.967800</td>\n",
       "      <td>-60.659240</td>\n",
       "      <td>31.03.2020</td>\n",
       "      <td>NaN</td>\n",
       "      <td>NaN</td>\n",
       "      <td>nonhospitalized</td>\n",
       "    </tr>\n",
       "    <tr>\n",
       "      <th>367632</th>\n",
       "      <td>NaN</td>\n",
       "      <td>NaN</td>\n",
       "      <td>Delhi</td>\n",
       "      <td>India</td>\n",
       "      <td>28.614740</td>\n",
       "      <td>77.209100</td>\n",
       "      <td>16.04.2020</td>\n",
       "      <td>NaN</td>\n",
       "      <td>https://twitter.com/ANI/status/125082767765900...</td>\n",
       "      <td>hospitalized</td>\n",
       "    </tr>\n",
       "    <tr>\n",
       "      <th>367633</th>\n",
       "      <td>NaN</td>\n",
       "      <td>NaN</td>\n",
       "      <td>Maharashtra</td>\n",
       "      <td>India</td>\n",
       "      <td>19.200000</td>\n",
       "      <td>72.966670</td>\n",
       "      <td>30.05.2020</td>\n",
       "      <td>NaN</td>\n",
       "      <td>https://arogya.maharashtra.gov.in/pdf/ncovidep...</td>\n",
       "      <td>hospitalized</td>\n",
       "    </tr>\n",
       "    <tr>\n",
       "      <th>367634</th>\n",
       "      <td>28</td>\n",
       "      <td>female</td>\n",
       "      <td>NaN</td>\n",
       "      <td>Singapore</td>\n",
       "      <td>1.280224</td>\n",
       "      <td>103.834500</td>\n",
       "      <td>03.02.2020</td>\n",
       "      <td>Case 19; worked at health product shop with ma...</td>\n",
       "      <td>https://www.moh.gov.sg/news-highlights/details...</td>\n",
       "      <td>recovered</td>\n",
       "    </tr>\n",
       "    <tr>\n",
       "      <th>367635</th>\n",
       "      <td>1.0</td>\n",
       "      <td>female</td>\n",
       "      <td>Sullana</td>\n",
       "      <td>Peru</td>\n",
       "      <td>-4.907630</td>\n",
       "      <td>-80.697330</td>\n",
       "      <td>27.05.2020</td>\n",
       "      <td>NaN</td>\n",
       "      <td>NaN</td>\n",
       "      <td>nonhospitalized</td>\n",
       "    </tr>\n",
       "  </tbody>\n",
       "</table>\n",
       "<p>367636 rows × 10 columns</p>\n",
       "</div>"
      ],
      "text/plain": [
       "          age     sex           province    country   latitude   longitude  \\\n",
       "0         NaN     NaN              Delhi      India  28.614740   77.209100   \n",
       "1         NaN     NaN      Uttar Pradesh      India  25.436090   81.847180   \n",
       "2         NaN     NaN        Maharashtra      India  18.504220   73.853020   \n",
       "3       15-34  female  Baden-Wurttemberg    Germany  48.120860    7.849500   \n",
       "4         NaN     NaN            Gujarat      India  23.188409   73.647122   \n",
       "...       ...     ...                ...        ...        ...         ...   \n",
       "367631   15.0    male           Santa Fe  Argentina -32.967800  -60.659240   \n",
       "367632    NaN     NaN              Delhi      India  28.614740   77.209100   \n",
       "367633    NaN     NaN        Maharashtra      India  19.200000   72.966670   \n",
       "367634     28  female                NaN  Singapore   1.280224  103.834500   \n",
       "367635    1.0  female            Sullana       Peru  -4.907630  -80.697330   \n",
       "\n",
       "       date_confirmation                             additional_information  \\\n",
       "0             26.05.2020                                                NaN   \n",
       "1             20.05.2020                                                NaN   \n",
       "2             26.05.2020                                                NaN   \n",
       "3             15.03.2020                                                NaN   \n",
       "4             20.05.2020                                                NaN   \n",
       "...                  ...                                                ...   \n",
       "367631        31.03.2020                                                NaN   \n",
       "367632        16.04.2020                                                NaN   \n",
       "367633        30.05.2020                                                NaN   \n",
       "367634        03.02.2020  Case 19; worked at health product shop with ma...   \n",
       "367635        27.05.2020                                                NaN   \n",
       "\n",
       "                                                   source          outcome  \n",
       "0       https://twitter.com/CMODelhi/status/1265203060...        recovered  \n",
       "1                            https://t.me/indiacovid/5222     hospitalized  \n",
       "2                            https://t.me/indiacovid/5601     hospitalized  \n",
       "3                                                     NaN  nonhospitalized  \n",
       "4       https://twitter.com/PIBAhmedabad/status/126311...     hospitalized  \n",
       "...                                                   ...              ...  \n",
       "367631                                                NaN  nonhospitalized  \n",
       "367632  https://twitter.com/ANI/status/125082767765900...     hospitalized  \n",
       "367633  https://arogya.maharashtra.gov.in/pdf/ncovidep...     hospitalized  \n",
       "367634  https://www.moh.gov.sg/news-highlights/details...        recovered  \n",
       "367635                                                NaN  nonhospitalized  \n",
       "\n",
       "[367636 rows x 10 columns]"
      ]
     },
     "execution_count": 4,
     "metadata": {},
     "output_type": "execute_result"
    }
   ],
   "source": [
    "train_data"
   ]
  },
  {
   "cell_type": "markdown",
   "id": "premium-event",
   "metadata": {},
   "source": [
    "## Data Visualization"
   ]
  },
  {
   "cell_type": "code",
   "execution_count": null,
   "id": "casual-joining",
   "metadata": {},
   "outputs": [],
   "source": []
  },
  {
   "cell_type": "code",
   "execution_count": null,
   "id": "informational-integrity",
   "metadata": {},
   "outputs": [],
   "source": []
  },
  {
   "cell_type": "markdown",
   "id": "steady-arcade",
   "metadata": {},
   "source": [
    "## Number of Missing Values in Test Data"
   ]
  },
  {
   "cell_type": "code",
   "execution_count": 5,
   "id": "presidential-surfing",
   "metadata": {},
   "outputs": [
    {
     "name": "stdout",
     "output_type": "stream",
     "text": [
      "Number of missing Values:  age                       209265\n",
      "sex                       207084\n",
      "province                    4106\n",
      "country                       18\n",
      "latitude                       2\n",
      "longitude                      2\n",
      "date_confirmation            288\n",
      "additional_information    344912\n",
      "source                    128478\n",
      "outcome                        0\n",
      "dtype: int64\n",
      "Percentage of missing values:  age                       0.57\n",
      "sex                       0.56\n",
      "province                  0.01\n",
      "country                   0.00\n",
      "latitude                  0.00\n",
      "longitude                 0.00\n",
      "date_confirmation         0.00\n",
      "additional_information    0.94\n",
      "source                    0.35\n",
      "outcome                   0.00\n",
      "dtype: float64\n",
      "\n",
      "Test data additional stats:\n"
     ]
    },
    {
     "ename": "NameError",
     "evalue": "name 'test_data' is not defined",
     "output_type": "error",
     "traceback": [
      "\u001b[1;31m---------------------------------------------------------------------------\u001b[0m",
      "\u001b[1;31mNameError\u001b[0m                                 Traceback (most recent call last)",
      "\u001b[1;32m<ipython-input-5-12e5e56d1477>\u001b[0m in \u001b[0;36m<module>\u001b[1;34m\u001b[0m\n\u001b[0;32m      6\u001b[0m \u001b[1;33m\u001b[0m\u001b[0m\n\u001b[0;32m      7\u001b[0m \u001b[0mprint\u001b[0m\u001b[1;33m(\u001b[0m\u001b[1;34m\"Test data additional stats:\"\u001b[0m\u001b[1;33m)\u001b[0m\u001b[1;33m\u001b[0m\u001b[1;33m\u001b[0m\u001b[0m\n\u001b[1;32m----> 8\u001b[1;33m \u001b[0mprint\u001b[0m\u001b[1;33m(\u001b[0m\u001b[1;34m\"Number of unique latitude values: \"\u001b[0m\u001b[1;33m,\u001b[0m \u001b[0mtest_data\u001b[0m\u001b[1;33m[\u001b[0m\u001b[1;34m'latitude'\u001b[0m\u001b[1;33m]\u001b[0m\u001b[1;33m.\u001b[0m\u001b[0mnunique\u001b[0m\u001b[1;33m(\u001b[0m\u001b[1;33m)\u001b[0m\u001b[1;33m)\u001b[0m\u001b[1;33m\u001b[0m\u001b[1;33m\u001b[0m\u001b[0m\n\u001b[0m\u001b[0;32m      9\u001b[0m \u001b[0mprint\u001b[0m\u001b[1;33m(\u001b[0m\u001b[1;34m\"Number of unique longitude values: \"\u001b[0m\u001b[1;33m,\u001b[0m \u001b[0mtest_data\u001b[0m\u001b[1;33m[\u001b[0m\u001b[1;34m'longitude'\u001b[0m\u001b[1;33m]\u001b[0m\u001b[1;33m.\u001b[0m\u001b[0mnunique\u001b[0m\u001b[1;33m(\u001b[0m\u001b[1;33m)\u001b[0m\u001b[1;33m)\u001b[0m\u001b[1;33m\u001b[0m\u001b[1;33m\u001b[0m\u001b[0m\n\u001b[0;32m     10\u001b[0m \u001b[0mprint\u001b[0m\u001b[1;33m(\u001b[0m\u001b[1;34m\"Number of unique province values: \"\u001b[0m\u001b[1;33m,\u001b[0m \u001b[0mtest_data\u001b[0m\u001b[1;33m[\u001b[0m\u001b[1;34m'province'\u001b[0m\u001b[1;33m]\u001b[0m\u001b[1;33m.\u001b[0m\u001b[0mnunique\u001b[0m\u001b[1;33m(\u001b[0m\u001b[1;33m)\u001b[0m\u001b[1;33m)\u001b[0m\u001b[1;33m\u001b[0m\u001b[1;33m\u001b[0m\u001b[0m\n",
      "\u001b[1;31mNameError\u001b[0m: name 'test_data' is not defined"
     ]
    }
   ],
   "source": [
    "num_na = train_data.isna().sum()\n",
    "total = len(train_data)\n",
    "print(\"Number of missing Values: \", num_na)\n",
    "print(\"Percentage of missing values: \", round(num_na/total, 2))\n",
    "print(\"\")\n",
    "\n",
    "print(\"Test data additional stats:\")\n",
    "print(\"Number of unique latitude values: \", test_data['latitude'].nunique())\n",
    "print(\"Number of unique longitude values: \", test_data['longitude'].nunique())\n",
    "print(\"Number of unique province values: \", test_data['province'].nunique())\n",
    "print(\"Number of unique country values: \", test_data['country'].nunique())\n",
    "print(\"\")\n",
    "\n",
    "print(\"Train data additional stats:\")\n",
    "print(\"Number of unique latitude values: \", train_data['latitude'].nunique())\n",
    "print(\"Number of unique longitude values: \", train_data['longitude'].nunique())\n",
    "print(\"Number of unique province values: \", train_data['province'].nunique())\n",
    "print(\"Number of unique country values: \", train_data['country'].nunique())"
   ]
  },
  {
   "cell_type": "code",
   "execution_count": 6,
   "id": "breeding-details",
   "metadata": {},
   "outputs": [
    {
     "data": {
      "text/plain": [
       "male      88635\n",
       "female    71917\n",
       "Name: sex, dtype: int64"
      ]
     },
     "execution_count": 6,
     "metadata": {},
     "output_type": "execute_result"
    }
   ],
   "source": [
    "train_data['sex'].value_counts()"
   ]
  },
  {
   "cell_type": "code",
   "execution_count": 7,
   "id": "limiting-stanley",
   "metadata": {},
   "outputs": [
    {
     "data": {
      "text/plain": [
       "209265"
      ]
     },
     "execution_count": 7,
     "metadata": {},
     "output_type": "execute_result"
    }
   ],
   "source": [
    "train_data['age'].isnull().sum()"
   ]
  },
  {
   "cell_type": "code",
   "execution_count": 8,
   "id": "female-works",
   "metadata": {},
   "outputs": [
    {
     "data": {
      "text/plain": [
       "array([[<AxesSubplot:title={'center':'age'}>]], dtype=object)"
      ]
     },
     "execution_count": 8,
     "metadata": {},
     "output_type": "execute_result"
    },
    {
     "data": {
      "image/png": "[encoded data removed]",
      "text/plain": [
       "<Figure size 432x288 with 1 Axes>"
      ]
     },
     "metadata": {
      "needs_background": "light"
     },
     "output_type": "display_data"
    }
   ],
   "source": [
    "data.hist(column='age')"
   ]
  },
  {
   "cell_type": "code",
   "execution_count": 9,
   "id": "underlying-container",
   "metadata": {},
   "outputs": [],
   "source": [
    "mean = data['age'].mean()\n",
    "std = data['age'].std()\n",
    "cutoff = std * 3\n",
    "lower_bound, upper_bound = mean + cutoff, mean - cutoff"
   ]
  },
  {
   "cell_type": "code",
   "execution_count": 10,
   "id": "infrared-egyptian",
   "metadata": {},
   "outputs": [
    {
     "data": {
      "text/plain": [
       "<AxesSubplot:xlabel='longitude', ylabel='latitude'>"
      ]
     },
     "execution_count": 10,
     "metadata": {},
     "output_type": "execute_result"
    },
    {
     "data": {
      "image/png": "[encoded data removed]",
      "text/plain": [
       "<Figure size 432x288 with 1 Axes>"
      ]
     },
     "metadata": {
      "needs_background": "light"
     },
     "output_type": "display_data"
    }
   ],
   "source": [
    "data.plot.scatter(x='longitude', y='latitude')"
   ]
  },
  {
   "cell_type": "code",
   "execution_count": 11,
   "id": "early-small",
   "metadata": {},
   "outputs": [
    {
     "data": {
      "text/plain": [
       "array([[<AxesSubplot:title={'center':'latitude'}>]], dtype=object)"
      ]
     },
     "execution_count": 11,
     "metadata": {},
     "output_type": "execute_result"
    },
    {
     "data": {
      "image/png": "[encoded data removed]",
      "text/plain": [
       "<Figure size 432x288 with 1 Axes>"
      ]
     },
     "metadata": {
      "needs_background": "light"
     },
     "output_type": "display_data"
    }
   ],
   "source": [
    "data.hist(column='latitude')"
   ]
  },
  {
   "cell_type": "code",
   "execution_count": 12,
   "id": "nasty-driving",
   "metadata": {},
   "outputs": [
    {
     "data": {
      "text/plain": [
       "array([[<AxesSubplot:title={'center':'longitude'}>]], dtype=object)"
      ]
     },
     "execution_count": 12,
     "metadata": {},
     "output_type": "execute_result"
    },
    {
     "data": {
      "image/png": "[encoded data removed]",
      "text/plain": [
       "<Figure size 432x288 with 1 Axes>"
      ]
     },
     "metadata": {
      "needs_background": "light"
     },
     "output_type": "display_data"
    }
   ],
   "source": [
    "data.hist(column='longitude')"
   ]
  },
  {
   "cell_type": "code",
   "execution_count": 13,
   "id": "upper-bubble",
   "metadata": {},
   "outputs": [
    {
     "data": {
      "text/plain": [
       "31.3217878546384"
      ]
     },
     "execution_count": 13,
     "metadata": {},
     "output_type": "execute_result"
    }
   ],
   "source": [
    "data['longitude'].mean()"
   ]
  },
  {
   "cell_type": "code",
   "execution_count": 14,
   "id": "interesting-characterization",
   "metadata": {},
   "outputs": [
    {
     "data": {
      "text/plain": [
       "65.99746521372961"
      ]
     },
     "execution_count": 14,
     "metadata": {},
     "output_type": "execute_result"
    }
   ],
   "source": [
    "data['longitude'].std()"
   ]
  },
  {
   "cell_type": "code",
   "execution_count": 15,
   "id": "executed-birth",
   "metadata": {},
   "outputs": [
    {
     "data": {
      "text/plain": [
       "-101"
      ]
     },
     "execution_count": 15,
     "metadata": {},
     "output_type": "execute_result"
    }
   ],
   "source": [
    "31-66-66"
   ]
  },
  {
   "cell_type": "code",
   "execution_count": null,
   "id": "guided-trailer",
   "metadata": {},
   "outputs": [],
   "source": []
  }
 ],
 "metadata": {
  "kernelspec": {
   "display_name": "Python 3",
   "language": "python",
   "name": "python3"
  },
  "language_info": {
   "codemirror_mode": {
    "name": "ipython",
    "version": 3
   },
   "file_extension": ".py",
   "mimetype": "text/x-python",
   "name": "python",
   "nbconvert_exporter": "python",
   "pygments_lexer": "ipython3",
   "version": "3.9.1"
  }
 },
 "nbformat": 4,
 "nbformat_minor": 5
}
