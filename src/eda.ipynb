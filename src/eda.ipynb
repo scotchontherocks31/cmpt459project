{
 "cells": [
  {
   "cell_type": "markdown",
   "id": "military-parts",
   "metadata": {},
   "source": [
    "# Early Data Analysis Notebook"
   ]
  },
  {
   "cell_type": "markdown",
   "id": "sublime-comparison",
   "metadata": {},
   "source": [
    "### Imports and loading data"
   ]
  },
  {
   "cell_type": "code",
   "execution_count": 1,
   "id": "interstate-paper",
   "metadata": {},
   "outputs": [],
   "source": [
    "import numpy as np\n",
    "import pandas as pd\n",
    "import matplotlib.pyplot as plt\n",
    "import random\n",
    "import os"
   ]
  },
  {
   "cell_type": "code",
   "execution_count": 2,
   "id": "exotic-million",
   "metadata": {},
   "outputs": [],
   "source": [
    "o = os.getcwd()\n",
    "train_data = pd.read_csv(o + \"/../data/cases_train.csv\", parse_dates = True)\n",
    "test_data = pd.read_csv(o + \"/../data/cases_test.csv\", parse_dates = True)\n",
    "location_data= pd.read_csv(o + \"/../data/location.csv\", parse_dates = True)\n",
    "# Mac -> / | Windows -> \\\\"
   ]
  },
  {
   "cell_type": "markdown",
   "id": "subsequent-overall",
   "metadata": {},
   "source": [
    "## View of original test data"
   ]
  },
  {
   "cell_type": "code",
   "execution_count": 3,
   "id": "cross-principal",
   "metadata": {},
   "outputs": [
    {
     "output_type": "execute_result",
     "data": {
      "text/plain": [
       "          age     sex           province    country   latitude   longitude  \\\n",
       "0         NaN     NaN              Delhi      India  28.614740   77.209100   \n",
       "1         NaN     NaN      Uttar Pradesh      India  25.436090   81.847180   \n",
       "2         NaN     NaN        Maharashtra      India  18.504220   73.853020   \n",
       "3       15-34  female  Baden-Wurttemberg    Germany  48.120860    7.849500   \n",
       "4         NaN     NaN            Gujarat      India  23.188409   73.647122   \n",
       "...       ...     ...                ...        ...        ...         ...   \n",
       "367631   15.0    male           Santa Fe  Argentina -32.967800  -60.659240   \n",
       "367632    NaN     NaN              Delhi      India  28.614740   77.209100   \n",
       "367633    NaN     NaN        Maharashtra      India  19.200000   72.966670   \n",
       "367634     28  female                NaN  Singapore   1.280224  103.834500   \n",
       "367635    1.0  female            Sullana       Peru  -4.907630  -80.697330   \n",
       "\n",
       "       date_confirmation                             additional_information  \\\n",
       "0             26.05.2020                                                NaN   \n",
       "1             20.05.2020                                                NaN   \n",
       "2             26.05.2020                                                NaN   \n",
       "3             15.03.2020                                                NaN   \n",
       "4             20.05.2020                                                NaN   \n",
       "...                  ...                                                ...   \n",
       "367631        31.03.2020                                                NaN   \n",
       "367632        16.04.2020                                                NaN   \n",
       "367633        30.05.2020                                                NaN   \n",
       "367634        03.02.2020  Case 19; worked at health product shop with ma...   \n",
       "367635        27.05.2020                                                NaN   \n",
       "\n",
       "                                                   source          outcome  \n",
       "0       https://twitter.com/CMODelhi/status/1265203060...        recovered  \n",
       "1                            https://t.me/indiacovid/5222     hospitalized  \n",
       "2                            https://t.me/indiacovid/5601     hospitalized  \n",
       "3                                                     NaN  nonhospitalized  \n",
       "4       https://twitter.com/PIBAhmedabad/status/126311...     hospitalized  \n",
       "...                                                   ...              ...  \n",
       "367631                                                NaN  nonhospitalized  \n",
       "367632  https://twitter.com/ANI/status/125082767765900...     hospitalized  \n",
       "367633  https://arogya.maharashtra.gov.in/pdf/ncovidep...     hospitalized  \n",
       "367634  https://www.moh.gov.sg/news-highlights/details...        recovered  \n",
       "367635                                                NaN  nonhospitalized  \n",
       "\n",
       "[367636 rows x 10 columns]"
      ],
      "text/html": "<div>\n<style scoped>\n    .dataframe tbody tr th:only-of-type {\n        vertical-align: middle;\n    }\n\n    .dataframe tbody tr th {\n        vertical-align: top;\n    }\n\n    .dataframe thead th {\n        text-align: right;\n    }\n</style>\n<table border=\"1\" class=\"dataframe\">\n  <thead>\n    <tr style=\"text-align: right;\">\n      <th></th>\n      <th>age</th>\n      <th>sex</th>\n      <th>province</th>\n      <th>country</th>\n      <th>latitude</th>\n      <th>longitude</th>\n      <th>date_confirmation</th>\n      <th>additional_information</th>\n      <th>source</th>\n      <th>outcome</th>\n    </tr>\n  </thead>\n  <tbody>\n    <tr>\n      <th>0</th>\n      <td>NaN</td>\n      <td>NaN</td>\n      <td>Delhi</td>\n      <td>India</td>\n      <td>28.614740</td>\n      <td>77.209100</td>\n      <td>26.05.2020</td>\n      <td>NaN</td>\n      <td>https://twitter.com/CMODelhi/status/1265203060...</td>\n      <td>recovered</td>\n    </tr>\n    <tr>\n      <th>1</th>\n      <td>NaN</td>\n      <td>NaN</td>\n      <td>Uttar Pradesh</td>\n      <td>India</td>\n      <td>25.436090</td>\n      <td>81.847180</td>\n      <td>20.05.2020</td>\n      <td>NaN</td>\n      <td>https://t.me/indiacovid/5222</td>\n      <td>hospitalized</td>\n    </tr>\n    <tr>\n      <th>2</th>\n      <td>NaN</td>\n      <td>NaN</td>\n      <td>Maharashtra</td>\n      <td>India</td>\n      <td>18.504220</td>\n      <td>73.853020</td>\n      <td>26.05.2020</td>\n      <td>NaN</td>\n      <td>https://t.me/indiacovid/5601</td>\n      <td>hospitalized</td>\n    </tr>\n    <tr>\n      <th>3</th>\n      <td>15-34</td>\n      <td>female</td>\n      <td>Baden-Wurttemberg</td>\n      <td>Germany</td>\n      <td>48.120860</td>\n      <td>7.849500</td>\n      <td>15.03.2020</td>\n      <td>NaN</td>\n      <td>NaN</td>\n      <td>nonhospitalized</td>\n    </tr>\n    <tr>\n      <th>4</th>\n      <td>NaN</td>\n      <td>NaN</td>\n      <td>Gujarat</td>\n      <td>India</td>\n      <td>23.188409</td>\n      <td>73.647122</td>\n      <td>20.05.2020</td>\n      <td>NaN</td>\n      <td>https://twitter.com/PIBAhmedabad/status/126311...</td>\n      <td>hospitalized</td>\n    </tr>\n    <tr>\n      <th>...</th>\n      <td>...</td>\n      <td>...</td>\n      <td>...</td>\n      <td>...</td>\n      <td>...</td>\n      <td>...</td>\n      <td>...</td>\n      <td>...</td>\n      <td>...</td>\n      <td>...</td>\n    </tr>\n    <tr>\n      <th>367631</th>\n      <td>15.0</td>\n      <td>male</td>\n      <td>Santa Fe</td>\n      <td>Argentina</td>\n      <td>-32.967800</td>\n      <td>-60.659240</td>\n      <td>31.03.2020</td>\n      <td>NaN</td>\n      <td>NaN</td>\n      <td>nonhospitalized</td>\n    </tr>\n    <tr>\n      <th>367632</th>\n      <td>NaN</td>\n      <td>NaN</td>\n      <td>Delhi</td>\n      <td>India</td>\n      <td>28.614740</td>\n      <td>77.209100</td>\n      <td>16.04.2020</td>\n      <td>NaN</td>\n      <td>https://twitter.com/ANI/status/125082767765900...</td>\n      <td>hospitalized</td>\n    </tr>\n    <tr>\n      <th>367633</th>\n      <td>NaN</td>\n      <td>NaN</td>\n      <td>Maharashtra</td>\n      <td>India</td>\n      <td>19.200000</td>\n      <td>72.966670</td>\n      <td>30.05.2020</td>\n      <td>NaN</td>\n      <td>https://arogya.maharashtra.gov.in/pdf/ncovidep...</td>\n      <td>hospitalized</td>\n    </tr>\n    <tr>\n      <th>367634</th>\n      <td>28</td>\n      <td>female</td>\n      <td>NaN</td>\n      <td>Singapore</td>\n      <td>1.280224</td>\n      <td>103.834500</td>\n      <td>03.02.2020</td>\n      <td>Case 19; worked at health product shop with ma...</td>\n      <td>https://www.moh.gov.sg/news-highlights/details...</td>\n      <td>recovered</td>\n    </tr>\n    <tr>\n      <th>367635</th>\n      <td>1.0</td>\n      <td>female</td>\n      <td>Sullana</td>\n      <td>Peru</td>\n      <td>-4.907630</td>\n      <td>-80.697330</td>\n      <td>27.05.2020</td>\n      <td>NaN</td>\n      <td>NaN</td>\n      <td>nonhospitalized</td>\n    </tr>\n  </tbody>\n</table>\n<p>367636 rows × 10 columns</p>\n</div>"
     },
     "metadata": {},
     "execution_count": 3
    }
   ],
   "source": [
    "train_data"
   ]
  },
  {
   "cell_type": "markdown",
   "id": "premium-event",
   "metadata": {},
   "source": [
    "## Data Visualization"
   ]
  },
  {
   "cell_type": "code",
   "execution_count": null,
   "id": "casual-joining",
   "metadata": {},
   "outputs": [],
   "source": []
  },
  {
   "cell_type": "code",
   "execution_count": null,
   "id": "informational-integrity",
   "metadata": {},
   "outputs": [],
   "source": []
  },
  {
   "cell_type": "markdown",
   "id": "steady-arcade",
   "metadata": {},
   "source": [
    "## Number of Missing Values in Test Data"
   ]
  },
  {
   "cell_type": "code",
   "execution_count": 4,
   "id": "presidential-surfing",
   "metadata": {},
   "outputs": [
    {
     "output_type": "stream",
     "name": "stdout",
     "text": [
      "Number of missing Values:  age                       209265\nsex                       207084\nprovince                    4106\ncountry                       18\nlatitude                       2\nlongitude                      2\ndate_confirmation            288\nadditional_information    344912\nsource                    128478\noutcome                        0\ndtype: int64\nPercentage of missing values:  age                       0.57\nsex                       0.56\nprovince                  0.01\ncountry                   0.00\nlatitude                  0.00\nlongitude                 0.00\ndate_confirmation         0.00\nadditional_information    0.94\nsource                    0.35\noutcome                   0.00\ndtype: float64\n\nTest data additional stats:\nNumber of unique latitude values:  3458\nNumber of unique longitude values:  3456\nNumber of unique province values:  749\nNumber of unique country values:  102\n\nTrain data additional stats:\nNumber of unique latitude values:  7297\nNumber of unique longitude values:  7293\nNumber of unique province values:  1106\nNumber of unique country values:  131\n"
     ]
    }
   ],
   "source": [
    "num_na = train_data.isna().sum()\n",
    "total = len(train_data)\n",
    "print(\"Number of missing Values: \", num_na)\n",
    "print(\"Percentage of missing values: \", round(num_na/total, 2))\n",
    "print(\"\")\n",
    "\n",
    "print(\"Test data additional stats:\")\n",
    "print(\"Number of unique latitude values: \", test_data['latitude'].nunique())\n",
    "print(\"Number of unique longitude values: \", test_data['longitude'].nunique())\n",
    "print(\"Number of unique province values: \", test_data['province'].nunique())\n",
    "print(\"Number of unique country values: \", test_data['country'].nunique())\n",
    "print(\"\")\n",
    "\n",
    "print(\"Train data additional stats:\")\n",
    "print(\"Number of unique latitude values: \", train_data['latitude'].nunique())\n",
    "print(\"Number of unique longitude values: \", train_data['longitude'].nunique())\n",
    "print(\"Number of unique province values: \", train_data['province'].nunique())\n",
    "print(\"Number of unique country values: \", train_data['country'].nunique())"
   ]
  },
  {
   "cell_type": "code",
   "execution_count": 5,
   "id": "breeding-details",
   "metadata": {},
   "outputs": [
    {
     "output_type": "execute_result",
     "data": {
      "text/plain": [
       "male      88635\n",
       "female    71917\n",
       "Name: sex, dtype: int64"
      ]
     },
     "metadata": {},
     "execution_count": 5
    }
   ],
   "source": [
    "train_data['sex'].value_counts()"
   ]
  },
  {
   "cell_type": "code",
   "execution_count": 6,
   "id": "limiting-stanley",
   "metadata": {},
   "outputs": [
    {
     "output_type": "execute_result",
     "data": {
      "text/plain": [
       "209265"
      ]
     },
     "metadata": {},
     "execution_count": 6
    }
   ],
   "source": [
    "train_data['age'].isnull().sum()"
   ]
  },
  {
   "source": [
    "# Join datasets according to given specs"
   ],
   "cell_type": "markdown",
   "metadata": {}
  },
  {
   "cell_type": "code",
   "execution_count": 7,
   "metadata": {},
   "outputs": [
    {
     "output_type": "stream",
     "name": "stdout",
     "text": [
      "Join 1 statistics:\n",
      "\n",
      "Number of missing Values for Join1:  province_x               951244\n",
      "country_x                     0\n",
      "latitude                      0\n",
      "longitude                     0\n",
      "date_confirmation_x        1824\n",
      "source_x                 337467\n",
      "outcome_x                     0\n",
      "province_y               951247\n",
      "country_y                     0\n",
      "date_confirmation_y        1519\n",
      "source_y                 295667\n",
      "outcome_y              52567136\n",
      "dtype: int64\n",
      "Percentage of missing values for Join1:  province_x               2.59\n",
      "country_x                0.00\n",
      "latitude                 0.00\n",
      "longitude                0.00\n",
      "date_confirmation_x      0.00\n",
      "source_x                 0.92\n",
      "outcome_x                0.00\n",
      "province_y               2.59\n",
      "country_y                0.00\n",
      "date_confirmation_y      0.00\n",
      "source_y                 0.80\n",
      "outcome_y              142.99\n",
      "dtype: float64\n"
     ]
    }
   ],
   "source": [
    "join1 = pd.merge(train_data.drop(['age', 'sex', 'additional_information'], axis=1), test_data.drop(['age', 'sex', 'additional_information'], axis=1), how='inner', on=[\"latitude\", \"longitude\"])\n",
    "\n",
    "print(\"Join 1 statistics:\\n\")\n",
    "j1_na = join1.isna().sum()\n",
    "j1_total = len(join1)\n",
    "print(\"Number of missing Values for Join1: \", j1_na)\n",
    "print(\"Percentage of missing values for Join1: \", round(j1_na/total, 2))"
   ]
  },
  {
   "cell_type": "code",
   "execution_count": 14,
   "metadata": {},
   "outputs": [
    {
     "output_type": "execute_result",
     "data": {
      "text/plain": [
       "         age_x   sex_x   province_x  country_x   latitude  longitude  \\\n",
       "0          NaN     NaN        Delhi      India  28.614740   77.20910   \n",
       "1          NaN     NaN        Delhi      India  28.614740   77.20910   \n",
       "2          NaN     NaN        Delhi      India  28.614740   77.20910   \n",
       "3          NaN     NaN        Delhi      India  28.614740   77.20910   \n",
       "4          NaN     NaN        Delhi      India  28.614740   77.20910   \n",
       "...        ...     ...          ...        ...        ...        ...   \n",
       "52880889   NaN     NaN        Delhi      India  28.614740   77.20910   \n",
       "52880890   NaN     NaN        Delhi      India  28.614740   77.20910   \n",
       "52880891   NaN     NaN  Maharashtra      India  19.200000   72.96667   \n",
       "52880892    28  female          NaN  Singapore   1.280224  103.83450   \n",
       "52880893   1.0  female      Sullana       Peru  -4.907630  -80.69733   \n",
       "\n",
       "         date_confirmation_x  \\\n",
       "0                 26.05.2020   \n",
       "1                 26.05.2020   \n",
       "2                 26.05.2020   \n",
       "3                 26.05.2020   \n",
       "4                 26.05.2020   \n",
       "...                      ...   \n",
       "52880889          16.04.2020   \n",
       "52880890          16.04.2020   \n",
       "52880891          30.05.2020   \n",
       "52880892          03.02.2020   \n",
       "52880893          27.05.2020   \n",
       "\n",
       "                                   additional_information_x  \\\n",
       "0                                                       NaN   \n",
       "1                                                       NaN   \n",
       "2                                                       NaN   \n",
       "3                                                       NaN   \n",
       "4                                                       NaN   \n",
       "...                                                     ...   \n",
       "52880889                                                NaN   \n",
       "52880890                                                NaN   \n",
       "52880891                                                NaN   \n",
       "52880892  Case 19; worked at health product shop with ma...   \n",
       "52880893                                                NaN   \n",
       "\n",
       "                                                   source_x        outcome_x  \\\n",
       "0         https://twitter.com/CMODelhi/status/1265203060...        recovered   \n",
       "1         https://twitter.com/CMODelhi/status/1265203060...        recovered   \n",
       "2         https://twitter.com/CMODelhi/status/1265203060...        recovered   \n",
       "3         https://twitter.com/CMODelhi/status/1265203060...        recovered   \n",
       "4         https://twitter.com/CMODelhi/status/1265203060...        recovered   \n",
       "...                                                     ...              ...   \n",
       "52880889  https://twitter.com/ANI/status/125082767765900...     hospitalized   \n",
       "52880890  https://twitter.com/ANI/status/125082767765900...     hospitalized   \n",
       "52880891  https://arogya.maharashtra.gov.in/pdf/ncovidep...     hospitalized   \n",
       "52880892  https://www.moh.gov.sg/news-highlights/details...        recovered   \n",
       "52880893                                                NaN  nonhospitalized   \n",
       "\n",
       "         age_y sex_y province_y country_y date_confirmation_y  \\\n",
       "0          NaN   NaN      Delhi     India          22.05.2020   \n",
       "1          NaN   NaN      Delhi     India          31.05.2020   \n",
       "2          NaN   NaN      Delhi     India          07.05.2020   \n",
       "3          NaN   NaN      Delhi     India          14.05.2020   \n",
       "4          NaN   NaN      Delhi     India          21.04.2020   \n",
       "...        ...   ...        ...       ...                 ...   \n",
       "52880889   NaN   NaN      Delhi     India          20.05.2020   \n",
       "52880890   NaN   NaN      Delhi     India          26.05.2020   \n",
       "52880891   NaN   NaN        NaN       NaN                 NaN   \n",
       "52880892   NaN   NaN        NaN       NaN                 NaN   \n",
       "52880893   NaN   NaN        NaN       NaN                 NaN   \n",
       "\n",
       "         additional_information_y  \\\n",
       "0                             NaN   \n",
       "1                             NaN   \n",
       "2                             NaN   \n",
       "3                             NaN   \n",
       "4                             NaN   \n",
       "...                           ...   \n",
       "52880889                      NaN   \n",
       "52880890                      NaN   \n",
       "52880891                      NaN   \n",
       "52880892                      NaN   \n",
       "52880893                      NaN   \n",
       "\n",
       "                                                   source_y  outcome_y  \n",
       "0         https://twitter.com/ANI/status/126372900395889...        NaN  \n",
       "1         https://twitter.com/CMODelhi/status/1267076719...        NaN  \n",
       "2                              https://t.me/indiacovid/4233        NaN  \n",
       "3         https://twitter.com/CMODelhi/status/1260843320...        NaN  \n",
       "4         https://twitter.com/ANI/status/125260493440449...        NaN  \n",
       "...                                                     ...        ...  \n",
       "52880889  https://twitter.com/CMODelhi/status/1263040853...        NaN  \n",
       "52880890  https://twitter.com/CMODelhi/status/1265203060...        NaN  \n",
       "52880891                                                NaN        NaN  \n",
       "52880892                                                NaN        NaN  \n",
       "52880893                                                NaN        NaN  \n",
       "\n",
       "[52880894 rows x 18 columns]"
      ],
      "text/html": "<div>\n<style scoped>\n    .dataframe tbody tr th:only-of-type {\n        vertical-align: middle;\n    }\n\n    .dataframe tbody tr th {\n        vertical-align: top;\n    }\n\n    .dataframe thead th {\n        text-align: right;\n    }\n</style>\n<table border=\"1\" class=\"dataframe\">\n  <thead>\n    <tr style=\"text-align: right;\">\n      <th></th>\n      <th>age_x</th>\n      <th>sex_x</th>\n      <th>province_x</th>\n      <th>country_x</th>\n      <th>latitude</th>\n      <th>longitude</th>\n      <th>date_confirmation_x</th>\n      <th>additional_information_x</th>\n      <th>source_x</th>\n      <th>outcome_x</th>\n      <th>age_y</th>\n      <th>sex_y</th>\n      <th>province_y</th>\n      <th>country_y</th>\n      <th>date_confirmation_y</th>\n      <th>additional_information_y</th>\n      <th>source_y</th>\n      <th>outcome_y</th>\n    </tr>\n  </thead>\n  <tbody>\n    <tr>\n      <th>0</th>\n      <td>NaN</td>\n      <td>NaN</td>\n      <td>Delhi</td>\n      <td>India</td>\n      <td>28.614740</td>\n      <td>77.20910</td>\n      <td>26.05.2020</td>\n      <td>NaN</td>\n      <td>https://twitter.com/CMODelhi/status/1265203060...</td>\n      <td>recovered</td>\n      <td>NaN</td>\n      <td>NaN</td>\n      <td>Delhi</td>\n      <td>India</td>\n      <td>22.05.2020</td>\n      <td>NaN</td>\n      <td>https://twitter.com/ANI/status/126372900395889...</td>\n      <td>NaN</td>\n    </tr>\n    <tr>\n      <th>1</th>\n      <td>NaN</td>\n      <td>NaN</td>\n      <td>Delhi</td>\n      <td>India</td>\n      <td>28.614740</td>\n      <td>77.20910</td>\n      <td>26.05.2020</td>\n      <td>NaN</td>\n      <td>https://twitter.com/CMODelhi/status/1265203060...</td>\n      <td>recovered</td>\n      <td>NaN</td>\n      <td>NaN</td>\n      <td>Delhi</td>\n      <td>India</td>\n      <td>31.05.2020</td>\n      <td>NaN</td>\n      <td>https://twitter.com/CMODelhi/status/1267076719...</td>\n      <td>NaN</td>\n    </tr>\n    <tr>\n      <th>2</th>\n      <td>NaN</td>\n      <td>NaN</td>\n      <td>Delhi</td>\n      <td>India</td>\n      <td>28.614740</td>\n      <td>77.20910</td>\n      <td>26.05.2020</td>\n      <td>NaN</td>\n      <td>https://twitter.com/CMODelhi/status/1265203060...</td>\n      <td>recovered</td>\n      <td>NaN</td>\n      <td>NaN</td>\n      <td>Delhi</td>\n      <td>India</td>\n      <td>07.05.2020</td>\n      <td>NaN</td>\n      <td>https://t.me/indiacovid/4233</td>\n      <td>NaN</td>\n    </tr>\n    <tr>\n      <th>3</th>\n      <td>NaN</td>\n      <td>NaN</td>\n      <td>Delhi</td>\n      <td>India</td>\n      <td>28.614740</td>\n      <td>77.20910</td>\n      <td>26.05.2020</td>\n      <td>NaN</td>\n      <td>https://twitter.com/CMODelhi/status/1265203060...</td>\n      <td>recovered</td>\n      <td>NaN</td>\n      <td>NaN</td>\n      <td>Delhi</td>\n      <td>India</td>\n      <td>14.05.2020</td>\n      <td>NaN</td>\n      <td>https://twitter.com/CMODelhi/status/1260843320...</td>\n      <td>NaN</td>\n    </tr>\n    <tr>\n      <th>4</th>\n      <td>NaN</td>\n      <td>NaN</td>\n      <td>Delhi</td>\n      <td>India</td>\n      <td>28.614740</td>\n      <td>77.20910</td>\n      <td>26.05.2020</td>\n      <td>NaN</td>\n      <td>https://twitter.com/CMODelhi/status/1265203060...</td>\n      <td>recovered</td>\n      <td>NaN</td>\n      <td>NaN</td>\n      <td>Delhi</td>\n      <td>India</td>\n      <td>21.04.2020</td>\n      <td>NaN</td>\n      <td>https://twitter.com/ANI/status/125260493440449...</td>\n      <td>NaN</td>\n    </tr>\n    <tr>\n      <th>...</th>\n      <td>...</td>\n      <td>...</td>\n      <td>...</td>\n      <td>...</td>\n      <td>...</td>\n      <td>...</td>\n      <td>...</td>\n      <td>...</td>\n      <td>...</td>\n      <td>...</td>\n      <td>...</td>\n      <td>...</td>\n      <td>...</td>\n      <td>...</td>\n      <td>...</td>\n      <td>...</td>\n      <td>...</td>\n      <td>...</td>\n    </tr>\n    <tr>\n      <th>52880889</th>\n      <td>NaN</td>\n      <td>NaN</td>\n      <td>Delhi</td>\n      <td>India</td>\n      <td>28.614740</td>\n      <td>77.20910</td>\n      <td>16.04.2020</td>\n      <td>NaN</td>\n      <td>https://twitter.com/ANI/status/125082767765900...</td>\n      <td>hospitalized</td>\n      <td>NaN</td>\n      <td>NaN</td>\n      <td>Delhi</td>\n      <td>India</td>\n      <td>20.05.2020</td>\n      <td>NaN</td>\n      <td>https://twitter.com/CMODelhi/status/1263040853...</td>\n      <td>NaN</td>\n    </tr>\n    <tr>\n      <th>52880890</th>\n      <td>NaN</td>\n      <td>NaN</td>\n      <td>Delhi</td>\n      <td>India</td>\n      <td>28.614740</td>\n      <td>77.20910</td>\n      <td>16.04.2020</td>\n      <td>NaN</td>\n      <td>https://twitter.com/ANI/status/125082767765900...</td>\n      <td>hospitalized</td>\n      <td>NaN</td>\n      <td>NaN</td>\n      <td>Delhi</td>\n      <td>India</td>\n      <td>26.05.2020</td>\n      <td>NaN</td>\n      <td>https://twitter.com/CMODelhi/status/1265203060...</td>\n      <td>NaN</td>\n    </tr>\n    <tr>\n      <th>52880891</th>\n      <td>NaN</td>\n      <td>NaN</td>\n      <td>Maharashtra</td>\n      <td>India</td>\n      <td>19.200000</td>\n      <td>72.96667</td>\n      <td>30.05.2020</td>\n      <td>NaN</td>\n      <td>https://arogya.maharashtra.gov.in/pdf/ncovidep...</td>\n      <td>hospitalized</td>\n      <td>NaN</td>\n      <td>NaN</td>\n      <td>NaN</td>\n      <td>NaN</td>\n      <td>NaN</td>\n      <td>NaN</td>\n      <td>NaN</td>\n      <td>NaN</td>\n    </tr>\n    <tr>\n      <th>52880892</th>\n      <td>28</td>\n      <td>female</td>\n      <td>NaN</td>\n      <td>Singapore</td>\n      <td>1.280224</td>\n      <td>103.83450</td>\n      <td>03.02.2020</td>\n      <td>Case 19; worked at health product shop with ma...</td>\n      <td>https://www.moh.gov.sg/news-highlights/details...</td>\n      <td>recovered</td>\n      <td>NaN</td>\n      <td>NaN</td>\n      <td>NaN</td>\n      <td>NaN</td>\n      <td>NaN</td>\n      <td>NaN</td>\n      <td>NaN</td>\n      <td>NaN</td>\n    </tr>\n    <tr>\n      <th>52880893</th>\n      <td>1.0</td>\n      <td>female</td>\n      <td>Sullana</td>\n      <td>Peru</td>\n      <td>-4.907630</td>\n      <td>-80.69733</td>\n      <td>27.05.2020</td>\n      <td>NaN</td>\n      <td>NaN</td>\n      <td>nonhospitalized</td>\n      <td>NaN</td>\n      <td>NaN</td>\n      <td>NaN</td>\n      <td>NaN</td>\n      <td>NaN</td>\n      <td>NaN</td>\n      <td>NaN</td>\n      <td>NaN</td>\n    </tr>\n  </tbody>\n</table>\n<p>52880894 rows × 18 columns</p>\n</div>"
     },
     "metadata": {},
     "execution_count": 14
    }
   ],
   "source": [
    "join1"
   ]
  },
  {
   "cell_type": "code",
   "execution_count": 8,
   "metadata": {},
   "outputs": [],
   "source": [
    "# join2 = pd.merge(train_data.drop(['age', 'sex', 'additional_information'], axis=1), test_data.drop(['age', 'sex', 'additional_information'], axis=1), how='inner', on=[\"province\", \"country\"])\n",
    "\n",
    "# print(\"Join 2 statistics:\\n\")\n",
    "# j2_na = join2.isna().sum()\n",
    "# j2_total = len(join2)\n",
    "# print(\"Number of missing Values for Join1: \", j2_na)\n",
    "# print(\"Percentage of missing values for Join1: \", round(j2_na/total, 2))\n",
    "\n",
    "#Incompatible with given raw CSV, even with column drop. Size too high. "
   ]
  },
  {
   "source": [
    "# Number of missing values in Location Data"
   ],
   "cell_type": "markdown",
   "metadata": {}
  },
  {
   "cell_type": "code",
   "execution_count": 6,
   "metadata": {},
   "outputs": [
    {
     "output_type": "stream",
     "name": "stdout",
     "text": [
      "Number of missing Values:\n Province_State         168\nCountry_Region           0\nLast_Update              0\nLat                     80\nLong_                   80\nConfirmed                0\nDeaths                   0\nRecovered                0\nActive                   2\nCombined_Key             0\nIncidence_Rate          80\nCase-Fatality_Ratio     48\ndtype: int64\n\nPercentage of missing values:\n Province_State         0.04\nCountry_Region         0.00\nLast_Update            0.00\nLat                    0.02\nLong_                  0.02\nConfirmed              0.00\nDeaths                 0.00\nRecovered              0.00\nActive                 0.00\nCombined_Key           0.00\nIncidence_Rate         0.02\nCase-Fatality_Ratio    0.01\ndtype: float64\n\n"
     ]
    }
   ],
   "source": [
    "num_na_loc = location_data.isna().sum()\n",
    "total = len(location_data)\n",
    "print(\"Number of missing Values:\\n\", num_na_loc)\n",
    "print(\"\")\n",
    "print(\"Percentage of missing values:\\n\", round(num_na_loc/total, 2))\n",
    "print(\"\")"
   ]
  },
  {
   "cell_type": "code",
   "execution_count": null,
   "metadata": {},
   "outputs": [],
   "source": []
  }
 ],
 "metadata": {
  "kernelspec": {
   "name": "python3",
   "display_name": "Python 3.9.2 64-bit",
   "metadata": {
    "interpreter": {
     "hash": "aee8b7b246df8f9039afb4144a1f6fd8d2ca17a180786b69acc140d282b71a49"
    }
   }
  },
  "language_info": {
   "codemirror_mode": {
    "name": "ipython",
    "version": 3
   },
   "file_extension": ".py",
   "mimetype": "text/x-python",
   "name": "python",
   "nbconvert_exporter": "python",
   "pygments_lexer": "ipython3",
   "version": "3.9.2-final"
  }
 },
 "nbformat": 4,
 "nbformat_minor": 5
}