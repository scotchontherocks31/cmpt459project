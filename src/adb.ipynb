{
 "metadata": {
  "language_info": {
   "codemirror_mode": {
    "name": "ipython",
    "version": 3
   },
   "file_extension": ".py",
   "mimetype": "text/x-python",
   "name": "python",
   "nbconvert_exporter": "python",
   "pygments_lexer": "ipython3",
   "version": "3.9.1"
  },
  "orig_nbformat": 2,
  "kernelspec": {
   "name": "python391jvsc74a57bd0e00c480ae7e3d5e7171f38ea6fedffbe731b8808f4aa360dec46acf6f1daf018",
   "display_name": "Python 3.9.1 64-bit"
  }
 },
 "nbformat": 4,
 "nbformat_minor": 2,
 "cells": [
  {
   "cell_type": "code",
   "execution_count": 1,
   "metadata": {},
   "outputs": [],
   "source": [
    "import numpy as np \n",
    "from tqdm import tqdm\n",
    "from sklearn.model_selection import train_test_split\n",
    "import os\n",
    "import re\n",
    "import random\n",
    "import math\n",
    "import pandas as pd \n",
    "from sklearn import metrics\n",
    "import matplotlib.pyplot as plt"
   ]
  },
  {
   "cell_type": "code",
   "execution_count": 2,
   "metadata": {},
   "outputs": [],
   "source": [
    "from sklearn.ensemble import AdaBoostClassifier\n",
    "from sklearn import datasets\n",
    "\n",
    "#Import scikit-learn metrics module for accuracy calculation\n",
    "from sklearn.model_selection import RepeatedStratifiedKFold\n",
    "from sklearn.model_selection import GridSearchCV\n",
    "from sklearn import metrics"
   ]
  },
  {
   "source": [
    "## Import Files"
   ],
   "cell_type": "markdown",
   "metadata": {}
  },
  {
   "cell_type": "code",
   "execution_count": 3,
   "metadata": {},
   "outputs": [
    {
     "output_type": "execute_result",
     "data": {
      "text/plain": [
       "'\\n# For Mac/Linux\\ndata = pd.read_csv(o + \"/../data/cases_train_processed.csv\", parse_dates = True)\\ndata_test = pd.read_csv(o + \"/../data/cases_test_processed.csv\", parse_dates = True)\\nplot_path = o + \"/../plots/\"\\nresults_path = o + \"/../results/\"\\n'"
      ]
     },
     "metadata": {},
     "execution_count": 3
    }
   ],
   "source": [
    "o = os.getcwd()\n",
    "\n",
    "data = pd.read_csv(o + \"\\\\..\\\\data\\\\cases_train_processed.csv\", parse_dates = True)\n",
    "data_test = pd.read_csv(o + \"\\\\..\\\\data\\\\cases_test_processed.csv\", parse_dates=True)\n",
    "plot_path = o + \"\\\\..\\\\plots\\\\\"\n",
    "results_path = o + \"\\\\..\\\\results\\\\\"\n",
    "\n",
    "'''\n",
    "# For Mac/Linux\n",
    "data = pd.read_csv(o + \"/../data/cases_train_processed.csv\", parse_dates = True)\n",
    "data_test = pd.read_csv(o + \"/../data/cases_test_processed.csv\", parse_dates = True)\n",
    "plot_path = o + \"/../plots/\"\n",
    "results_path = o + \"/../results/\"\n",
    "'''"
   ]
  },
  {
   "source": [
    "## Categorize Functions"
   ],
   "cell_type": "markdown",
   "metadata": {}
  },
  {
   "cell_type": "code",
   "execution_count": 4,
   "metadata": {},
   "outputs": [],
   "source": [
    "# converts string Series into a cataegorized int series for data analysis\n",
    "def categorize_column(data):\n",
    "    i = 0\n",
    "    for value in tqdm(data.unique()):\n",
    "        data.replace(value, i, inplace = True)\n",
    "        i += 1\n",
    "    data = data.apply(pd.to_numeric)\n",
    "    return data\n",
    "\n",
    "# converts string Series into a cataegorized int series1 for data analysis\n",
    "def categorize_outcome(data):\n",
    "    data = data.map({'nonhospitalized':0, 'deceased':1, 'recovered':2, 'hospitalized':3},na_action ='ignore')\n",
    "    data = data.apply(pd.to_numeric)\n",
    "    return data"
   ]
  },
  {
   "source": [
    "## Data Cleanup Functions"
   ],
   "cell_type": "markdown",
   "metadata": {}
  },
  {
   "cell_type": "code",
   "execution_count": 5,
   "metadata": {},
   "outputs": [],
   "source": [
    "def cleanup(data):\n",
    "    data = data.drop(columns=['province', 'country'])\n",
    "    data['sex'] = categorize_column(data['sex'])\n",
    "    data['outcome'] = categorize_outcome(data['outcome'])\n",
    "    data['Combined_Key'] = categorize_column(data['Combined_Key'])\n",
    "    return data"
   ]
  },
  {
   "source": [
    "## Data Output Functions"
   ],
   "cell_type": "markdown",
   "metadata": {}
  },
  {
   "cell_type": "code",
   "execution_count": 6,
   "metadata": {},
   "outputs": [],
   "source": [
    "def output_predictions(p):\n",
    "    pred = []\n",
    "    arr = {0:'nonhospitalized', 1:'deceased',2:'recovered', 3:'hospitalized'}\n",
    "    for i in p:\n",
    "        pred.append(arr[i])\n",
    "    with open(results_path+\"predictions.txt\", \"w\") as f:\n",
    "        f.writelines('\\n'.join(pred))"
   ]
  },
  {
   "cell_type": "code",
   "execution_count": 7,
   "metadata": {},
   "outputs": [
    {
     "output_type": "stream",
     "name": "stderr",
     "text": [
      "100%|██████████| 2/2 [00:00<00:00, 22.42it/s]\n",
      "100%|██████████| 489/489 [00:35<00:00, 13.94it/s]\n",
      "100%|██████████| 2/2 [00:00<00:00, 166.51it/s]\n",
      "100%|██████████| 413/413 [00:04<00:00, 102.54it/s]\n"
     ]
    }
   ],
   "source": [
    "data = cleanup(data)\n",
    "data_test = cleanup(data_test)"
   ]
  },
  {
   "source": [
    "## Build and Run AdaBoostClassifier"
   ],
   "cell_type": "markdown",
   "metadata": {}
  },
  {
   "cell_type": "code",
   "execution_count": 18,
   "metadata": {},
   "outputs": [],
   "source": [
    "abc  = AdaBoostClassifier()\n",
    "params = {'n_estimators': [100,150], 'learning_rate': [1,1.5,2]}\n",
    "cv = RepeatedStratifiedKFold(n_splits=15, n_repeats=3, random_state=1)\n",
    "scoring = {'Overall_Accuracy': metrics.make_scorer(metrics.accuracy_score),\n",
    "           'Overall_Recall': metrics.make_scorer(metrics.recall_score, average = 'macro'),\n",
    "           'F1_Deceased': metrics.make_scorer(metrics.f1_score, labels=[1], average= 'micro'),\n",
    "           'Recall_Deceased': metrics.make_scorer(metrics.recall_score, labels = [1], average = 'micro') }\n",
    "\n",
    "X = data.drop(columns='outcome')\n",
    "y = data['outcome']\n",
    "\n",
    "#n_scores = cross_val_score(abc, X, y, scoring='accuracy', cv=cv, n_jobs=-1, error_score='raise')\n",
    "gs = GridSearchCV(abc, param_grid = params, scoring= scoring, cv=cv, n_jobs=-1, refit = 'F1_Deceased')"
   ]
  },
  {
   "cell_type": "code",
   "execution_count": 19,
   "metadata": {
    "tags": []
   },
   "outputs": [
    {
     "output_type": "execute_result",
     "data": {
      "text/plain": [
       "GridSearchCV(cv=RepeatedStratifiedKFold(n_repeats=3, n_splits=15, random_state=1),\n",
       "             estimator=AdaBoostClassifier(), n_jobs=-1,\n",
       "             param_grid={'learning_rate': [1, 1.5, 2],\n",
       "                         'n_estimators': [100, 150]},\n",
       "             refit='F1_Deceased',\n",
       "             scoring={'F1_Deceased': make_scorer(f1_score, labels=[1], average=micro),\n",
       "                      'Overall_Accuracy': make_scorer(accuracy_score),\n",
       "                      'Overall_Recall': make_scorer(recall_score, average=macro),\n",
       "                      'Recall_Deceased': make_scorer(recall_score, labels=[1], average=micro)})"
      ]
     },
     "metadata": {},
     "execution_count": 19
    }
   ],
   "source": [
    "gs.fit(X,y)"
   ]
  },
  {
   "source": [
    "## Classifier Results"
   ],
   "cell_type": "markdown",
   "metadata": {}
  },
  {
   "cell_type": "code",
   "execution_count": 20,
   "metadata": {},
   "outputs": [
    {
     "output_type": "execute_result",
     "data": {
      "text/plain": [
       "9,\n",
       "        0.66210759]),\n",
       " 'split22_test_Overall_Accuracy': array([0.65294603, 0.59606617, 0.66241153, 0.61551821, 0.73027658,\n",
       "        0.73027658]),\n",
       " 'split23_test_Overall_Accuracy': array([0.63162694, 0.71703356, 0.66736138, 0.53271677, 0.72945161,\n",
       "        0.72945161]),\n",
       " 'split24_test_Overall_Accuracy': array([0.66319309, 0.62863098, 0.67161652, 0.58833746, 0.72992923,\n",
       "        0.72992923]),\n",
       " 'split25_test_Overall_Accuracy': array([0.62402848, 0.59867136, 0.69289219, 0.50149798, 0.73045026,\n",
       "        0.73045026]),\n",
       " 'split26_test_Overall_Accuracy': array([0.68841996, 0.71373366, 0.69584473, 0.53375885, 0.72945161,\n",
       "        0.72945161]),\n",
       " 'split27_test_Overall_Accuracy': array([0.68468586, 0.67261517, 0.58477704, 0.51639095, 0.73023316,\n",
       "        0.73023316]),\n",
       " 'split28_test_Overall_Accuracy': array([0.65806956, 0.653771  , 0.67734792, 0.56849464, 0.6905041 ,\n",
       "        0.6905041 ]),\n",
       " 'split29_test_Overall_Accuracy': array([0.71590465, 0.69814598, 0.69567105, 0.61404194, 0.72988581,\n",
       "        0.72988581]),\n",
       " 'split30_test_Overall_Accuracy': array([0.70449809, 0.66433658, 0.68695728, 0.59282737, 0.72998437,\n",
       "        0.72998437]),\n",
       " 'split31_test_Overall_Accuracy': array([0.62882077, 0.64015283, 0.69993922, 0.65695554, 0.72976728,\n",
       "        0.72976728]),\n",
       " 'split32_test_Overall_Accuracy': array([0.66837444, 0.67788295, 0.69920111, 0.52791768, 0.69355679,\n",
       "        0.69355679]),\n",
       " 'split33_test_Overall_Accuracy': array([0.67050191, 0.61058527, 0.59721257, 0.61627301, 0.73011462,\n",
       "        0.73011462]),\n",
       " 'split34_test_Overall_Accuracy': array([0.65812782, 0.62664988, 0.64757728, 0.6364189 , 0.73007121,\n",
       "        0.73007121]),\n",
       " 'split35_test_Overall_Accuracy': array([0.63529003, 0.64167246, 0.65482807, 0.48354463, 0.73028829,\n",
       "        0.73028829]),\n",
       " 'split36_test_Overall_Accuracy': array([0.61000391, 0.63180062, 0.66701402, 0.66905475, 0.72992923,\n",
       "        0.72992923]),\n",
       " 'split37_test_Overall_Accuracy': array([0.67964917, 0.6139551 , 0.63475316, 0.51947375, 0.73018974,\n",
       "        0.73018974]),\n",
       " 'split38_test_Overall_Accuracy': array([0.7173375 , 0.66219443, 0.67660979, 0.58195476, 0.64851722,\n",
       "        0.64851722]),\n",
       " 'split39_test_Overall_Accuracy': array([0.70009987, 0.67018367, 0.68490296, 0.64148322, 0.73027658,\n",
       "        0.73027658]),\n",
       " 'split40_test_Overall_Accuracy': array([0.46246364, 0.33702401, 0.42217012, 0.38383049, 0.69636577,\n",
       "        0.69636577]),\n",
       " 'split41_test_Overall_Accuracy': array([0.72780166, 0.6150406 , 0.71981243, 0.57079588, 0.72984239,\n",
       "        0.72984239]),\n",
       " 'split42_test_Overall_Accuracy': array([0.70322609, 0.68507664, 0.71803222, 0.67917155, 0.73040684,\n",
       "        0.73040684]),\n",
       " 'split43_test_Overall_Accuracy': array([0.65863402, 0.6539881 , 0.6882897 , 0.56849464, 0.72979897,\n",
       "        0.72979897]),\n",
       " 'split44_test_Overall_Accuracy': array([0.65129608, 0.71655595, 0.71529677, 0.62276931, 0.73027658,\n",
       "        0.73027658]),\n",
       " 'mean_test_Overall_Accuracy': array([0.66143505, 0.64068495, 0.64899826, 0.55854798, 0.71749776,\n",
       "        0.71749776]),\n",
       " 'std_test_Overall_Accuracy': array([0.04725481, 0.06284965, 0.07012632, 0.06986786, 0.03012109,\n",
       "        0.03012109]),\n",
       " 'rank_test_Overall_Accuracy': array([3, 5, 4, 6, 1, 1]),\n",
       " 'split0_test_Overall_Recall': array([0.47283517, 0.4338565 , 0.50401163, 0.50661062, 0.49863453,\n",
       "        0.49863453]),\n",
       " 'split1_test_Overall_Recall': array([0.4760385 , 0.49827201, 0.49760031, 0.48201645, 0.45854948,\n",
       "        0.45854948]),\n",
       " 'split2_test_Overall_Recall': array([0.49413286, 0.44063233, 0.49383102, 0.46405253, 0.4987271 ,\n",
       "        0.4987271 ]),\n",
       " 'split3_test_Overall_Recall': array([0.44572364, 0.43769045, 0.47679647, 0.49333044, 0.49875104,\n",
       "        0.49875104]),\n",
       " 'split4_test_Overall_Recall': array([0.51711422, 0.44463654, 0.49690357, 0.46144722, 0.49862761,\n",
       "        0.49862761]),\n",
       " 'split5_test_Overall_Recall': array([0.47964263, 0.46666154, 0.48056594, 0.44649005, 0.49876258,\n",
       "        0.49876258]),\n",
       " 'split6_test_Overall_Recall': array([0.47613101, 0.49567118, 0.49102627, 0.51655049, 0.47155396,\n",
       "        0.47155396]),\n",
       " 'split7_test_Overall_Recall': array([0.46994199, 0.47300601, 0.49680419, 0.48936786, 0.50367861,\n",
       "        0.50367861]),\n",
       " 'split8_test_Overall_Recall': array([0.44634273, 0.4776519 , 0.4817947 , 0.46447368, 0.49876012,\n",
       "        0.49876012]),\n",
       " 'split9_test_Overall_Recall': array([0.48607031, 0.46169809, 0.49495549, 0.50747433, 0.49848022,\n",
       "        0.49848022]),\n",
       " 'split10_test_Overall_Recall': array([0.48252072, 0.47295246, 0.45127567, 0.51460584, 0.49887905,\n",
       "        0.49887905]),\n",
       " 'split11_test_Overall_Recall': array([0.49223841, 0.49964534, 0.47963924, 0.4811573 , 0.49873168,\n",
       "        0.49873168]),\n",
       " 'split12_test_Overall_Recall': array([0.43018905, 0.49493547, 0.41842227, 0.48428401, 0.49859673,\n",
       "        0.49859673]),\n",
       " 'split13_test_Overall_Recall': array([0.48565426, 0.47000601, 0.48614256, 0.47554178, 0.4986893 ,\n",
       "        0.4986893 ]),\n",
       " 'split14_test_Overall_Recall': array([0.45924575, 0.45982794, 0.48185813, 0.49494729, 0.49893385,\n",
       "        0.49893385]),\n",
       " 'split15_test_Overall_Recall': array([0.46850932, 0.4710889 , 0.48967077, 0.50890692, 0.49854889,\n",
       "        0.49854889]),\n",
       " 'split16_test_Overall_Recall': array([0.46902832, 0.49237408, 0.48032367, 0.46791703, 0.49912132,\n",
       "        0.49912132]),\n",
       " 'split17_test_Overall_Recall': array([0.43115221, 0.42679401, 0.48073406, 0.49380291, 0.49902644,\n",
       "        0.49902644]),\n",
       " 'split18_test_Overall_Recall': array([0.48559848, 0.4691554 , 0.49030851, 0.45803914, 0.4985088 ,\n",
       "        0.4985088 ]),\n",
       " 'split19_test_Overall_Recall': array([0.49076597, 0.50115508, 0.49341191, 0.48087786, 0.49207798,\n",
       "        0.49207798]),\n",
       " 'split20_test_Overall_Recall': array([0.51829069, 0.48365183, 0.48787187, 0.48777151, 0.49877958,\n",
       "        0.49877958]),\n",
       " 'split21_test_Overall_Recall': array([0.43597829, 0.46464697, 0.49532238, 0.50628628, 0.51756925,\n",
       "        0.51756925]),\n",
       " 'split22_test_Overall_Recall': array([0.452926  , 0.44928345, 0.49343909, 0.49014801, 0.49884577,\n",
       "        0.49884577]),\n",
       " 'split23_test_Overall_Recall': array([0.44282714, 0.49889266, 0.48602024, 0.46002559, 0.49826404,\n",
       "        0.49826404]),\n",
       " 'split24_test_Overall_Recall': array([0.46609375, 0.45334307, 0.50210089, 0.49882449, 0.49856587,\n",
       "        0.49856587]),\n",
       " 'split25_test_Overall_Recall': array([0.43397851, 0.45506906, 0.50690795, 0.48677714, 0.49893846,\n",
       "        0.49893846]),\n",
       " 'split26_test_Overall_Recall': array([0.49195534, 0.49373398, 0.49429831, 0.51441231, 0.49824258,\n",
       "        0.49824258]),\n",
       " 'split27_test_Overall_Recall': array([0.47666762, 0.46982134, 0.46405985, 0.48503244, 0.49878648,\n",
       "        0.49878648]),\n",
       " 'split28_test_Overall_Recall': array([0.47670484, 0.46541127, 0.48897776, 0.48708522, 0.51442664,\n",
       "        0.51442664]),\n",
       " 'split29_test_Overall_Recall': array([0.49918103, 0.48684782, 0.5006977 , 0.48414724, 0.49854885,\n",
       "        0.49854885]),\n",
       " 'split30_test_Overall_Recall': array([0.4959414 , 0.48515651, 0.48228668, 0.47813665, 0.49859675,\n",
       "        0.49859675]),\n",
       " 'split31_test_Overall_Recall': array([0.47401095, 0.45427093, 0.4953809 , 0.48133896, 0.49844709,\n",
       "        0.49844709]),\n",
       " 'split32_test_Overall_Recall': array([0.47086357, 0.47892967, 0.53402812, 0.53367385, 0.5198691 ,\n",
       "        0.5198691 ]),\n",
       " 'split33_test_Overall_Recall': array([0.47028188, 0.4439998 , 0.44777594, 0.47020491, 0.49869394,\n",
       "        0.49869394]),\n",
       " 'split34_test_Overall_Recall': array([0.47797677, 0.46461621, 0.48599839, 0.5235664 , 0.49866308,\n",
       "        0.49866308]),\n",
       " 'split35_test_Overall_Recall': array([0.4670456 , 0.50358293, 0.50598316, 0.49332928, 0.49882198,\n",
       "        0.49882198]),\n",
       " 'split36_test_Overall_Recall': array([0.45538625, 0.45462649, 0.51303853, 0.52465458, 0.49860351,\n",
       "        0.49860351]),\n",
       " 'split37_test_Overall_Recall': array([0.47345546, 0.43443532, 0.49627844, 0.50798371, 0.49878867,\n",
       "        0.49878867]),\n",
       " 'split38_test_Overall_Recall': array([0.49554515, 0.48793425, 0.4956526 , 0.50250715, 0.45624704,\n",
       "        0.45624704]),\n",
       " 'split39_test_Overall_Recall': array([0.48854405, 0.47039306, 0.50168559, 0.5152905 , 0.49880351,\n",
       "        0.49880351]),\n",
       " 'split40_test_Overall_Recall': array([0.4640872 , 0.45341819, 0.48198065, 0.48711637, 0.50410828,\n",
       "        0.50410828]),\n",
       " 'split41_test_Overall_Recall': array([0.50009137, 0.45296074, 0.50052733, 0.47341536, 0.49850647,\n",
       "        0.49850647]),\n",
       " 'split42_test_Overall_Recall': array([0.49236497, 0.49789979, 0.50208962, 0.4978716 , 0.49890991,\n",
       "        0.49890991]),\n",
       " 'split43_test_Overall_Recall': array([0.46621741, 0.46691035, 0.53117494, 0.48391608, 0.49847791,\n",
       "        0.49847791]),\n",
       " 'split44_test_Overall_Recall': array([0.46440816, 0.50190809, 0.51062835, 0.50204336, 0.49882195,\n",
       "        0.49882195]),\n",
       " 'mean_test_Overall_Recall': array([0.47354887, 0.47021011, 0.4904507 , 0.49038784, 0.49757702,\n",
       "        0.49757702]),\n",
       " 'std_test_Overall_Recall': array([0.02072414, 0.02099965, 0.01901724, 0.01927747, 0.01079627,\n",
       "        0.01079627]),\n",
       " 'rank_test_Overall_Recall': array([5, 6, 3, 4, 1, 1]),\n",
       " 'split0_test_F1_Deceased': array([0.        , 0.00071225, 0.0476788 , 0.04821767, 0.        ,\n",
       "        0.        ]),\n",
       " 'split1_test_F1_Deceased': array([0.        , 0.05237316, 0.04145413, 0.04036568, 0.        ,\n",
       "        0.        ]),\n",
       " 'split2_test_F1_Deceased': array([0.        , 0.00087719, 0.05207528, 0.03267756, 0.        ,\n",
       "        0.        ]),\n",
       " 'split3_test_F1_Deceased': array([0.        , 0.        , 0.        , 0.04025201, 0.        ,\n",
       "        0.        ]),\n",
       " 'split4_test_F1_Deceased': array([0.0952381 , 0.02465986, 0.03792415, 0.03647357, 0.        ,\n",
       "        0.        ]),\n",
       " 'split5_test_F1_Deceased': array([0.00240674, 0.00312012, 0.00796813, 0.0166334 , 0.        ,\n",
       "        0.        ]),\n",
       " 'split6_test_F1_Deceased': array([0.        , 0.        , 0.00526316, 0.05848739, 0.        ,\n",
       "        0.        ]),\n",
       " 'split7_test_F1_Deceased': array([0.        , 0.        , 0.0239521 , 0.04115119, 0.05544006,\n",
       "        0.05544006]),\n",
       " 'split8_test_F1_Deceased': array([0.0718232 , 0.0212766 , 0.03202329, 0.03494624, 0.        ,\n",
       "        0.        ]),\n",
       " 'split9_test_F1_Deceased': array([0.        , 0.        , 0.        , 0.04454658, 0.        ,\n",
       "        0.        ]),\n",
       " 'split10_test_F1_Deceased': array([0.00801068, 0.        , 0.        , 0.05509289, 0.        ,\n",
       "        0.        ]),\n",
       " 'split11_test_F1_Deceased': array([0.        , 0.        , 0.004     , 0.03902254, 0.        ,\n",
       "        0.        ]),\n",
       " 'split12_test_F1_Deceased': array([0.        , 0.10738255, 0.01583435, 0.0407511 , 0.        ,\n",
       "        0.        ]),\n",
       " 'split13_test_F1_Deceased': array([0.        , 0.        , 0.05285802, 0.0443828 , 0.        ,\n",
       "        0.        ]),\n",
       " 'split14_test_F1_Deceased': array([0.00295858, 0.00136147, 0.01129944, 0.04347826, 0.        ,\n",
       "        0.        ]),\n",
       " 'split15_test_F1_Deceased': array([0.       , 0.       , 0.0045819, 0.0473075, 0.       , 0.       ]),\n",
       " 'split16_test_F1_Deceased': array([0.0605613 , 0.04281768, 0.        , 0.04335586, 0.        ,\n",
       "        0.        ]),\n",
       " 'split17_test_F1_Deceased': array([0.       , 0.       , 0.       , 0.0425072, 0.       , 0.       ]),\n",
       " 'split18_test_F1_Deceased': array([0.        , 0.04373886, 0.04614058, 0.03764511, 0.        ,\n",
       "        0.        ]),\n",
       " 'split19_test_F1_Deceased': array([0.00981997, 0.        , 0.05432373, 0.04654285, 0.        ,\n",
       "        0.        ]),\n",
       " 'split20_test_F1_Deceased': array([0.1089838 , 0.08333333, 0.04361371, 0.04433439, 0.        ,\n",
       "        0.        ]),\n",
       " 'split21_test_F1_Deceased': array([0.        , 0.        , 0.        , 0.04599696, 0.06746464,\n",
       "        0.06746464]),\n",
       " 'split22_test_F1_Deceased': array([0.        , 0.03706564, 0.        , 0.03658537, 0.        ,\n",
       "        0.        ]),\n",
       " 'split23_test_F1_Deceased': array([0.        , 0.        , 0.01712329, 0.0302169 , 0.        ,\n",
       "        0.        ]),\n",
       " 'split24_test_F1_Deceased': array([0.        , 0.        , 0.05052006, 0.04274069, 0.        ,\n",
       "        0.        ]),\n",
       " 'split25_test_F1_Deceased': array([0.        , 0.02660754, 0.04210526, 0.03827536, 0.        ,\n",
       "        0.        ]),\n",
       " 'split26_test_F1_Deceased': array([0.00625   , 0.        , 0.        , 0.04609116, 0.        ,\n",
       "        0.        ]),\n",
       " 'split27_test_F1_Deceased': array([0.        , 0.        , 0.02827624, 0.04385382, 0.        ,\n",
       "        0.        ]),\n",
       " 'split28_test_F1_Deceased': array([0.        , 0.        , 0.        , 0.03833647, 0.07157326,\n",
       "        0.07157326]),\n",
       " 'split29_test_F1_Deceased': array([0.        , 0.        , 0.        , 0.03122432, 0.        ,\n",
       "        0.        ]),\n",
       " 'split30_test_F1_Deceased': array([0.        , 0.        , 0.        , 0.05401929, 0.        ,\n",
       "        0.        ]),\n",
       " 'split31_test_F1_Deceased': array([0.09152872, 0.        , 0.        , 0.00400802, 0.        ,\n",
       "        0.        ]),\n",
       " 'split32_test_F1_Deceased': array([0.        , 0.00921659, 0.10273224, 0.05381836, 0.07613868,\n",
       "        0.07613868]),\n",
       " 'split33_test_F1_Deceased': array([0.00181324, 0.        , 0.00125549, 0.00924855, 0.        ,\n",
       "        0.        ]),\n",
       " 'split34_test_F1_Deceased': array([0.        , 0.        , 0.        , 0.07542263, 0.        ,\n",
       "        0.        ]),\n",
       " 'split35_test_F1_Deceased': array([0.05319149, 0.06574761, 0.04373576, 0.04210526, 0.        ,\n",
       "        0.        ]),\n",
       " 'split36_test_F1_Deceased': array([0.        , 0.        , 0.05840886, 0.06451613, 0.        ,\n",
       "        0.        ]),\n",
       " 'split37_test_F1_Deceased': array([0.00160643, 0.        , 0.0350438 , 0.04896943, 0.        ,\n",
       "        0.        ]),\n",
       " 'split38_test_F1_Deceased': array([0.        , 0.        , 0.02849003, 0.04354411, 0.01052632,\n",
       "        0.01052632]),\n",
       " 'split39_test_F1_Deceased': array([0.        , 0.        , 0.        , 0.04220085, 0.        ,\n",
       "        0.        ]),\n",
       " 'split40_test_F1_Deceased': array([0.0416809 , 0.03888965, 0.03868653, 0.04033613, 0.06984866,\n",
       "        0.06984866]),\n",
       " 'split41_test_F1_Deceased': array([0.       , 0.       , 0.       , 0.0341369, 0.       , 0.       ]),\n",
       " 'split42_test_F1_Deceased': array([0.       , 0.0511509, 0.       , 0.0371517, 0.       , 0.       ]),\n",
       " 'split43_test_F1_Deceased': array([0.        , 0.        , 0.09171598, 0.03840143, 0.        ,\n",
       "        0.        ]),\n",
       " 'split44_test_F1_Deceased': array([0.        , 0.        , 0.        , 0.04211151, 0.        ,\n",
       "        0.        ]),\n",
       " 'mean_test_F1_Deceased': array([0.01235274, 0.01356291, 0.02264632, 0.04136629, 0.00779981,\n",
       "        0.00779981]),\n",
       " 'std_test_F1_Deceased': array([0.02831241, 0.02511263, 0.02590204, 0.01183744, 0.02149774,\n",
       "        0.02149774]),\n",
       " 'rank_test_F1_Deceased': array([4, 3, 2, 1, 5, 5]),\n",
       " 'split0_test_Recall_Deceased': array([0.        , 0.00333333, 0.19      , 0.46666667, 0.        ,\n",
       "        0.        ]),\n",
       " 'split1_test_Recall_Deceased': array([0.        , 0.10666667, 0.85333333, 0.95666667, 0.        ,\n",
       "        0.        ]),\n",
       " 'split2_test_Recall_Deceased': array([0.        , 0.00334448, 0.33779264, 0.1638796 , 0.        ,\n",
       "        0.        ]),\n",
       " 'split3_test_Recall_Deceased': array([0.        , 0.        , 0.        , 0.38461538, 0.        ,\n",
       "        0.        ]),\n",
       " 'split4_test_Recall_Deceased': array([0.07023411, 0.09698997, 0.06354515, 0.62541806, 0.        ,\n",
       "        0.        ]),\n",
       " 'split5_test_Recall_Deceased': array([0.00334448, 0.00334448, 0.01003344, 0.08361204, 0.        ,\n",
       "        0.        ]),\n",
       " 'split6_test_Recall_Deceased': array([0.        , 0.        , 0.00666667, 0.29      , 0.        ,\n",
       "        0.        ]),\n",
       " 'split7_test_Recall_Deceased': array([0.        , 0.        , 0.02666667, 0.52666667, 0.13333333,\n",
       "        0.13333333]),\n",
       " 'split8_test_Recall_Deceased': array([0.13      , 0.01333333, 0.07333333, 0.39      , 0.        ,\n",
       "        0.        ]),\n",
       " 'split9_test_Recall_Deceased': array([0.  , 0.  , 0.  , 0.42, 0.  , 0.  ]),\n",
       " 'split10_test_Recall_Deceased': array([0.01      , 0.        , 0.        , 0.14333333, 0.        ,\n",
       "        0.        ]),\n",
       " 'split11_test_Recall_Deceased': array([0.        , 0.        , 0.00333333, 0.34333333, 0.        ,\n",
       "        0.        ]),\n",
       " 'split12_test_Recall_Deceased': array([0.        , 0.08      , 0.04333333, 0.51      , 0.        ,\n",
       "        0.        ]),\n",
       " 'split13_test_Recall_Deceased': array([0.        , 0.        , 0.14333333, 0.21333333, 0.        ,\n",
       "        0.        ]),\n",
       " 'split14_test_Recall_Deceased': array([0.00666667, 0.00333333, 0.01      , 0.17666667, 0.        ,\n",
       "        0.        ]),\n",
       " 'split15_test_Recall_Deceased': array([0.        , 0.        , 0.00666667, 0.47      , 0.        ,\n",
       "        0.        ]),\n",
       " 'split16_test_Recall_Deceased': array([0.13666667, 0.10333333, 0.        , 0.25666667, 0.        ,\n",
       "        0.        ]),\n",
       " 'split17_test_Recall_Deceased': array([0.        , 0.        , 0.        , 0.39464883, 0.        ,\n",
       "        0.        ]),\n",
       " 'split18_test_Recall_Deceased': array([0.        , 0.45150502, 0.71571906, 0.75919732, 0.        ,\n",
       "        0.        ]),\n",
       " 'split19_test_Recall_Deceased': array([0.01003344, 0.        , 0.1638796 , 0.34782609, 0.        ,\n",
       "        0.        ]),\n",
       " 'split20_test_Recall_Deceased': array([0.12374582, 0.15050167, 0.04682274, 0.62876254, 0.        ,\n",
       "        0.        ]),\n",
       " 'split21_test_Recall_Deceased': array([0.        , 0.        , 0.        , 0.35333333, 0.20666667,\n",
       "        0.20666667]),\n",
       " 'split22_test_Recall_Deceased': array([0.  , 0.08, 0.  , 0.14, 0.  , 0.  ]),\n",
       " 'split23_test_Recall_Deceased': array([0.        , 0.        , 0.01666667, 0.33666667, 0.        ,\n",
       "        0.        ]),\n",
       " 'split24_test_Recall_Deceased': array([0.        , 0.        , 0.11333333, 0.32333333, 0.        ,\n",
       "        0.        ]),\n",
       " 'split25_test_Recall_Deceased': array([0.        , 0.08      , 0.08666667, 0.56666667, 0.        ,\n",
       "        0.        ]),\n",
       " 'split26_test_Recall_Deceased': array([0.00333333, 0.        , 0.        , 0.60333333, 0.        ,\n",
       "        0.        ]),\n",
       " 'split27_test_Recall_Deceased': array([0.        , 0.        , 0.08666667, 0.44      , 0.        ,\n",
       "        0.        ]),\n",
       " 'split28_test_Recall_Deceased': array([0.        , 0.        , 0.        , 0.37333333, 0.17666667,\n",
       "        0.17666667]),\n",
       " 'split29_test_Recall_Deceased': array([0.  , 0.  , 0.  , 0.19, 0.  , 0.  ]),\n",
       " 'split30_test_Recall_Deceased': array([0.  , 0.  , 0.  , 0.14, 0.  , 0.  ]),\n",
       " 'split31_test_Recall_Deceased': array([0.15666667, 0.        , 0.        , 0.00666667, 0.        ,\n",
       "        0.        ]),\n",
       " 'split32_test_Recall_Deceased': array([0.        , 0.00668896, 0.15719064, 0.72240803, 0.18729097,\n",
       "        0.18729097]),\n",
       " 'split33_test_Recall_Deceased': array([0.00334448, 0.        , 0.00334448, 0.01337793, 0.        ,\n",
       "        0.        ]),\n",
       " 'split34_test_Recall_Deceased': array([0.        , 0.        , 0.        , 0.19397993, 0.        ,\n",
       "        0.        ]),\n",
       " 'split35_test_Recall_Deceased': array([0.05016722, 0.10367893, 0.16053512, 0.61538462, 0.        ,\n",
       "        0.        ]),\n",
       " 'split36_test_Recall_Deceased': array([0.        , 0.        , 0.09666667, 0.19333333, 0.        ,\n",
       "        0.        ]),\n",
       " 'split37_test_Recall_Deceased': array([0.00333333, 0.        , 0.04666667, 0.59      , 0.        ,\n",
       "        0.        ]),\n",
       " 'split38_test_Recall_Deceased': array([0.        , 0.        , 0.08333333, 0.38333333, 0.01      ,\n",
       "        0.01      ]),\n",
       " 'split39_test_Recall_Deceased': array([0.        , 0.        , 0.        , 0.26333333, 0.        ,\n",
       "        0.        ]),\n",
       " 'split40_test_Recall_Deceased': array([0.61      , 0.94333333, 0.82666667, 0.96      , 0.1       ,\n",
       "        0.1       ]),\n",
       " 'split41_test_Recall_Deceased': array([0.        , 0.        , 0.        , 0.32333333, 0.        ,\n",
       "        0.        ]),\n",
       " 'split42_test_Recall_Deceased': array([0.        , 0.06666667, 0.        , 0.04      , 0.        ,\n",
       "        0.        ]),\n",
       " 'split43_test_Recall_Deceased': array([0.        , 0.        , 0.20666667, 0.28666667, 0.        ,\n",
       "        0.        ]),\n",
       " 'split44_test_Recall_Deceased': array([0.        , 0.        , 0.        , 0.23666667, 0.        ,\n",
       "        0.        ]),\n",
       " 'mean_test_Recall_Deceased': array([0.02927858, 0.05102341, 0.10175251, 0.37436542, 0.01808795,\n",
       "        0.01808795]),\n",
       " 'std_test_Recall_Deceased': array([0.09622877, 0.15386548, 0.20054453, 0.22320381, 0.05210141,\n",
       "        0.05210141]),\n",
       " 'rank_test_Recall_Deceased': array([4, 3, 2, 1, 5, 5])}"
      ]
     },
     "metadata": {},
     "execution_count": 20
    }
   ],
   "source": [
    "gs.cv_results_"
   ]
  },
  {
   "source": [
    "## Exporting Predictions and Model"
   ],
   "cell_type": "markdown",
   "metadata": {}
  },
  {
   "cell_type": "code",
   "execution_count": 21,
   "metadata": {},
   "outputs": [],
   "source": [
    "def create_model_file(gs, filename):\n",
    "    lines = str(gs.cv_results_)\n",
    "    line_list = lines.split(',')\n",
    "    with open(filename, 'w') as f:\n",
    "        f.writelines(',\\n'.join(line_list))"
   ]
  },
  {
   "cell_type": "code",
   "execution_count": 22,
   "metadata": {},
   "outputs": [],
   "source": [
    "adb_file = plot_path + \"adb_file.txt\"\n",
    "create_model_file(gs, adb_file)"
   ]
  },
  {
   "cell_type": "code",
   "execution_count": 23,
   "metadata": {},
   "outputs": [
    {
     "output_type": "execute_result",
     "data": {
      "text/plain": [
       "AdaBoostClassifier(learning_rate=1.5, n_estimators=150)"
      ]
     },
     "metadata": {},
     "execution_count": 23
    }
   ],
   "source": [
    "gs.best_estimator_"
   ]
  },
  {
   "source": [
    "adb=gs.best_estimator_.fit(X,y)"
   ],
   "cell_type": "markdown",
   "metadata": {}
  },
  {
   "cell_type": "code",
   "execution_count": 24,
   "metadata": {},
   "outputs": [],
   "source": [
    "p = gs.best_estimator_.predict(data_test.drop(columns='outcome'))\n",
    "output_predictions(p)\n"
   ]
  },
  {
   "cell_type": "code",
   "execution_count": null,
   "metadata": {},
   "outputs": [],
   "source": []
  }
 ]
}