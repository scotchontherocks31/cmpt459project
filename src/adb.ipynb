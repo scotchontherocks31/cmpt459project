{
 "metadata": {
  "language_info": {
   "codemirror_mode": {
    "name": "ipython",
    "version": 3
   },
   "file_extension": ".py",
   "mimetype": "text/x-python",
   "name": "python",
   "nbconvert_exporter": "python",
   "pygments_lexer": "ipython3",
   "version": "3.9.1"
  },
  "orig_nbformat": 2,
  "kernelspec": {
   "name": "python391jvsc74a57bd0e00c480ae7e3d5e7171f38ea6fedffbe731b8808f4aa360dec46acf6f1daf018",
   "display_name": "Python 3.9.1 64-bit"
  }
 },
 "nbformat": 4,
 "nbformat_minor": 2,
 "cells": [
  {
   "cell_type": "code",
   "execution_count": 2,
   "metadata": {},
   "outputs": [],
   "source": [
    "import numpy as np \n",
    "from tqdm import tqdm\n",
    "from sklearn.model_selection import train_test_split\n",
    "import os\n",
    "import re\n",
    "import random\n",
    "import math\n",
    "import pandas as pd \n",
    "from sklearn import metrics\n",
    "import matplotlib.pyplot as plt"
   ]
  },
  {
   "cell_type": "code",
   "execution_count": 3,
   "metadata": {},
   "outputs": [],
   "source": [
    "from sklearn.ensemble import AdaBoostClassifier\n",
    "from sklearn import datasets\n",
    "\n",
    "#Import scikit-learn metrics module for accuracy calculation\n",
    "from sklearn.model_selection import RepeatedStratifiedKFold\n",
    "from sklearn.model_selection import GridSearchCV\n",
    "from sklearn import metrics"
   ]
  },
  {
   "source": [
    "## Import Files"
   ],
   "cell_type": "markdown",
   "metadata": {}
  },
  {
   "cell_type": "code",
   "execution_count": 16,
   "metadata": {},
   "outputs": [
    {
     "output_type": "execute_result",
     "data": {
      "text/plain": [
       "'\\n# For Mac/Linux\\ndata = pd.read_csv(o + \"/../data/cases_train_processed.csv\", parse_dates = True)\\ndata_test = pd.read_csv(o + \"/../data/cases_test_processed.csv\", parse_dates = True)\\nplot_path = o + \"/../plots/\"\\nresults_path = o + \"/../results/\"\\n'"
      ]
     },
     "metadata": {},
     "execution_count": 16
    }
   ],
   "source": [
    "o = os.getcwd()\n",
    "\n",
    "data = pd.read_csv(o + \"\\\\..\\\\data\\\\cases_train_processed.csv\", parse_dates = True)\n",
    "data_test = pd.read_csv(o + \"\\\\..\\\\data\\\\cases_test_processed.csv\", parse_dates=True)\n",
    "plot_path = o + \"\\\\..\\\\plots\\\\\"\n",
    "results_path = o + \"\\\\..\\\\results\\\\\"\n",
    "\n",
    "'''\n",
    "# For Mac/Linux\n",
    "data = pd.read_csv(o + \"/../data/cases_train_processed.csv\", parse_dates = True)\n",
    "data_test = pd.read_csv(o + \"/../data/cases_test_processed.csv\", parse_dates = True)\n",
    "plot_path = o + \"/../plots/\"\n",
    "results_path = o + \"/../results/\"\n",
    "'''"
   ]
  },
  {
   "source": [
    "## Categorize Functions"
   ],
   "cell_type": "markdown",
   "metadata": {}
  },
  {
   "cell_type": "code",
   "execution_count": 5,
   "metadata": {},
   "outputs": [],
   "source": [
    "# converts string Series into a cataegorized int series for data analysis\n",
    "def categorize_column(data):\n",
    "    i = 0\n",
    "    for value in tqdm(data.unique()):\n",
    "        data.replace(value, i, inplace = True)\n",
    "        i += 1\n",
    "    data = data.apply(pd.to_numeric)\n",
    "    return data\n",
    "\n",
    "# converts string Series into a cataegorized int series1 for data analysis\n",
    "def categorize_outcome(data):\n",
    "    data = data.map({'nonhospitalized':0, 'deceased':1, 'recovered':2, 'hospitalized':3},na_action ='ignore')\n",
    "    data = data.apply(pd.to_numeric)\n",
    "    return data"
   ]
  },
  {
   "source": [
    "## Data Cleanup Functions"
   ],
   "cell_type": "markdown",
   "metadata": {}
  },
  {
   "cell_type": "code",
   "execution_count": 19,
   "metadata": {},
   "outputs": [],
   "source": [
    "def cleanup(data):\n",
    "    data = data.drop(columns=['province', 'country'])\n",
    "    data['sex'] = categorize_column(data['sex'])\n",
    "    data['outcome'] = categorize_outcome(data['outcome'])\n",
    "    data['Combined_Key'] = categorize_column(data['Combined_Key'])\n",
    "    return data"
   ]
  },
  {
   "source": [
    "## Data Output Functions"
   ],
   "cell_type": "markdown",
   "metadata": {}
  },
  {
   "cell_type": "code",
   "execution_count": 20,
   "metadata": {},
   "outputs": [],
   "source": [
    "def output_predictions(p):\n",
    "    pred = []\n",
    "    arr = {0:'nonhospitalized', 1:'deceased',2:'recovered', 3:'hospitalized'}\n",
    "    for i in p:\n",
    "        pred.append(arr[i])\n",
    "    with open(results_path+\"predictions.txt\", \"w\") as f:\n",
    "        f.writelines('\\n'.join(pred))"
   ]
  },
  {
   "cell_type": "code",
   "execution_count": 21,
   "metadata": {},
   "outputs": [
    {
     "output_type": "stream",
     "name": "stderr",
     "text": [
      "100%|██████████| 2/2 [00:00<00:00, 23.81it/s]\n",
      "100%|██████████| 489/489 [00:34<00:00, 14.11it/s]\n",
      "100%|██████████| 2/2 [00:00<00:00, 166.52it/s]\n",
      "100%|██████████| 413/413 [00:04<00:00, 100.64it/s]\n"
     ]
    }
   ],
   "source": [
    "data = cleanup(data)\n",
    "data_test = cleanup(data_test)"
   ]
  },
  {
   "source": [
    "## Build and Run AdaBoostClassifier"
   ],
   "cell_type": "markdown",
   "metadata": {}
  },
  {
   "cell_type": "code",
   "execution_count": 9,
   "metadata": {},
   "outputs": [],
   "source": [
    "abc  = AdaBoostClassifier()\n",
    "params = {'n_estimators': [100,150], 'learning_rate': [1.5,2]}\n",
    "cv = RepeatedStratifiedKFold(n_splits=15, n_repeats=3, random_state=1)\n",
    "scoring = {'Overall_Accuracy': metrics.make_scorer(metrics.accuracy_score),\n",
    "           'Overall_Recall': metrics.make_scorer(metrics.recall_score, average = 'macro'),\n",
    "           'F1_Deceased': metrics.make_scorer(metrics.f1_score, labels=[1], average= 'micro'),\n",
    "           'Recall_Deceased': metrics.make_scorer(metrics.recall_score, labels = [1], average = 'micro') }\n",
    "\n",
    "X = data.drop(columns='outcome')\n",
    "y = data['outcome']\n",
    "\n",
    "#n_scores = cross_val_score(abc, X, y, scoring='accuracy', cv=cv, n_jobs=-1, error_score='raise')\n",
    "gs = GridSearchCV(abc, param_grid = params, scoring= scoring, cv=cv, n_jobs=-1, refit = 'Recall_Deceased')"
   ]
  },
  {
   "cell_type": "code",
   "execution_count": 10,
   "metadata": {
    "tags": []
   },
   "outputs": [
    {
     "output_type": "execute_result",
     "data": {
      "text/plain": [
       "GridSearchCV(cv=RepeatedStratifiedKFold(n_repeats=3, n_splits=15, random_state=1),\n",
       "             estimator=AdaBoostClassifier(), n_jobs=-1,\n",
       "             param_grid={'learning_rate': [1.5, 2], 'n_estimators': [100, 150]},\n",
       "             refit='Recall_Deceased',\n",
       "             scoring={'F1_Deceased': make_scorer(f1_score, labels=[1], average=micro),\n",
       "                      'Overall_Accuracy': make_scorer(accuracy_score),\n",
       "                      'Overall_Recall': make_scorer(recall_score, average=macro),\n",
       "                      'Recall_Deceased': make_scorer(recall_score, labels=[1], average=micro)})"
      ]
     },
     "metadata": {},
     "execution_count": 10
    }
   ],
   "source": [
    "gs.fit(X,y)"
   ]
  },
  {
   "cell_type": "code",
   "execution_count": 11,
   "metadata": {},
   "outputs": [
    {
     "output_type": "execute_result",
     "data": {
      "text/plain": [
       "{'mean_fit_time': array([50.56862567, 76.85331836, 50.84249849, 73.73908412]),\n",
       " 'std_fit_time': array([ 1.90636197,  2.98639475,  2.57341293, 10.38398788]),\n",
       " 'mean_score_time': array([0.95400356, 1.41500534, 0.89103434, 1.15757711]),\n",
       " 'std_score_time': array([0.08280985, 0.1481631 , 0.15988959, 0.33343189]),\n",
       " 'param_learning_rate': masked_array(data=[1.5, 1.5, 2, 2],\n",
       "              mask=[False, False, False, False],\n",
       "        fill_value='?',\n",
       "             dtype=object),\n",
       " 'param_n_estimators': masked_array(data=[100, 150, 100, 150],\n",
       "              mask=[False, False, False, False],\n",
       "        fill_value='?',\n",
       "             dtype=object),\n",
       " 'params': [{'learning_rate': 1.5, 'n_estimators': 100},\n",
       "  {'learning_rate': 1.5, 'n_estimators': 150},\n",
       "  {'learning_rate': 2, 'n_estimators': 100},\n",
       "  {'learning_rate': 2, 'n_estimators': 150}],\n",
       " 'split0_test_Overall_Accuracy': array([0.6566082 , 0.56473602, 0.73002779, 0.73002779]),\n",
       " 'split1_test_Overall_Accuracy': array([0.43322334, 0.37856026, 0.57389719, 0.57389719]),\n",
       " 'split2_test_Overall_Accuracy': array([0.54615318, 0.56082841, 0.73015804, 0.73015804]),\n",
       " 'split3_test_Overall_Accuracy': array([0.67766586, 0.5522751 , 0.73020146, 0.73020146]),\n",
       " 'split4_test_Overall_Accuracy': array([0.68869399, 0.43543765, 0.73002779, 0.73002779]),\n",
       " 'split5_test_Overall_Accuracy': array([0.69299236, 0.61058527, 0.73020146, 0.73020146]),\n",
       " 'split6_test_Overall_Accuracy': array([0.69831966, 0.59958317, 0.65941557, 0.65941557]),\n",
       " 'split7_test_Overall_Accuracy': array([0.65954583, 0.52702879, 0.68967913, 0.68967913]),\n",
       " 'split8_test_Overall_Accuracy': array([0.65628935, 0.52802744, 0.73014632, 0.73014632]),\n",
       " 'split9_test_Overall_Accuracy': array([0.7109548 , 0.59333073, 0.72979897, 0.72979897]),\n",
       " 'split10_test_Overall_Accuracy': array([0.58412574, 0.66523382, 0.73036342, 0.73036342]),\n",
       " 'split11_test_Overall_Accuracy': array([0.63957275, 0.53636403, 0.73014632, 0.73014632]),\n",
       " 'split12_test_Overall_Accuracy': array([0.56801702, 0.50883592, 0.72997265, 0.72997265]),\n",
       " 'split13_test_Overall_Accuracy': array([0.5939386 , 0.56697495, 0.7301029 , 0.7301029 ]),\n",
       " 'split14_test_Overall_Accuracy': array([0.6515566 , 0.61955625, 0.73045026, 0.73045026]),\n",
       " 'split15_test_Overall_Accuracy': array([0.65582668, 0.55171066, 0.72989753, 0.72989753]),\n",
       " 'split16_test_Overall_Accuracy': array([0.68535082, 0.55240535, 0.73072247, 0.73072247]),\n",
       " 'split17_test_Overall_Accuracy': array([0.68348385, 0.53681834, 0.73059222, 0.73059222]),\n",
       " 'split18_test_Overall_Accuracy': array([0.44716047, 0.40448072, 0.72985412, 0.72985412]),\n",
       " 'split19_test_Overall_Accuracy': array([0.63663598, 0.53924974, 0.68982286, 0.68982286]),\n",
       " 'split20_test_Overall_Accuracy': array([0.66186176, 0.46978117, 0.73024488, 0.73024488]),\n",
       " 'split21_test_Overall_Accuracy': array([0.71642569, 0.61113282, 0.66210759, 0.66210759]),\n",
       " 'split22_test_Overall_Accuracy': array([0.66241153, 0.61551821, 0.73027658, 0.73027658]),\n",
       " 'split23_test_Overall_Accuracy': array([0.66736138, 0.53271677, 0.72945161, 0.72945161]),\n",
       " 'split24_test_Overall_Accuracy': array([0.67161652, 0.58833746, 0.72992923, 0.72992923]),\n",
       " 'split25_test_Overall_Accuracy': array([0.69289219, 0.50149798, 0.73045026, 0.73045026]),\n",
       " 'split26_test_Overall_Accuracy': array([0.69584473, 0.53375885, 0.72945161, 0.72945161]),\n",
       " 'split27_test_Overall_Accuracy': array([0.58477704, 0.51639095, 0.73023316, 0.73023316]),\n",
       " 'split28_test_Overall_Accuracy': array([0.67734792, 0.56849464, 0.6905041 , 0.6905041 ]),\n",
       " 'split29_test_Overall_Accuracy': array([0.69567105, 0.61404194, 0.72988581, 0.72988581]),\n",
       " 'split30_test_Overall_Accuracy': array([0.68695728, 0.59282737, 0.72998437, 0.72998437]),\n",
       " 'split31_test_Overall_Accuracy': array([0.69993922, 0.65695554, 0.72976728, 0.72976728]),\n",
       " 'split32_test_Overall_Accuracy': array([0.69920111, 0.52791768, 0.69355679, 0.69355679]),\n",
       " 'split33_test_Overall_Accuracy': array([0.59721257, 0.61627301, 0.73011462, 0.73011462]),\n",
       " 'split34_test_Overall_Accuracy': array([0.64757728, 0.6364189 , 0.73007121, 0.73007121]),\n",
       " 'split35_test_Overall_Accuracy': array([0.65482807, 0.48354463, 0.73028829, 0.73028829]),\n",
       " 'split36_test_Overall_Accuracy': array([0.66701402, 0.66905475, 0.72992923, 0.72992923]),\n",
       " 'split37_test_Overall_Accuracy': array([0.63475316, 0.51947375, 0.73018974, 0.73018974]),\n",
       " 'split38_test_Overall_Accuracy': array([0.67660979, 0.58195476, 0.64851722, 0.64851722]),\n",
       " 'split39_test_Overall_Accuracy': array([0.68490296, 0.64148322, 0.73027658, 0.73027658]),\n",
       " 'split40_test_Overall_Accuracy': array([0.42217012, 0.38383049, 0.69636577, 0.69636577]),\n",
       " 'split41_test_Overall_Accuracy': array([0.71981243, 0.57079588, 0.72984239, 0.72984239]),\n",
       " 'split42_test_Overall_Accuracy': array([0.71803222, 0.67917155, 0.73040684, 0.73040684]),\n",
       " 'split43_test_Overall_Accuracy': array([0.6882897 , 0.56849464, 0.72979897, 0.72979897]),\n",
       " 'split44_test_Overall_Accuracy': array([0.71529677, 0.62276931, 0.73027658, 0.73027658]),\n",
       " 'mean_test_Overall_Accuracy': array([0.64899826, 0.55854798, 0.71749776, 0.71749776]),\n",
       " 'std_test_Overall_Accuracy': array([0.07012632, 0.06986786, 0.03012109, 0.03012109]),\n",
       " 'rank_test_Overall_Accuracy': array([3, 4, 1, 1]),\n",
       " 'split0_test_Overall_Recall': array([0.50401163, 0.50661062, 0.49863453, 0.49863453]),\n",
       " 'split1_test_Overall_Recall': array([0.49760031, 0.48201645, 0.45854948, 0.45854948]),\n",
       " 'split2_test_Overall_Recall': array([0.49383102, 0.46405253, 0.4987271 , 0.4987271 ]),\n",
       " 'split3_test_Overall_Recall': array([0.47679647, 0.49333044, 0.49875104, 0.49875104]),\n",
       " 'split4_test_Overall_Recall': array([0.49690357, 0.46144722, 0.49862761, 0.49862761]),\n",
       " 'split5_test_Overall_Recall': array([0.48056594, 0.44649005, 0.49876258, 0.49876258]),\n",
       " 'split6_test_Overall_Recall': array([0.49102627, 0.51655049, 0.47155396, 0.47155396]),\n",
       " 'split7_test_Overall_Recall': array([0.49680419, 0.48936786, 0.50367861, 0.50367861]),\n",
       " 'split8_test_Overall_Recall': array([0.4817947 , 0.46447368, 0.49876012, 0.49876012]),\n",
       " 'split9_test_Overall_Recall': array([0.49495549, 0.50747433, 0.49848022, 0.49848022]),\n",
       " 'split10_test_Overall_Recall': array([0.45127567, 0.51460584, 0.49887905, 0.49887905]),\n",
       " 'split11_test_Overall_Recall': array([0.47963924, 0.4811573 , 0.49873168, 0.49873168]),\n",
       " 'split12_test_Overall_Recall': array([0.41842227, 0.48428401, 0.49859673, 0.49859673]),\n",
       " 'split13_test_Overall_Recall': array([0.48614256, 0.47554178, 0.4986893 , 0.4986893 ]),\n",
       " 'split14_test_Overall_Recall': array([0.48185813, 0.49494729, 0.49893385, 0.49893385]),\n",
       " 'split15_test_Overall_Recall': array([0.48967077, 0.50890692, 0.49854889, 0.49854889]),\n",
       " 'split16_test_Overall_Recall': array([0.48032367, 0.46791703, 0.49912132, 0.49912132]),\n",
       " 'split17_test_Overall_Recall': array([0.48073406, 0.49380291, 0.49902644, 0.49902644]),\n",
       " 'split18_test_Overall_Recall': array([0.49030851, 0.45803914, 0.4985088 , 0.4985088 ]),\n",
       " 'split19_test_Overall_Recall': array([0.49341191, 0.48087786, 0.49207798, 0.49207798]),\n",
       " 'split20_test_Overall_Recall': array([0.48787187, 0.48777151, 0.49877958, 0.49877958]),\n",
       " 'split21_test_Overall_Recall': array([0.49532238, 0.50628628, 0.51756925, 0.51756925]),\n",
       " 'split22_test_Overall_Recall': array([0.49343909, 0.49014801, 0.49884577, 0.49884577]),\n",
       " 'split23_test_Overall_Recall': array([0.48602024, 0.46002559, 0.49826404, 0.49826404]),\n",
       " 'split24_test_Overall_Recall': array([0.50210089, 0.49882449, 0.49856587, 0.49856587]),\n",
       " 'split25_test_Overall_Recall': array([0.50690795, 0.48677714, 0.49893846, 0.49893846]),\n",
       " 'split26_test_Overall_Recall': array([0.49429831, 0.51441231, 0.49824258, 0.49824258]),\n",
       " 'split27_test_Overall_Recall': array([0.46405985, 0.48503244, 0.49878648, 0.49878648]),\n",
       " 'split28_test_Overall_Recall': array([0.48897776, 0.48708522, 0.51442664, 0.51442664]),\n",
       " 'split29_test_Overall_Recall': array([0.5006977 , 0.48414724, 0.49854885, 0.49854885]),\n",
       " 'split30_test_Overall_Recall': array([0.48228668, 0.47813665, 0.49859675, 0.49859675]),\n",
       " 'split31_test_Overall_Recall': array([0.4953809 , 0.48133896, 0.49844709, 0.49844709]),\n",
       " 'split32_test_Overall_Recall': array([0.53402812, 0.53367385, 0.5198691 , 0.5198691 ]),\n",
       " 'split33_test_Overall_Recall': array([0.44777594, 0.47020491, 0.49869394, 0.49869394]),\n",
       " 'split34_test_Overall_Recall': array([0.48599839, 0.5235664 , 0.49866308, 0.49866308]),\n",
       " 'split35_test_Overall_Recall': array([0.50598316, 0.49332928, 0.49882198, 0.49882198]),\n",
       " 'split36_test_Overall_Recall': array([0.51303853, 0.52465458, 0.49860351, 0.49860351]),\n",
       " 'split37_test_Overall_Recall': array([0.49627844, 0.50798371, 0.49878867, 0.49878867]),\n",
       " 'split38_test_Overall_Recall': array([0.4956526 , 0.50250715, 0.45624704, 0.45624704]),\n",
       " 'split39_test_Overall_Recall': array([0.50168559, 0.5152905 , 0.49880351, 0.49880351]),\n",
       " 'split40_test_Overall_Recall': array([0.48198065, 0.48711637, 0.50410828, 0.50410828]),\n",
       " 'split41_test_Overall_Recall': array([0.50052733, 0.47341536, 0.49850647, 0.49850647]),\n",
       " 'split42_test_Overall_Recall': array([0.50208962, 0.4978716 , 0.49890991, 0.49890991]),\n",
       " 'split43_test_Overall_Recall': array([0.53117494, 0.48391608, 0.49847791, 0.49847791]),\n",
       " 'split44_test_Overall_Recall': array([0.51062835, 0.50204336, 0.49882195, 0.49882195]),\n",
       " 'mean_test_Overall_Recall': array([0.4904507 , 0.49038784, 0.49757702, 0.49757702]),\n",
       " 'std_test_Overall_Recall': array([0.01901724, 0.01927747, 0.01079627, 0.01079627]),\n",
       " 'rank_test_Overall_Recall': array([3, 4, 1, 1]),\n",
       " 'split0_test_F1_Deceased': array([0.0476788 , 0.04821767, 0.        , 0.        ]),\n",
       " 'split1_test_F1_Deceased': array([0.04145413, 0.04036568, 0.        , 0.        ]),\n",
       " 'split2_test_F1_Deceased': array([0.05207528, 0.03267756, 0.        , 0.        ]),\n",
       " 'split3_test_F1_Deceased': array([0.        , 0.04025201, 0.        , 0.        ]),\n",
       " 'split4_test_F1_Deceased': array([0.03792415, 0.03647357, 0.        , 0.        ]),\n",
       " 'split5_test_F1_Deceased': array([0.00796813, 0.0166334 , 0.        , 0.        ]),\n",
       " 'split6_test_F1_Deceased': array([0.00526316, 0.05848739, 0.        , 0.        ]),\n",
       " 'split7_test_F1_Deceased': array([0.0239521 , 0.04115119, 0.05544006, 0.05544006]),\n",
       " 'split8_test_F1_Deceased': array([0.03202329, 0.03494624, 0.        , 0.        ]),\n",
       " 'split9_test_F1_Deceased': array([0.        , 0.04454658, 0.        , 0.        ]),\n",
       " 'split10_test_F1_Deceased': array([0.        , 0.05509289, 0.        , 0.        ]),\n",
       " 'split11_test_F1_Deceased': array([0.004     , 0.03902254, 0.        , 0.        ]),\n",
       " 'split12_test_F1_Deceased': array([0.01583435, 0.0407511 , 0.        , 0.        ]),\n",
       " 'split13_test_F1_Deceased': array([0.05285802, 0.0443828 , 0.        , 0.        ]),\n",
       " 'split14_test_F1_Deceased': array([0.01129944, 0.04347826, 0.        , 0.        ]),\n",
       " 'split15_test_F1_Deceased': array([0.0045819, 0.0473075, 0.       , 0.       ]),\n",
       " 'split16_test_F1_Deceased': array([0.        , 0.04335586, 0.        , 0.        ]),\n",
       " 'split17_test_F1_Deceased': array([0.       , 0.0425072, 0.       , 0.       ]),\n",
       " 'split18_test_F1_Deceased': array([0.04614058, 0.03764511, 0.        , 0.        ]),\n",
       " 'split19_test_F1_Deceased': array([0.05432373, 0.04654285, 0.        , 0.        ]),\n",
       " 'split20_test_F1_Deceased': array([0.04361371, 0.04433439, 0.        , 0.        ]),\n",
       " 'split21_test_F1_Deceased': array([0.        , 0.04599696, 0.06746464, 0.06746464]),\n",
       " 'split22_test_F1_Deceased': array([0.        , 0.03658537, 0.        , 0.        ]),\n",
       " 'split23_test_F1_Deceased': array([0.01712329, 0.0302169 , 0.        , 0.        ]),\n",
       " 'split24_test_F1_Deceased': array([0.05052006, 0.04274069, 0.        , 0.        ]),\n",
       " 'split25_test_F1_Deceased': array([0.04210526, 0.03827536, 0.        , 0.        ]),\n",
       " 'split26_test_F1_Deceased': array([0.        , 0.04609116, 0.        , 0.        ]),\n",
       " 'split27_test_F1_Deceased': array([0.02827624, 0.04385382, 0.        , 0.        ]),\n",
       " 'split28_test_F1_Deceased': array([0.        , 0.03833647, 0.07157326, 0.07157326]),\n",
       " 'split29_test_F1_Deceased': array([0.        , 0.03122432, 0.        , 0.        ]),\n",
       " 'split30_test_F1_Deceased': array([0.        , 0.05401929, 0.        , 0.        ]),\n",
       " 'split31_test_F1_Deceased': array([0.        , 0.00400802, 0.        , 0.        ]),\n",
       " 'split32_test_F1_Deceased': array([0.10273224, 0.05381836, 0.07613868, 0.07613868]),\n",
       " 'split33_test_F1_Deceased': array([0.00125549, 0.00924855, 0.        , 0.        ]),\n",
       " 'split34_test_F1_Deceased': array([0.        , 0.07542263, 0.        , 0.        ]),\n",
       " 'split35_test_F1_Deceased': array([0.04373576, 0.04210526, 0.        , 0.        ]),\n",
       " 'split36_test_F1_Deceased': array([0.05840886, 0.06451613, 0.        , 0.        ]),\n",
       " 'split37_test_F1_Deceased': array([0.0350438 , 0.04896943, 0.        , 0.        ]),\n",
       " 'split38_test_F1_Deceased': array([0.02849003, 0.04354411, 0.01052632, 0.01052632]),\n",
       " 'split39_test_F1_Deceased': array([0.        , 0.04220085, 0.        , 0.        ]),\n",
       " 'split40_test_F1_Deceased': array([0.03868653, 0.04033613, 0.06984866, 0.06984866]),\n",
       " 'split41_test_F1_Deceased': array([0.       , 0.0341369, 0.       , 0.       ]),\n",
       " 'split42_test_F1_Deceased': array([0.       , 0.0371517, 0.       , 0.       ]),\n",
       " 'split43_test_F1_Deceased': array([0.09171598, 0.03840143, 0.        , 0.        ]),\n",
       " 'split44_test_F1_Deceased': array([0.        , 0.04211151, 0.        , 0.        ]),\n",
       " 'mean_test_F1_Deceased': array([0.02264632, 0.04136629, 0.00779981, 0.00779981]),\n",
       " 'std_test_F1_Deceased': array([0.02590204, 0.01183744, 0.02149774, 0.02149774]),\n",
       " 'rank_test_F1_Deceased': array([2, 1, 3, 3]),\n",
       " 'split0_test_Recall_Deceased': array([0.19      , 0.46666667, 0.        , 0.        ]),\n",
       " 'split1_test_Recall_Deceased': array([0.85333333, 0.95666667, 0.        , 0.        ]),\n",
       " 'split2_test_Recall_Deceased': array([0.33779264, 0.1638796 , 0.        , 0.        ]),\n",
       " 'split3_test_Recall_Deceased': array([0.        , 0.38461538, 0.        , 0.        ]),\n",
       " 'split4_test_Recall_Deceased': array([0.06354515, 0.62541806, 0.        , 0.        ]),\n",
       " 'split5_test_Recall_Deceased': array([0.01003344, 0.08361204, 0.        , 0.        ]),\n",
       " 'split6_test_Recall_Deceased': array([0.00666667, 0.29      , 0.        , 0.        ]),\n",
       " 'split7_test_Recall_Deceased': array([0.02666667, 0.52666667, 0.13333333, 0.13333333]),\n",
       " 'split8_test_Recall_Deceased': array([0.07333333, 0.39      , 0.        , 0.        ]),\n",
       " 'split9_test_Recall_Deceased': array([0.  , 0.42, 0.  , 0.  ]),\n",
       " 'split10_test_Recall_Deceased': array([0.        , 0.14333333, 0.        , 0.        ]),\n",
       " 'split11_test_Recall_Deceased': array([0.00333333, 0.34333333, 0.        , 0.        ]),\n",
       " 'split12_test_Recall_Deceased': array([0.04333333, 0.51      , 0.        , 0.        ]),\n",
       " 'split13_test_Recall_Deceased': array([0.14333333, 0.21333333, 0.        , 0.        ]),\n",
       " 'split14_test_Recall_Deceased': array([0.01      , 0.17666667, 0.        , 0.        ]),\n",
       " 'split15_test_Recall_Deceased': array([0.00666667, 0.47      , 0.        , 0.        ]),\n",
       " 'split16_test_Recall_Deceased': array([0.        , 0.25666667, 0.        , 0.        ]),\n",
       " 'split17_test_Recall_Deceased': array([0.        , 0.39464883, 0.        , 0.        ]),\n",
       " 'split18_test_Recall_Deceased': array([0.71571906, 0.75919732, 0.        , 0.        ]),\n",
       " 'split19_test_Recall_Deceased': array([0.1638796 , 0.34782609, 0.        , 0.        ]),\n",
       " 'split20_test_Recall_Deceased': array([0.04682274, 0.62876254, 0.        , 0.        ]),\n",
       " 'split21_test_Recall_Deceased': array([0.        , 0.35333333, 0.20666667, 0.20666667]),\n",
       " 'split22_test_Recall_Deceased': array([0.  , 0.14, 0.  , 0.  ]),\n",
       " 'split23_test_Recall_Deceased': array([0.01666667, 0.33666667, 0.        , 0.        ]),\n",
       " 'split24_test_Recall_Deceased': array([0.11333333, 0.32333333, 0.        , 0.        ]),\n",
       " 'split25_test_Recall_Deceased': array([0.08666667, 0.56666667, 0.        , 0.        ]),\n",
       " 'split26_test_Recall_Deceased': array([0.        , 0.60333333, 0.        , 0.        ]),\n",
       " 'split27_test_Recall_Deceased': array([0.08666667, 0.44      , 0.        , 0.        ]),\n",
       " 'split28_test_Recall_Deceased': array([0.        , 0.37333333, 0.17666667, 0.17666667]),\n",
       " 'split29_test_Recall_Deceased': array([0.  , 0.19, 0.  , 0.  ]),\n",
       " 'split30_test_Recall_Deceased': array([0.  , 0.14, 0.  , 0.  ]),\n",
       " 'split31_test_Recall_Deceased': array([0.        , 0.00666667, 0.        , 0.        ]),\n",
       " 'split32_test_Recall_Deceased': array([0.15719064, 0.72240803, 0.18729097, 0.18729097]),\n",
       " 'split33_test_Recall_Deceased': array([0.00334448, 0.01337793, 0.        , 0.        ]),\n",
       " 'split34_test_Recall_Deceased': array([0.        , 0.19397993, 0.        , 0.        ]),\n",
       " 'split35_test_Recall_Deceased': array([0.16053512, 0.61538462, 0.        , 0.        ]),\n",
       " 'split36_test_Recall_Deceased': array([0.09666667, 0.19333333, 0.        , 0.        ]),\n",
       " 'split37_test_Recall_Deceased': array([0.04666667, 0.59      , 0.        , 0.        ]),\n",
       " 'split38_test_Recall_Deceased': array([0.08333333, 0.38333333, 0.01      , 0.01      ]),\n",
       " 'split39_test_Recall_Deceased': array([0.        , 0.26333333, 0.        , 0.        ]),\n",
       " 'split40_test_Recall_Deceased': array([0.82666667, 0.96      , 0.1       , 0.1       ]),\n",
       " 'split41_test_Recall_Deceased': array([0.        , 0.32333333, 0.        , 0.        ]),\n",
       " 'split42_test_Recall_Deceased': array([0.  , 0.04, 0.  , 0.  ]),\n",
       " 'split43_test_Recall_Deceased': array([0.20666667, 0.28666667, 0.        , 0.        ]),\n",
       " 'split44_test_Recall_Deceased': array([0.        , 0.23666667, 0.        , 0.        ]),\n",
       " 'mean_test_Recall_Deceased': array([0.10175251, 0.37436542, 0.01808795, 0.01808795]),\n",
       " 'std_test_Recall_Deceased': array([0.20054453, 0.22320381, 0.05210141, 0.05210141]),\n",
       " 'rank_test_Recall_Deceased': array([2, 1, 3, 3])}"
      ]
     },
     "metadata": {},
     "execution_count": 11
    }
   ],
   "source": [
    "gs.cv_results_"
   ]
  },
  {
   "cell_type": "code",
   "execution_count": 12,
   "metadata": {},
   "outputs": [
    {
     "output_type": "execute_result",
     "data": {
      "text/plain": [
       "{'learning_rate': 1.5, 'n_estimators': 150}"
      ]
     },
     "metadata": {},
     "execution_count": 12
    }
   ],
   "source": [
    "gs.best_params_"
   ]
  },
  {
   "cell_type": "code",
   "execution_count": 13,
   "metadata": {},
   "outputs": [
    {
     "output_type": "execute_result",
     "data": {
      "text/plain": [
       "AdaBoostClassifier(learning_rate=1.5, n_estimators=150)"
      ]
     },
     "metadata": {},
     "execution_count": 13
    }
   ],
   "source": [
    "adb = AdaBoostClassifier(learning_rate=1.5, n_estimators=150)\n",
    "adb.fit(X,y)"
   ]
  },
  {
   "cell_type": "code",
   "execution_count": 18,
   "metadata": {},
   "outputs": [
    {
     "output_type": "execute_result",
     "data": {
      "text/plain": [
       "age                        0\n",
       "sex                        0\n",
       "province                 573\n",
       "country                    0\n",
       "latitude                   0\n",
       "longitude                  0\n",
       "outcome                46500\n",
       "Confirmed                  0\n",
       "Deaths                     0\n",
       "Recovered                  0\n",
       "Active                     0\n",
       "Combined_Key               0\n",
       "Incidence_Rate             0\n",
       "Case-Fatality_Ratio        0\n",
       "dtype: int64"
      ]
     },
     "metadata": {},
     "execution_count": 18
    }
   ],
   "source": [
    "data_test.isna().sum()"
   ]
  },
  {
   "cell_type": "code",
   "execution_count": 23,
   "metadata": {},
   "outputs": [],
   "source": [
    "p = adb.predict(data_test.drop(columns='outcome'))\n",
    "output_predictions(p)\n"
   ]
  },
  {
   "cell_type": "code",
   "execution_count": null,
   "metadata": {},
   "outputs": [],
   "source": [
    "fig, ax = plt.subplots(figsize=(5, 5))\n",
    "ax.matshow(cm, cmap=plt.cm.Oranges, alpha=0.3)\n",
    "for i in range(cm.shape[0]):\n",
    "    for j in range(cm.shape[1]):\n",
    "        ax.text(x=j, y=i,s=cm[i, j], va='center', ha='center', size='xx-large')\n",
    "plt.xlabel('Predictions', fontsize=18)\n",
    "plt.ylabel('Actuals', fontsize=18)\n",
    "plt.title('Confusion Matrix', fontsize=18)\n",
    "plt.show()    "
   ]
  }
 ]
}