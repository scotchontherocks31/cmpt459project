{
 "cells": [
  {
   "cell_type": "code",
   "execution_count": 120,
   "id": "sized-wichita",
   "metadata": {},
   "outputs": [],
   "source": [
    "import pandas as pd\n",
    "import numpy as np\n",
    "import math\n",
    "from sklearn.neighbors import KNeighborsClassifier\n",
    "import matplotlib.pyplot as plt\n",
    "from sklearn.model_selection import train_test_split\n",
    "from sklearn import datasets\n",
    "from tqdm import tqdm\n",
    "from sklearn import metrics\n",
    "from sklearn import model_selection"
   ]
  },
  {
   "cell_type": "code",
   "execution_count": 121,
   "id": "28033243",
   "metadata": {},
   "outputs": [],
   "source": [
    "#Import scikit-learn metrics module for accuracy calculation\n",
    "from sklearn.model_selection import RepeatedStratifiedKFold\n",
    "from sklearn.model_selection import GridSearchCV\n",
    "from sklearn import metrics"
   ]
  },
  {
   "cell_type": "code",
   "execution_count": 122,
   "id": "comparative-buffer",
   "metadata": {},
   "outputs": [],
   "source": [
    "data = pd.read_csv(\"../data/cases_train_processed.csv\", parse_dates = True)\n",
    "model_path = \"../models/\""
   ]
  },
  {
   "cell_type": "code",
   "execution_count": 139,
   "metadata": {},
   "outputs": [],
   "source": [
    "plot_path = \"../plots/\""
   ]
  },
  {
   "cell_type": "code",
   "execution_count": 123,
   "id": "558a3e05",
   "metadata": {},
   "outputs": [
    {
     "output_type": "execute_result",
     "data": {
      "text/plain": [
       "        age     sex            province      country   latitude  longitude  \\\n",
       "0        35    male               Herat  Afghanistan  34.341944  62.203056   \n",
       "1        45    male               Herat  Afghanistan  34.341944  62.203056   \n",
       "2        52    male                 NaN      Albania  41.153030  20.061890   \n",
       "3        46    male                 NaN      Albania  41.153030  20.061890   \n",
       "4        34    male                 NaN      Albania  41.153030  20.061890   \n",
       "...     ...     ...                 ...          ...        ...        ...   \n",
       "345466   46  female           Mash East     Zimbabwe -18.321880  30.594450   \n",
       "345467   52  female           Mash East     Zimbabwe -18.321880  30.594450   \n",
       "345468   42    male           Mash West     Zimbabwe -17.376550  30.192260   \n",
       "345469   30    male           Mash West     Zimbabwe -18.129860  30.150540   \n",
       "345470   38    male  Matabeleland North     Zimbabwe -17.933333  25.833333   \n",
       "\n",
       "                outcome  Confirmed  Deaths  Recovered  Active Combined_Key  \\\n",
       "0       nonhospitalized    38919.0  1437.0    32576.0  4906.0  Afghanistan   \n",
       "1       nonhospitalized    38919.0  1437.0    32576.0  4906.0  Afghanistan   \n",
       "2       nonhospitalized    12226.0   358.0     6888.0  4980.0      Albania   \n",
       "3       nonhospitalized    12226.0   358.0     6888.0  4980.0      Albania   \n",
       "4       nonhospitalized    12226.0   358.0     6888.0  4980.0      Albania   \n",
       "...                 ...        ...     ...        ...     ...          ...   \n",
       "345466        recovered     7672.0   225.0     5914.0  1533.0     Zimbabwe   \n",
       "345467         deceased     7672.0   225.0     5914.0  1533.0     Zimbabwe   \n",
       "345468        recovered     7672.0   225.0     5914.0  1533.0     Zimbabwe   \n",
       "345469        recovered     7672.0   225.0     5914.0  1533.0     Zimbabwe   \n",
       "345470        recovered     7672.0   225.0     5914.0  1533.0     Zimbabwe   \n",
       "\n",
       "        Incidence_Rate  Case-Fatality_Ratio  \n",
       "0            99.976005             3.692284  \n",
       "1            99.976005             3.692284  \n",
       "2           424.838418             2.928186  \n",
       "3           424.838418             2.928186  \n",
       "4           424.838418             2.928186  \n",
       "...                ...                  ...  \n",
       "345466       51.618366             2.932742  \n",
       "345467       51.618366             2.932742  \n",
       "345468       51.618366             2.932742  \n",
       "345469       51.618366             2.932742  \n",
       "345470       51.618366             2.932742  \n",
       "\n",
       "[345471 rows x 14 columns]"
      ],
      "text/html": "<div>\n<style scoped>\n    .dataframe tbody tr th:only-of-type {\n        vertical-align: middle;\n    }\n\n    .dataframe tbody tr th {\n        vertical-align: top;\n    }\n\n    .dataframe thead th {\n        text-align: right;\n    }\n</style>\n<table border=\"1\" class=\"dataframe\">\n  <thead>\n    <tr style=\"text-align: right;\">\n      <th></th>\n      <th>age</th>\n      <th>sex</th>\n      <th>province</th>\n      <th>country</th>\n      <th>latitude</th>\n      <th>longitude</th>\n      <th>outcome</th>\n      <th>Confirmed</th>\n      <th>Deaths</th>\n      <th>Recovered</th>\n      <th>Active</th>\n      <th>Combined_Key</th>\n      <th>Incidence_Rate</th>\n      <th>Case-Fatality_Ratio</th>\n    </tr>\n  </thead>\n  <tbody>\n    <tr>\n      <th>0</th>\n      <td>35</td>\n      <td>male</td>\n      <td>Herat</td>\n      <td>Afghanistan</td>\n      <td>34.341944</td>\n      <td>62.203056</td>\n      <td>nonhospitalized</td>\n      <td>38919.0</td>\n      <td>1437.0</td>\n      <td>32576.0</td>\n      <td>4906.0</td>\n      <td>Afghanistan</td>\n      <td>99.976005</td>\n      <td>3.692284</td>\n    </tr>\n    <tr>\n      <th>1</th>\n      <td>45</td>\n      <td>male</td>\n      <td>Herat</td>\n      <td>Afghanistan</td>\n      <td>34.341944</td>\n      <td>62.203056</td>\n      <td>nonhospitalized</td>\n      <td>38919.0</td>\n      <td>1437.0</td>\n      <td>32576.0</td>\n      <td>4906.0</td>\n      <td>Afghanistan</td>\n      <td>99.976005</td>\n      <td>3.692284</td>\n    </tr>\n    <tr>\n      <th>2</th>\n      <td>52</td>\n      <td>male</td>\n      <td>NaN</td>\n      <td>Albania</td>\n      <td>41.153030</td>\n      <td>20.061890</td>\n      <td>nonhospitalized</td>\n      <td>12226.0</td>\n      <td>358.0</td>\n      <td>6888.0</td>\n      <td>4980.0</td>\n      <td>Albania</td>\n      <td>424.838418</td>\n      <td>2.928186</td>\n    </tr>\n    <tr>\n      <th>3</th>\n      <td>46</td>\n      <td>male</td>\n      <td>NaN</td>\n      <td>Albania</td>\n      <td>41.153030</td>\n      <td>20.061890</td>\n      <td>nonhospitalized</td>\n      <td>12226.0</td>\n      <td>358.0</td>\n      <td>6888.0</td>\n      <td>4980.0</td>\n      <td>Albania</td>\n      <td>424.838418</td>\n      <td>2.928186</td>\n    </tr>\n    <tr>\n      <th>4</th>\n      <td>34</td>\n      <td>male</td>\n      <td>NaN</td>\n      <td>Albania</td>\n      <td>41.153030</td>\n      <td>20.061890</td>\n      <td>nonhospitalized</td>\n      <td>12226.0</td>\n      <td>358.0</td>\n      <td>6888.0</td>\n      <td>4980.0</td>\n      <td>Albania</td>\n      <td>424.838418</td>\n      <td>2.928186</td>\n    </tr>\n    <tr>\n      <th>...</th>\n      <td>...</td>\n      <td>...</td>\n      <td>...</td>\n      <td>...</td>\n      <td>...</td>\n      <td>...</td>\n      <td>...</td>\n      <td>...</td>\n      <td>...</td>\n      <td>...</td>\n      <td>...</td>\n      <td>...</td>\n      <td>...</td>\n      <td>...</td>\n    </tr>\n    <tr>\n      <th>345466</th>\n      <td>46</td>\n      <td>female</td>\n      <td>Mash East</td>\n      <td>Zimbabwe</td>\n      <td>-18.321880</td>\n      <td>30.594450</td>\n      <td>recovered</td>\n      <td>7672.0</td>\n      <td>225.0</td>\n      <td>5914.0</td>\n      <td>1533.0</td>\n      <td>Zimbabwe</td>\n      <td>51.618366</td>\n      <td>2.932742</td>\n    </tr>\n    <tr>\n      <th>345467</th>\n      <td>52</td>\n      <td>female</td>\n      <td>Mash East</td>\n      <td>Zimbabwe</td>\n      <td>-18.321880</td>\n      <td>30.594450</td>\n      <td>deceased</td>\n      <td>7672.0</td>\n      <td>225.0</td>\n      <td>5914.0</td>\n      <td>1533.0</td>\n      <td>Zimbabwe</td>\n      <td>51.618366</td>\n      <td>2.932742</td>\n    </tr>\n    <tr>\n      <th>345468</th>\n      <td>42</td>\n      <td>male</td>\n      <td>Mash West</td>\n      <td>Zimbabwe</td>\n      <td>-17.376550</td>\n      <td>30.192260</td>\n      <td>recovered</td>\n      <td>7672.0</td>\n      <td>225.0</td>\n      <td>5914.0</td>\n      <td>1533.0</td>\n      <td>Zimbabwe</td>\n      <td>51.618366</td>\n      <td>2.932742</td>\n    </tr>\n    <tr>\n      <th>345469</th>\n      <td>30</td>\n      <td>male</td>\n      <td>Mash West</td>\n      <td>Zimbabwe</td>\n      <td>-18.129860</td>\n      <td>30.150540</td>\n      <td>recovered</td>\n      <td>7672.0</td>\n      <td>225.0</td>\n      <td>5914.0</td>\n      <td>1533.0</td>\n      <td>Zimbabwe</td>\n      <td>51.618366</td>\n      <td>2.932742</td>\n    </tr>\n    <tr>\n      <th>345470</th>\n      <td>38</td>\n      <td>male</td>\n      <td>Matabeleland North</td>\n      <td>Zimbabwe</td>\n      <td>-17.933333</td>\n      <td>25.833333</td>\n      <td>recovered</td>\n      <td>7672.0</td>\n      <td>225.0</td>\n      <td>5914.0</td>\n      <td>1533.0</td>\n      <td>Zimbabwe</td>\n      <td>51.618366</td>\n      <td>2.932742</td>\n    </tr>\n  </tbody>\n</table>\n<p>345471 rows × 14 columns</p>\n</div>"
     },
     "metadata": {},
     "execution_count": 123
    }
   ],
   "source": [
    "data"
   ]
  },
  {
   "cell_type": "code",
   "execution_count": 124,
   "id": "894a5e15",
   "metadata": {},
   "outputs": [],
   "source": [
    "test_data = pd.read_csv(\"../data/cases_test_processed.csv\", parse_dates = True)\n",
    "#model_path = \"../models/\""
   ]
  },
  {
   "cell_type": "code",
   "execution_count": 125,
   "id": "fea88498",
   "metadata": {
    "scrolled": true
   },
   "outputs": [
    {
     "output_type": "execute_result",
     "data": {
      "text/plain": [
       "       age     sex        province   country  latitude  longitude  outcome  \\\n",
       "0       15    male             NaN   Albania  41.15303  20.061890      NaN   \n",
       "1       42    male       Ain Defla   Algeria  36.26520   1.970300      NaN   \n",
       "2       45    male          Annaba   Algeria  36.90000   7.766667      NaN   \n",
       "3       32    male          Bejaia   Algeria  36.75000   5.066667      NaN   \n",
       "4       48    male          Bejaia   Algeria  36.75000   5.066667      NaN   \n",
       "...    ...     ...             ...       ...       ...        ...      ...   \n",
       "46494   52  female        Bulawayo  Zimbabwe -20.17000  28.580000      NaN   \n",
       "46495   27    male  Bulawayo Metro  Zimbabwe -20.17608  28.573630      NaN   \n",
       "46496   40  female          Harare  Zimbabwe -17.85000  31.050000      NaN   \n",
       "46497   24  female          Harare  Zimbabwe -17.85000  31.050000      NaN   \n",
       "46498   52    male       Mash East  Zimbabwe -17.64450  31.778120      NaN   \n",
       "\n",
       "       Confirmed  Deaths  Recovered   Active Combined_Key  Incidence_Rate  \\\n",
       "0          12226     358       6888   4980.0      Albania      424.838418   \n",
       "1          49623    1665      34923  13035.0      Algeria      113.162645   \n",
       "2          49623    1665      34923  13035.0      Algeria      113.162645   \n",
       "3          49623    1665      34923  13035.0      Algeria      113.162645   \n",
       "4          49623    1665      34923  13035.0      Algeria      113.162645   \n",
       "...          ...     ...        ...      ...          ...             ...   \n",
       "46494       7672     225       5914   1533.0     Zimbabwe       51.618366   \n",
       "46495       7672     225       5914   1533.0     Zimbabwe       51.618366   \n",
       "46496       7672     225       5914   1533.0     Zimbabwe       51.618366   \n",
       "46497       7672     225       5914   1533.0     Zimbabwe       51.618366   \n",
       "46498       7672     225       5914   1533.0     Zimbabwe       51.618366   \n",
       "\n",
       "       Case-Fatality_Ratio  \n",
       "0                 2.928186  \n",
       "1                 3.355299  \n",
       "2                 3.355299  \n",
       "3                 3.355299  \n",
       "4                 3.355299  \n",
       "...                    ...  \n",
       "46494             2.932742  \n",
       "46495             2.932742  \n",
       "46496             2.932742  \n",
       "46497             2.932742  \n",
       "46498             2.932742  \n",
       "\n",
       "[46499 rows x 14 columns]"
      ],
      "text/html": "<div>\n<style scoped>\n    .dataframe tbody tr th:only-of-type {\n        vertical-align: middle;\n    }\n\n    .dataframe tbody tr th {\n        vertical-align: top;\n    }\n\n    .dataframe thead th {\n        text-align: right;\n    }\n</style>\n<table border=\"1\" class=\"dataframe\">\n  <thead>\n    <tr style=\"text-align: right;\">\n      <th></th>\n      <th>age</th>\n      <th>sex</th>\n      <th>province</th>\n      <th>country</th>\n      <th>latitude</th>\n      <th>longitude</th>\n      <th>outcome</th>\n      <th>Confirmed</th>\n      <th>Deaths</th>\n      <th>Recovered</th>\n      <th>Active</th>\n      <th>Combined_Key</th>\n      <th>Incidence_Rate</th>\n      <th>Case-Fatality_Ratio</th>\n    </tr>\n  </thead>\n  <tbody>\n    <tr>\n      <th>0</th>\n      <td>15</td>\n      <td>male</td>\n      <td>NaN</td>\n      <td>Albania</td>\n      <td>41.15303</td>\n      <td>20.061890</td>\n      <td>NaN</td>\n      <td>12226</td>\n      <td>358</td>\n      <td>6888</td>\n      <td>4980.0</td>\n      <td>Albania</td>\n      <td>424.838418</td>\n      <td>2.928186</td>\n    </tr>\n    <tr>\n      <th>1</th>\n      <td>42</td>\n      <td>male</td>\n      <td>Ain Defla</td>\n      <td>Algeria</td>\n      <td>36.26520</td>\n      <td>1.970300</td>\n      <td>NaN</td>\n      <td>49623</td>\n      <td>1665</td>\n      <td>34923</td>\n      <td>13035.0</td>\n      <td>Algeria</td>\n      <td>113.162645</td>\n      <td>3.355299</td>\n    </tr>\n    <tr>\n      <th>2</th>\n      <td>45</td>\n      <td>male</td>\n      <td>Annaba</td>\n      <td>Algeria</td>\n      <td>36.90000</td>\n      <td>7.766667</td>\n      <td>NaN</td>\n      <td>49623</td>\n      <td>1665</td>\n      <td>34923</td>\n      <td>13035.0</td>\n      <td>Algeria</td>\n      <td>113.162645</td>\n      <td>3.355299</td>\n    </tr>\n    <tr>\n      <th>3</th>\n      <td>32</td>\n      <td>male</td>\n      <td>Bejaia</td>\n      <td>Algeria</td>\n      <td>36.75000</td>\n      <td>5.066667</td>\n      <td>NaN</td>\n      <td>49623</td>\n      <td>1665</td>\n      <td>34923</td>\n      <td>13035.0</td>\n      <td>Algeria</td>\n      <td>113.162645</td>\n      <td>3.355299</td>\n    </tr>\n    <tr>\n      <th>4</th>\n      <td>48</td>\n      <td>male</td>\n      <td>Bejaia</td>\n      <td>Algeria</td>\n      <td>36.75000</td>\n      <td>5.066667</td>\n      <td>NaN</td>\n      <td>49623</td>\n      <td>1665</td>\n      <td>34923</td>\n      <td>13035.0</td>\n      <td>Algeria</td>\n      <td>113.162645</td>\n      <td>3.355299</td>\n    </tr>\n    <tr>\n      <th>...</th>\n      <td>...</td>\n      <td>...</td>\n      <td>...</td>\n      <td>...</td>\n      <td>...</td>\n      <td>...</td>\n      <td>...</td>\n      <td>...</td>\n      <td>...</td>\n      <td>...</td>\n      <td>...</td>\n      <td>...</td>\n      <td>...</td>\n      <td>...</td>\n    </tr>\n    <tr>\n      <th>46494</th>\n      <td>52</td>\n      <td>female</td>\n      <td>Bulawayo</td>\n      <td>Zimbabwe</td>\n      <td>-20.17000</td>\n      <td>28.580000</td>\n      <td>NaN</td>\n      <td>7672</td>\n      <td>225</td>\n      <td>5914</td>\n      <td>1533.0</td>\n      <td>Zimbabwe</td>\n      <td>51.618366</td>\n      <td>2.932742</td>\n    </tr>\n    <tr>\n      <th>46495</th>\n      <td>27</td>\n      <td>male</td>\n      <td>Bulawayo Metro</td>\n      <td>Zimbabwe</td>\n      <td>-20.17608</td>\n      <td>28.573630</td>\n      <td>NaN</td>\n      <td>7672</td>\n      <td>225</td>\n      <td>5914</td>\n      <td>1533.0</td>\n      <td>Zimbabwe</td>\n      <td>51.618366</td>\n      <td>2.932742</td>\n    </tr>\n    <tr>\n      <th>46496</th>\n      <td>40</td>\n      <td>female</td>\n      <td>Harare</td>\n      <td>Zimbabwe</td>\n      <td>-17.85000</td>\n      <td>31.050000</td>\n      <td>NaN</td>\n      <td>7672</td>\n      <td>225</td>\n      <td>5914</td>\n      <td>1533.0</td>\n      <td>Zimbabwe</td>\n      <td>51.618366</td>\n      <td>2.932742</td>\n    </tr>\n    <tr>\n      <th>46497</th>\n      <td>24</td>\n      <td>female</td>\n      <td>Harare</td>\n      <td>Zimbabwe</td>\n      <td>-17.85000</td>\n      <td>31.050000</td>\n      <td>NaN</td>\n      <td>7672</td>\n      <td>225</td>\n      <td>5914</td>\n      <td>1533.0</td>\n      <td>Zimbabwe</td>\n      <td>51.618366</td>\n      <td>2.932742</td>\n    </tr>\n    <tr>\n      <th>46498</th>\n      <td>52</td>\n      <td>male</td>\n      <td>Mash East</td>\n      <td>Zimbabwe</td>\n      <td>-17.64450</td>\n      <td>31.778120</td>\n      <td>NaN</td>\n      <td>7672</td>\n      <td>225</td>\n      <td>5914</td>\n      <td>1533.0</td>\n      <td>Zimbabwe</td>\n      <td>51.618366</td>\n      <td>2.932742</td>\n    </tr>\n  </tbody>\n</table>\n<p>46499 rows × 14 columns</p>\n</div>"
     },
     "metadata": {},
     "execution_count": 125
    }
   ],
   "source": [
    "test_data"
   ]
  },
  {
   "cell_type": "code",
   "execution_count": 126,
   "id": "everyday-specific",
   "metadata": {},
   "outputs": [
    {
     "output_type": "stream",
     "name": "stdout",
     "text": [
      "<class 'pandas.core.frame.DataFrame'>\nRangeIndex: 345471 entries, 0 to 345470\nData columns (total 14 columns):\n #   Column               Non-Null Count   Dtype  \n---  ------               --------------   -----  \n 0   age                  345471 non-null  int64  \n 1   sex                  345471 non-null  object \n 2   province             341444 non-null  object \n 3   country              345471 non-null  object \n 4   latitude             345471 non-null  float64\n 5   longitude            345471 non-null  float64\n 6   outcome              345471 non-null  object \n 7   Confirmed            345471 non-null  float64\n 8   Deaths               345471 non-null  float64\n 9   Recovered            345471 non-null  float64\n 10  Active               345471 non-null  float64\n 11  Combined_Key         345471 non-null  object \n 12  Incidence_Rate       345471 non-null  float64\n 13  Case-Fatality_Ratio  345471 non-null  float64\ndtypes: float64(8), int64(1), object(5)\nmemory usage: 36.9+ MB\n"
     ]
    }
   ],
   "source": [
    "data.info()"
   ]
  },
  {
   "cell_type": "code",
   "execution_count": 127,
   "id": "binary-right",
   "metadata": {},
   "outputs": [
    {
     "output_type": "execute_result",
     "data": {
      "text/plain": [
       "age                       0\n",
       "sex                       0\n",
       "province               4027\n",
       "country                   0\n",
       "latitude                  0\n",
       "longitude                 0\n",
       "outcome                   0\n",
       "Confirmed                 0\n",
       "Deaths                    0\n",
       "Recovered                 0\n",
       "Active                    0\n",
       "Combined_Key              0\n",
       "Incidence_Rate            0\n",
       "Case-Fatality_Ratio       0\n",
       "dtype: int64"
      ]
     },
     "metadata": {},
     "execution_count": 127
    }
   ],
   "source": [
    "data.isnull().sum()"
   ]
  },
  {
   "cell_type": "code",
   "execution_count": 128,
   "id": "activated-engineer",
   "metadata": {},
   "outputs": [],
   "source": [
    "def categorize_column(data):\n",
    "    i = 0\n",
    "    for value in tqdm(data.unique()):\n",
    "        data.replace(value, i, inplace = True)\n",
    "        i += 1\n",
    "    data = data.apply(pd.to_numeric)\n",
    "    return data"
   ]
  },
  {
   "cell_type": "code",
   "execution_count": 129,
   "id": "167a6c97",
   "metadata": {},
   "outputs": [],
   "source": [
    "def categorize_outcome(data):\n",
    "    data = data.map({'nonhospitalized':0, 'deceased':1, 'recovered':2, 'hospitalized':3},na_action ='ignore')\n",
    "    data = data.apply(pd.to_numeric)\n",
    "    return data"
   ]
  },
  {
   "cell_type": "code",
   "execution_count": 130,
   "id": "forbidden-installation",
   "metadata": {},
   "outputs": [],
   "source": [
    "def cleanup(data):\n",
    "    data = data.drop(columns=['province', 'country'])\n",
    "    data['sex'] = categorize_column(data['sex'])\n",
    "    data['outcome'] = categorize_outcome(data['outcome'])\n",
    "    data['Combined_Key'] = categorize_column(data['Combined_Key'])\n",
    "    return data"
   ]
  },
  {
   "cell_type": "code",
   "execution_count": 131,
   "metadata": {},
   "outputs": [],
   "source": [
    "def create_model_file(gs, filename):\n",
    "    lines = str(gs.cv_results_)\n",
    "    line_list = lines.split(',')\n",
    "    with open(filename, 'w') as f:\n",
    "        f.writelines(',\\n'.join(line_list))"
   ]
  },
  {
   "cell_type": "code",
   "execution_count": 132,
   "id": "72fdb58a",
   "metadata": {},
   "outputs": [
    {
     "output_type": "stream",
     "name": "stderr",
     "text": [
      "100%|██████████| 2/2 [00:00<00:00, 28.55it/s]\n",
      "100%|██████████| 489/489 [00:27<00:00, 17.99it/s]\n",
      "100%|██████████| 2/2 [00:00<00:00, 181.66it/s]\n",
      "100%|██████████| 409/409 [00:03<00:00, 133.54it/s]\n"
     ]
    }
   ],
   "source": [
    "data = cleanup(data)\n",
    "test_data = cleanup(test_data)"
   ]
  },
  {
   "cell_type": "code",
   "execution_count": 133,
   "id": "skilled-sewing",
   "metadata": {},
   "outputs": [],
   "source": [
    "knn_model = KNeighborsClassifier()\n",
    "parameters = {'n_neighbors': [3,4,5,10,100,1000],'p':[2],'leaf_size':[10,30,50,100],'weights':['uniform']}\n",
    "cv = RepeatedStratifiedKFold(n_splits=5, n_repeats=2, random_state=1)\n",
    "scoring = {'Overall_Accuracy': metrics.make_scorer(metrics.accuracy_score),\n",
    "           'Overall_Recall': metrics.make_scorer(metrics.recall_score, average = 'macro'),\n",
    "           'F1_Deceased': metrics.make_scorer(metrics.f1_score, labels=[1], average= 'micro'),\n",
    "           'Recall_Deceased': metrics.make_scorer(metrics.recall_score, labels = [1], average = 'micro') }\n",
    "\n",
    "X = data.drop(columns='outcome')\n",
    "y = data['outcome']\n",
    "\n",
    "#n_scores = cross_val_score(abc, X, y, scoring='accuracy', cv=cv, n_jobs=-1, error_score='raise')\n",
    "gs = GridSearchCV(knn_model, param_grid = parameters, scoring= scoring, cv=cv, n_jobs=-1, refit = 'F1_Deceased')"
   ]
  },
  {
   "cell_type": "code",
   "execution_count": 134,
   "id": "pleased-place",
   "metadata": {},
   "outputs": [
    {
     "output_type": "execute_result",
     "data": {
      "text/plain": [
       "GridSearchCV(cv=RepeatedStratifiedKFold(n_repeats=2, n_splits=5, random_state=1),\n",
       "             estimator=KNeighborsClassifier(), n_jobs=-1,\n",
       "             param_grid={'leaf_size': [10, 30, 50, 100],\n",
       "                         'n_neighbors': [3, 4, 5, 10, 100, 1000], 'p': [2],\n",
       "                         'weights': ['uniform']},\n",
       "             refit='F1_Deceased',\n",
       "             scoring={'F1_Deceased': make_scorer(f1_score, labels=[1], average=micro),\n",
       "                      'Overall_Accuracy': make_scorer(accuracy_score),\n",
       "                      'Overall_Recall': make_scorer(recall_score, average=macro),\n",
       "                      'Recall_Deceased': make_scorer(recall_score, labels=[1], average=micro)})"
      ]
     },
     "metadata": {},
     "execution_count": 134
    }
   ],
   "source": [
    "gs.fit(X, y)"
   ]
  },
  {
   "cell_type": "code",
   "execution_count": 135,
   "id": "2f04b1a1",
   "metadata": {},
   "outputs": [
    {
     "output_type": "execute_result",
     "data": {
      "text/plain": [
       "'uniform', 'uniform', 'uniform', 'uniform', 'uniform',\n",
       "                    'uniform', 'uniform', 'uniform', 'uniform', 'uniform',\n",
       "                    'uniform', 'uniform', 'uniform', 'uniform'],\n",
       "              mask=[False, False, False, False, False, False, False, False,\n",
       "                    False, False, False, False, False, False, False, False,\n",
       "                    False, False, False, False, False, False, False, False],\n",
       "        fill_value='?',\n",
       "             dtype=object),\n",
       " 'params': [{'leaf_size': 10, 'n_neighbors': 3, 'p': 2, 'weights': 'uniform'},\n",
       "  {'leaf_size': 10, 'n_neighbors': 4, 'p': 2, 'weights': 'uniform'},\n",
       "  {'leaf_size': 10, 'n_neighbors': 5, 'p': 2, 'weights': 'uniform'},\n",
       "  {'leaf_size': 10, 'n_neighbors': 10, 'p': 2, 'weights': 'uniform'},\n",
       "  {'leaf_size': 10, 'n_neighbors': 100, 'p': 2, 'weights': 'uniform'},\n",
       "  {'leaf_size': 10, 'n_neighbors': 1000, 'p': 2, 'weights': 'uniform'},\n",
       "  {'leaf_size': 30, 'n_neighbors': 3, 'p': 2, 'weights': 'uniform'},\n",
       "  {'leaf_size': 30, 'n_neighbors': 4, 'p': 2, 'weights': 'uniform'},\n",
       "  {'leaf_size': 30, 'n_neighbors': 5, 'p': 2, 'weights': 'uniform'},\n",
       "  {'leaf_size': 30, 'n_neighbors': 10, 'p': 2, 'weights': 'uniform'},\n",
       "  {'leaf_size': 30, 'n_neighbors': 100, 'p': 2, 'weights': 'uniform'},\n",
       "  {'leaf_size': 30, 'n_neighbors': 1000, 'p': 2, 'weights': 'uniform'},\n",
       "  {'leaf_size': 50, 'n_neighbors': 3, 'p': 2, 'weights': 'uniform'},\n",
       "  {'leaf_size': 50, 'n_neighbors': 4, 'p': 2, 'weights': 'uniform'},\n",
       "  {'leaf_size': 50, 'n_neighbors': 5, 'p': 2, 'weights': 'uniform'},\n",
       "  {'leaf_size': 50, 'n_neighbors': 10, 'p': 2, 'weights': 'uniform'},\n",
       "  {'leaf_size': 50, 'n_neighbors': 100, 'p': 2, 'weights': 'uniform'},\n",
       "  {'leaf_size': 50, 'n_neighbors': 1000, 'p': 2, 'weights': 'uniform'},\n",
       "  {'leaf_size': 100, 'n_neighbors': 3, 'p': 2, 'weights': 'uniform'},\n",
       "  {'leaf_size': 100, 'n_neighbors': 4, 'p': 2, 'weights': 'uniform'},\n",
       "  {'leaf_size': 100, 'n_neighbors': 5, 'p': 2, 'weights': 'uniform'},\n",
       "  {'leaf_size': 100, 'n_neighbors': 10, 'p': 2, 'weights': 'uniform'},\n",
       "  {'leaf_size': 100, 'n_neighbors': 100, 'p': 2, 'weights': 'uniform'},\n",
       "  {'leaf_size': 100, 'n_neighbors': 1000, 'p': 2, 'weights': 'uniform'}],\n",
       " 'split0_test_Overall_Accuracy': array([0.69728634, 0.69706925, 0.70935668, 0.7120631 , 0.7370432 ,\n",
       "        0.72737535, 0.70003618, 0.6956075 , 0.71077502, 0.71284463,\n",
       "        0.7372024 , 0.7274043 , 0.70128085, 0.69625877, 0.71141182,\n",
       "        0.71353933, 0.73739055, 0.72720168, 0.70129532, 0.69583906,\n",
       "        0.71171575, 0.71533396, 0.7362472 , 0.72718721]),\n",
       " 'split1_test_Overall_Accuracy': array([0.70008973, 0.69551625, 0.71019191, 0.71582192, 0.73563551,\n",
       "        0.72624251, 0.69848323, 0.69414131, 0.71224708, 0.71572061,\n",
       "        0.7360697 , 0.72625698, 0.69681883, 0.69458998, 0.71340493,\n",
       "        0.71572061, 0.73609865, 0.72658986, 0.69547283, 0.69369265,\n",
       "        0.71124844, 0.71664689, 0.73586708, 0.72643066]),\n",
       " 'split2_test_Overall_Accuracy': array([0.70744204, 0.70234753, 0.71521406, 0.71450488, 0.73550525,\n",
       "        0.72729904, 0.70945379, 0.70321591, 0.7165311 , 0.71327467,\n",
       "        0.73543289, 0.72734246, 0.70852751, 0.70149362, 0.71428778,\n",
       "        0.71430225, 0.73496975, 0.72728457, 0.70959852, 0.70155151,\n",
       "        0.7170666 , 0.71560483, 0.73498422, 0.72732799]),\n",
       " 'split3_test_Overall_Accuracy': array([0.70308565, 0.69943845, 0.71297074, 0.71271022, 0.73580919,\n",
       "        0.72784902, 0.70256462, 0.69988711, 0.71391148, 0.71227603,\n",
       "        0.73560656, 0.72799375, 0.70321591, 0.70103048, 0.71208788,\n",
       "        0.71307205, 0.73588155, 0.72800822, 0.70524213, 0.69749906,\n",
       "        0.71221814, 0.71260891, 0.73564998, 0.7278056 ]),\n",
       " 'split4_test_Overall_Accuracy': array([0.7128839 , 0.70530003, 0.72049671, 0.71680609, 0.73488291,\n",
       "        0.7272122 , 0.7128839 , 0.70171071, 0.71554694, 0.71622717,\n",
       "        0.73460793, 0.72750166, 0.71119055, 0.70281066, 0.71721134,\n",
       "        0.71766   , 0.73491186, 0.72706747, 0.71119055, 0.70262251,\n",
       "        0.71656005, 0.71754422, 0.73460793, 0.72712537]),\n",
       " 'split5_test_Overall_Accuracy': array([0.70303206, 0.69990593, 0.71170128, 0.71463926, 0.7352341 ,\n",
       "        0.72731746, 0.70390043, 0.70148346, 0.71283016, 0.71476952,\n",
       "        0.73517621, 0.72744772, 0.70067299, 0.69743107, 0.7137709 ,\n",
       "        0.71265649, 0.7353933 , 0.72741877, 0.70178739, 0.69688111,\n",
       "        0.71278674, 0.7144077 , 0.73545119, 0.72743324]),\n",
       " 'split6_test_Overall_Accuracy': array([0.70066865, 0.6937216 , 0.71134976, 0.71108924, 0.73457898,\n",
       "        0.72764639, 0.70000289, 0.69341766, 0.71011955, 0.71327467,\n",
       "        0.73479607, 0.72795033, 0.70004631, 0.69318609, 0.71014849,\n",
       "        0.7145483 , 0.73459345, 0.72773323, 0.70237647, 0.6955452 ,\n",
       "        0.71098793, 0.71456277, 0.73431846, 0.72755956]),\n",
       " 'split7_test_Overall_Accuracy': array([0.70388167, 0.69927924, 0.71336151, 0.71625611, 0.73661968,\n",
       "        0.72674907, 0.70694995, 0.69845428, 0.71376675, 0.71787709,\n",
       "        0.73669204, 0.7268359 , 0.70464874, 0.69660173, 0.71227603,\n",
       "        0.7161548 , 0.73672099, 0.72673459, 0.7036501 , 0.69702145,\n",
       "        0.71424436, 0.71708108, 0.73715518, 0.72674907]),\n",
       " 'split8_test_Overall_Accuracy': array([0.70448954, 0.69835297, 0.71189973, 0.71286942, 0.73614207,\n",
       "        0.72695169, 0.70925117, 0.69719513, 0.71327467, 0.71230498,\n",
       "        0.7356934 , 0.72686485, 0.70587895, 0.69609517, 0.71268127,\n",
       "        0.71259444, 0.73621443, 0.72637277, 0.7041856 , 0.69689119,\n",
       "        0.71311547, 0.71165369, 0.73586708, 0.72643066]),\n",
       " 'split9_test_Overall_Accuracy': array([0.70551712, 0.69909109, 0.71551799, 0.7194836 , 0.73779199,\n",
       "        0.72782007, 0.70738414, 0.6986569 , 0.71527195, 0.71725475,\n",
       "        0.73787883, 0.72761745, 0.70907749, 0.69949634, 0.71677714,\n",
       "        0.71755869, 0.73799462, 0.7275885 , 0.70770255, 0.70129099,\n",
       "        0.7150838 , 0.71828234, 0.7381104 , 0.72782007]),\n",
       " 'mean_test_Overall_Accuracy': array([0.70383767, 0.69900223, 0.71320604, 0.71462439, 0.73592429,\n",
       "        0.72724628, 0.70509103, 0.698377  , 0.71342747, 0.71458241,\n",
       "        0.7359156 , 0.72732154, 0.70413581, 0.69789939, 0.71340576,\n",
       "        0.7147807 , 0.73601691, 0.72719997, 0.70425015, 0.69788347,\n",
       "        0.71350273, 0.71537264, 0.73582587, 0.72718694]),\n",
       " 'std_test_Overall_Accuracy': array([0.00407796, 0.00310064, 0.0030648 , 0.00241421, 0.00094415,\n",
       "        0.00047115, 0.00456823, 0.00313284, 0.00193978, 0.0019743 ,\n",
       "        0.00100123, 0.00050677, 0.00433623, 0.00300683, 0.00211857,\n",
       "        0.00181148, 0.00105313, 0.00049338, 0.00430569, 0.00278594,\n",
       "        0.00204964, 0.00202079, 0.00108639, 0.00048399]),\n",
       " 'rank_test_Overall_Accuracy': array([20, 21, 16, 11,  2,  6, 17, 22, 14, 12,  3,  5, 19, 23, 15, 10,  1,\n",
       "         7, 18, 24, 13,  9,  4,  8]),\n",
       " 'split0_test_Overall_Recall': array([0.52716486, 0.52974979, 0.52941268, 0.52487575, 0.52133583,\n",
       "        0.50370432, 0.52752947, 0.52811065, 0.52990549, 0.5262175 ,\n",
       "        0.52145997, 0.50370691, 0.52702061, 0.52752426, 0.52995377,\n",
       "        0.52716648, 0.52125172, 0.50363393, 0.52680983, 0.5289585 ,\n",
       "        0.52998079, 0.52741762, 0.52056637, 0.50355884]),\n",
       " 'split1_test_Overall_Recall': array([0.52093766, 0.52077037, 0.52092998, 0.5238463 , 0.51959928,\n",
       "        0.50300091, 0.52183081, 0.52005563, 0.52339812, 0.52418324,\n",
       "        0.51977672, 0.50312283, 0.52091571, 0.52007068, 0.52365479,\n",
       "        0.52390231, 0.51992838, 0.50327745, 0.51846954, 0.51983793,\n",
       "        0.52233049, 0.52537037, 0.52002148, 0.50309093]),\n",
       " 'split2_test_Overall_Recall': array([0.53130594, 0.52599698, 0.52573448, 0.52586949, 0.51983362,\n",
       "        0.50416362, 0.53158332, 0.52737567, 0.52709419, 0.52561182,\n",
       "        0.52004679, 0.50426861, 0.52869097, 0.52706103, 0.52601058,\n",
       "        0.52564751, 0.51971363, 0.50416894, 0.53144858, 0.5274466 ,\n",
       "        0.52766087, 0.52668254, 0.51932127, 0.50431295]),\n",
       " 'split3_test_Overall_Recall': array([0.52681827, 0.52596447, 0.52461452, 0.52517213, 0.52014541,\n",
       "        0.50413553, 0.52679399, 0.5264355 , 0.52478901, 0.52447333,\n",
       "        0.52012005, 0.50441391, 0.52467071, 0.52709233, 0.52527652,\n",
       "        0.52455436, 0.52000571, 0.50443205, 0.52585395, 0.52603321,\n",
       "        0.52433526, 0.52446711, 0.51973573, 0.50422793]),\n",
       " 'split4_test_Overall_Recall': array([0.52632751, 0.52693289, 0.52784016, 0.52394577, 0.51915782,\n",
       "        0.50390622, 0.52433566, 0.52489903, 0.5253373 , 0.5246421 ,\n",
       "        0.51925908, 0.50429147, 0.5245111 , 0.52540042, 0.52682245,\n",
       "        0.52591015, 0.51896911, 0.5037058 , 0.52411499, 0.52531518,\n",
       "        0.52577561, 0.52584198, 0.51874697, 0.5036962 ]),\n",
       " 'split5_test_Overall_Recall': array([0.5250135 , 0.52345468, 0.52164662, 0.52467099, 0.51981445,\n",
       "        0.50448597, 0.52295045, 0.52262816, 0.52316265, 0.52429754,\n",
       "        0.52010038, 0.50442633, 0.52199178, 0.5214518 , 0.5226766 ,\n",
       "        0.52345296, 0.52012362, 0.50444325, 0.52521203, 0.52221467,\n",
       "        0.52261432, 0.52408564, 0.52012638, 0.50458623]),\n",
       " 'split6_test_Overall_Recall': array([0.52288137, 0.5227266 , 0.52426617, 0.52401191, 0.52016064,\n",
       "        0.50400497, 0.52267494, 0.52319443, 0.52368922, 0.5256122 ,\n",
       "        0.52072788, 0.50429045, 0.522243  , 0.52302057, 0.5230825 ,\n",
       "        0.52514495, 0.52040898, 0.50399804, 0.52252213, 0.52384572,\n",
       "        0.52354545, 0.52465283, 0.51986628, 0.50390659]),\n",
       " 'split7_test_Overall_Recall': array([0.52594562, 0.52453434, 0.52479791, 0.52643187, 0.52031559,\n",
       "        0.50329163, 0.52831357, 0.52559422, 0.52448552, 0.52836838,\n",
       "        0.51989102, 0.50318167, 0.52659221, 0.52545427, 0.52439866,\n",
       "        0.52627143, 0.52012222, 0.503176  , 0.52555397, 0.52464691,\n",
       "        0.52506557, 0.52705548, 0.52066342, 0.50326042]),\n",
       " 'split8_test_Overall_Recall': array([0.52547382, 0.52666032, 0.52648939, 0.52599652, 0.52166382,\n",
       "        0.5039523 , 0.52662074, 0.52805581, 0.52701562, 0.52621238,\n",
       "        0.52102336, 0.50384377, 0.52725887, 0.52700162, 0.52704418,\n",
       "        0.52645226, 0.52137728, 0.50355334, 0.52839125, 0.52719893,\n",
       "        0.52722363, 0.52547213, 0.52155759, 0.50355783]),\n",
       " 'split9_test_Overall_Recall': array([0.52290965, 0.52443014, 0.52578311, 0.52834682, 0.52135728,\n",
       "        0.50407863, 0.5246123 , 0.52460571, 0.5255544 , 0.52698378,\n",
       "        0.52146512, 0.50379022, 0.52773146, 0.52730056, 0.52795506,\n",
       "        0.52780482, 0.52183545, 0.50378994, 0.52704553, 0.52848628,\n",
       "        0.52722081, 0.52818957, 0.52170538, 0.50408016]),\n",
       " 'mean_test_Overall_Recall': array([0.52547782, 0.52512206, 0.5251515 , 0.52531676, 0.52033837,\n",
       "        0.50387241, 0.52572453, 0.52509548, 0.52544315, 0.52566023,\n",
       "        0.52038704, 0.50393362, 0.52516264, 0.52513775, 0.52568751,\n",
       "        0.52563072, 0.52037361, 0.50381787, 0.52554218, 0.52539839,\n",
       "        0.52557528, 0.52592353, 0.52023109, 0.50382781]),\n",
       " 'std_test_Overall_Recall': array([0.00271508, 0.00238361, 0.00243347, 0.00132549, 0.00079552,\n",
       "        0.00041511, 0.0028558 , 0.00245924, 0.00197329, 0.00127239,\n",
       "        0.00070672, 0.00046302, 0.00257331, 0.00255499, 0.00219976,\n",
       "        0.00131809, 0.00082366, 0.00041776, 0.00329023, 0.00272189,\n",
       "        0.00233317, 0.00129826, 0.00087728, 0.00045476]),\n",
       " 'rank_test_Overall_Recall': array([ 8, 15, 13, 11, 19, 22,  2, 16,  9,  4, 17, 21, 12, 14,  3,  5, 18,\n",
       "        24,  7, 10,  6,  1, 20, 23]),\n",
       " 'split0_test_F1_Deceased': array([0.066313  , 0.08757819, 0.08908297, 0.04578564, 0.00438116,\n",
       "        0.        , 0.06683047, 0.08027327, 0.08396306, 0.05555556,\n",
       "        0.00438116, 0.        , 0.06663301, 0.07887818, 0.08695652,\n",
       "        0.06147541, 0.00219298, 0.        , 0.06614987, 0.08593092,\n",
       "        0.08528428, 0.05549846, 0.00219298, 0.        ]),\n",
       " 'split1_test_F1_Deceased': array([0.05318661, 0.04922516, 0.05420561, 0.03785489, 0.        ,\n",
       "        0.        , 0.05393457, 0.04783809, 0.06016408, 0.03789474,\n",
       "        0.        , 0.        , 0.05342237, 0.04958678, 0.05778192,\n",
       "        0.03785489, 0.        , 0.        , 0.04793028, 0.04940531,\n",
       "        0.0568286 , 0.04201681, 0.        , 0.        ]),\n",
       " 'split2_test_F1_Deceased': array([0.06877579, 0.0626186 , 0.05671078, 0.04597701, 0.        ,\n",
       "        0.        , 0.07513228, 0.06101049, 0.05703422, 0.04806688,\n",
       "        0.        , 0.        , 0.068424  , 0.06439394, 0.06020696,\n",
       "        0.04583333, 0.        , 0.        , 0.07739764, 0.06824645,\n",
       "        0.06077873, 0.04597701, 0.        , 0.        ]),\n",
       " 'split3_test_F1_Deceased': array([0.06688963, 0.06654344, 0.05782313, 0.04347826, 0.        ,\n",
       "        0.        , 0.06672845, 0.06779661, 0.05754141, 0.04569055,\n",
       "        0.        , 0.        , 0.06048587, 0.07056639, 0.06282723,\n",
       "        0.04375   , 0.        , 0.        , 0.06350859, 0.07102804,\n",
       "        0.05904059, 0.04379562, 0.        , 0.        ]),\n",
       " 'split4_test_F1_Deceased': array([0.04937028, 0.05794393, 0.05956679, 0.03913491, 0.0021978 ,\n",
       "        0.        , 0.04347826, 0.05601318, 0.05867127, 0.04110997,\n",
       "        0.0021978 , 0.        , 0.04821918, 0.05724508, 0.06405694,\n",
       "        0.04102564, 0.0021978 , 0.        , 0.04938272, 0.05913978,\n",
       "        0.0631769 , 0.04298874, 0.0021978 , 0.        ]),\n",
       " 'split5_test_F1_Deceased': array([0.05583524, 0.04949588, 0.04844961, 0.04361371, 0.00221976,\n",
       "        0.        , 0.05004721, 0.04775023, 0.05746061, 0.04153686,\n",
       "        0.00221729, 0.        , 0.05091559, 0.0525394 , 0.05147059,\n",
       "        0.04145078, 0.00221976, 0.        , 0.05906406, 0.05249344,\n",
       "        0.05434783, 0.04149378, 0.00221976, 0.        ]),\n",
       " 'split6_test_F1_Deceased': array([0.06311208, 0.06618962, 0.06066176, 0.0480167 , 0.00441501,\n",
       "        0.        , 0.06273259, 0.06492335, 0.06226415, 0.05159959,\n",
       "        0.00441501, 0.        , 0.05873569, 0.06623735, 0.05964585,\n",
       "        0.04806688, 0.00441501, 0.        , 0.05951116, 0.06492335,\n",
       "        0.06214689, 0.04569055, 0.00441989, 0.        ]),\n",
       " 'split7_test_F1_Deceased': array([0.06533946, 0.06415094, 0.05551272, 0.05154639, 0.        ,\n",
       "        0.        , 0.06768905, 0.0651668 , 0.05222734, 0.05549846,\n",
       "        0.        , 0.        , 0.06808511, 0.06614173, 0.05682715,\n",
       "        0.04938272, 0.        , 0.        , 0.06342914, 0.0651668 ,\n",
       "        0.05673759, 0.05154639, 0.        , 0.        ]),\n",
       " 'split8_test_F1_Deceased': array([0.06063669, 0.07550483, 0.08333333, 0.05170631, 0.00874317,\n",
       "        0.        , 0.06107718, 0.07602339, 0.08482564, 0.0593654 ,\n",
       "        0.00655738, 0.        , 0.06479023, 0.07596786, 0.07964602,\n",
       "        0.05561277, 0.00655738, 0.        , 0.06960082, 0.07418182,\n",
       "        0.0749331 , 0.05377456, 0.01091703, 0.        ]),\n",
       " 'split9_test_F1_Deceased': array([0.05647841, 0.06392694, 0.06410256, 0.04439746, 0.        ,\n",
       "        0.        , 0.0623608 , 0.06859206, 0.0639699 , 0.04421053,\n",
       "        0.        , 0.        , 0.06465998, 0.07207207, 0.06648199,\n",
       "        0.04631579, 0.        , 0.        , 0.06369427, 0.07629428,\n",
       "        0.06896552, 0.04831933, 0.        , 0.        ]),\n",
       " 'mean_test_F1_Deceased': array([0.06059372, 0.06431775, 0.06294493, 0.04515113, 0.00219569,\n",
       "        0.        , 0.06100109, 0.06353875, 0.06381217, 0.04805285,\n",
       "        0.00197686, 0.        , 0.0604371 , 0.06536288, 0.06459012,\n",
       "        0.04707682, 0.00175829, 0.        , 0.06196685, 0.06668102,\n",
       "        0.064224  , 0.04711012, 0.00219475, 0.        ]),\n",
       " 'std_test_F1_Deceased': array([0.00623354, 0.01079733, 0.01234372, 0.00433966, 0.00276906,\n",
       "        0.        , 0.00890522, 0.01021253, 0.01072192, 0.00682989,\n",
       "        0.00228808, 0.        , 0.00699639, 0.00921279, 0.01027766,\n",
       "        0.00673042, 0.00214808, 0.        , 0.008314  , 0.01050035,\n",
       "        0.00912758, 0.00474002, 0.00324214, 0.        ]),\n",
       " 'rank_test_F1_Deceased': array([11,  4,  8, 16, 17, 21, 10,  7,  6, 13, 19, 21, 12,  2,  3, 15, 20,\n",
       "        21,  9,  1,  5, 14, 18, 21]),\n",
       " 'split0_test_Recall_Deceased': array([0.08342603, 0.05450501, 0.0567297 , 0.02447164, 0.00222469,\n",
       "        0.        , 0.0756396 , 0.05228031, 0.05561735, 0.03003337,\n",
       "        0.00222469, 0.        , 0.07341491, 0.05005562, 0.05784205,\n",
       "        0.03337041, 0.00111235, 0.        , 0.07119021, 0.0567297 ,\n",
       "        0.0567297 , 0.03003337, 0.00111235, 0.        ]),\n",
       " 'split1_test_Recall_Deceased': array([0.06444444, 0.03      , 0.03222222, 0.02      , 0.        ,\n",
       "        0.        , 0.06777778, 0.02888889, 0.03666667, 0.02      ,\n",
       "        0.        , 0.        , 0.07111111, 0.03      , 0.03444444,\n",
       "        0.02      , 0.        , 0.        , 0.06111111, 0.03      ,\n",
       "        0.03444444, 0.02222222, 0.        , 0.        ]),\n",
       " 'split2_test_Recall_Deceased': array([0.08342603, 0.03670745, 0.03337041, 0.02447164, 0.        ,\n",
       "        0.        , 0.07897664, 0.03559511, 0.03337041, 0.02558398,\n",
       "        0.        , 0.        , 0.06785317, 0.0378198 , 0.03559511,\n",
       "        0.02447164, 0.        , 0.        , 0.07675195, 0.04004449,\n",
       "        0.03559511, 0.02447164, 0.        , 0.        ]),\n",
       " 'split3_test_Recall_Deceased': array([0.07786429, 0.04004449, 0.0378198 , 0.02447164, 0.        ,\n",
       "        0.        , 0.08008899, 0.04004449, 0.03670745, 0.02447164,\n",
       "        0.        , 0.        , 0.06785317, 0.04226919, 0.04004449,\n",
       "        0.02335929, 0.        , 0.        , 0.06785317, 0.04226919,\n",
       "        0.03559511, 0.02335929, 0.        , 0.        ]),\n",
       " 'split4_test_Recall_Deceased': array([0.05450501, 0.03448276, 0.03670745, 0.02113459, 0.00111235,\n",
       "        0.        , 0.04560623, 0.0378198 , 0.0378198 , 0.02224694,\n",
       "        0.00111235, 0.        , 0.04894327, 0.03559511, 0.04004449,\n",
       "        0.02224694, 0.00111235, 0.        , 0.04671858, 0.03670745,\n",
       "        0.03893215, 0.02335929, 0.00111235, 0.        ]),\n",
       " 'split5_test_Recall_Deceased': array([0.06785317, 0.03003337, 0.02780868, 0.02335929, 0.00111235,\n",
       "        0.        , 0.05895439, 0.02892102, 0.03448276, 0.02224694,\n",
       "        0.00111235, 0.        , 0.06340378, 0.03337041, 0.03114572,\n",
       "        0.02224694, 0.00111235, 0.        , 0.07230256, 0.03337041,\n",
       "        0.03337041, 0.02224694, 0.00111235, 0.        ]),\n",
       " 'split6_test_Recall_Deceased': array([0.06444444, 0.04111111, 0.03666667, 0.02555556, 0.00222222,\n",
       "        0.        , 0.06555556, 0.04      , 0.03666667, 0.02777778,\n",
       "        0.00222222, 0.        , 0.06555556, 0.04      , 0.03555556,\n",
       "        0.02555556, 0.00222222, 0.        , 0.06222222, 0.04      ,\n",
       "        0.03666667, 0.02444444, 0.00222222, 0.        ]),\n",
       " 'split7_test_Recall_Deceased': array([0.07119021, 0.0378198 , 0.04004449, 0.02780868, 0.        ,\n",
       "        0.        , 0.07119021, 0.04671858, 0.0378198 , 0.03003337,\n",
       "        0.        , 0.        , 0.07119021, 0.04671858, 0.04004449,\n",
       "        0.02669633, 0.        , 0.        , 0.07119021, 0.04671858,\n",
       "        0.04004449, 0.02780868, 0.        , 0.        ]),\n",
       " 'split8_test_Recall_Deceased': array([0.06674082, 0.04783092, 0.04894327, 0.02780868, 0.00444939,\n",
       "        0.        , 0.06117909, 0.05784205, 0.05005562, 0.03225806,\n",
       "        0.00333704, 0.        , 0.06785317, 0.05784205, 0.05005562,\n",
       "        0.03003337, 0.00333704, 0.        , 0.0756396 , 0.0567297 ,\n",
       "        0.04671858, 0.02892102, 0.00556174, 0.        ]),\n",
       " 'split9_test_Recall_Deceased': array([0.0567297 , 0.03893215, 0.03893215, 0.02335929, 0.        ,\n",
       "        0.        , 0.06229143, 0.04226919, 0.0378198 , 0.02335929,\n",
       "        0.        , 0.        , 0.06451613, 0.04449388, 0.04004449,\n",
       "        0.02447164, 0.        , 0.        , 0.06674082, 0.04671858,\n",
       "        0.04115684, 0.02558398, 0.        , 0.        ]),\n",
       " 'mean_test_Recall_Deceased': array([0.06906242, 0.03914671, 0.03892448, 0.0242441 , 0.0011121 ,\n",
       "        0.        , 0.06672599, 0.04103794, 0.03970263, 0.02580114,\n",
       "        0.00100087, 0.        , 0.06616945, 0.04181646, 0.04048165,\n",
       "        0.02524521, 0.00088963, 0.        , 0.06717204, 0.04292881,\n",
       "        0.03992535, 0.02524509, 0.0011121 , 0.        ]),\n",
       " 'std_test_Recall_Deceased': array([0.00952966, 0.00715669, 0.00793233, 0.00237771, 0.00140682,\n",
       "        0.        , 0.00993671, 0.0088262 , 0.0068253 , 0.00384861,\n",
       "        0.00116106, 0.        , 0.0064663 , 0.00790601, 0.00752038,\n",
       "        0.00376022, 0.00108957, 0.        , 0.00838044, 0.00851004,\n",
       "        0.00672443, 0.00263828, 0.00164971, 0.        ]),\n",
       " 'rank_test_Recall_Deceased': array([ 1, 11, 12, 16, 18, 21,  3,  7, 10, 13, 19, 21,  4,  6,  8, 14, 20,\n",
       "        21,  2,  5,  9, 15, 17, 21])}"
      ]
     },
     "metadata": {},
     "execution_count": 135
    }
   ],
   "source": [
    "gs.cv_results_"
   ]
  },
  {
   "cell_type": "code",
   "execution_count": 136,
   "id": "dc07722b",
   "metadata": {},
   "outputs": [
    {
     "output_type": "execute_result",
     "data": {
      "text/plain": [
       "{'leaf_size': 100, 'n_neighbors': 4, 'p': 2, 'weights': 'uniform'}"
      ]
     },
     "metadata": {},
     "execution_count": 136
    }
   ],
   "source": [
    "gs.best_params_"
   ]
  },
  {
   "cell_type": "code",
   "execution_count": 140,
   "metadata": {},
   "outputs": [],
   "source": [
    "knn_file = plot_path + \"knn_file.txt\"\n",
    "create_model_file(gs, knn_file)"
   ]
  },
  {
   "cell_type": "code",
   "execution_count": 110,
   "id": "military-tonight",
   "metadata": {
    "scrolled": true
   },
   "outputs": [],
   "source": [
    "#print(\"knn model valid score:\", knn_model.score(X_valid, y_valid) * 100.0)\n",
    "#print('%\\n')\n",
    "#print(\"knn model train score:\", knn_model.score(X_train, y_train) * 100.0)\n",
    "#print('%\\n')"
   ]
  },
  {
   "cell_type": "code",
   "execution_count": 111,
   "id": "moved-pregnancy",
   "metadata": {},
   "outputs": [],
   "source": [
    "#y_pred = knn_model.predict(X_valid)"
   ]
  },
  {
   "cell_type": "code",
   "execution_count": 112,
   "id": "empty-indianapolis",
   "metadata": {},
   "outputs": [],
   "source": [
    "#y_pred = metrics.log_reg.predict(X_valid)"
   ]
  },
  {
   "cell_type": "code",
   "execution_count": 113,
   "id": "arabic-innocent",
   "metadata": {},
   "outputs": [],
   "source": [
    "#print(metrics.classification_report(y_valid, y_pred, zero_division=1))"
   ]
  },
  {
   "cell_type": "code",
   "execution_count": 114,
   "id": "adjustable-bryan",
   "metadata": {},
   "outputs": [],
   "source": [
    "#metrics.roc_auc_score(y_valid, y_pred, multi_class='ovr')"
   ]
  },
  {
   "cell_type": "code",
   "execution_count": 115,
   "id": "senior-public",
   "metadata": {},
   "outputs": [],
   "source": [
    "#hyperparameters testing"
   ]
  },
  {
   "cell_type": "code",
   "execution_count": 116,
   "id": "contemporary-documentation",
   "metadata": {},
   "outputs": [],
   "source": [
    "#List Hyperparameters that we want to tune.\n",
    "#leaf_size = list(range(1,30))\n",
    "#n_neighbors = list(range(1,20))\n",
    "#p=[1,2]#Convert to dictionary\n",
    "#hyperparameters = dict(leaf_size=leaf_size, n_neighbors=n_neighbors, p=p)#Create new KNN object\n"
   ]
  },
  {
   "cell_type": "code",
   "execution_count": 117,
   "id": "medieval-burke",
   "metadata": {},
   "outputs": [],
   "source": [
    "#knn_2 = KNeighborsClassifier()#Use GridSearch\n",
    "#clf = model_selection.GridSearchCV(knn_2, hyperparameters, cv=10)#Fit the model\n"
   ]
  },
  {
   "cell_type": "code",
   "execution_count": 118,
   "id": "regulated-tiffany",
   "metadata": {},
   "outputs": [],
   "source": [
    "#best_model = clf.fit(X,y)#Print The value of best Hyperparameters\n",
    "#print('Best leaf_size:', best_model.best_estimator_.get_params()['leaf_size'])\n",
    "#print('Best p:', best_model.best_estimator_.get_params()['p'])\n",
    "#print('Best n_neighbors:', best_model.best_estimator_.get_params()['n_neighbors'])"
   ]
  }
 ],
 "metadata": {
  "kernelspec": {
   "name": "python394jvsc74a57bd053b614374e0b42b979a587b50c1889e693f4da8cea65821628dc2c85a5d09888",
   "display_name": "Python 3.9.4 64-bit"
  },
  "language_info": {
   "codemirror_mode": {
    "name": "ipython",
    "version": 3
   },
   "file_extension": ".py",
   "mimetype": "text/x-python",
   "name": "python",
   "nbconvert_exporter": "python",
   "pygments_lexer": "ipython3",
   "version": "3.9.4"
  },
  "metadata": {
   "interpreter": {
    "hash": "53b614374e0b42b979a587b50c1889e693f4da8cea65821628dc2c85a5d09888"
   }
  }
 },
 "nbformat": 4,
 "nbformat_minor": 5
}