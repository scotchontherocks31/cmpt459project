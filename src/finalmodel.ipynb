{
 "metadata": {
  "language_info": {
   "codemirror_mode": {
    "name": "ipython",
    "version": 3
   },
   "file_extension": ".py",
   "mimetype": "text/x-python",
   "name": "python",
   "nbconvert_exporter": "python",
   "pygments_lexer": "ipython3",
   "version": "3.9.1"
  },
  "orig_nbformat": 2,
  "kernelspec": {
   "name": "python391jvsc74a57bd0e00c480ae7e3d5e7171f38ea6fedffbe731b8808f4aa360dec46acf6f1daf018",
   "display_name": "Python 3.9.1 64-bit"
  }
 },
 "nbformat": 4,
 "nbformat_minor": 2,
 "cells": [
  {
   "source": [
    "# TEAM LOSERS: Milestone 3"
   ],
   "cell_type": "markdown",
   "metadata": {}
  },
  {
   "cell_type": "code",
   "execution_count": 6,
   "metadata": {},
   "outputs": [],
   "source": [
    "import numpy as np \n",
    "from tqdm import tqdm\n",
    "from sklearn.model_selection import train_test_split\n",
    "import os\n",
    "import re\n",
    "import random\n",
    "import math\n",
    "import pandas as pd \n",
    "from sklearn import metrics\n",
    "import matplotlib.pyplot as plt"
   ]
  },
  {
   "cell_type": "code",
   "execution_count": 7,
   "metadata": {},
   "outputs": [],
   "source": [
    "from sklearn.neighbors import KNeighborsClassifier\n",
    "from sklearn import datasets\n",
    "from sklearn import metrics"
   ]
  },
  {
   "source": [
    "## Import Files"
   ],
   "cell_type": "markdown",
   "metadata": {}
  },
  {
   "cell_type": "code",
   "execution_count": 8,
   "metadata": {},
   "outputs": [
    {
     "output_type": "execute_result",
     "data": {
      "text/plain": [
       "'\\n# For Mac/Linux\\ndata = pd.read_csv(o + \"/../data/cases_train_processed.csv\", parse_dates = True)\\ndata_test = pd.read_csv(o + \"/../data/cases_test_processed.csv\", parse_dates = True)\\nplot_path = o + \"/../plots/\"\\nresults_path = o + \"/../results/\"\\n'"
      ]
     },
     "metadata": {},
     "execution_count": 8
    }
   ],
   "source": [
    "o = os.getcwd()\n",
    "\n",
    "data = pd.read_csv(o + \"\\\\..\\\\data\\\\cases_train_processed.csv\", parse_dates = True)\n",
    "data_test = pd.read_csv(o + \"\\\\..\\\\data\\\\cases_test_processed.csv\", parse_dates=True)\n",
    "plot_path = o + \"\\\\..\\\\plots\\\\\"\n",
    "results_path = o + \"\\\\..\\\\results\\\\\"\n",
    "\n",
    "'''\n",
    "# For Mac/Linux\n",
    "data = pd.read_csv(o + \"/../data/cases_train_processed.csv\", parse_dates = True)\n",
    "data_test = pd.read_csv(o + \"/../data/cases_test_processed.csv\", parse_dates = True)\n",
    "plot_path = o + \"/../plots/\"\n",
    "results_path = o + \"/../results/\"\n",
    "'''"
   ]
  },
  {
   "source": [
    "## Categorize Functions\n"
   ],
   "cell_type": "markdown",
   "metadata": {}
  },
  {
   "cell_type": "code",
   "execution_count": 9,
   "metadata": {},
   "outputs": [],
   "source": [
    "# converts string Series into a cataegorized int series for data analysis\n",
    "def categorize_column(data):\n",
    "    i = 0\n",
    "    for value in tqdm(data.unique()):\n",
    "        data.replace(value, i, inplace = True)\n",
    "        i += 1\n",
    "    data = data.apply(pd.to_numeric)\n",
    "    return data\n",
    "\n",
    "# converts string Series into a cataegorized int series1 for data analysis\n",
    "def categorize_outcome(data):\n",
    "    data = data.map({'nonhospitalized':0, 'deceased':1, 'recovered':2, 'hospitalized':3},na_action ='ignore')\n",
    "    data = data.apply(pd.to_numeric)\n",
    "    return data"
   ]
  },
  {
   "source": [
    "## Data Cleanup Functions"
   ],
   "cell_type": "markdown",
   "metadata": {}
  },
  {
   "cell_type": "code",
   "execution_count": 10,
   "metadata": {},
   "outputs": [],
   "source": [
    "def cleanup(data):\n",
    "    data = data.drop(columns=['province', 'country'])\n",
    "    data['sex'] = categorize_column(data['sex'])\n",
    "    data['outcome'] = categorize_outcome(data['outcome'])\n",
    "    data['Combined_Key'] = categorize_column(data['Combined_Key'])\n",
    "    return data"
   ]
  },
  {
   "source": [
    "## Data Output Functions"
   ],
   "cell_type": "markdown",
   "metadata": {}
  },
  {
   "cell_type": "code",
   "execution_count": 18,
   "metadata": {},
   "outputs": [],
   "source": [
    "def output_predictions(p):\n",
    "    pred = []\n",
    "    arr = {0:'nonhospitalized', 1:'deceased',2:'recovered', 3:'hospitalized'}\n",
    "    for i in p:\n",
    "        pred.append(arr[i])\n",
    "    with open(results_path+\"predictions.txt\", \"w\") as f:\n",
    "        f.writelines('\\n'.join(pred))\n",
    "    return pred"
   ]
  },
  {
   "cell_type": "code",
   "execution_count": 12,
   "metadata": {},
   "outputs": [
    {
     "output_type": "stream",
     "name": "stderr",
     "text": [
      "100%|██████████| 2/2 [00:00<00:00, 24.09it/s]\n",
      "100%|██████████| 489/489 [00:34<00:00, 14.05it/s]\n",
      "100%|██████████| 2/2 [00:00<00:00, 181.67it/s]\n",
      "100%|██████████| 413/413 [00:04<00:00, 100.57it/s]\n"
     ]
    }
   ],
   "source": [
    "data = cleanup(data)\n",
    "data_test = cleanup(data_test)"
   ]
  },
  {
   "source": [
    "## Build and Run KNN Classifier"
   ],
   "cell_type": "markdown",
   "metadata": {}
  },
  {
   "cell_type": "code",
   "execution_count": 13,
   "metadata": {},
   "outputs": [],
   "source": [
    "knn = KNeighborsClassifier(leaf_size = 100, n_neighbors = 4, p=2, weights = 'uniform' )"
   ]
  },
  {
   "cell_type": "code",
   "execution_count": 14,
   "metadata": {},
   "outputs": [
    {
     "output_type": "execute_result",
     "data": {
      "text/plain": [
       "KNeighborsClassifier(leaf_size=100, n_neighbors=4)"
      ]
     },
     "metadata": {},
     "execution_count": 14
    }
   ],
   "source": [
    "X = data.drop(columns='outcome')\n",
    "y = data['outcome']\n",
    "knn.fit(X,y)"
   ]
  },
  {
   "source": [
    "## Outputting Text file and Getting Statistics"
   ],
   "cell_type": "markdown",
   "metadata": {}
  },
  {
   "cell_type": "code",
   "execution_count": 19,
   "metadata": {},
   "outputs": [],
   "source": [
    "p = knn.predict(data_test.drop(columns='outcome'))\n",
    "pred = output_predictions(p)"
   ]
  },
  {
   "cell_type": "code",
   "execution_count": 26,
   "metadata": {},
   "outputs": [],
   "source": [
    "df = pd.Series( (v for v in pred) )"
   ]
  },
  {
   "cell_type": "code",
   "execution_count": 29,
   "metadata": {},
   "outputs": [
    {
     "output_type": "execute_result",
     "data": {
      "text/plain": [
       "nonhospitalized    20677\n",
       "recovered          13823\n",
       "hospitalized       11858\n",
       "deceased             142\n",
       "dtype: int64"
      ]
     },
     "metadata": {},
     "execution_count": 29
    }
   ],
   "source": [
    "df.value_counts()"
   ]
  },
  {
   "cell_type": "code",
   "execution_count": 36,
   "metadata": {},
   "outputs": [],
   "source": [
    "data_test = pd.read_csv(o + \"\\\\..\\\\data\\\\cases_test_processed.csv\", parse_dates=True)"
   ]
  },
  {
   "cell_type": "code",
   "execution_count": 37,
   "metadata": {},
   "outputs": [],
   "source": [
    "data_test.outcome = df"
   ]
  },
  {
   "cell_type": "code",
   "execution_count": 40,
   "metadata": {},
   "outputs": [
    {
     "output_type": "execute_result",
     "data": {
      "text/plain": [
       "       age     sex    province        country   latitude  longitude   outcome  \\\n",
       "2075    70    male       Hubei          China  30.290590  113.37500  deceased   \n",
       "2078    87    male       Hubei          China  30.625060  114.34210  deceased   \n",
       "2081    66  female       Hubei          China  30.625060  114.34210  deceased   \n",
       "2083    78    male       Hubei          China  30.625060  114.34210  deceased   \n",
       "2084    89    male       Hubei          China  30.625060  114.34210  deceased   \n",
       "...    ...     ...         ...            ...        ...        ...       ...   \n",
       "44793   90    male    Zambales    Philippines  14.927990  120.21081  deceased   \n",
       "46471   74    male  Washington  United States  47.491332 -121.80364  deceased   \n",
       "46473   74  female  Washington  United States  47.491332 -121.80364  deceased   \n",
       "46477   74    male  Washington  United States  47.491332 -121.80364  deceased   \n",
       "46478   74    male  Washington  United States  47.491332 -121.80364  deceased   \n",
       "\n",
       "       Confirmed  Deaths  Recovered  Active    Combined_Key  Incidence_Rate  \\\n",
       "2075       68139    4512      63627       0    Hubei, China      115.158019   \n",
       "2078       68139    4512      63627       0    Hubei, China      115.158019   \n",
       "2081       68139    4512      63627       0    Hubei, China      115.158019   \n",
       "2083       68139    4512      63627       0    Hubei, China      115.158019   \n",
       "2084       68139    4512      63627       0    Hubei, China      115.158019   \n",
       "...          ...     ...        ...     ...             ...             ...   \n",
       "44793     283460    4930     209885   68645     Philippines      258.676030   \n",
       "46471      82199    2037          0   80162  Washington, US     4488.326763   \n",
       "46473      82199    2037          0   80162  Washington, US     4488.326763   \n",
       "46477      82199    2037          0   80162  Washington, US     4488.326763   \n",
       "46478      82199    2037          0   80162  Washington, US     4488.326763   \n",
       "\n",
       "       Case-Fatality_Ratio  \n",
       "2075              6.621758  \n",
       "2078              6.621758  \n",
       "2081              6.621758  \n",
       "2083              6.621758  \n",
       "2084              6.621758  \n",
       "...                    ...  \n",
       "44793             1.739222  \n",
       "46471             2.478162  \n",
       "46473             2.478162  \n",
       "46477             2.478162  \n",
       "46478             2.478162  \n",
       "\n",
       "[142 rows x 14 columns]"
      ],
      "text/html": "<div>\n<style scoped>\n    .dataframe tbody tr th:only-of-type {\n        vertical-align: middle;\n    }\n\n    .dataframe tbody tr th {\n        vertical-align: top;\n    }\n\n    .dataframe thead th {\n        text-align: right;\n    }\n</style>\n<table border=\"1\" class=\"dataframe\">\n  <thead>\n    <tr style=\"text-align: right;\">\n      <th></th>\n      <th>age</th>\n      <th>sex</th>\n      <th>province</th>\n      <th>country</th>\n      <th>latitude</th>\n      <th>longitude</th>\n      <th>outcome</th>\n      <th>Confirmed</th>\n      <th>Deaths</th>\n      <th>Recovered</th>\n      <th>Active</th>\n      <th>Combined_Key</th>\n      <th>Incidence_Rate</th>\n      <th>Case-Fatality_Ratio</th>\n    </tr>\n  </thead>\n  <tbody>\n    <tr>\n      <th>2075</th>\n      <td>70</td>\n      <td>male</td>\n      <td>Hubei</td>\n      <td>China</td>\n      <td>30.290590</td>\n      <td>113.37500</td>\n      <td>deceased</td>\n      <td>68139</td>\n      <td>4512</td>\n      <td>63627</td>\n      <td>0</td>\n      <td>Hubei, China</td>\n      <td>115.158019</td>\n      <td>6.621758</td>\n    </tr>\n    <tr>\n      <th>2078</th>\n      <td>87</td>\n      <td>male</td>\n      <td>Hubei</td>\n      <td>China</td>\n      <td>30.625060</td>\n      <td>114.34210</td>\n      <td>deceased</td>\n      <td>68139</td>\n      <td>4512</td>\n      <td>63627</td>\n      <td>0</td>\n      <td>Hubei, China</td>\n      <td>115.158019</td>\n      <td>6.621758</td>\n    </tr>\n    <tr>\n      <th>2081</th>\n      <td>66</td>\n      <td>female</td>\n      <td>Hubei</td>\n      <td>China</td>\n      <td>30.625060</td>\n      <td>114.34210</td>\n      <td>deceased</td>\n      <td>68139</td>\n      <td>4512</td>\n      <td>63627</td>\n      <td>0</td>\n      <td>Hubei, China</td>\n      <td>115.158019</td>\n      <td>6.621758</td>\n    </tr>\n    <tr>\n      <th>2083</th>\n      <td>78</td>\n      <td>male</td>\n      <td>Hubei</td>\n      <td>China</td>\n      <td>30.625060</td>\n      <td>114.34210</td>\n      <td>deceased</td>\n      <td>68139</td>\n      <td>4512</td>\n      <td>63627</td>\n      <td>0</td>\n      <td>Hubei, China</td>\n      <td>115.158019</td>\n      <td>6.621758</td>\n    </tr>\n    <tr>\n      <th>2084</th>\n      <td>89</td>\n      <td>male</td>\n      <td>Hubei</td>\n      <td>China</td>\n      <td>30.625060</td>\n      <td>114.34210</td>\n      <td>deceased</td>\n      <td>68139</td>\n      <td>4512</td>\n      <td>63627</td>\n      <td>0</td>\n      <td>Hubei, China</td>\n      <td>115.158019</td>\n      <td>6.621758</td>\n    </tr>\n    <tr>\n      <th>...</th>\n      <td>...</td>\n      <td>...</td>\n      <td>...</td>\n      <td>...</td>\n      <td>...</td>\n      <td>...</td>\n      <td>...</td>\n      <td>...</td>\n      <td>...</td>\n      <td>...</td>\n      <td>...</td>\n      <td>...</td>\n      <td>...</td>\n      <td>...</td>\n    </tr>\n    <tr>\n      <th>44793</th>\n      <td>90</td>\n      <td>male</td>\n      <td>Zambales</td>\n      <td>Philippines</td>\n      <td>14.927990</td>\n      <td>120.21081</td>\n      <td>deceased</td>\n      <td>283460</td>\n      <td>4930</td>\n      <td>209885</td>\n      <td>68645</td>\n      <td>Philippines</td>\n      <td>258.676030</td>\n      <td>1.739222</td>\n    </tr>\n    <tr>\n      <th>46471</th>\n      <td>74</td>\n      <td>male</td>\n      <td>Washington</td>\n      <td>United States</td>\n      <td>47.491332</td>\n      <td>-121.80364</td>\n      <td>deceased</td>\n      <td>82199</td>\n      <td>2037</td>\n      <td>0</td>\n      <td>80162</td>\n      <td>Washington, US</td>\n      <td>4488.326763</td>\n      <td>2.478162</td>\n    </tr>\n    <tr>\n      <th>46473</th>\n      <td>74</td>\n      <td>female</td>\n      <td>Washington</td>\n      <td>United States</td>\n      <td>47.491332</td>\n      <td>-121.80364</td>\n      <td>deceased</td>\n      <td>82199</td>\n      <td>2037</td>\n      <td>0</td>\n      <td>80162</td>\n      <td>Washington, US</td>\n      <td>4488.326763</td>\n      <td>2.478162</td>\n    </tr>\n    <tr>\n      <th>46477</th>\n      <td>74</td>\n      <td>male</td>\n      <td>Washington</td>\n      <td>United States</td>\n      <td>47.491332</td>\n      <td>-121.80364</td>\n      <td>deceased</td>\n      <td>82199</td>\n      <td>2037</td>\n      <td>0</td>\n      <td>80162</td>\n      <td>Washington, US</td>\n      <td>4488.326763</td>\n      <td>2.478162</td>\n    </tr>\n    <tr>\n      <th>46478</th>\n      <td>74</td>\n      <td>male</td>\n      <td>Washington</td>\n      <td>United States</td>\n      <td>47.491332</td>\n      <td>-121.80364</td>\n      <td>deceased</td>\n      <td>82199</td>\n      <td>2037</td>\n      <td>0</td>\n      <td>80162</td>\n      <td>Washington, US</td>\n      <td>4488.326763</td>\n      <td>2.478162</td>\n    </tr>\n  </tbody>\n</table>\n<p>142 rows × 14 columns</p>\n</div>"
     },
     "metadata": {},
     "execution_count": 40
    }
   ],
   "source": [
    "data_test[data_test.outcome=='deceased']"
   ]
  },
  {
   "cell_type": "code",
   "execution_count": null,
   "metadata": {},
   "outputs": [],
   "source": []
  }
 ]
}