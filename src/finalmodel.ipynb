{
 "metadata": {
  "language_info": {
   "codemirror_mode": {
    "name": "ipython",
    "version": 3
   },
   "file_extension": ".py",
   "mimetype": "text/x-python",
   "name": "python",
   "nbconvert_exporter": "python",
   "pygments_lexer": "ipython3",
   "version": "3.9.1"
  },
  "orig_nbformat": 2,
  "kernelspec": {
   "name": "python391jvsc74a57bd0e00c480ae7e3d5e7171f38ea6fedffbe731b8808f4aa360dec46acf6f1daf018",
   "display_name": "Python 3.9.1 64-bit"
  }
 },
 "nbformat": 4,
 "nbformat_minor": 2,
 "cells": [
  {
   "source": [
    "# TEAM LOSERS: Milestone 3"
   ],
   "cell_type": "markdown",
   "metadata": {}
  },
  {
   "cell_type": "code",
   "execution_count": 6,
   "metadata": {},
   "outputs": [],
   "source": [
    "import numpy as np \n",
    "from tqdm import tqdm\n",
    "from sklearn.model_selection import train_test_split\n",
    "import os\n",
    "import re\n",
    "import random\n",
    "import math\n",
    "import pandas as pd \n",
    "from sklearn import metrics\n",
    "import matplotlib.pyplot as plt"
   ]
  },
  {
   "cell_type": "code",
   "execution_count": 7,
   "metadata": {},
   "outputs": [],
   "source": [
    "from sklearn.neighbors import KNeighborsClassifier\n",
    "from sklearn import datasets\n",
    "from sklearn import metrics"
   ]
  },
  {
   "source": [
    "## Import Files"
   ],
   "cell_type": "markdown",
   "metadata": {}
  },
  {
   "cell_type": "code",
   "execution_count": 8,
   "metadata": {},
   "outputs": [
    {
     "output_type": "execute_result",
     "data": {
      "text/plain": [
       "'\\n# For Mac/Linux\\ndata = pd.read_csv(o + \"/../data/cases_train_processed.csv\", parse_dates = True)\\ndata_test = pd.read_csv(o + \"/../data/cases_test_processed.csv\", parse_dates = True)\\nplot_path = o + \"/../plots/\"\\nresults_path = o + \"/../results/\"\\n'"
      ]
     },
     "metadata": {},
     "execution_count": 8
    }
   ],
   "source": [
    "o = os.getcwd()\n",
    "\n",
    "data = pd.read_csv(o + \"\\\\..\\\\data\\\\cases_train_processed.csv\", parse_dates = True)\n",
    "data_test = pd.read_csv(o + \"\\\\..\\\\data\\\\cases_test_processed.csv\", parse_dates=True)\n",
    "plot_path = o + \"\\\\..\\\\plots\\\\\"\n",
    "results_path = o + \"\\\\..\\\\results\\\\\"\n",
    "\n",
    "'''\n",
    "# For Mac/Linux\n",
    "data = pd.read_csv(o + \"/../data/cases_train_processed.csv\", parse_dates = True)\n",
    "data_test = pd.read_csv(o + \"/../data/cases_test_processed.csv\", parse_dates = True)\n",
    "plot_path = o + \"/../plots/\"\n",
    "results_path = o + \"/../results/\"\n",
    "'''"
   ]
  },
  {
   "source": [
    "## Categorize Functions\n"
   ],
   "cell_type": "markdown",
   "metadata": {}
  },
  {
   "cell_type": "code",
   "execution_count": 9,
   "metadata": {},
   "outputs": [],
   "source": [
    "# converts string Series into a cataegorized int series for data analysis\n",
    "def categorize_column(data):\n",
    "    i = 0\n",
    "    for value in tqdm(data.unique()):\n",
    "        data.replace(value, i, inplace = True)\n",
    "        i += 1\n",
    "    data = data.apply(pd.to_numeric)\n",
    "    return data\n",
    "\n",
    "# converts string Series into a cataegorized int series1 for data analysis\n",
    "def categorize_outcome(data):\n",
    "    data = data.map({'nonhospitalized':0, 'deceased':1, 'recovered':2, 'hospitalized':3},na_action ='ignore')\n",
    "    data = data.apply(pd.to_numeric)\n",
    "    return data"
   ]
  },
  {
   "source": [
    "## Data Cleanup Functions"
   ],
   "cell_type": "markdown",
   "metadata": {}
  },
  {
   "cell_type": "code",
   "execution_count": 10,
   "metadata": {},
   "outputs": [],
   "source": [
    "def cleanup(data):\n",
    "    data = data.drop(columns=['province', 'country'])\n",
    "    data['sex'] = categorize_column(data['sex'])\n",
    "    data['outcome'] = categorize_outcome(data['outcome'])\n",
    "    data['Combined_Key'] = categorize_column(data['Combined_Key'])\n",
    "    return data"
   ]
  },
  {
   "source": [
    "## Data Output Functions"
   ],
   "cell_type": "markdown",
   "metadata": {}
  },
  {
   "cell_type": "code",
   "execution_count": 18,
   "metadata": {},
   "outputs": [],
   "source": [
    "def output_predictions(p):\n",
    "    pred = []\n",
    "    arr = {0:'nonhospitalized', 1:'deceased',2:'recovered', 3:'hospitalized'}\n",
    "    for i in p:\n",
    "        pred.append(arr[i])\n",
    "    with open(results_path+\"predictions.txt\", \"w\") as f:\n",
    "        f.writelines('\\n'.join(pred))\n",
    "    return pred"
   ]
  },
  {
   "cell_type": "code",
   "execution_count": 12,
   "metadata": {},
   "outputs": [
    {
     "output_type": "stream",
     "name": "stderr",
     "text": [
      "100%|██████████| 2/2 [00:00<00:00, 24.09it/s]\n",
      "100%|██████████| 489/489 [00:34<00:00, 14.05it/s]\n",
      "100%|██████████| 2/2 [00:00<00:00, 181.67it/s]\n",
      "100%|██████████| 413/413 [00:04<00:00, 100.57it/s]\n"
     ]
    }
   ],
   "source": [
    "data = cleanup(data)\n",
    "data_test = cleanup(data_test)"
   ]
  },
  {
   "source": [
    "## Build and Run KNN Classifier"
   ],
   "cell_type": "markdown",
   "metadata": {}
  },
  {
   "cell_type": "code",
   "execution_count": 13,
   "metadata": {},
   "outputs": [],
   "source": [
    "knn = KNeighborsClassifier(leaf_size = 100, n_neighbors = 4, p=2, weights = 'uniform' )"
   ]
  },
  {
   "cell_type": "code",
   "execution_count": 14,
   "metadata": {},
   "outputs": [
    {
     "output_type": "execute_result",
     "data": {
      "text/plain": [
       "KNeighborsClassifier(leaf_size=100, n_neighbors=4)"
      ]
     },
     "metadata": {},
     "execution_count": 14
    }
   ],
   "source": [
    "X = data.drop(columns='outcome')\n",
    "y = data['outcome']\n",
    "knn.fit(X,y)"
   ]
  },
  {
   "source": [
    "## Outputting Text file and Getting Statistics"
   ],
   "cell_type": "markdown",
   "metadata": {}
  },
  {
   "cell_type": "code",
   "execution_count": 19,
   "metadata": {},
   "outputs": [],
   "source": [
    "p = knn.predict(data_test.drop(columns='outcome'))\n",
    "pred = output_predictions(p)"
   ]
  },
  {
   "cell_type": "code",
   "execution_count": 26,
   "metadata": {},
   "outputs": [],
   "source": [
    "df = pd.Series( (v for v in pred) )"
   ]
  },
  {
   "cell_type": "code",
   "execution_count": 29,
   "metadata": {},
   "outputs": [
    {
     "output_type": "execute_result",
     "data": {
      "text/plain": [
       "nonhospitalized    20677\n",
       "recovered          13823\n",
       "hospitalized       11858\n",
       "deceased             142\n",
       "dtype: int64"
      ]
     },
     "metadata": {},
     "execution_count": 29
    }
   ],
   "source": [
    "df.value_counts()"
   ]
  },
  {
   "cell_type": "code",
   "execution_count": null,
   "metadata": {},
   "outputs": [],
   "source": []
  }
 ]
}